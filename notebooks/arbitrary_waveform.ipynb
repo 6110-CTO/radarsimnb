{
 "cells": [
  {
   "cell_type": "markdown",
   "metadata": {},
   "source": [
    "# Arbitrary Waveform\n",
    "\n",
    "<a href=\"https://rookiepeng.github.io/radarsimpy/\" target=\"_blank\" rel=\"nofollow\"><img src=\"https://img.shields.io/badge/Documentation-latest-brightgree?style=flat&logo=read-the-docs\" height=\"20\" align=\"left\"></a>\n",
    "\n",
    "<br></br>\n",
    "[`RadarSimPy`](https://github.com/rookiepeng/radarsimpy) supports the simulation of any arbitrary waveforms. You can specify the waveform by defining the frequency versus time curve. One of the example of using the arbitrary waveform feature is simulating the effect on a non-linear chirp in an FMCW radar.\n",
    "\n",
    "## Radar Model\n",
    "\n",
    "### Non-linear chirp\n",
    "\n",
    "The chirp can be defined by frequency versus time."
   ]
  },
  {
   "cell_type": "code",
   "execution_count": 1,
   "metadata": {},
   "outputs": [],
   "source": [
    "import numpy as np\n",
    "\n",
    "freq_nonlinear = np.array([\n",
    "    2.40750000e+10, 2.40760901e+10, 2.40771786e+10, 2.40782654e+10,\n",
    "    2.40793506e+10, 2.40804341e+10, 2.40815161e+10, 2.40825964e+10,\n",
    "    2.40836750e+10, 2.40847521e+10, 2.40858275e+10, 2.40869012e+10,\n",
    "    2.40879734e+10, 2.40890439e+10, 2.40901127e+10, 2.40911800e+10,\n",
    "    2.40922456e+10, 2.40933096e+10, 2.40943719e+10, 2.40954326e+10,\n",
    "    2.40964917e+10, 2.40975491e+10, 2.40986049e+10, 2.40996591e+10,\n",
    "    2.41007117e+10, 2.41017626e+10, 2.41028119e+10, 2.41038595e+10,\n",
    "    2.41049055e+10, 2.41059499e+10, 2.41069927e+10, 2.41080338e+10,\n",
    "    2.41090733e+10, 2.41101111e+10, 2.41111473e+10, 2.41121819e+10,\n",
    "    2.41132149e+10, 2.41142462e+10, 2.41152759e+10, 2.41163039e+10,\n",
    "    2.41173304e+10, 2.41183552e+10, 2.41193783e+10, 2.41203999e+10,\n",
    "    2.41214198e+10, 2.41224380e+10, 2.41234546e+10, 2.41244696e+10,\n",
    "    2.41254830e+10, 2.41264947e+10, 2.41275048e+10, 2.41285133e+10,\n",
    "    2.41295202e+10, 2.41305254e+10, 2.41315289e+10, 2.41325309e+10,\n",
    "    2.41335312e+10, 2.41345298e+10, 2.41355269e+10, 2.41365223e+10,\n",
    "    2.41375161e+10, 2.41385082e+10, 2.41394987e+10, 2.41404876e+10,\n",
    "    2.41414748e+10, 2.41424605e+10, 2.41434444e+10, 2.41444268e+10,\n",
    "    2.41454075e+10, 2.41463866e+10, 2.41473640e+10, 2.41483399e+10,\n",
    "    2.41493140e+10, 2.41502866e+10, 2.41512575e+10, 2.41522268e+10,\n",
    "    2.41531945e+10, 2.41541605e+10, 2.41551249e+10, 2.41560876e+10,\n",
    "    2.41570488e+10, 2.41580083e+10, 2.41589661e+10, 2.41599224e+10,\n",
    "    2.41608770e+10, 2.41618299e+10, 2.41627812e+10, 2.41637309e+10,\n",
    "    2.41646790e+10, 2.41656254e+10, 2.41665702e+10, 2.41675134e+10,\n",
    "    2.41684550e+10, 2.41693949e+10, 2.41703331e+10, 2.41712698e+10,\n",
    "    2.41722048e+10, 2.41731381e+10, 2.41740699e+10, 2.41750000e+10])\n",
    "t_nonlinear = np.linspace(0, 80e-6, 100)\n"
   ]
  },
  {
   "cell_type": "markdown",
   "metadata": {},
   "source": [
    "Plot the non-linear chirp"
   ]
  },
  {
   "cell_type": "code",
   "execution_count": 2,
   "metadata": {},
   "outputs": [
    {
     "data": {
      "image/svg+xml": "<svg xmlns=\"http://www.w3.org/2000/svg\" xmlns:xlink=\"http://www.w3.org/1999/xlink\" class=\"main-svg\" width=\"700\" height=\"500\" style=\"\" viewBox=\"0 0 700 500\"><rect x=\"0\" y=\"0\" width=\"700\" height=\"500\" style=\"fill: rgb(255, 255, 255); fill-opacity: 1;\"/><defs id=\"defs-28c264\"><g class=\"clips\"><clipPath id=\"clip28c264xyplot\" class=\"plotclip\"><rect width=\"457\" height=\"320\"/></clipPath><clipPath class=\"axesclip\" id=\"clip28c264x\"><rect x=\"80\" y=\"0\" width=\"457\" height=\"500\"/></clipPath><clipPath class=\"axesclip\" id=\"clip28c264y\"><rect x=\"0\" y=\"100\" width=\"700\" height=\"320\"/></clipPath><clipPath class=\"axesclip\" id=\"clip28c264xy\"><rect x=\"80\" y=\"100\" width=\"457\" height=\"320\"/></clipPath></g><g class=\"gradients\"/><g class=\"patterns\"/></defs><g class=\"bglayer\"><rect class=\"bg\" x=\"80\" y=\"100\" width=\"457\" height=\"320\" style=\"fill: rgb(234, 234, 242); fill-opacity: 1; stroke-width: 0;\"/></g><g class=\"layer-below\"><g class=\"imagelayer\"/><g class=\"shapelayer\"/></g><g class=\"cartesianlayer\"><g class=\"subplot xy\"><g class=\"layer-subplot\"><g class=\"shapelayer\"/><g class=\"imagelayer\"/></g><g class=\"gridlayer\"><g class=\"x\"><path class=\"xgrid crisp\" transform=\"translate(207.55,0)\" d=\"M0,100v320\" style=\"stroke: rgb(255, 255, 255); stroke-opacity: 1; stroke-width: 1px;\"/><path class=\"xgrid crisp\" transform=\"translate(308.5,0)\" d=\"M0,100v320\" style=\"stroke: rgb(255, 255, 255); stroke-opacity: 1; stroke-width: 1px;\"/><path class=\"xgrid crisp\" transform=\"translate(409.45,0)\" d=\"M0,100v320\" style=\"stroke: rgb(255, 255, 255); stroke-opacity: 1; stroke-width: 1px;\"/><path class=\"xgrid crisp\" transform=\"translate(510.4,0)\" d=\"M0,100v320\" style=\"stroke: rgb(255, 255, 255); stroke-opacity: 1; stroke-width: 1px;\"/></g><g class=\"y\"><path class=\"ygrid crisp\" transform=\"translate(0,386.22)\" d=\"M80,0h457\" style=\"stroke: rgb(255, 255, 255); stroke-opacity: 1; stroke-width: 1px;\"/><path class=\"ygrid crisp\" transform=\"translate(0,330.13)\" d=\"M80,0h457\" style=\"stroke: rgb(255, 255, 255); stroke-opacity: 1; stroke-width: 1px;\"/><path class=\"ygrid crisp\" transform=\"translate(0,274.03)\" d=\"M80,0h457\" style=\"stroke: rgb(255, 255, 255); stroke-opacity: 1; stroke-width: 1px;\"/><path class=\"ygrid crisp\" transform=\"translate(0,217.93)\" d=\"M80,0h457\" style=\"stroke: rgb(255, 255, 255); stroke-opacity: 1; stroke-width: 1px;\"/><path class=\"ygrid crisp\" transform=\"translate(0,161.82999999999998)\" d=\"M80,0h457\" style=\"stroke: rgb(255, 255, 255); stroke-opacity: 1; stroke-width: 1px;\"/><path class=\"ygrid crisp\" transform=\"translate(0,105.73)\" d=\"M80,0h457\" style=\"stroke: rgb(255, 255, 255); stroke-opacity: 1; stroke-width: 1px;\"/></g></g><g class=\"zerolinelayer\"><path class=\"xzl zl crisp\" transform=\"translate(106.6,0)\" d=\"M0,100v320\" style=\"stroke: rgb(255, 255, 255); stroke-opacity: 1; stroke-width: 1px;\"/></g><path class=\"xlines-below\"/><path class=\"ylines-below\"/><g class=\"overlines-below\"/><g class=\"xaxislayer-below\"/><g class=\"yaxislayer-below\"/><g class=\"overaxes-below\"/><g class=\"plot\" transform=\"translate(80,100)\" clip-path=\"url(#clip28c264xyplot)\"><g class=\"scatterlayer mlayer\"><g class=\"trace scatter trace9c345f\" style=\"stroke-miterlimit: 2; opacity: 1;\"><g class=\"fills\"/><g class=\"errorbars\"/><g class=\"lines\"><path class=\"js-line\" d=\"M26.6,300.25L108.18,239.97L112.25,237L197.91,175.77L201.99,172.9L283.56,116.56L287.64,113.79L365.14,62.04L369.22,59.37L430.4,19.75\" style=\"vector-effect: non-scaling-stroke; fill: none; stroke: rgb(76, 114, 176); stroke-opacity: 1; stroke-width: 2px; opacity: 1;\"/></g><g class=\"points\"/><g class=\"text\"/></g><g class=\"trace scatter trace404046\" style=\"stroke-miterlimit: 2; opacity: 1;\"><g class=\"fills\"/><g class=\"errorbars\"/><g class=\"lines\"><path class=\"js-line\" d=\"M26.6,300.25L430.4,19.75\" style=\"vector-effect: non-scaling-stroke; fill: none; stroke: rgb(221, 132, 82); stroke-opacity: 1; stroke-width: 2px; opacity: 1;\"/></g><g class=\"points\"><path class=\"point\" transform=\"translate(26.6,300.25)\" d=\"M3,0A3,3 0 1,1 0,-3A3,3 0 0,1 3,0Z\" style=\"opacity: 1; stroke-width: 0px; fill: rgb(221, 132, 82); fill-opacity: 1;\"/><path class=\"point\" transform=\"translate(430.4,19.75)\" d=\"M3,0A3,3 0 1,1 0,-3A3,3 0 0,1 3,0Z\" style=\"opacity: 1; stroke-width: 0px; fill: rgb(221, 132, 82); fill-opacity: 1;\"/></g><g class=\"text\"/></g></g></g><g class=\"overplot\"/><path class=\"xlines-above crisp\" d=\"M0,0\" style=\"fill: none;\"/><path class=\"ylines-above crisp\" d=\"M0,0\" style=\"fill: none;\"/><g class=\"overlines-above\"/><g class=\"xaxislayer-above\"><g class=\"xtick\"><text text-anchor=\"middle\" x=\"0\" y=\"433\" transform=\"translate(106.6,0)\" style=\"font-family: 'Open Sans', verdana, arial, sans-serif; font-size: 12px; fill: rgb(36, 36, 36); fill-opacity: 1; white-space: pre; opacity: 1;\">0.00</text></g><g class=\"xtick\"><text text-anchor=\"middle\" x=\"0\" y=\"433\" style=\"font-family: 'Open Sans', verdana, arial, sans-serif; font-size: 12px; fill: rgb(36, 36, 36); fill-opacity: 1; white-space: pre; opacity: 1;\" transform=\"translate(207.55,0)\">20.00</text></g><g class=\"xtick\"><text text-anchor=\"middle\" x=\"0\" y=\"433\" style=\"font-family: 'Open Sans', verdana, arial, sans-serif; font-size: 12px; fill: rgb(36, 36, 36); fill-opacity: 1; white-space: pre; opacity: 1;\" transform=\"translate(308.5,0)\">40.00</text></g><g class=\"xtick\"><text text-anchor=\"middle\" x=\"0\" y=\"433\" style=\"font-family: 'Open Sans', verdana, arial, sans-serif; font-size: 12px; fill: rgb(36, 36, 36); fill-opacity: 1; white-space: pre; opacity: 1;\" transform=\"translate(409.45,0)\">60.00</text></g><g class=\"xtick\"><text text-anchor=\"middle\" x=\"0\" y=\"433\" style=\"font-family: 'Open Sans', verdana, arial, sans-serif; font-size: 12px; fill: rgb(36, 36, 36); fill-opacity: 1; white-space: pre; opacity: 1;\" transform=\"translate(510.4,0)\">80.00</text></g></g><g class=\"yaxislayer-above\"><g class=\"ytick\"><text text-anchor=\"end\" x=\"79\" y=\"4.199999999999999\" transform=\"translate(0,386.22)\" style=\"font-family: 'Open Sans', verdana, arial, sans-serif; font-size: 12px; fill: rgb(36, 36, 36); fill-opacity: 1; white-space: pre; opacity: 1;\">24.08</text></g><g class=\"ytick\"><text text-anchor=\"end\" x=\"79\" y=\"4.199999999999999\" style=\"font-family: 'Open Sans', verdana, arial, sans-serif; font-size: 12px; fill: rgb(36, 36, 36); fill-opacity: 1; white-space: pre; opacity: 1;\" transform=\"translate(0,330.13)\">24.10</text></g><g class=\"ytick\"><text text-anchor=\"end\" x=\"79\" y=\"4.199999999999999\" style=\"font-family: 'Open Sans', verdana, arial, sans-serif; font-size: 12px; fill: rgb(36, 36, 36); fill-opacity: 1; white-space: pre; opacity: 1;\" transform=\"translate(0,274.03)\">24.12</text></g><g class=\"ytick\"><text text-anchor=\"end\" x=\"79\" y=\"4.199999999999999\" style=\"font-family: 'Open Sans', verdana, arial, sans-serif; font-size: 12px; fill: rgb(36, 36, 36); fill-opacity: 1; white-space: pre; opacity: 1;\" transform=\"translate(0,217.93)\">24.14</text></g><g class=\"ytick\"><text text-anchor=\"end\" x=\"79\" y=\"4.199999999999999\" style=\"font-family: 'Open Sans', verdana, arial, sans-serif; font-size: 12px; fill: rgb(36, 36, 36); fill-opacity: 1; white-space: pre; opacity: 1;\" transform=\"translate(0,161.82999999999998)\">24.16</text></g><g class=\"ytick\"><text text-anchor=\"end\" x=\"79\" y=\"4.199999999999999\" style=\"font-family: 'Open Sans', verdana, arial, sans-serif; font-size: 12px; fill: rgb(36, 36, 36); fill-opacity: 1; white-space: pre; opacity: 1;\" transform=\"translate(0,105.73)\">24.18</text></g></g><g class=\"overaxes-above\"/></g></g><g class=\"polarlayer\"/><g class=\"smithlayer\"/><g class=\"ternarylayer\"/><g class=\"geolayer\"/><g class=\"funnelarealayer\"/><g class=\"pielayer\"/><g class=\"iciclelayer\"/><g class=\"treemaplayer\"/><g class=\"sunburstlayer\"/><g class=\"glimages\"/><defs id=\"topdefs-28c264\"><g class=\"clips\"/><clipPath id=\"legend28c264\"><rect width=\"142\" height=\"48\" x=\"0\" y=\"0\"/></clipPath></defs><g class=\"layer-above\"><g class=\"imagelayer\"/><g class=\"shapelayer\"/></g><g class=\"infolayer\"><g class=\"legend\" pointer-events=\"all\" transform=\"translate(546.14,100)\"><rect class=\"bg\" shape-rendering=\"crispEdges\" style=\"stroke: rgb(68, 68, 68); stroke-opacity: 1; fill: rgb(255, 255, 255); fill-opacity: 1; stroke-width: 0px;\" width=\"142\" height=\"48\" x=\"0\" y=\"0\"/><g class=\"scrollbox\" transform=\"\" clip-path=\"url(#legend28c264)\"><g class=\"groups\"><g class=\"traces\" transform=\"translate(0,14.5)\" style=\"opacity: 1;\"><text class=\"legendtext\" text-anchor=\"start\" x=\"40\" y=\"4.680000000000001\" style=\"font-family: 'Open Sans', verdana, arial, sans-serif; font-size: 12px; fill: rgb(36, 36, 36); fill-opacity: 1; white-space: pre;\">Non-linear chirp</text><g class=\"layers\" style=\"opacity: 1;\"><g class=\"legendfill\"/><g class=\"legendlines\"><path class=\"js-line\" d=\"M5,0h30\" style=\"fill: none; stroke: rgb(76, 114, 176); stroke-opacity: 1; stroke-width: 2px;\"/></g><g class=\"legendsymbols\"><g class=\"legendpoints\"/></g></g><rect class=\"legendtoggle\" x=\"0\" y=\"-9.5\" width=\"136.921875\" height=\"19\" style=\"fill: rgb(0, 0, 0); fill-opacity: 0;\"/></g><g class=\"traces\" transform=\"translate(0,33.5)\" style=\"opacity: 1;\"><text class=\"legendtext\" text-anchor=\"start\" x=\"40\" y=\"4.680000000000001\" style=\"font-family: 'Open Sans', verdana, arial, sans-serif; font-size: 12px; fill: rgb(36, 36, 36); fill-opacity: 1; white-space: pre;\">Linear chirp</text><g class=\"layers\" style=\"opacity: 1;\"><g class=\"legendfill\"/><g class=\"legendlines\"><path class=\"js-line\" d=\"M5,0h30\" style=\"fill: none; stroke: rgb(221, 132, 82); stroke-opacity: 1; stroke-width: 2px;\"/></g><g class=\"legendsymbols\"><g class=\"legendpoints\"><path class=\"scatterpts\" transform=\"translate(20,0)\" d=\"M3,0A3,3 0 1,1 0,-3A3,3 0 0,1 3,0Z\" style=\"opacity: 1; stroke-width: 0px; fill: rgb(221, 132, 82); fill-opacity: 1;\"/></g></g></g><rect class=\"legendtoggle\" x=\"0\" y=\"-9.5\" width=\"136.921875\" height=\"19\" style=\"fill: rgb(0, 0, 0); fill-opacity: 0;\"/></g></g></g><rect class=\"scrollbar\" rx=\"20\" ry=\"3\" width=\"0\" height=\"0\" style=\"fill: rgb(128, 139, 164); fill-opacity: 1;\" x=\"0\" y=\"0\"/></g><g class=\"g-gtitle\"/><g class=\"g-xtitle\"><text class=\"xtitle\" x=\"308.5\" y=\"460.8\" text-anchor=\"middle\" style=\"font-family: 'Open Sans', verdana, arial, sans-serif; font-size: 14px; fill: rgb(36, 36, 36); opacity: 1; font-weight: normal; white-space: pre;\">Time (us)</text></g><g class=\"g-ytitle\"><text class=\"ytitle\" transform=\"rotate(-90,19.309375000000003,260)\" x=\"19.309375000000003\" y=\"260\" text-anchor=\"middle\" style=\"font-family: 'Open Sans', verdana, arial, sans-serif; font-size: 14px; fill: rgb(36, 36, 36); opacity: 1; font-weight: normal; white-space: pre;\">Frequency (GHz)</text></g></g></svg>",
      "text/plain": [
       "<IPython.core.display.SVG object>"
      ]
     },
     "metadata": {},
     "output_type": "display_data"
    }
   ],
   "source": [
    "import plotly.graph_objs as go\n",
    "from IPython.display import SVG, display\n",
    "\n",
    "fig = go.Figure()\n",
    "\n",
    "fig.add_trace(go.Scatter(\n",
    "    x=np.linspace(0, 80e-6, 100)*1e6,\n",
    "    y=freq_nonlinear/1e9,\n",
    "    name='Non-linear chirp',\n",
    "))\n",
    "\n",
    "fig.add_trace(go.Scatter(\n",
    "    x=np.array([0, 80e-6])*1e6,\n",
    "    y=np.array([24.125e9-50e6, 24.125e9+50e6])/1e9,\n",
    "    name='Linear chirp',\n",
    "))\n",
    "\n",
    "fig.update_layout(\n",
    "    template=\"seaborn\",\n",
    "    yaxis=dict(tickformat='.2f', title='Frequency (GHz)'),\n",
    "    xaxis=dict(tickformat='.2f', title='Time (us)'),\n",
    ")\n",
    "\n",
    "# fig.show()\n",
    "# fig.write_image('arb_wavefrom.svg', height=400, width=600)\n",
    "display(SVG(fig.to_image(format='svg', scale=1)))\n"
   ]
  },
  {
   "cell_type": "markdown",
   "metadata": {},
   "source": [
    "### Transmitter\n",
    "\n",
    "Setup the basic transmitter parameters through `Transmitter` module.\n",
    "\n",
    "For comparison, we created a linear chirp transmitter and a non-linear chirp transmitter."
   ]
  },
  {
   "cell_type": "code",
   "execution_count": 3,
   "metadata": {},
   "outputs": [],
   "source": [
    "from radarsimpy import Radar, Transmitter, Receiver\n",
    "\n",
    "tx_channel = dict(\n",
    "    location=(0, 0, 0),\n",
    ")\n",
    "\n",
    "tx_nonlinear = Transmitter(f=freq_nonlinear,\n",
    "                           t=np.linspace(0, 80e-6, 100),\n",
    "                           tx_power=60,\n",
    "                           prp=100e-6,\n",
    "                           pulses=1,\n",
    "                           channels=[tx_channel])\n",
    "\n",
    "tx_linear = Transmitter(f=[24.125e9-50e6, 24.125e9+50e6],\n",
    "                        t=[0, 80e-6],\n",
    "                        tx_power=60,\n",
    "                        prp=100e-6,\n",
    "                        pulses=1,\n",
    "                        channels=[tx_channel])\n"
   ]
  },
  {
   "cell_type": "markdown",
   "metadata": {},
   "source": [
    "### Receiver\n",
    "\n",
    "Setup the receiver parameters through `Receiver` module.\n",
    "\n",
    "The parameters of the receiver are listed in the table below.\n",
    "\n",
    " | Parameter                        | Variable in `Receiver`   | Value        |\n",
    " |----------------------------------|--------------------------|--------------|\n",
    " | Sampling rate ($f_s$)            | `fs`                     | 2 Msps       |\n",
    " | Noise figure ($NF$)              | `noise_figure`           | 12 dB        |\n",
    " | RF gain/loss ($G_{rf}$)          | `rf_gain`                | 20 dB        |\n",
    " | Load resistor ($R_L$)            | `load_resistor`          | 500 $\\Omega$ |\n",
    " | Baseband voltage gain ($G_{BB}$) | `baseband_gain`          | 30 dB        |"
   ]
  },
  {
   "cell_type": "code",
   "execution_count": 4,
   "metadata": {},
   "outputs": [],
   "source": [
    "rx_channel = dict(\n",
    "    location=(0, 0, 0),\n",
    ")\n",
    "\n",
    "rx = Receiver(fs=2e6,\n",
    "              noise_figure=12,\n",
    "              rf_gain=20,\n",
    "              load_resistor=500,\n",
    "              baseband_gain=30,\n",
    "              channels=[rx_channel])\n"
   ]
  },
  {
   "cell_type": "markdown",
   "metadata": {},
   "source": [
    " Create the FMCW radar model based on all the parameters defined above."
   ]
  },
  {
   "cell_type": "code",
   "execution_count": 5,
   "metadata": {},
   "outputs": [],
   "source": [
    "radar_nonlinear = Radar(transmitter=tx_nonlinear, receiver=rx)\n",
    "radar_linear = Radar(transmitter=tx_linear, receiver=rx)\n"
   ]
  },
  {
   "cell_type": "markdown",
   "metadata": {},
   "source": [
    " ### Targets\n",
    " The propertities of targets are defined here. There are 3 targets in this simulation. The locations of the targets are defined through $(x, y, z)$ coordinates in meters, and the speeds of the targets are defined trough $(v_x, v_y, v_z)$ in $m/s$. The propertites of the targets also includes radar cross-section (RCS (dBsm)) and phase (degree)."
   ]
  },
  {
   "cell_type": "code",
   "execution_count": 6,
   "metadata": {},
   "outputs": [],
   "source": [
    "target_1 = dict(location=(200, 0, 0), speed=(-5, 0, 0), rcs=30, phase=0)\n",
    "target_2 = dict(location=(95, 20, 0), speed=(-50, 0, 0), rcs=25, phase=0)\n",
    "target_3 = dict(location=(30, -5, 0), speed=(-22, 0, 0), rcs=15, phase=0)\n",
    "\n",
    "targets = [target_1, target_2, target_3]\n"
   ]
  },
  {
   "cell_type": "markdown",
   "metadata": {},
   "source": [
    "## Simulate Baseband Signals\n",
    " \n",
    "Use the `simulator` module to simulate the baseband samples. The user can choose between Python engine `simpy` or C++ engine `simc`.\n",
    "\n",
    "The output baseband data is a 3-D matrix:\n",
    "\n",
    "$[channels, pulses, ADC~samples]$\n",
    " \n",
    "#### Simulate with C++ engine"
   ]
  },
  {
   "cell_type": "code",
   "execution_count": 7,
   "metadata": {},
   "outputs": [],
   "source": [
    "from radarsimpy.simulator import simc\n",
    "\n",
    "data_nonlinear = simc(radar_nonlinear, targets, noise=True)\n",
    "time_matrix_nonlinear = data_nonlinear['timestamp']\n",
    "data_matrix_nonlinear = data_nonlinear['baseband']\n",
    "\n",
    "data_linear = simc(radar_linear, targets, noise=True)\n",
    "time_matrix_linear = data_linear['timestamp']\n",
    "data_matrix_linear = data_linear['baseband']\n"
   ]
  },
  {
   "cell_type": "markdown",
   "metadata": {},
   "source": [
    "Plot baseband samples"
   ]
  },
  {
   "cell_type": "code",
   "execution_count": 8,
   "metadata": {},
   "outputs": [
    {
     "data": {
      "image/svg+xml": "<svg xmlns=\"http://www.w3.org/2000/svg\" xmlns:xlink=\"http://www.w3.org/1999/xlink\" class=\"main-svg\" width=\"700\" height=\"500\" style=\"\" viewBox=\"0 0 700 500\"><rect x=\"0\" y=\"0\" width=\"700\" height=\"500\" style=\"fill: rgb(255, 255, 255); fill-opacity: 1;\"/><defs id=\"defs-5a00e5\"><g class=\"clips\"><clipPath id=\"clip5a00e5xyplot\" class=\"plotclip\"><rect width=\"482\" height=\"320\"/></clipPath><clipPath class=\"axesclip\" id=\"clip5a00e5x\"><rect x=\"80\" y=\"0\" width=\"482\" height=\"500\"/></clipPath><clipPath class=\"axesclip\" id=\"clip5a00e5y\"><rect x=\"0\" y=\"100\" width=\"700\" height=\"320\"/></clipPath><clipPath class=\"axesclip\" id=\"clip5a00e5xy\"><rect x=\"80\" y=\"100\" width=\"482\" height=\"320\"/></clipPath></g><g class=\"gradients\"/><g class=\"patterns\"/></defs><g class=\"bglayer\"><rect class=\"bg\" x=\"80\" y=\"100\" width=\"482\" height=\"320\" style=\"fill: rgb(229, 236, 246); fill-opacity: 1; stroke-width: 0;\"/></g><g class=\"layer-below\"><g class=\"imagelayer\"/><g class=\"shapelayer\"/></g><g class=\"cartesianlayer\"><g class=\"subplot xy\"><g class=\"layer-subplot\"><g class=\"shapelayer\"/><g class=\"imagelayer\"/></g><g class=\"gridlayer\"><g class=\"x\"><path class=\"xgrid crisp\" transform=\"translate(201.26,0)\" d=\"M0,100v320\" style=\"stroke: rgb(255, 255, 255); stroke-opacity: 1; stroke-width: 1px;\"/><path class=\"xgrid crisp\" transform=\"translate(322.52,0)\" d=\"M0,100v320\" style=\"stroke: rgb(255, 255, 255); stroke-opacity: 1; stroke-width: 1px;\"/><path class=\"xgrid crisp\" transform=\"translate(443.77,0)\" d=\"M0,100v320\" style=\"stroke: rgb(255, 255, 255); stroke-opacity: 1; stroke-width: 1px;\"/></g><g class=\"y\"><path class=\"ygrid crisp\" transform=\"translate(0,411.71)\" d=\"M80,0h482\" style=\"stroke: rgb(255, 255, 255); stroke-opacity: 1; stroke-width: 1px;\"/><path class=\"ygrid crisp\" transform=\"translate(0,373.3)\" d=\"M80,0h482\" style=\"stroke: rgb(255, 255, 255); stroke-opacity: 1; stroke-width: 1px;\"/><path class=\"ygrid crisp\" transform=\"translate(0,334.88)\" d=\"M80,0h482\" style=\"stroke: rgb(255, 255, 255); stroke-opacity: 1; stroke-width: 1px;\"/><path class=\"ygrid crisp\" transform=\"translate(0,296.46000000000004)\" d=\"M80,0h482\" style=\"stroke: rgb(255, 255, 255); stroke-opacity: 1; stroke-width: 1px;\"/><path class=\"ygrid crisp\" transform=\"translate(0,219.63)\" d=\"M80,0h482\" style=\"stroke: rgb(255, 255, 255); stroke-opacity: 1; stroke-width: 1px;\"/><path class=\"ygrid crisp\" transform=\"translate(0,181.22)\" d=\"M80,0h482\" style=\"stroke: rgb(255, 255, 255); stroke-opacity: 1; stroke-width: 1px;\"/><path class=\"ygrid crisp\" transform=\"translate(0,142.8)\" d=\"M80,0h482\" style=\"stroke: rgb(255, 255, 255); stroke-opacity: 1; stroke-width: 1px;\"/><path class=\"ygrid crisp\" transform=\"translate(0,104.38)\" d=\"M80,0h482\" style=\"stroke: rgb(255, 255, 255); stroke-opacity: 1; stroke-width: 1px;\"/></g></g><g class=\"zerolinelayer\"><path class=\"xzl zl crisp\" transform=\"translate(80,0)\" d=\"M0,100v320\" style=\"stroke: rgb(255, 255, 255); stroke-opacity: 1; stroke-width: 2px;\"/><path class=\"yzl zl crisp\" transform=\"translate(0,258.05)\" d=\"M80,0h482\" style=\"stroke: rgb(255, 255, 255); stroke-opacity: 1; stroke-width: 2px;\"/></g><path class=\"xlines-below\"/><path class=\"ylines-below\"/><g class=\"overlines-below\"/><g class=\"xaxislayer-below\"/><g class=\"yaxislayer-below\"/><g class=\"overaxes-below\"/><g class=\"plot\" transform=\"translate(80,100)\" clip-path=\"url(#clip5a00e5xyplot)\"><g class=\"scatterlayer mlayer\"><g class=\"trace scatter trace6be6f1\" style=\"stroke-miterlimit: 2; opacity: 1;\"><g class=\"fills\"/><g class=\"errorbars\"/><g class=\"lines\"><path class=\"js-line\" d=\"M0,129.04L6.06,26.46L9.09,145.42L12.13,173.71L15.16,293.89L21.22,189.6L24.25,105.96L27.28,22.28L30.31,97.99L33.35,116.57L36.38,259.65L39.41,250.44L42.44,234.47L45.47,160.39L48.5,51.97L51.53,89.4L54.57,74.18L57.6,213.08L60.63,230.03L63.66,247.47L66.69,203.68L69.72,87.43L72.75,98.04L75.79,54.21L78.82,169.9L84.88,241.99L87.91,238.48L90.94,119.55L93.97,119.15L97.01,43.48L100.04,124.85L103.07,182.77L106.1,221.11L109.13,269.69L112.16,160.74L115.19,150.29L118.23,56.36L121.26,78.76L124.29,148.26L127.32,177.32L130.35,277.3L133.38,203.9L136.42,189.03L139.45,104.59L142.48,52.53L145.51,115.04L148.54,117.23L151.57,244.64L154.6,235.95L157.64,222.26L160.67,179.76L163.7,62.69L166.73,94.33L169.76,68.32L172.79,168.94L175.82,240.18L178.86,234.22L181.89,257.06L184.92,121.26L187.95,93.39L190.98,50.43L194.01,74.29L197.04,206.66L200.08,219.99L203.11,292.7L209.17,113.31L212.2,80.93L215.23,16.44L218.26,138.21L224.33,257.38L227.36,281.11L230.39,160.08L233.42,138.55L236.45,45.8L239.48,64.86L242.52,151.75L245.55,166.14L248.58,270.89L251.61,226.7L257.67,153.58L260.7,45.61L263.74,93.12L266.77,90.37L272.83,273.57L275.86,236.62L278.89,243.13L281.92,116.78L284.96,45.21L287.99,75.32L291.02,79.97L294.05,221.43L297.08,249.54L300.11,236.55L303.14,230.06L306.18,101.8L309.21,101.83L312.24,69.82L315.27,76.99L318.3,191.15L321.33,201.79L324.36,276.73L327.4,249.85L330.43,132.4L333.46,107.26L336.49,22.89L339.52,83.95L342.55,185.02L345.58,202.15L348.62,282.72L354.68,160.33L357.71,139.31L360.74,36.14L363.77,80.96L366.81,120.33L369.84,177.58L372.87,298.61L375.9,239.46L378.93,195.97L381.96,131.5L384.99,34.49L388.03,98.03L391.06,102.72L394.09,153.86L397.12,257.03L400.15,231.74L403.18,252.19L406.21,171.91L409.25,48.59L412.28,74.87L415.31,67.13L418.34,146.6L421.37,242.45L424.4,214.4L427.43,260.12L430.47,211.62L433.5,103.33L436.53,89.66L439.56,30.1L442.59,97.81L445.62,216.42L448.65,212.28L451.69,265.52L454.72,228.45L457.75,143.68L460.78,133.53L463.81,35.06L466.84,48.87L469.87,161.77L472.91,188L475.94,264.85L478.97,256.53L482,173.97\" style=\"vector-effect: non-scaling-stroke; fill: none; stroke: rgb(99, 110, 250); stroke-opacity: 1; stroke-width: 2px; opacity: 1;\"/></g><g class=\"points\"/><g class=\"text\"/></g><g class=\"trace scatter trace5ce649\" style=\"stroke-miterlimit: 2; opacity: 1;\"><g class=\"fills\"/><g class=\"errorbars\"/><g class=\"lines\"><path class=\"js-line\" d=\"M0,225.67L3.03,250.37L6.06,124.3L9.09,86.87L12.13,77.22L15.16,105.9L18.19,228.81L21.22,213.44L24.25,259.99L27.28,140.63L30.31,100.77L33.35,66.67L36.38,85.65L39.41,208.06L42.44,215.54L45.47,286.45L48.5,174.89L54.57,59.92L57.6,46.28L60.63,161.73L63.66,189.79L66.69,299.61L69.72,225.83L72.75,171.28L75.79,88.93L78.82,20.6L81.85,110.25L84.88,134.91L87.91,271.84L90.94,260.96L93.97,220.98L97.01,150.04L100.04,28.4L103.07,78.41L106.1,78.42L109.13,214.83L112.16,265.22L115.19,247.24L118.23,222.47L121.26,70.15L124.29,72.58L127.32,42.65L130.35,136.99L133.38,241.97L136.42,245.59L139.45,279.59L142.48,136.44L148.54,43.2L151.57,63.64L154.6,194.42L157.64,213.51L160.67,294.73L163.7,212.39L166.73,129.78L169.76,84.91L172.79,21.05L175.82,137.04L178.86,167.77L181.89,256.1L184.92,268.98L187.95,174.54L190.98,156.24L194.01,42.76L197.04,80.04L200.08,127.71L203.11,167.67L206.14,271.86L209.17,213.55L212.2,215.06L218.26,60.67L221.3,99.63L224.33,78.54L227.36,201.44L230.39,239.78L233.42,242.19L236.45,243.36L239.48,100.27L242.52,82.32L245.55,43.59L248.58,91.14L251.61,225.57L254.64,232.97L257.67,286.74L263.74,95.3L266.77,84.85L269.8,33.66L272.83,147.05L275.86,195.91L278.89,227.34L281.92,273.23L284.96,171.32L287.99,156.03L291.02,84.11L294.05,40.1L297.08,126.62L300.11,140.64L303.14,257.65L306.18,278.9L309.21,200.13L312.24,168.21L315.27,38.37L318.3,54.67L321.33,119.03L324.36,149.08L327.4,266.5L330.43,232.56L333.46,214.05L336.49,188.84L339.52,68.38L342.55,83.21L345.58,64.44L348.62,119.37L351.65,254.44L354.68,243.58L357.71,264.14L360.74,178.66L363.77,66.71L366.81,92.6L369.84,59.09L375.9,212.09L378.93,208.59L381.96,282.65L384.99,214.05L388.03,119.64L391.06,92.6L394.09,16L397.12,111.2L400.15,194.32L403.18,208.41L406.21,278.72L409.25,210.05L412.28,163.49L415.31,134.42L418.34,22.73L421.37,75.67L427.43,190.82L430.47,294.15L433.5,228.04L436.53,183.8L439.56,158.72L442.59,52.86L445.62,74.77L448.65,90.01L451.69,131.33L454.72,274.16L457.75,254.77L460.78,220.1L463.81,189.53L466.84,75.99L469.87,85.15L472.91,77.61L475.94,76.02L478.97,218.71L482,251.05\" style=\"vector-effect: non-scaling-stroke; fill: none; stroke: rgb(239, 85, 59); stroke-opacity: 1; stroke-width: 2px; opacity: 1;\"/></g><g class=\"points\"/><g class=\"text\"/></g><g class=\"trace scatter trace02f96e\" style=\"stroke-miterlimit: 2; opacity: 1;\"><g class=\"fills\"/><g class=\"errorbars\"/><g class=\"lines\"><path class=\"js-line\" d=\"M0,135.28L6.06,23.07L9.09,136.28L12.13,164.27L15.16,244.32L18.19,268.2L21.22,179.24L24.25,172.83L27.28,65.71L30.31,71.63L33.35,113.88L36.38,133.47L39.41,258.97L42.44,237.09L45.47,234.31L48.5,172.43L51.53,49.34L54.57,78.32L57.6,60.33L63.66,266.21L66.69,244.52L69.72,254.03L72.75,110.21L75.79,68.63L78.82,67.49L81.85,78.28L84.88,216.3L87.91,219.37L90.94,257.26L93.97,219.19L97.01,113.26L100.04,117.58L103.07,44.02L109.13,175.74L112.16,199.89L115.19,288.71L118.23,204.25L121.26,163.57L124.29,91.33L127.32,19.21L130.35,115.99L133.38,143.97L136.42,260.06L139.45,282.04L142.48,196.76L145.51,166.65L148.54,36.59L151.57,63.18L154.6,117.06L157.64,159.92L160.67,276.8L163.7,223.89L166.73,216.2L169.76,148.24L172.79,59.32L175.82,101.38L178.86,73.59L181.89,175.72L184.92,237.16L187.95,231.95L190.98,260.76L194.01,127.35L197.04,90.83L200.08,53.62L203.11,60.7L206.14,202.69L209.17,223.24L212.2,286.87L215.23,228.51L218.26,108.45L221.3,93.71L224.33,24.06L227.36,121.68L230.39,193.55L233.42,221.62L236.45,282.62L239.48,177.41L242.52,152.41L245.55,88.15L248.58,47.6L251.61,132.83L254.64,136.8L257.67,244.23L260.7,260.22L263.74,205.97L266.77,185.23L269.8,48.95L272.83,62.88L275.86,88.42L278.89,150.04L281.92,281.77L284.96,242.84L287.99,237.82L294.05,41.38L297.08,84.29L300.11,77.37L303.14,206.27L306.18,247.76L309.21,230.27L312.24,235.44L315.27,106.55L318.3,100.74L321.33,70.66L324.36,84.46L327.4,196.19L330.43,198.95L333.46,274.77L336.49,226.16L339.52,133.94L342.55,107.64L345.58,16.71L351.65,171.98L354.68,234.54L357.71,302.78L360.74,190.26L363.77,150.68L366.81,57.79L369.84,35.35L372.87,137.78L375.9,156.84L378.93,268.21L381.96,249.07L384.99,186.85L388.03,165.67L391.06,50.81L394.09,91.77L397.12,100.14L400.15,151.28L403.18,259.28L406.21,223.37L409.25,247.53L415.31,61.72L418.34,75.69L421.37,54.7L424.4,195.71L427.43,246.34L430.47,257.78L433.5,248.12L436.53,98.63L439.56,83.13L442.59,46.65L445.62,95.34L448.65,217.36L451.69,215.18L454.72,274.41L460.78,121.72L463.81,108.56L466.84,37.47L469.87,129.32L472.91,161.19L475.94,219.13L478.97,281.45L482,192.21\" style=\"vector-effect: non-scaling-stroke; fill: none; stroke: rgb(0, 204, 150); stroke-opacity: 1; stroke-width: 2px; opacity: 1;\"/></g><g class=\"points\"/><g class=\"text\"/></g><g class=\"trace scatter trace100946\" style=\"stroke-miterlimit: 2; opacity: 1;\"><g class=\"fills\"/><g class=\"errorbars\"/><g class=\"lines\"><path class=\"js-line\" d=\"M0,219.33L3.03,252.22L6.06,147.17L9.09,76.62L12.13,76.2L15.16,50.07L18.19,189.16L24.25,266.34L27.28,253.56L30.31,109.14L33.35,88.47L36.38,35.35L39.41,93.27L42.44,209.12L45.47,217.21L48.5,282.46L51.53,194.26L54.57,129.6L57.6,102.75L60.63,37.79L63.66,132.48L66.69,153.34L69.72,222.99L72.75,273.71L75.79,193L78.82,184.82L81.85,69.17L84.88,46.14L87.91,104.82L90.94,132.36L93.97,273.92L97.01,256.12L100.04,225.24L103.07,160.26L106.1,31.33L109.13,76.8L112.16,84.34L118.23,270.31L121.26,225.91L124.29,235.07L127.32,116.69L130.35,77.8L133.38,88.71L136.42,74.35L139.45,199.49L142.48,208.78L145.51,251.56L148.54,242.36L151.57,125.21L154.6,115.28L157.64,33.96L160.67,83.69L163.7,182.15L166.73,214.57L169.76,304L172.79,207.89L175.82,138.05L181.89,17.24L184.92,133.52L187.95,167.21L190.98,252.3L194.01,272.99L197.04,176.03L200.08,163.69L203.11,58.12L206.14,71.36L209.17,121.73L212.2,140.68L215.23,259.09L218.26,228.08L221.3,225L224.33,168.99L227.36,53.81L230.39,84.6L233.42,62.05L239.48,257.63L242.52,245L245.55,259.91L248.58,114.24L251.61,67.1L254.64,61.27L257.67,72.98L260.7,219.09L263.74,227.08L266.77,262.78L269.8,218.42L272.83,104.3L275.86,109.1L278.89,45.65L284.96,184.37L287.99,202.16L291.02,281.49L294.05,196.39L297.08,159.85L300.11,94.84L303.14,27.44L306.18,118.29L309.21,140.59L312.24,254.5L315.27,283.8L318.3,200.97L321.33,169.13L324.36,34.81L327.4,56.29L330.43,112.46L333.46,161.68L336.49,283.86L339.52,230.82L342.55,214.16L348.62,51.84L351.65,102.68L354.68,81.35L357.71,185.41L360.74,239L363.77,225.92L366.81,252.84L369.84,127.6L375.9,60.8L378.93,62.17L381.96,197.08L384.99,219.34L388.03,285.32L391.06,232.79L394.09,113.83L397.12,91.08L400.15,18.51L403.18,114.77L406.21,194.58L409.25,229.5L412.28,288.51L415.31,174.34L418.34,144.26L421.37,79.54L424.4,45.86L427.43,141.78L430.47,146.13L433.5,245.03L436.53,253.17L439.56,197.44L442.59,181.98L445.62,54.89L448.65,70.9L451.69,91.08L454.72,145.54L457.75,276.67L460.78,241.29L463.81,241.23L469.87,38.94L472.91,78.28L475.94,73.3L478.97,207.11L482,256.3\" style=\"vector-effect: non-scaling-stroke; fill: none; stroke: rgb(171, 99, 250); stroke-opacity: 1; stroke-width: 2px; opacity: 1;\"/></g><g class=\"points\"/><g class=\"text\"/></g></g></g><g class=\"overplot\"/><path class=\"xlines-above crisp\" d=\"M0,0\" style=\"fill: none;\"/><path class=\"ylines-above crisp\" d=\"M0,0\" style=\"fill: none;\"/><g class=\"overlines-above\"/><g class=\"xaxislayer-above\"><g class=\"xtick\"><text text-anchor=\"middle\" x=\"0\" y=\"433\" transform=\"translate(80,0)\" style=\"font-family: 'Open Sans', verdana, arial, sans-serif; font-size: 12px; fill: rgb(42, 63, 95); fill-opacity: 1; white-space: pre; opacity: 1;\">0</text></g><g class=\"xtick\"><text text-anchor=\"middle\" x=\"0\" y=\"433\" style=\"font-family: 'Open Sans', verdana, arial, sans-serif; font-size: 12px; fill: rgb(42, 63, 95); fill-opacity: 1; white-space: pre; opacity: 1;\" transform=\"translate(201.26,0)\">20</text></g><g class=\"xtick\"><text text-anchor=\"middle\" x=\"0\" y=\"433\" style=\"font-family: 'Open Sans', verdana, arial, sans-serif; font-size: 12px; fill: rgb(42, 63, 95); fill-opacity: 1; white-space: pre; opacity: 1;\" transform=\"translate(322.52,0)\">40</text></g><g class=\"xtick\"><text text-anchor=\"middle\" x=\"0\" y=\"433\" style=\"font-family: 'Open Sans', verdana, arial, sans-serif; font-size: 12px; fill: rgb(42, 63, 95); fill-opacity: 1; white-space: pre; opacity: 1;\" transform=\"translate(443.77,0)\">60</text></g></g><g class=\"yaxislayer-above\"><g class=\"ytick\"><text text-anchor=\"end\" x=\"79\" y=\"4.199999999999999\" transform=\"translate(0,411.71)\" style=\"font-family: 'Open Sans', verdana, arial, sans-serif; font-size: 12px; fill: rgb(42, 63, 95); fill-opacity: 1; white-space: pre; opacity: 1;\">−0.8</text></g><g class=\"ytick\"><text text-anchor=\"end\" x=\"79\" y=\"4.199999999999999\" style=\"font-family: 'Open Sans', verdana, arial, sans-serif; font-size: 12px; fill: rgb(42, 63, 95); fill-opacity: 1; white-space: pre; opacity: 1;\" transform=\"translate(0,373.3)\">−0.6</text></g><g class=\"ytick\"><text text-anchor=\"end\" x=\"79\" y=\"4.199999999999999\" style=\"font-family: 'Open Sans', verdana, arial, sans-serif; font-size: 12px; fill: rgb(42, 63, 95); fill-opacity: 1; white-space: pre; opacity: 1;\" transform=\"translate(0,334.88)\">−0.4</text></g><g class=\"ytick\"><text text-anchor=\"end\" x=\"79\" y=\"4.199999999999999\" style=\"font-family: 'Open Sans', verdana, arial, sans-serif; font-size: 12px; fill: rgb(42, 63, 95); fill-opacity: 1; white-space: pre; opacity: 1;\" transform=\"translate(0,296.46000000000004)\">−0.2</text></g><g class=\"ytick\"><text text-anchor=\"end\" x=\"79\" y=\"4.199999999999999\" style=\"font-family: 'Open Sans', verdana, arial, sans-serif; font-size: 12px; fill: rgb(42, 63, 95); fill-opacity: 1; white-space: pre; opacity: 1;\" transform=\"translate(0,258.05)\">0</text></g><g class=\"ytick\"><text text-anchor=\"end\" x=\"79\" y=\"4.199999999999999\" style=\"font-family: 'Open Sans', verdana, arial, sans-serif; font-size: 12px; fill: rgb(42, 63, 95); fill-opacity: 1; white-space: pre; opacity: 1;\" transform=\"translate(0,219.63)\">0.2</text></g><g class=\"ytick\"><text text-anchor=\"end\" x=\"79\" y=\"4.199999999999999\" style=\"font-family: 'Open Sans', verdana, arial, sans-serif; font-size: 12px; fill: rgb(42, 63, 95); fill-opacity: 1; white-space: pre; opacity: 1;\" transform=\"translate(0,181.22)\">0.4</text></g><g class=\"ytick\"><text text-anchor=\"end\" x=\"79\" y=\"4.199999999999999\" style=\"font-family: 'Open Sans', verdana, arial, sans-serif; font-size: 12px; fill: rgb(42, 63, 95); fill-opacity: 1; white-space: pre; opacity: 1;\" transform=\"translate(0,142.8)\">0.6</text></g><g class=\"ytick\"><text text-anchor=\"end\" x=\"79\" y=\"4.199999999999999\" style=\"font-family: 'Open Sans', verdana, arial, sans-serif; font-size: 12px; fill: rgb(42, 63, 95); fill-opacity: 1; white-space: pre; opacity: 1;\" transform=\"translate(0,104.38)\">0.8</text></g></g><g class=\"overaxes-above\"/></g></g><g class=\"polarlayer\"/><g class=\"smithlayer\"/><g class=\"ternarylayer\"/><g class=\"geolayer\"/><g class=\"funnelarealayer\"/><g class=\"pielayer\"/><g class=\"iciclelayer\"/><g class=\"treemaplayer\"/><g class=\"sunburstlayer\"/><g class=\"glimages\"/><defs id=\"topdefs-5a00e5\"><g class=\"clips\"/><clipPath id=\"legend5a00e5\"><rect width=\"116\" height=\"86\" x=\"0\" y=\"0\"/></clipPath></defs><g class=\"layer-above\"><g class=\"imagelayer\"/><g class=\"shapelayer\"/></g><g class=\"infolayer\"><g class=\"legend\" pointer-events=\"all\" transform=\"translate(571.64,100)\"><rect class=\"bg\" shape-rendering=\"crispEdges\" style=\"stroke: rgb(68, 68, 68); stroke-opacity: 1; fill: rgb(255, 255, 255); fill-opacity: 1; stroke-width: 0px;\" width=\"116\" height=\"86\" x=\"0\" y=\"0\"/><g class=\"scrollbox\" transform=\"\" clip-path=\"url(#legend5a00e5)\"><g class=\"groups\"><g class=\"traces\" transform=\"translate(0,14.5)\" style=\"opacity: 1;\"><text class=\"legendtext\" text-anchor=\"start\" x=\"40\" y=\"4.680000000000001\" style=\"font-family: 'Open Sans', verdana, arial, sans-serif; font-size: 12px; fill: rgb(42, 63, 95); fill-opacity: 1; white-space: pre;\">I nonlinear</text><g class=\"layers\" style=\"opacity: 1;\"><g class=\"legendfill\"/><g class=\"legendlines\"><path class=\"js-line\" d=\"M5,0h30\" style=\"fill: none; stroke: rgb(99, 110, 250); stroke-opacity: 1; stroke-width: 2px;\"/></g><g class=\"legendsymbols\"><g class=\"legendpoints\"/></g></g><rect class=\"legendtoggle\" x=\"0\" y=\"-9.5\" width=\"110.671875\" height=\"19\" style=\"fill: rgb(0, 0, 0); fill-opacity: 0;\"/></g><g class=\"traces\" transform=\"translate(0,33.5)\" style=\"opacity: 1;\"><text class=\"legendtext\" text-anchor=\"start\" x=\"40\" y=\"4.680000000000001\" style=\"font-family: 'Open Sans', verdana, arial, sans-serif; font-size: 12px; fill: rgb(42, 63, 95); fill-opacity: 1; white-space: pre;\">Q nonlinear</text><g class=\"layers\" style=\"opacity: 1;\"><g class=\"legendfill\"/><g class=\"legendlines\"><path class=\"js-line\" d=\"M5,0h30\" style=\"fill: none; stroke: rgb(239, 85, 59); stroke-opacity: 1; stroke-width: 2px;\"/></g><g class=\"legendsymbols\"><g class=\"legendpoints\"/></g></g><rect class=\"legendtoggle\" x=\"0\" y=\"-9.5\" width=\"110.671875\" height=\"19\" style=\"fill: rgb(0, 0, 0); fill-opacity: 0;\"/></g><g class=\"traces\" transform=\"translate(0,52.5)\" style=\"opacity: 1;\"><text class=\"legendtext\" text-anchor=\"start\" x=\"40\" y=\"4.680000000000001\" style=\"font-family: 'Open Sans', verdana, arial, sans-serif; font-size: 12px; fill: rgb(42, 63, 95); fill-opacity: 1; white-space: pre;\">I linear</text><g class=\"layers\" style=\"opacity: 1;\"><g class=\"legendfill\"/><g class=\"legendlines\"><path class=\"js-line\" d=\"M5,0h30\" style=\"fill: none; stroke: rgb(0, 204, 150); stroke-opacity: 1; stroke-width: 2px;\"/></g><g class=\"legendsymbols\"><g class=\"legendpoints\"/></g></g><rect class=\"legendtoggle\" x=\"0\" y=\"-9.5\" width=\"110.671875\" height=\"19\" style=\"fill: rgb(0, 0, 0); fill-opacity: 0;\"/></g><g class=\"traces\" transform=\"translate(0,71.5)\" style=\"opacity: 1;\"><text class=\"legendtext\" text-anchor=\"start\" x=\"40\" y=\"4.680000000000001\" style=\"font-family: 'Open Sans', verdana, arial, sans-serif; font-size: 12px; fill: rgb(42, 63, 95); fill-opacity: 1; white-space: pre;\">Q linear</text><g class=\"layers\" style=\"opacity: 1;\"><g class=\"legendfill\"/><g class=\"legendlines\"><path class=\"js-line\" d=\"M5,0h30\" style=\"fill: none; stroke: rgb(171, 99, 250); stroke-opacity: 1; stroke-width: 2px;\"/></g><g class=\"legendsymbols\"><g class=\"legendpoints\"/></g></g><rect class=\"legendtoggle\" x=\"0\" y=\"-9.5\" width=\"110.671875\" height=\"19\" style=\"fill: rgb(0, 0, 0); fill-opacity: 0;\"/></g></g></g><rect class=\"scrollbar\" rx=\"20\" ry=\"3\" width=\"0\" height=\"0\" style=\"fill: rgb(128, 139, 164); fill-opacity: 1;\" x=\"0\" y=\"0\"/></g><g class=\"g-gtitle\"><text class=\"gtitle\" x=\"35\" y=\"50\" text-anchor=\"start\" dy=\"0em\" style=\"font-family: 'Open Sans', verdana, arial, sans-serif; font-size: 17px; fill: rgb(42, 63, 95); opacity: 1; font-weight: normal; white-space: pre;\">I/Q Beat Signals for the First Chirp</text></g><g class=\"g-xtitle\"><text class=\"xtitle\" x=\"321\" y=\"460.8\" text-anchor=\"middle\" style=\"font-family: 'Open Sans', verdana, arial, sans-serif; font-size: 14px; fill: rgb(42, 63, 95); opacity: 1; font-weight: normal; white-space: pre;\">Time (µs)</text></g><g class=\"g-ytitle\"><text class=\"ytitle\" transform=\"rotate(-90,24.746875000000003,260)\" x=\"24.746875000000003\" y=\"260\" text-anchor=\"middle\" style=\"font-family: 'Open Sans', verdana, arial, sans-serif; font-size: 14px; fill: rgb(42, 63, 95); opacity: 1; font-weight: normal; white-space: pre;\">Amplitude (V)</text></g></g></svg>",
      "text/plain": [
       "<IPython.core.display.SVG object>"
      ]
     },
     "metadata": {},
     "output_type": "display_data"
    }
   ],
   "source": [
    "fig = go.Figure()\n",
    "\n",
    "fig.add_trace(go.Scatter(\n",
    "    x=time_matrix_nonlinear[0, 0, :] * 1e6,\n",
    "    y=np.real(data_matrix_nonlinear[0, 0, :]),\n",
    "    name='I nonlinear',\n",
    "))\n",
    "fig.add_trace(go.Scatter(\n",
    "    x=time_matrix_nonlinear[0, 0, :] * 1e6,\n",
    "    y=np.imag(data_matrix_nonlinear[0, 0, :]),\n",
    "    name='Q nonlinear',\n",
    "))\n",
    "fig.add_trace(go.Scatter(\n",
    "    x=time_matrix_linear[0, 0, :] * 1e6,\n",
    "    y=np.real(data_matrix_linear[0, 0, :]),\n",
    "    name='I linear',\n",
    "))\n",
    "fig.add_trace(go.Scatter(\n",
    "    x=time_matrix_linear[0, 0, :] * 1e6,\n",
    "    y=np.imag(data_matrix_linear[0, 0, :]),\n",
    "    name='Q linear',\n",
    "))\n",
    "\n",
    "fig.update_layout(\n",
    "    title='I/Q Beat Signals for the First Chirp',\n",
    "    yaxis=dict(title='Amplitude (V)'),\n",
    "    xaxis=dict(title='Time (µs)'),\n",
    ")\n",
    "\n",
    "# fig.show()\n",
    "display(SVG(fig.to_image(format='svg', scale=1)))\n"
   ]
  },
  {
   "cell_type": "markdown",
   "metadata": {},
   "source": [
    " ## Radar Signal Processing\n",
    " ### Range profile"
   ]
  },
  {
   "cell_type": "code",
   "execution_count": 9,
   "metadata": {},
   "outputs": [],
   "source": [
    "from scipy import signal\n",
    "import radarsimpy.processing as proc\n",
    "\n",
    "range_window = signal.chebwin(radar_linear.samples_per_pulse, at=60)\n",
    "\n",
    "range_profile_nonlinear = proc.cal_range_profile(\n",
    "    radar_nonlinear, data_matrix_nonlinear[:, :, :], range_window)\n",
    "range_profile_linear = proc.cal_range_profile(\n",
    "    radar_linear, data_matrix_linear[:, :, :], range_window)\n"
   ]
  },
  {
   "cell_type": "markdown",
   "metadata": {},
   "source": [
    "Plot the range profile"
   ]
  },
  {
   "cell_type": "code",
   "execution_count": 10,
   "metadata": {},
   "outputs": [
    {
     "data": {
      "image/svg+xml": "<svg xmlns=\"http://www.w3.org/2000/svg\" xmlns:xlink=\"http://www.w3.org/1999/xlink\" class=\"main-svg\" width=\"700\" height=\"500\" style=\"\" viewBox=\"0 0 700 500\"><rect x=\"0\" y=\"0\" width=\"700\" height=\"500\" style=\"fill: rgb(255, 255, 255); fill-opacity: 1;\"/><defs id=\"defs-63ff11\"><g class=\"clips\"><clipPath id=\"clip63ff11xyplot\" class=\"plotclip\"><rect width=\"462\" height=\"320\"/></clipPath><clipPath class=\"axesclip\" id=\"clip63ff11x\"><rect x=\"80\" y=\"0\" width=\"462\" height=\"500\"/></clipPath><clipPath class=\"axesclip\" id=\"clip63ff11y\"><rect x=\"0\" y=\"100\" width=\"700\" height=\"320\"/></clipPath><clipPath class=\"axesclip\" id=\"clip63ff11xy\"><rect x=\"80\" y=\"100\" width=\"462\" height=\"320\"/></clipPath></g><g class=\"gradients\"/><g class=\"patterns\"/></defs><g class=\"bglayer\"><rect class=\"bg\" x=\"80\" y=\"100\" width=\"462\" height=\"320\" style=\"fill: rgb(234, 234, 242); fill-opacity: 1; stroke-width: 0;\"/></g><g class=\"layer-below\"><g class=\"imagelayer\"/><g class=\"shapelayer\"/></g><g class=\"cartesianlayer\"><g class=\"subplot xy\"><g class=\"layer-subplot\"><g class=\"shapelayer\"/><g class=\"imagelayer\"/></g><g class=\"gridlayer\"><g class=\"x\"><path class=\"xgrid crisp\" transform=\"translate(176.86,0)\" d=\"M0,100v320\" style=\"stroke: rgb(255, 255, 255); stroke-opacity: 1; stroke-width: 1px;\"/><path class=\"xgrid crisp\" transform=\"translate(273.71000000000004,0)\" d=\"M0,100v320\" style=\"stroke: rgb(255, 255, 255); stroke-opacity: 1; stroke-width: 1px;\"/><path class=\"xgrid crisp\" transform=\"translate(370.57,0)\" d=\"M0,100v320\" style=\"stroke: rgb(255, 255, 255); stroke-opacity: 1; stroke-width: 1px;\"/><path class=\"xgrid crisp\" transform=\"translate(467.42,0)\" d=\"M0,100v320\" style=\"stroke: rgb(255, 255, 255); stroke-opacity: 1; stroke-width: 1px;\"/></g><g class=\"y\"><path class=\"ygrid crisp\" transform=\"translate(0,370.68)\" d=\"M80,0h462\" style=\"stroke: rgb(255, 255, 255); stroke-opacity: 1; stroke-width: 1px;\"/><path class=\"ygrid crisp\" transform=\"translate(0,300.16999999999996)\" d=\"M80,0h462\" style=\"stroke: rgb(255, 255, 255); stroke-opacity: 1; stroke-width: 1px;\"/><path class=\"ygrid crisp\" transform=\"translate(0,159.14)\" d=\"M80,0h462\" style=\"stroke: rgb(255, 255, 255); stroke-opacity: 1; stroke-width: 1px;\"/></g></g><g class=\"zerolinelayer\"><path class=\"xzl zl crisp\" transform=\"translate(80,0)\" d=\"M0,100v320\" style=\"stroke: rgb(255, 255, 255); stroke-opacity: 1; stroke-width: 1px;\"/><path class=\"yzl zl crisp\" transform=\"translate(0,229.65)\" d=\"M80,0h462\" style=\"stroke: rgb(255, 255, 255); stroke-opacity: 1; stroke-width: 1px;\"/></g><path class=\"xlines-below\"/><path class=\"ylines-below\"/><g class=\"overlines-below\"/><g class=\"xaxislayer-below\"/><g class=\"yaxislayer-below\"/><g class=\"overaxes-below\"/><g class=\"plot\" transform=\"translate(80,100)\" clip-path=\"url(#clip63ff11xyplot)\"><g class=\"scatterlayer mlayer\"><g class=\"trace scatter traceca6c70\" style=\"stroke-miterlimit: 2; opacity: 1;\"><g class=\"fills\"/><g class=\"errorbars\"/><g class=\"lines\"><path class=\"js-line\" d=\"M0,247.2L2.91,212.72L5.81,242.24L8.72,226.14L11.62,215.32L14.53,243.06L17.43,298.5L20.34,234.12L23.25,214.38L29.06,199.64L31.96,228.89L34.87,220.85L37.77,244.86L40.68,240.29L43.58,218.33L46.49,179.97L49.4,129.21L55.21,34.4L58.11,18.52L61.02,32.98L63.92,72.74L69.74,170.37L72.64,239.24L75.55,270.26L78.45,207.96L81.36,253.39L84.26,247.67L87.17,227.04L90.08,232.37L92.98,212.87L95.89,201.89L98.79,216.39L101.7,273.14L104.6,212.99L107.51,298.55L110.42,225.95L113.32,232.2L116.23,219.76L119.13,214.6L122.04,235.47L124.94,215.26L127.85,238.97L130.75,255.25L133.66,257.6L136.57,209.95L139.47,231.36L142.38,217.23L145.28,228.15L148.19,221.16L151.09,226.71L154,212.78L156.91,262.19L159.81,212.17L162.72,215.15L165.62,210.11L177.25,100.97L180.15,81.96L183.06,70.53L185.96,66.03L188.87,67.89L191.77,76.34L194.68,91.85L197.58,113.85L203.4,170.77L206.3,208.31L209.21,213.54L212.11,210.09L215.02,226.58L217.92,217.77L220.83,230.22L223.74,258.45L226.64,261.36L229.55,221.77L232.45,218.56L235.36,226.21L238.26,263.33L241.17,221.38L244.08,228.68L246.98,252.6L249.89,263.24L252.79,263.61L255.7,263.39L258.6,246.25L261.51,245.45L264.42,235.22L267.32,221.03L270.23,231.1L273.13,236.8L276.04,257.34L278.94,226.05L281.85,227.31L284.75,241.43L287.66,209.15L290.57,203.25L293.47,214.7L296.38,240.32L299.28,224.64L302.19,238.49L305.09,235.63L308,216.58L310.91,220.32L316.72,241.08L319.62,215.61L322.53,222.81L325.43,234.12L328.34,251.65L331.25,224.09L334.15,229.61L337.06,231.12L339.96,238.69L342.87,231.08L345.77,247.69L348.68,224.77L351.58,237.26L354.49,239.37L357.4,208.12L360.3,197.55L363.21,166.01L366.11,156.89L369.02,140.49L371.92,130.39L377.74,113.88L380.64,108.69L383.55,104.81L386.45,102.86L389.36,103.04L392.26,104.57L395.17,107.87L398.08,113.39L400.98,119.17L403.89,128.16L409.7,151.78L412.6,166.89L415.51,179.71L418.42,211.46L421.32,195.67L424.23,242.15L427.13,217.64L430.04,259.79L432.94,218.48L435.85,223.83L438.75,216.43L441.66,288.09L444.57,216.86L447.47,260.74L450.38,215.72L453.28,230.83L456.19,254.59L459.09,207.68L462,275.03\" style=\"vector-effect: non-scaling-stroke; fill: none; stroke: rgb(76, 114, 176); stroke-opacity: 1; stroke-width: 2px; opacity: 1;\"/></g><g class=\"points\"/><g class=\"text\"/></g><g class=\"trace scatter trace0fdcb7\" style=\"stroke-miterlimit: 2; opacity: 1;\"><g class=\"fills\"/><g class=\"errorbars\"/><g class=\"lines\"><path class=\"js-line\" d=\"M0,236.27L2.91,209.57L5.81,230.96L8.72,225.36L11.62,235.29L14.53,215.55L17.43,230.73L20.34,233.31L23.25,229.74L26.15,220.87L29.06,255.69L34.87,206.43L37.77,253.37L40.68,244.71L43.58,225.61L46.49,226.85L49.4,202.35L55.21,36.99L58.11,16L61.02,36.13L63.92,114.9L66.83,224.76L69.74,215.33L72.64,225.11L75.55,247.82L81.36,219.42L84.26,220.74L87.17,244.95L90.08,227.53L92.98,244.36L95.89,223.17L98.79,212.99L101.7,223.48L107.51,243.22L110.42,230.81L113.32,233.45L116.23,216.48L119.13,217.15L122.04,231.83L124.94,228.26L127.85,251.06L130.75,223.8L133.66,219.3L136.57,229.6L139.47,255.87L142.38,237L145.28,225.82L148.19,219.59L151.09,208.64L154,276.98L156.91,248.73L159.81,224.93L162.72,230.11L165.62,237.51L168.53,238.36L171.43,217.9L174.34,247.05L177.25,239.29L180.15,175.96L183.06,78.5L185.96,52.17L188.87,66.87L191.77,135.91L194.68,214.83L197.58,240.02L200.49,218.25L203.4,253.93L206.3,244.62L209.21,285.15L212.11,216.93L215.02,272.36L217.92,220.59L220.83,221.53L223.74,228.57L226.64,286.34L229.55,243.5L232.45,226.96L235.36,275.73L238.26,249.74L241.17,230.65L244.08,227.62L246.98,231.25L249.89,268.88L252.79,235.27L255.7,249.13L258.6,290.34L261.51,225.09L264.42,243.56L267.32,227.41L270.23,284.62L273.13,237.66L276.04,242.91L278.94,232.87L281.85,258.59L284.75,239.27L287.66,228.75L290.57,257.18L293.47,212.52L296.38,210.58L299.28,225.92L302.19,235.79L305.09,242.17L308,232.89L310.91,249.39L313.81,222.72L316.72,211.1L319.62,221.11L322.53,228.62L325.43,258.03L328.34,227.88L331.25,269.02L334.15,250.46L337.06,270.21L339.96,228.42L342.87,240.8L348.68,216.79L351.58,212.55L354.49,252.89L357.4,236.04L360.3,232.75L363.21,271.98L366.11,234.44L369.02,212.59L371.92,217.4L374.83,232.85L377.74,233.83L380.64,243.29L383.55,118.3L386.45,81.21L389.36,86.65L392.26,139.73L395.17,227.45L398.08,220.85L400.98,258.52L403.89,217.56L406.79,252.37L409.7,244.91L412.6,304L415.51,219.01L418.42,263.09L421.32,226.16L424.23,228.16L427.13,239.53L430.04,220.54L432.94,269.6L435.85,222.55L438.75,241.04L441.66,213.33L444.57,240.27L447.47,250.45L450.38,222.7L453.28,238.56L456.19,206.17L459.09,228.81L462,208.88\" style=\"vector-effect: non-scaling-stroke; fill: none; stroke: rgb(221, 132, 82); stroke-opacity: 1; stroke-width: 2px; opacity: 1;\"/></g><g class=\"points\"/><g class=\"text\"/></g></g></g><g class=\"overplot\"/><path class=\"xlines-above crisp\" d=\"M0,0\" style=\"fill: none;\"/><path class=\"ylines-above crisp\" d=\"M0,0\" style=\"fill: none;\"/><g class=\"overlines-above\"/><g class=\"xaxislayer-above\"><g class=\"xtick\"><text text-anchor=\"middle\" x=\"0\" y=\"433\" transform=\"translate(80,0)\" style=\"font-family: 'Open Sans', verdana, arial, sans-serif; font-size: 12px; fill: rgb(36, 36, 36); fill-opacity: 1; white-space: pre; opacity: 1;\">0</text></g><g class=\"xtick\"><text text-anchor=\"middle\" x=\"0\" y=\"433\" style=\"font-family: 'Open Sans', verdana, arial, sans-serif; font-size: 12px; fill: rgb(36, 36, 36); fill-opacity: 1; white-space: pre; opacity: 1;\" transform=\"translate(176.86,0)\">50</text></g><g class=\"xtick\"><text text-anchor=\"middle\" x=\"0\" y=\"433\" style=\"font-family: 'Open Sans', verdana, arial, sans-serif; font-size: 12px; fill: rgb(36, 36, 36); fill-opacity: 1; white-space: pre; opacity: 1;\" transform=\"translate(273.71000000000004,0)\">100</text></g><g class=\"xtick\"><text text-anchor=\"middle\" x=\"0\" y=\"433\" style=\"font-family: 'Open Sans', verdana, arial, sans-serif; font-size: 12px; fill: rgb(36, 36, 36); fill-opacity: 1; white-space: pre; opacity: 1;\" transform=\"translate(370.57,0)\">150</text></g><g class=\"xtick\"><text text-anchor=\"middle\" x=\"0\" y=\"433\" style=\"font-family: 'Open Sans', verdana, arial, sans-serif; font-size: 12px; fill: rgb(36, 36, 36); fill-opacity: 1; white-space: pre; opacity: 1;\" transform=\"translate(467.42,0)\">200</text></g></g><g class=\"yaxislayer-above\"><g class=\"ytick\"><text text-anchor=\"end\" x=\"79\" y=\"4.199999999999999\" transform=\"translate(0,370.68)\" style=\"font-family: 'Open Sans', verdana, arial, sans-serif; font-size: 12px; fill: rgb(36, 36, 36); fill-opacity: 1; white-space: pre; opacity: 1;\">−40</text></g><g class=\"ytick\"><text text-anchor=\"end\" x=\"79\" y=\"4.199999999999999\" style=\"font-family: 'Open Sans', verdana, arial, sans-serif; font-size: 12px; fill: rgb(36, 36, 36); fill-opacity: 1; white-space: pre; opacity: 1;\" transform=\"translate(0,300.16999999999996)\">−20</text></g><g class=\"ytick\"><text text-anchor=\"end\" x=\"79\" y=\"4.199999999999999\" style=\"font-family: 'Open Sans', verdana, arial, sans-serif; font-size: 12px; fill: rgb(36, 36, 36); fill-opacity: 1; white-space: pre; opacity: 1;\" transform=\"translate(0,229.65)\">0</text></g><g class=\"ytick\"><text text-anchor=\"end\" x=\"79\" y=\"4.199999999999999\" style=\"font-family: 'Open Sans', verdana, arial, sans-serif; font-size: 12px; fill: rgb(36, 36, 36); fill-opacity: 1; white-space: pre; opacity: 1;\" transform=\"translate(0,159.14)\">20</text></g></g><g class=\"overaxes-above\"/></g></g><g class=\"polarlayer\"/><g class=\"smithlayer\"/><g class=\"ternarylayer\"/><g class=\"geolayer\"/><g class=\"funnelarealayer\"/><g class=\"pielayer\"/><g class=\"iciclelayer\"/><g class=\"treemaplayer\"/><g class=\"sunburstlayer\"/><g class=\"glimages\"/><defs id=\"topdefs-63ff11\"><g class=\"clips\"/><clipPath id=\"legend63ff11\"><rect width=\"137\" height=\"48\" x=\"0\" y=\"0\"/></clipPath></defs><g class=\"layer-above\"><g class=\"imagelayer\"/><g class=\"shapelayer\"/></g><g class=\"infolayer\"><g class=\"legend\" pointer-events=\"all\" transform=\"translate(551.24,100)\"><rect class=\"bg\" shape-rendering=\"crispEdges\" style=\"stroke: rgb(68, 68, 68); stroke-opacity: 1; fill: rgb(255, 255, 255); fill-opacity: 1; stroke-width: 0px;\" width=\"137\" height=\"48\" x=\"0\" y=\"0\"/><g class=\"scrollbox\" transform=\"\" clip-path=\"url(#legend63ff11)\"><g class=\"groups\"><g class=\"traces\" transform=\"translate(0,14.5)\" style=\"opacity: 1;\"><text class=\"legendtext\" text-anchor=\"start\" x=\"40\" y=\"4.680000000000001\" style=\"font-family: 'Open Sans', verdana, arial, sans-serif; font-size: 12px; fill: rgb(36, 36, 36); fill-opacity: 1; white-space: pre;\">Nonlinear chirp</text><g class=\"layers\" style=\"opacity: 1;\"><g class=\"legendfill\"/><g class=\"legendlines\"><path class=\"js-line\" d=\"M5,0h30\" style=\"fill: none; stroke: rgb(76, 114, 176); stroke-opacity: 1; stroke-width: 2px;\"/></g><g class=\"legendsymbols\"><g class=\"legendpoints\"/></g></g><rect class=\"legendtoggle\" x=\"0\" y=\"-9.5\" width=\"131.46875\" height=\"19\" style=\"fill: rgb(0, 0, 0); fill-opacity: 0;\"/></g><g class=\"traces\" transform=\"translate(0,33.5)\" style=\"opacity: 1;\"><text class=\"legendtext\" text-anchor=\"start\" x=\"40\" y=\"4.680000000000001\" style=\"font-family: 'Open Sans', verdana, arial, sans-serif; font-size: 12px; fill: rgb(36, 36, 36); fill-opacity: 1; white-space: pre;\">Lineaer chirp</text><g class=\"layers\" style=\"opacity: 1;\"><g class=\"legendfill\"/><g class=\"legendlines\"><path class=\"js-line\" d=\"M5,0h30\" style=\"fill: none; stroke: rgb(221, 132, 82); stroke-opacity: 1; stroke-width: 2px;\"/></g><g class=\"legendsymbols\"><g class=\"legendpoints\"/></g></g><rect class=\"legendtoggle\" x=\"0\" y=\"-9.5\" width=\"131.46875\" height=\"19\" style=\"fill: rgb(0, 0, 0); fill-opacity: 0;\"/></g></g></g><rect class=\"scrollbar\" rx=\"20\" ry=\"3\" width=\"0\" height=\"0\" style=\"fill: rgb(128, 139, 164); fill-opacity: 1;\" x=\"0\" y=\"0\"/></g><g class=\"g-gtitle\"/><g class=\"g-xtitle\"><text class=\"xtitle\" x=\"311\" y=\"460.8\" text-anchor=\"middle\" style=\"font-family: 'Open Sans', verdana, arial, sans-serif; font-size: 14px; fill: rgb(36, 36, 36); opacity: 1; font-weight: normal; white-space: pre;\">Range (m)</text></g><g class=\"g-ytitle\"><text class=\"ytitle\" transform=\"rotate(-90,29.121875000000003,260)\" x=\"29.121875000000003\" y=\"260\" text-anchor=\"middle\" style=\"font-family: 'Open Sans', verdana, arial, sans-serif; font-size: 14px; fill: rgb(36, 36, 36); opacity: 1; font-weight: normal; white-space: pre;\">Amplitude (dB)</text></g></g></svg>",
      "text/plain": [
       "<IPython.core.display.SVG object>"
      ]
     },
     "metadata": {},
     "output_type": "display_data"
    }
   ],
   "source": [
    "max_range = (3e8 * radar_linear.receiver.fs *\n",
    "             radar_linear.transmitter.pulse_length /\n",
    "             radar_linear.transmitter.bandwidth / 2)\n",
    "\n",
    "range_axis = np.linspace(\n",
    "    0, max_range, radar_linear.samples_per_pulse, endpoint=False)\n",
    "\n",
    "fig = go.Figure()\n",
    "\n",
    "fig.add_trace(go.Scatter(\n",
    "    x=range_axis,\n",
    "    y=20 * np.log10(np.abs(range_profile_nonlinear[0, 0, :])),\n",
    "    name='Nonlinear chirp',\n",
    "))\n",
    "\n",
    "fig.add_trace(go.Scatter(\n",
    "    x=range_axis,\n",
    "    y=20 * np.log10(np.abs(range_profile_linear[0, 0, :])),\n",
    "    name='Lineaer chirp',\n",
    "))\n",
    "\n",
    "fig.update_layout(\n",
    "    template=\"seaborn\",\n",
    "    yaxis=dict(title='Amplitude (dB)'),\n",
    "    xaxis=dict(title='Range (m)'),\n",
    ")\n",
    "\n",
    "# fig.show()\n",
    "# fig.write_image('non_linear_range.svg', height=400, width=600)\n",
    "display(SVG(fig.to_image(format='svg', scale=1)))\n"
   ]
  },
  {
   "cell_type": "code",
   "execution_count": null,
   "metadata": {},
   "outputs": [],
   "source": []
  }
 ],
 "metadata": {
  "file_extension": ".py",
  "interpreter": {
   "hash": "049259d8f9b11052118f638702b5ad793ce853ba9db086a654763315ddd527c9"
  },
  "kernelspec": {
   "display_name": "Python 3.9.7 64-bit ('dev': conda)",
   "name": "python3"
  },
  "language_info": {
   "codemirror_mode": {
    "name": "ipython",
    "version": 3
   },
   "file_extension": ".py",
   "mimetype": "text/x-python",
   "name": "python",
   "nbconvert_exporter": "python",
   "pygments_lexer": "ipython3",
   "version": "3.10.0"
  },
  "mimetype": "text/x-python",
  "name": "python",
  "npconvert_exporter": "python",
  "pygments_lexer": "ipython3",
  "toc": {
   "base_numbering": 1,
   "nav_menu": {},
   "number_sections": true,
   "sideBar": true,
   "skip_h1_title": false,
   "title_cell": "Table of Contents",
   "title_sidebar": "Contents",
   "toc_cell": false,
   "toc_position": {},
   "toc_section_display": true,
   "toc_window_display": false
  },
  "varInspector": {
   "cols": {
    "lenName": 16,
    "lenType": 16,
    "lenVar": 40
   },
   "kernels_config": {
    "python": {
     "delete_cmd_postfix": "",
     "delete_cmd_prefix": "del ",
     "library": "var_list.py",
     "varRefreshCmd": "print(var_dic_list())"
    },
    "r": {
     "delete_cmd_postfix": ") ",
     "delete_cmd_prefix": "rm(",
     "library": "var_list.r",
     "varRefreshCmd": "cat(var_dic_list()) "
    }
   },
   "types_to_exclude": [
    "module",
    "function",
    "builtin_function_or_method",
    "instance",
    "_Feature"
   ],
   "window_display": false
  },
  "version": 3
 },
 "nbformat": 4,
 "nbformat_minor": 4
}
