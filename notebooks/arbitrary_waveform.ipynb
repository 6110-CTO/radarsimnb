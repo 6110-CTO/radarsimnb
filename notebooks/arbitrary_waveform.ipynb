{
 "cells": [
  {
   "cell_type": "code",
   "execution_count": 1,
   "metadata": {},
   "outputs": [
    {
     "name": "stdout",
     "output_type": "stream",
     "text": [
      "`RadarSimPy` used in this example is version: 11.2.0\n"
     ]
    }
   ],
   "source": [
    "import radarsimpy\n",
    "print('`RadarSimPy` used in this example is version: ' +\n",
    "      str(radarsimpy.__version__))\n"
   ]
  },
  {
   "attachments": {},
   "cell_type": "markdown",
   "metadata": {},
   "source": [
    "# Arbitrary Waveform\n",
    "\n",
    "[![Documentations](https://img.shields.io/github/v/tag/radarsimx/radarsimpy?label=Documentation&logo=read-the-docs)](https://radarsimx.github.io/radarsimpy/)\n",
    "[![Download](https://img.shields.io/github/v/tag/radarsimx/radarsimpy?label=Download&logo=python)](https://radarsimx.com/product/radarsimpy/)\n",
    "\n",
    "In addition to the frequently employed waveforms, [`RadarSimPy`](https://radarsimx.com/radarsimx/radarsimpy/) boasts the capability to simulate arbitrary waveforms. This versatility allows you to precisely define waveforms by specifying their frequency versus time curves. In the subsequent illustration, we will harness the potential of arbitrary waveform simulation to assess the impact of a non-linear chirp within the context of an FMCW radar scenario.\n",
    "\n",
    "## Introduction\n",
    "\n",
    "The chirp linearity aspect of an FMCW radar pertains to the degree of adherence between the actual frequency modulation and the intended linear frequency sweep. Within FMCW radar, a continuous waveform characterized by a progressive or regressive frequency alteration, referred to as a chirp signal, is emitted. This chirp signal serves the purpose of gauging the distance to a target based on the temporal delay between the emission and reception of signals.\n",
    "\n",
    "The significance of chirp linearity is paramount due to its potential to introduce discrepancies in range measurement and velocity estimation whenever there is a departure from the projected linear frequency sweep. Should the chirp lack precise linearity, the radar system might miscalculate the target's range and velocity, consequently engendering inaccuracies in target identification, pursuit, and positioning.\n",
    "\n",
    "To elucidate this concept further, the forthcoming code examples will elucidate the process of generating a non-linear chirp using RadarSimPy, subsequently allowing an evaluation of its repercussions on radar signal processing.\n",
    "\n",
    "## Radar Model\n",
    "\n",
    "### Non-linear chirp\n",
    "\n",
    "The chirp can be defined by frequency versus time.\n"
   ]
  },
  {
   "cell_type": "code",
   "execution_count": 2,
   "metadata": {},
   "outputs": [],
   "source": [
    "import numpy as np\n",
    "\n",
    "freq_nonlinear = np.array([\n",
    "    2.40750000e+10, 2.40760901e+10, 2.40771786e+10, 2.40782654e+10,\n",
    "    2.40793506e+10, 2.40804341e+10, 2.40815161e+10, 2.40825964e+10,\n",
    "    2.40836750e+10, 2.40847521e+10, 2.40858275e+10, 2.40869012e+10,\n",
    "    2.40879734e+10, 2.40890439e+10, 2.40901127e+10, 2.40911800e+10,\n",
    "    2.40922456e+10, 2.40933096e+10, 2.40943719e+10, 2.40954326e+10,\n",
    "    2.40964917e+10, 2.40975491e+10, 2.40986049e+10, 2.40996591e+10,\n",
    "    2.41007117e+10, 2.41017626e+10, 2.41028119e+10, 2.41038595e+10,\n",
    "    2.41049055e+10, 2.41059499e+10, 2.41069927e+10, 2.41080338e+10,\n",
    "    2.41090733e+10, 2.41101111e+10, 2.41111473e+10, 2.41121819e+10,\n",
    "    2.41132149e+10, 2.41142462e+10, 2.41152759e+10, 2.41163039e+10,\n",
    "    2.41173304e+10, 2.41183552e+10, 2.41193783e+10, 2.41203999e+10,\n",
    "    2.41214198e+10, 2.41224380e+10, 2.41234546e+10, 2.41244696e+10,\n",
    "    2.41254830e+10, 2.41264947e+10, 2.41275048e+10, 2.41285133e+10,\n",
    "    2.41295202e+10, 2.41305254e+10, 2.41315289e+10, 2.41325309e+10,\n",
    "    2.41335312e+10, 2.41345298e+10, 2.41355269e+10, 2.41365223e+10,\n",
    "    2.41375161e+10, 2.41385082e+10, 2.41394987e+10, 2.41404876e+10,\n",
    "    2.41414748e+10, 2.41424605e+10, 2.41434444e+10, 2.41444268e+10,\n",
    "    2.41454075e+10, 2.41463866e+10, 2.41473640e+10, 2.41483399e+10,\n",
    "    2.41493140e+10, 2.41502866e+10, 2.41512575e+10, 2.41522268e+10,\n",
    "    2.41531945e+10, 2.41541605e+10, 2.41551249e+10, 2.41560876e+10,\n",
    "    2.41570488e+10, 2.41580083e+10, 2.41589661e+10, 2.41599224e+10,\n",
    "    2.41608770e+10, 2.41618299e+10, 2.41627812e+10, 2.41637309e+10,\n",
    "    2.41646790e+10, 2.41656254e+10, 2.41665702e+10, 2.41675134e+10,\n",
    "    2.41684550e+10, 2.41693949e+10, 2.41703331e+10, 2.41712698e+10,\n",
    "    2.41722048e+10, 2.41731381e+10, 2.41740699e+10, 2.41750000e+10])\n",
    "t_nonlinear = np.linspace(0, 80e-6, 100)"
   ]
  },
  {
   "attachments": {},
   "cell_type": "markdown",
   "metadata": {},
   "source": [
    "Plot the non-linear chirp\n"
   ]
  },
  {
   "cell_type": "code",
   "execution_count": 3,
   "metadata": {},
   "outputs": [
    {
     "data": {
      "image/svg+xml": [
       "<svg xmlns=\"http://www.w3.org/2000/svg\" xmlns:xlink=\"http://www.w3.org/1999/xlink\" class=\"main-svg\" width=\"700\" height=\"500\" style=\"\" viewBox=\"0 0 700 500\"><rect x=\"0\" y=\"0\" width=\"700\" height=\"500\" style=\"fill: rgb(255, 255, 255); fill-opacity: 1;\"/><defs id=\"defs-78d44b\"><g class=\"clips\"><clipPath id=\"clip78d44bxyplot\" class=\"plotclip\"><rect width=\"457\" height=\"320\"/></clipPath><clipPath class=\"axesclip\" id=\"clip78d44bx\"><rect x=\"80\" y=\"0\" width=\"457\" height=\"500\"/></clipPath><clipPath class=\"axesclip\" id=\"clip78d44by\"><rect x=\"0\" y=\"100\" width=\"700\" height=\"320\"/></clipPath><clipPath class=\"axesclip\" id=\"clip78d44bxy\"><rect x=\"80\" y=\"100\" width=\"457\" height=\"320\"/></clipPath></g><g class=\"gradients\"/><g class=\"patterns\"/></defs><g class=\"bglayer\"><rect class=\"bg\" x=\"80\" y=\"100\" width=\"457\" height=\"320\" style=\"fill: rgb(234, 234, 242); fill-opacity: 1; stroke-width: 0;\"/></g><g class=\"layer-below\"><g class=\"imagelayer\"/><g class=\"shapelayer\"/></g><g class=\"cartesianlayer\"><g class=\"subplot xy\"><g class=\"layer-subplot\"><g class=\"shapelayer\"/><g class=\"imagelayer\"/></g><g class=\"minor-gridlayer\"><g class=\"x\"/><g class=\"y\"/></g><g class=\"gridlayer\"><g class=\"x\"><path class=\"xgrid crisp\" transform=\"translate(207.55,0)\" d=\"M0,100v320\" style=\"stroke: rgb(255, 255, 255); stroke-opacity: 1; stroke-width: 1px;\"/><path class=\"xgrid crisp\" transform=\"translate(308.5,0)\" d=\"M0,100v320\" style=\"stroke: rgb(255, 255, 255); stroke-opacity: 1; stroke-width: 1px;\"/><path class=\"xgrid crisp\" transform=\"translate(409.45,0)\" d=\"M0,100v320\" style=\"stroke: rgb(255, 255, 255); stroke-opacity: 1; stroke-width: 1px;\"/><path class=\"xgrid crisp\" transform=\"translate(510.4,0)\" d=\"M0,100v320\" style=\"stroke: rgb(255, 255, 255); stroke-opacity: 1; stroke-width: 1px;\"/></g><g class=\"y\"><path class=\"ygrid crisp\" transform=\"translate(0,386.22)\" d=\"M80,0h457\" style=\"stroke: rgb(255, 255, 255); stroke-opacity: 1; stroke-width: 1px;\"/><path class=\"ygrid crisp\" transform=\"translate(0,330.13)\" d=\"M80,0h457\" style=\"stroke: rgb(255, 255, 255); stroke-opacity: 1; stroke-width: 1px;\"/><path class=\"ygrid crisp\" transform=\"translate(0,274.03)\" d=\"M80,0h457\" style=\"stroke: rgb(255, 255, 255); stroke-opacity: 1; stroke-width: 1px;\"/><path class=\"ygrid crisp\" transform=\"translate(0,217.93)\" d=\"M80,0h457\" style=\"stroke: rgb(255, 255, 255); stroke-opacity: 1; stroke-width: 1px;\"/><path class=\"ygrid crisp\" transform=\"translate(0,161.82999999999998)\" d=\"M80,0h457\" style=\"stroke: rgb(255, 255, 255); stroke-opacity: 1; stroke-width: 1px;\"/><path class=\"ygrid crisp\" transform=\"translate(0,105.73)\" d=\"M80,0h457\" style=\"stroke: rgb(255, 255, 255); stroke-opacity: 1; stroke-width: 1px;\"/></g></g><g class=\"zerolinelayer\"><path class=\"xzl zl crisp\" transform=\"translate(106.6,0)\" d=\"M0,100v320\" style=\"stroke: rgb(255, 255, 255); stroke-opacity: 1; stroke-width: 1px;\"/></g><path class=\"xlines-below\"/><path class=\"ylines-below\"/><g class=\"overlines-below\"/><g class=\"xaxislayer-below\"/><g class=\"yaxislayer-below\"/><g class=\"overaxes-below\"/><g class=\"plot\" transform=\"translate(80,100)\" clip-path=\"url(#clip78d44bxyplot)\"><g class=\"scatterlayer mlayer\"><g class=\"trace scatter trace498360\" style=\"stroke-miterlimit: 2; opacity: 1;\"><g class=\"fills\"/><g class=\"errorbars\"/><g class=\"lines\"><path class=\"js-line\" d=\"M26.6,300.25L108.18,239.97L112.25,237L197.91,175.77L201.99,172.9L283.56,116.56L287.64,113.79L365.14,62.04L369.22,59.37L430.4,19.75\" style=\"vector-effect: none; fill: none; stroke: rgb(76, 114, 176); stroke-opacity: 1; stroke-width: 2px; opacity: 1;\"/></g><g class=\"points\"/><g class=\"text\"/></g><g class=\"trace scatter traced218cd\" style=\"stroke-miterlimit: 2; opacity: 1;\"><g class=\"fills\"/><g class=\"errorbars\"/><g class=\"lines\"><path class=\"js-line\" d=\"M26.6,300.25L430.4,19.75\" style=\"vector-effect: none; fill: none; stroke: rgb(221, 132, 82); stroke-opacity: 1; stroke-width: 2px; opacity: 1;\"/></g><g class=\"points\"><path class=\"point\" transform=\"translate(26.6,300.25)\" d=\"M3,0A3,3 0 1,1 0,-3A3,3 0 0,1 3,0Z\" style=\"opacity: 1; stroke-width: 0px; fill: rgb(221, 132, 82); fill-opacity: 1;\"/><path class=\"point\" transform=\"translate(430.4,19.75)\" d=\"M3,0A3,3 0 1,1 0,-3A3,3 0 0,1 3,0Z\" style=\"opacity: 1; stroke-width: 0px; fill: rgb(221, 132, 82); fill-opacity: 1;\"/></g><g class=\"text\"/></g></g></g><g class=\"overplot\"/><path class=\"xlines-above crisp\" d=\"M0,0\" style=\"fill: none;\"/><path class=\"ylines-above crisp\" d=\"M0,0\" style=\"fill: none;\"/><g class=\"overlines-above\"/><g class=\"xaxislayer-above\"><g class=\"xtick\"><text text-anchor=\"middle\" x=\"0\" y=\"433\" transform=\"translate(106.6,0)\" style=\"font-family: 'Open Sans', verdana, arial, sans-serif; font-size: 12px; fill: rgb(36, 36, 36); fill-opacity: 1; white-space: pre; opacity: 1;\">0.00</text></g><g class=\"xtick\"><text text-anchor=\"middle\" x=\"0\" y=\"433\" style=\"font-family: 'Open Sans', verdana, arial, sans-serif; font-size: 12px; fill: rgb(36, 36, 36); fill-opacity: 1; white-space: pre; opacity: 1;\" transform=\"translate(207.55,0)\">20.00</text></g><g class=\"xtick\"><text text-anchor=\"middle\" x=\"0\" y=\"433\" style=\"font-family: 'Open Sans', verdana, arial, sans-serif; font-size: 12px; fill: rgb(36, 36, 36); fill-opacity: 1; white-space: pre; opacity: 1;\" transform=\"translate(308.5,0)\">40.00</text></g><g class=\"xtick\"><text text-anchor=\"middle\" x=\"0\" y=\"433\" style=\"font-family: 'Open Sans', verdana, arial, sans-serif; font-size: 12px; fill: rgb(36, 36, 36); fill-opacity: 1; white-space: pre; opacity: 1;\" transform=\"translate(409.45,0)\">60.00</text></g><g class=\"xtick\"><text text-anchor=\"middle\" x=\"0\" y=\"433\" style=\"font-family: 'Open Sans', verdana, arial, sans-serif; font-size: 12px; fill: rgb(36, 36, 36); fill-opacity: 1; white-space: pre; opacity: 1;\" transform=\"translate(510.4,0)\">80.00</text></g></g><g class=\"yaxislayer-above\"><g class=\"ytick\"><text text-anchor=\"end\" x=\"79\" y=\"4.199999999999999\" transform=\"translate(0,386.22)\" style=\"font-family: 'Open Sans', verdana, arial, sans-serif; font-size: 12px; fill: rgb(36, 36, 36); fill-opacity: 1; white-space: pre; opacity: 1;\">24.08</text></g><g class=\"ytick\"><text text-anchor=\"end\" x=\"79\" y=\"4.199999999999999\" style=\"font-family: 'Open Sans', verdana, arial, sans-serif; font-size: 12px; fill: rgb(36, 36, 36); fill-opacity: 1; white-space: pre; opacity: 1;\" transform=\"translate(0,330.13)\">24.10</text></g><g class=\"ytick\"><text text-anchor=\"end\" x=\"79\" y=\"4.199999999999999\" style=\"font-family: 'Open Sans', verdana, arial, sans-serif; font-size: 12px; fill: rgb(36, 36, 36); fill-opacity: 1; white-space: pre; opacity: 1;\" transform=\"translate(0,274.03)\">24.12</text></g><g class=\"ytick\"><text text-anchor=\"end\" x=\"79\" y=\"4.199999999999999\" style=\"font-family: 'Open Sans', verdana, arial, sans-serif; font-size: 12px; fill: rgb(36, 36, 36); fill-opacity: 1; white-space: pre; opacity: 1;\" transform=\"translate(0,217.93)\">24.14</text></g><g class=\"ytick\"><text text-anchor=\"end\" x=\"79\" y=\"4.199999999999999\" style=\"font-family: 'Open Sans', verdana, arial, sans-serif; font-size: 12px; fill: rgb(36, 36, 36); fill-opacity: 1; white-space: pre; opacity: 1;\" transform=\"translate(0,161.82999999999998)\">24.16</text></g><g class=\"ytick\"><text text-anchor=\"end\" x=\"79\" y=\"4.199999999999999\" style=\"font-family: 'Open Sans', verdana, arial, sans-serif; font-size: 12px; fill: rgb(36, 36, 36); fill-opacity: 1; white-space: pre; opacity: 1;\" transform=\"translate(0,105.73)\">24.18</text></g></g><g class=\"overaxes-above\"/></g></g><g class=\"polarlayer\"/><g class=\"smithlayer\"/><g class=\"ternarylayer\"/><g class=\"geolayer\"/><g class=\"funnelarealayer\"/><g class=\"pielayer\"/><g class=\"iciclelayer\"/><g class=\"treemaplayer\"/><g class=\"sunburstlayer\"/><g class=\"glimages\"/><defs id=\"topdefs-78d44b\"><g class=\"clips\"/><clipPath id=\"legend78d44b\"><rect width=\"142\" height=\"48\" x=\"0\" y=\"0\"/></clipPath></defs><g class=\"layer-above\"><g class=\"imagelayer\"/><g class=\"shapelayer\"/></g><g class=\"infolayer\"><g class=\"legend\" pointer-events=\"all\" transform=\"translate(546.14,100)\"><rect class=\"bg\" shape-rendering=\"crispEdges\" style=\"stroke: rgb(68, 68, 68); stroke-opacity: 1; fill: rgb(255, 255, 255); fill-opacity: 1; stroke-width: 0px;\" width=\"142\" height=\"48\" x=\"0\" y=\"0\"/><g class=\"scrollbox\" transform=\"\" clip-path=\"url(#legend78d44b)\"><g class=\"groups\"><g class=\"traces\" transform=\"translate(0,14.5)\" style=\"opacity: 1;\"><text class=\"legendtext\" text-anchor=\"start\" x=\"40\" y=\"4.680000000000001\" style=\"font-family: 'Open Sans', verdana, arial, sans-serif; font-size: 12px; fill: rgb(36, 36, 36); fill-opacity: 1; white-space: pre;\">Non-linear chirp</text><g class=\"layers\" style=\"opacity: 1;\"><g class=\"legendfill\"/><g class=\"legendlines\"><path class=\"js-line\" d=\"M5,0h30\" style=\"fill: none; stroke: rgb(76, 114, 176); stroke-opacity: 1; stroke-width: 2px;\"/></g><g class=\"legendsymbols\"><g class=\"legendpoints\"/></g></g><rect class=\"legendtoggle\" x=\"0\" y=\"-9.5\" width=\"136.921875\" height=\"19\" style=\"fill: rgb(0, 0, 0); fill-opacity: 0;\"/></g><g class=\"traces\" transform=\"translate(0,33.5)\" style=\"opacity: 1;\"><text class=\"legendtext\" text-anchor=\"start\" x=\"40\" y=\"4.680000000000001\" style=\"font-family: 'Open Sans', verdana, arial, sans-serif; font-size: 12px; fill: rgb(36, 36, 36); fill-opacity: 1; white-space: pre;\">Linear chirp</text><g class=\"layers\" style=\"opacity: 1;\"><g class=\"legendfill\"/><g class=\"legendlines\"><path class=\"js-line\" d=\"M5,0h30\" style=\"fill: none; stroke: rgb(221, 132, 82); stroke-opacity: 1; stroke-width: 2px;\"/></g><g class=\"legendsymbols\"><g class=\"legendpoints\"><path class=\"scatterpts\" transform=\"translate(20,0)\" d=\"M3,0A3,3 0 1,1 0,-3A3,3 0 0,1 3,0Z\" style=\"opacity: 1; stroke-width: 0px; fill: rgb(221, 132, 82); fill-opacity: 1;\"/></g></g></g><rect class=\"legendtoggle\" x=\"0\" y=\"-9.5\" width=\"136.921875\" height=\"19\" style=\"fill: rgb(0, 0, 0); fill-opacity: 0;\"/></g></g></g><rect class=\"scrollbar\" rx=\"20\" ry=\"3\" width=\"0\" height=\"0\" style=\"fill: rgb(128, 139, 164); fill-opacity: 1;\" x=\"0\" y=\"0\"/></g><g class=\"g-gtitle\"/><g class=\"g-xtitle\"><text class=\"xtitle\" x=\"308.5\" y=\"460.3\" text-anchor=\"middle\" style=\"font-family: 'Open Sans', verdana, arial, sans-serif; font-size: 14px; fill: rgb(36, 36, 36); opacity: 1; font-weight: normal; white-space: pre;\">Time (us)</text></g><g class=\"g-ytitle\"><text class=\"ytitle\" transform=\"rotate(-90,19.809375000000003,260)\" x=\"19.809375000000003\" y=\"260\" text-anchor=\"middle\" style=\"font-family: 'Open Sans', verdana, arial, sans-serif; font-size: 14px; fill: rgb(36, 36, 36); opacity: 1; font-weight: normal; white-space: pre;\">Frequency (GHz)</text></g></g></svg>"
      ],
      "text/plain": [
       "<IPython.core.display.SVG object>"
      ]
     },
     "metadata": {},
     "output_type": "display_data"
    }
   ],
   "source": [
    "import plotly.graph_objs as go\n",
    "from IPython.display import SVG, display\n",
    "\n",
    "fig = go.Figure()\n",
    "\n",
    "fig.add_trace(go.Scatter(\n",
    "    x=np.linspace(0, 80e-6, 100)*1e6,\n",
    "    y=freq_nonlinear/1e9,\n",
    "    name='Non-linear chirp',\n",
    "))\n",
    "\n",
    "fig.add_trace(go.Scatter(\n",
    "    x=np.array([0, 80e-6])*1e6,\n",
    "    y=np.array([24.125e9-50e6, 24.125e9+50e6])/1e9,\n",
    "    name='Linear chirp',\n",
    "))\n",
    "\n",
    "fig.update_layout(\n",
    "    template=\"seaborn\",\n",
    "    yaxis=dict(tickformat='.2f', title='Frequency (GHz)'),\n",
    "    xaxis=dict(tickformat='.2f', title='Time (us)'),\n",
    ")\n",
    "\n",
    "# fig.show()\n",
    "# fig.write_image('arb_wavefrom.svg', height=400, width=600)\n",
    "display(SVG(fig.to_image(format='svg', scale=1)))"
   ]
  },
  {
   "attachments": {},
   "cell_type": "markdown",
   "metadata": {},
   "source": [
    "### Transmitter\n",
    "\n",
    "Setup the basic transmitter parameters through `Transmitter` module.\n",
    "\n",
    "For comparison, we created a linear chirp transmitter and a non-linear chirp transmitter.\n"
   ]
  },
  {
   "cell_type": "code",
   "execution_count": 4,
   "metadata": {},
   "outputs": [],
   "source": [
    "from radarsimpy import Radar, Transmitter, Receiver\n",
    "\n",
    "tx_channel = dict(\n",
    "    location=(0, 0, 0),\n",
    ")\n",
    "\n",
    "tx_nonlinear = Transmitter(f=freq_nonlinear,\n",
    "                           t=np.linspace(0, 80e-6, 100),\n",
    "                           tx_power=60,\n",
    "                           prp=100e-6,\n",
    "                           pulses=1,\n",
    "                           channels=[tx_channel])\n",
    "\n",
    "tx_linear = Transmitter(f=[24.125e9-50e6, 24.125e9+50e6],\n",
    "                        t=[0, 80e-6],\n",
    "                        tx_power=60,\n",
    "                        prp=100e-6,\n",
    "                        pulses=1,\n",
    "                        channels=[tx_channel])"
   ]
  },
  {
   "attachments": {},
   "cell_type": "markdown",
   "metadata": {},
   "source": [
    "### Receiver\n",
    "\n",
    "Setup the receiver parameters through `Receiver` module.\n",
    "\n",
    "The parameters of the receiver are listed in the table below.\n",
    "\n",
    "| Parameter                        | Variable in `Receiver` | Value        |\n",
    "| -------------------------------- | ---------------------- | ------------ |\n",
    "| Sampling rate ($f_s$)            | `fs`                   | 2 Msps       |\n",
    "| Noise figure ($NF$)              | `noise_figure`         | 12 dB        |\n",
    "| RF gain/loss ($G_{rf}$)          | `rf_gain`              | 20 dB        |\n",
    "| Load resistor ($R_L$)            | `load_resistor`        | 500 $\\Omega$ |\n",
    "| Baseband voltage gain ($G_{BB}$) | `baseband_gain`        | 30 dB        |\n"
   ]
  },
  {
   "cell_type": "code",
   "execution_count": 5,
   "metadata": {},
   "outputs": [],
   "source": [
    "rx_channel = dict(\n",
    "    location=(0, 0, 0),\n",
    ")\n",
    "\n",
    "rx = Receiver(fs=2e6,\n",
    "              noise_figure=12,\n",
    "              rf_gain=20,\n",
    "              load_resistor=500,\n",
    "              baseband_gain=30,\n",
    "              channels=[rx_channel])"
   ]
  },
  {
   "attachments": {},
   "cell_type": "markdown",
   "metadata": {},
   "source": [
    "Create the FMCW radar model based on all the parameters defined above.\n"
   ]
  },
  {
   "cell_type": "code",
   "execution_count": 6,
   "metadata": {},
   "outputs": [],
   "source": [
    "radar_nonlinear = Radar(transmitter=tx_nonlinear, receiver=rx)\n",
    "radar_linear = Radar(transmitter=tx_linear, receiver=rx)"
   ]
  },
  {
   "attachments": {},
   "cell_type": "markdown",
   "metadata": {},
   "source": [
    "### Targets\n",
    "\n",
    "The propertities of targets are defined here. There are 3 targets in this simulation. The locations of the targets are defined through $(x, y, z)$ coordinates in meters, and the speeds of the targets are defined trough $(v_x, v_y, v_z)$ in $m/s$. The propertites of the targets also includes radar cross-section (RCS (dBsm)) and phase (degree).\n"
   ]
  },
  {
   "cell_type": "code",
   "execution_count": 7,
   "metadata": {},
   "outputs": [],
   "source": [
    "target_1 = dict(location=(200, 0, 0), speed=(-5, 0, 0), rcs=30, phase=0)\n",
    "target_2 = dict(location=(95, 20, 0), speed=(-50, 0, 0), rcs=25, phase=0)\n",
    "target_3 = dict(location=(30, -5, 0), speed=(-22, 0, 0), rcs=15, phase=0)\n",
    "\n",
    "targets = [target_1, target_2, target_3]"
   ]
  },
  {
   "attachments": {},
   "cell_type": "markdown",
   "metadata": {},
   "source": [
    "## Simulate Baseband Signals\n",
    "\n",
    "Use the `simulator` module to simulate the baseband samples. The user can choose between Python engine `simpy` or C++ engine `simc`.\n",
    "\n",
    "The output baseband data is a 3-D matrix:\n",
    "\n",
    "$[channels, pulses, ADC~samples]$\n",
    "\n",
    "#### Simulate with C++ engine\n"
   ]
  },
  {
   "cell_type": "code",
   "execution_count": 8,
   "metadata": {},
   "outputs": [],
   "source": [
    "from radarsimpy.simulator import simc\n",
    "\n",
    "data_nonlinear = simc(radar_nonlinear, targets, noise=True)\n",
    "time_matrix_nonlinear = data_nonlinear['timestamp']\n",
    "data_matrix_nonlinear = data_nonlinear['baseband']\n",
    "\n",
    "data_linear = simc(radar_linear, targets, noise=True)\n",
    "time_matrix_linear = data_linear['timestamp']\n",
    "data_matrix_linear = data_linear['baseband']"
   ]
  },
  {
   "attachments": {},
   "cell_type": "markdown",
   "metadata": {},
   "source": [
    "## Radar Signal Processing\n",
    "\n",
    "### Range profile\n"
   ]
  },
  {
   "cell_type": "code",
   "execution_count": 10,
   "metadata": {},
   "outputs": [],
   "source": [
    "from scipy import signal\n",
    "import radarsimpy.processing as proc\n",
    "\n",
    "range_window = signal.chebwin(radar_linear.samples_per_pulse, at=60)\n",
    "\n",
    "range_profile_nonlinear = proc.range_fft(\n",
    "    data_matrix_nonlinear[:, :, :], range_window)\n",
    "range_profile_linear = proc.range_fft(\n",
    "    data_matrix_linear[:, :, :], range_window)"
   ]
  },
  {
   "attachments": {},
   "cell_type": "markdown",
   "metadata": {},
   "source": [
    "Plot the range profile\n"
   ]
  },
  {
   "cell_type": "code",
   "execution_count": 11,
   "metadata": {},
   "outputs": [
    {
     "data": {
      "image/svg+xml": [
       "<svg xmlns=\"http://www.w3.org/2000/svg\" xmlns:xlink=\"http://www.w3.org/1999/xlink\" class=\"main-svg\" width=\"700\" height=\"500\" style=\"\" viewBox=\"0 0 700 500\"><rect x=\"0\" y=\"0\" width=\"700\" height=\"500\" style=\"fill: rgb(255, 255, 255); fill-opacity: 1;\"/><defs id=\"defs-dbd944\"><g class=\"clips\"><clipPath id=\"clipdbd944xyplot\" class=\"plotclip\"><rect width=\"462\" height=\"320\"/></clipPath><clipPath class=\"axesclip\" id=\"clipdbd944x\"><rect x=\"80\" y=\"0\" width=\"462\" height=\"500\"/></clipPath><clipPath class=\"axesclip\" id=\"clipdbd944y\"><rect x=\"0\" y=\"100\" width=\"700\" height=\"320\"/></clipPath><clipPath class=\"axesclip\" id=\"clipdbd944xy\"><rect x=\"80\" y=\"100\" width=\"462\" height=\"320\"/></clipPath></g><g class=\"gradients\"/><g class=\"patterns\"/></defs><g class=\"bglayer\"><rect class=\"bg\" x=\"80\" y=\"100\" width=\"462\" height=\"320\" style=\"fill: rgb(234, 234, 242); fill-opacity: 1; stroke-width: 0;\"/></g><g class=\"layer-below\"><g class=\"imagelayer\"/><g class=\"shapelayer\"/></g><g class=\"cartesianlayer\"><g class=\"subplot xy\"><g class=\"layer-subplot\"><g class=\"shapelayer\"/><g class=\"imagelayer\"/></g><g class=\"minor-gridlayer\"><g class=\"x\"/><g class=\"y\"/></g><g class=\"gridlayer\"><g class=\"x\"><path class=\"xgrid crisp\" transform=\"translate(176.86,0)\" d=\"M0,100v320\" style=\"stroke: rgb(255, 255, 255); stroke-opacity: 1; stroke-width: 1px;\"/><path class=\"xgrid crisp\" transform=\"translate(273.71000000000004,0)\" d=\"M0,100v320\" style=\"stroke: rgb(255, 255, 255); stroke-opacity: 1; stroke-width: 1px;\"/><path class=\"xgrid crisp\" transform=\"translate(370.57,0)\" d=\"M0,100v320\" style=\"stroke: rgb(255, 255, 255); stroke-opacity: 1; stroke-width: 1px;\"/><path class=\"xgrid crisp\" transform=\"translate(467.42,0)\" d=\"M0,100v320\" style=\"stroke: rgb(255, 255, 255); stroke-opacity: 1; stroke-width: 1px;\"/></g><g class=\"y\"><path class=\"ygrid crisp\" transform=\"translate(0,396.89)\" d=\"M80,0h462\" style=\"stroke: rgb(255, 255, 255); stroke-opacity: 1; stroke-width: 1px;\"/><path class=\"ygrid crisp\" transform=\"translate(0,335.99)\" d=\"M80,0h462\" style=\"stroke: rgb(255, 255, 255); stroke-opacity: 1; stroke-width: 1px;\"/><path class=\"ygrid crisp\" transform=\"translate(0,275.09000000000003)\" d=\"M80,0h462\" style=\"stroke: rgb(255, 255, 255); stroke-opacity: 1; stroke-width: 1px;\"/><path class=\"ygrid crisp\" transform=\"translate(0,153.3)\" d=\"M80,0h462\" style=\"stroke: rgb(255, 255, 255); stroke-opacity: 1; stroke-width: 1px;\"/></g></g><g class=\"zerolinelayer\"><path class=\"xzl zl crisp\" transform=\"translate(80,0)\" d=\"M0,100v320\" style=\"stroke: rgb(255, 255, 255); stroke-opacity: 1; stroke-width: 1px;\"/><path class=\"yzl zl crisp\" transform=\"translate(0,214.19)\" d=\"M80,0h462\" style=\"stroke: rgb(255, 255, 255); stroke-opacity: 1; stroke-width: 1px;\"/></g><path class=\"xlines-below\"/><path class=\"ylines-below\"/><g class=\"overlines-below\"/><g class=\"xaxislayer-below\"/><g class=\"yaxislayer-below\"/><g class=\"overaxes-below\"/><g class=\"plot\" transform=\"translate(80,100)\" clip-path=\"url(#clipdbd944xyplot)\"><g class=\"scatterlayer mlayer\"><g class=\"trace scatter tracef1ba17\" style=\"stroke-miterlimit: 2; opacity: 1;\"><g class=\"fills\"/><g class=\"errorbars\"/><g class=\"lines\"><path class=\"js-line\" d=\"M0,197.03L5.81,218.8L8.72,214.03L11.62,204.1L14.53,200.94L17.43,194.09L20.34,243.38L23.25,266.84L26.15,202.71L29.06,193.22L31.96,198.63L34.87,203.59L37.77,198.34L40.68,186.98L43.58,193.78L46.49,159.48L49.4,113.68L55.21,31.99L58.11,18.24L61.02,30.73L63.92,65.07L69.74,164.4L72.64,171.93L75.55,207.15L78.45,214.99L81.36,200.53L84.26,214.44L87.17,261.5L90.08,231.96L92.98,213.78L95.89,233L98.79,232.29L101.7,193.29L104.6,213.29L107.51,215.53L110.42,191L113.32,223.24L116.23,226.66L119.13,192.03L122.04,209.08L124.94,214.16L127.85,200.7L130.75,191.52L133.66,221.86L136.57,214.71L139.47,193.8L142.38,234.74L145.28,230.02L148.19,203.63L151.09,205.93L154,192.78L156.91,198.74L159.81,193.5L162.72,197.58L165.62,171.83L168.53,160.65L171.43,135.95L177.25,88.57L180.15,72.88L183.06,63.16L185.96,59.2L188.87,60.79L191.77,68.02L194.68,81.56L197.58,100.34L203.4,149.04L206.3,177.92L209.21,194.25L212.11,195.49L215.02,204.2L217.92,234.54L220.83,205.5L223.74,235.68L226.64,183.91L229.55,195.1L232.45,190.21L235.36,214.18L238.26,200L241.17,203.33L244.08,205.78L246.98,222L249.89,248.66L252.79,213.21L255.7,204.7L258.6,225.49L261.51,214.63L264.42,228.88L267.32,196.71L270.23,207.73L273.13,196.09L276.04,193.42L278.94,195.5L281.85,187.54L284.75,186.68L287.66,199.8L290.57,204.73L293.47,201.07L296.38,207.46L299.28,229.03L302.19,216.04L305.09,209.64L308,197.19L310.91,194.07L313.81,241.58L316.72,255.44L319.62,212.69L322.53,218.04L325.43,187.2L328.34,192.48L331.25,195.25L334.15,205.61L337.06,186.6L339.96,175.72L342.87,190.62L345.77,226.83L348.68,202.12L351.58,206.72L354.49,237.1L357.4,171.73L360.3,173.97L363.21,147.63L369.02,124.92L371.92,114.5L374.83,106.35L377.74,100.62L380.64,96L383.55,92.81L386.45,91.67L389.36,91.79L392.26,92.54L395.17,95.13L400.98,104.8L403.89,112.73L412.6,145.99L415.51,163.49L418.42,163.95L421.32,210.5L424.23,177.11L427.13,204.21L430.04,193.05L432.94,191.94L435.85,204.82L438.75,187.74L441.66,192.82L444.57,217.8L447.47,211.26L450.38,197.35L453.28,205.91L456.19,208.9L459.09,199.66L462,203.96\" style=\"vector-effect: none; fill: none; stroke: rgb(76, 114, 176); stroke-opacity: 1; stroke-width: 2px; opacity: 1;\"/></g><g class=\"points\"/><g class=\"text\"/></g><g class=\"trace scatter trace51f65d\" style=\"stroke-miterlimit: 2; opacity: 1;\"><g class=\"fills\"/><g class=\"errorbars\"/><g class=\"lines\"><path class=\"js-line\" d=\"M0,219.44L2.91,304L5.81,193.32L8.72,191.9L11.62,204.88L14.53,192.05L17.43,217.13L20.34,193.11L23.25,198.45L26.15,193.3L29.06,196.65L31.96,200.65L34.87,201.36L37.77,187.07L40.68,203.79L43.58,204.82L46.49,216.93L49.4,176.37L52.3,102.78L55.21,34.05L58.11,16L61.02,33.39L63.92,100.98L66.83,178.79L69.74,228.07L72.64,193.2L75.55,215.02L78.45,206.26L81.36,207.95L84.26,196.58L87.17,204.02L90.08,199.83L92.98,191.04L95.89,200.59L98.79,197.14L101.7,192.11L104.6,204.56L107.51,193.43L110.42,195.72L113.32,210.26L116.23,197.31L122.04,212.47L124.94,202.88L127.85,233.32L130.75,184.05L133.66,200L136.57,184.51L139.47,225.72L142.38,218.41L145.28,205.71L148.19,220.62L151.09,183.97L154,213.78L156.91,215.29L159.81,253.06L162.72,199.42L165.62,188.14L168.53,209.31L171.43,214.6L174.34,198.66L177.25,203.03L180.15,148.84L183.06,69.85L185.96,47.29L188.87,59.96L191.77,119.04L194.68,224.43L197.58,186.22L200.49,220.14L203.4,207.32L206.3,217.24L209.21,190.76L212.11,217.28L215.02,195.73L217.92,210.03L220.83,210.43L223.74,206.98L226.64,220.07L229.55,192.72L232.45,209.22L235.36,218L238.26,197.84L241.17,218.53L244.08,196.35L246.98,192.77L252.79,219.95L255.7,204.55L258.6,204.37L261.51,208.24L264.42,207.44L267.32,189.46L270.23,203.41L273.13,228.38L276.04,239.17L278.94,212.31L281.85,212.14L284.75,221.43L287.66,203.49L290.57,204.24L293.47,188.98L296.38,189.67L299.28,187.54L302.19,202.3L305.09,210.4L308,214.59L310.91,230.67L313.81,195.18L319.62,228.8L322.53,240.72L325.43,209.69L328.34,212.47L331.25,206.86L334.15,218.5L337.06,193.48L339.96,209.65L342.87,189.42L345.77,219.23L348.68,206.45L351.58,197.42L354.49,204.54L357.4,238.58L360.3,209.72L363.21,204.71L366.11,192.66L369.02,200.15L371.92,191.27L374.83,209.28L377.74,199.25L380.64,215.04L383.55,105L386.45,72.31L389.36,76.72L392.26,121.7L395.17,196.91L398.08,179.06L400.98,182.29L403.89,212.08L406.79,191.07L409.7,220.72L412.6,203.73L415.51,218.95L418.42,223.63L421.32,189.19L424.23,214.85L427.13,210.47L430.04,198.78L432.94,198.87L435.85,200.94L438.75,208.91L441.66,204.57L444.57,192.4L447.47,179.95L450.38,189.56L453.28,184.87L456.19,214.76L459.09,187.7L462,188.84\" style=\"vector-effect: none; fill: none; stroke: rgb(221, 132, 82); stroke-opacity: 1; stroke-width: 2px; opacity: 1;\"/></g><g class=\"points\"/><g class=\"text\"/></g></g></g><g class=\"overplot\"/><path class=\"xlines-above crisp\" d=\"M0,0\" style=\"fill: none;\"/><path class=\"ylines-above crisp\" d=\"M0,0\" style=\"fill: none;\"/><g class=\"overlines-above\"/><g class=\"xaxislayer-above\"><g class=\"xtick\"><text text-anchor=\"middle\" x=\"0\" y=\"433\" transform=\"translate(80,0)\" style=\"font-family: 'Open Sans', verdana, arial, sans-serif; font-size: 12px; fill: rgb(36, 36, 36); fill-opacity: 1; white-space: pre; opacity: 1;\">0</text></g><g class=\"xtick\"><text text-anchor=\"middle\" x=\"0\" y=\"433\" style=\"font-family: 'Open Sans', verdana, arial, sans-serif; font-size: 12px; fill: rgb(36, 36, 36); fill-opacity: 1; white-space: pre; opacity: 1;\" transform=\"translate(176.86,0)\">50</text></g><g class=\"xtick\"><text text-anchor=\"middle\" x=\"0\" y=\"433\" style=\"font-family: 'Open Sans', verdana, arial, sans-serif; font-size: 12px; fill: rgb(36, 36, 36); fill-opacity: 1; white-space: pre; opacity: 1;\" transform=\"translate(273.71000000000004,0)\">100</text></g><g class=\"xtick\"><text text-anchor=\"middle\" x=\"0\" y=\"433\" style=\"font-family: 'Open Sans', verdana, arial, sans-serif; font-size: 12px; fill: rgb(36, 36, 36); fill-opacity: 1; white-space: pre; opacity: 1;\" transform=\"translate(370.57,0)\">150</text></g><g class=\"xtick\"><text text-anchor=\"middle\" x=\"0\" y=\"433\" style=\"font-family: 'Open Sans', verdana, arial, sans-serif; font-size: 12px; fill: rgb(36, 36, 36); fill-opacity: 1; white-space: pre; opacity: 1;\" transform=\"translate(467.42,0)\">200</text></g></g><g class=\"yaxislayer-above\"><g class=\"ytick\"><text text-anchor=\"end\" x=\"79\" y=\"4.199999999999999\" transform=\"translate(0,396.89)\" style=\"font-family: 'Open Sans', verdana, arial, sans-serif; font-size: 12px; fill: rgb(36, 36, 36); fill-opacity: 1; white-space: pre; opacity: 1;\">−60</text></g><g class=\"ytick\"><text text-anchor=\"end\" x=\"79\" y=\"4.199999999999999\" style=\"font-family: 'Open Sans', verdana, arial, sans-serif; font-size: 12px; fill: rgb(36, 36, 36); fill-opacity: 1; white-space: pre; opacity: 1;\" transform=\"translate(0,335.99)\">−40</text></g><g class=\"ytick\"><text text-anchor=\"end\" x=\"79\" y=\"4.199999999999999\" style=\"font-family: 'Open Sans', verdana, arial, sans-serif; font-size: 12px; fill: rgb(36, 36, 36); fill-opacity: 1; white-space: pre; opacity: 1;\" transform=\"translate(0,275.09000000000003)\">−20</text></g><g class=\"ytick\"><text text-anchor=\"end\" x=\"79\" y=\"4.199999999999999\" style=\"font-family: 'Open Sans', verdana, arial, sans-serif; font-size: 12px; fill: rgb(36, 36, 36); fill-opacity: 1; white-space: pre; opacity: 1;\" transform=\"translate(0,214.19)\">0</text></g><g class=\"ytick\"><text text-anchor=\"end\" x=\"79\" y=\"4.199999999999999\" style=\"font-family: 'Open Sans', verdana, arial, sans-serif; font-size: 12px; fill: rgb(36, 36, 36); fill-opacity: 1; white-space: pre; opacity: 1;\" transform=\"translate(0,153.3)\">20</text></g></g><g class=\"overaxes-above\"/></g></g><g class=\"polarlayer\"/><g class=\"smithlayer\"/><g class=\"ternarylayer\"/><g class=\"geolayer\"/><g class=\"funnelarealayer\"/><g class=\"pielayer\"/><g class=\"iciclelayer\"/><g class=\"treemaplayer\"/><g class=\"sunburstlayer\"/><g class=\"glimages\"/><defs id=\"topdefs-dbd944\"><g class=\"clips\"/><clipPath id=\"legenddbd944\"><rect width=\"137\" height=\"48\" x=\"0\" y=\"0\"/></clipPath></defs><g class=\"layer-above\"><g class=\"imagelayer\"/><g class=\"shapelayer\"/></g><g class=\"infolayer\"><g class=\"legend\" pointer-events=\"all\" transform=\"translate(551.24,100)\"><rect class=\"bg\" shape-rendering=\"crispEdges\" style=\"stroke: rgb(68, 68, 68); stroke-opacity: 1; fill: rgb(255, 255, 255); fill-opacity: 1; stroke-width: 0px;\" width=\"137\" height=\"48\" x=\"0\" y=\"0\"/><g class=\"scrollbox\" transform=\"\" clip-path=\"url(#legenddbd944)\"><g class=\"groups\"><g class=\"traces\" transform=\"translate(0,14.5)\" style=\"opacity: 1;\"><text class=\"legendtext\" text-anchor=\"start\" x=\"40\" y=\"4.680000000000001\" style=\"font-family: 'Open Sans', verdana, arial, sans-serif; font-size: 12px; fill: rgb(36, 36, 36); fill-opacity: 1; white-space: pre;\">Nonlinear chirp</text><g class=\"layers\" style=\"opacity: 1;\"><g class=\"legendfill\"/><g class=\"legendlines\"><path class=\"js-line\" d=\"M5,0h30\" style=\"fill: none; stroke: rgb(76, 114, 176); stroke-opacity: 1; stroke-width: 2px;\"/></g><g class=\"legendsymbols\"><g class=\"legendpoints\"/></g></g><rect class=\"legendtoggle\" x=\"0\" y=\"-9.5\" width=\"131.46875\" height=\"19\" style=\"fill: rgb(0, 0, 0); fill-opacity: 0;\"/></g><g class=\"traces\" transform=\"translate(0,33.5)\" style=\"opacity: 1;\"><text class=\"legendtext\" text-anchor=\"start\" x=\"40\" y=\"4.680000000000001\" style=\"font-family: 'Open Sans', verdana, arial, sans-serif; font-size: 12px; fill: rgb(36, 36, 36); fill-opacity: 1; white-space: pre;\">Lineaer chirp</text><g class=\"layers\" style=\"opacity: 1;\"><g class=\"legendfill\"/><g class=\"legendlines\"><path class=\"js-line\" d=\"M5,0h30\" style=\"fill: none; stroke: rgb(221, 132, 82); stroke-opacity: 1; stroke-width: 2px;\"/></g><g class=\"legendsymbols\"><g class=\"legendpoints\"/></g></g><rect class=\"legendtoggle\" x=\"0\" y=\"-9.5\" width=\"131.46875\" height=\"19\" style=\"fill: rgb(0, 0, 0); fill-opacity: 0;\"/></g></g></g><rect class=\"scrollbar\" rx=\"20\" ry=\"3\" width=\"0\" height=\"0\" style=\"fill: rgb(128, 139, 164); fill-opacity: 1;\" x=\"0\" y=\"0\"/></g><g class=\"g-gtitle\"/><g class=\"g-xtitle\"><text class=\"xtitle\" x=\"311\" y=\"460.3\" text-anchor=\"middle\" style=\"font-family: 'Open Sans', verdana, arial, sans-serif; font-size: 14px; fill: rgb(36, 36, 36); opacity: 1; font-weight: normal; white-space: pre;\">Range (m)</text></g><g class=\"g-ytitle\"><text class=\"ytitle\" transform=\"rotate(-90,29.621875000000003,260)\" x=\"29.621875000000003\" y=\"260\" text-anchor=\"middle\" style=\"font-family: 'Open Sans', verdana, arial, sans-serif; font-size: 14px; fill: rgb(36, 36, 36); opacity: 1; font-weight: normal; white-space: pre;\">Amplitude (dB)</text></g></g></svg>"
      ],
      "text/plain": [
       "<IPython.core.display.SVG object>"
      ]
     },
     "metadata": {},
     "output_type": "display_data"
    }
   ],
   "source": [
    "max_range = (3e8 * radar_linear.receiver.fs *\n",
    "             radar_linear.transmitter.pulse_length /\n",
    "             radar_linear.transmitter.bandwidth / 2)\n",
    "\n",
    "range_axis = np.linspace(\n",
    "    0, max_range, radar_linear.samples_per_pulse, endpoint=False)\n",
    "\n",
    "fig = go.Figure()\n",
    "\n",
    "fig.add_trace(go.Scatter(\n",
    "    x=range_axis,\n",
    "    y=20 * np.log10(np.abs(range_profile_nonlinear[0, 0, :])),\n",
    "    name='Nonlinear chirp',\n",
    "))\n",
    "\n",
    "fig.add_trace(go.Scatter(\n",
    "    x=range_axis,\n",
    "    y=20 * np.log10(np.abs(range_profile_linear[0, 0, :])),\n",
    "    name='Lineaer chirp',\n",
    "))\n",
    "\n",
    "fig.update_layout(\n",
    "    template=\"seaborn\",\n",
    "    yaxis=dict(title='Amplitude (dB)'),\n",
    "    xaxis=dict(title='Range (m)'),\n",
    ")\n",
    "\n",
    "# fig.show()\n",
    "display(SVG(fig.to_image(format='svg', scale=1)))"
   ]
  }
 ],
 "metadata": {
  "file_extension": ".py",
  "kernelspec": {
   "display_name": "Python 3 (ipykernel)",
   "language": "python",
   "name": "python3"
  },
  "language_info": {
   "codemirror_mode": {
    "name": "ipython",
    "version": 3
   },
   "file_extension": ".py",
   "mimetype": "text/x-python",
   "name": "python",
   "nbconvert_exporter": "python",
   "pygments_lexer": "ipython3",
   "version": "3.11.4"
  },
  "mimetype": "text/x-python",
  "name": "python",
  "npconvert_exporter": "python",
  "pygments_lexer": "ipython3",
  "toc": {
   "base_numbering": 1,
   "nav_menu": {},
   "number_sections": true,
   "sideBar": true,
   "skip_h1_title": false,
   "title_cell": "Table of Contents",
   "title_sidebar": "Contents",
   "toc_cell": false,
   "toc_position": {},
   "toc_section_display": true,
   "toc_window_display": false
  },
  "varInspector": {
   "cols": {
    "lenName": 16,
    "lenType": 16,
    "lenVar": 40
   },
   "kernels_config": {
    "python": {
     "delete_cmd_postfix": "",
     "delete_cmd_prefix": "del ",
     "library": "var_list.py",
     "varRefreshCmd": "print(var_dic_list())"
    },
    "r": {
     "delete_cmd_postfix": ") ",
     "delete_cmd_prefix": "rm(",
     "library": "var_list.r",
     "varRefreshCmd": "cat(var_dic_list()) "
    }
   },
   "types_to_exclude": [
    "module",
    "function",
    "builtin_function_or_method",
    "instance",
    "_Feature"
   ],
   "window_display": false
  },
  "version": 3,
  "vscode": {
   "interpreter": {
    "hash": "93f700c1059b32d83d5a3c18a32630ee13b0a3dbf4faa4d0f71952c4a11b4154"
   }
  }
 },
 "nbformat": 4,
 "nbformat_minor": 4
}
