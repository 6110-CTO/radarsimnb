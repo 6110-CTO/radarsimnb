{
 "cells": [
  {
   "cell_type": "code",
   "execution_count": null,
   "metadata": {},
   "outputs": [
    {
     "data": {
      "text/plain": [
       "'11.1.0'"
      ]
     },
     "execution_count": 1,
     "metadata": {},
     "output_type": "execute_result"
    }
   ],
   "source": [
    "import radarsimpy\n",
    "print('`RadarSimPy` used in this example is version: ' +\n",
    "      str(radarsimpy.__version__))\n"
   ]
  },
  {
   "attachments": {},
   "cell_type": "markdown",
   "metadata": {},
   "source": [
    "# Multi-Path Effect\n",
    "\n",
    "[![Documentations](https://img.shields.io/github/v/tag/radarsimx/radarsimpy?label=Documentation&logo=read-the-docs)](https://radarsimx.github.io/radarsimpy/)\n",
    "[![Download](https://img.shields.io/github/v/tag/radarsimx/radarsimpy?label=Download&logo=python)](https://radarsimx.com/product/radarsimpy/)\n",
    "\n",
    "## Introduction\n",
    "\n",
    "Multipath effect in radar is a phenomenon where radar signals take multiple paths to reach the target and return to the receiver. This can occur when signals are reflected, scattered, or refracted by various objects or surfaces in the environment, resulting in multiple delayed echoes reaching the radar receiver. The multipath effect can have significant implications on radar performance and accuracy. Here's a brief introduction to this concept:\n",
    "\n",
    "**1. Reflection and Scattering:** When radar signals encounter surfaces or objects, they can be reflected or scattered in different directions. Some of these reflected signals may return to the radar receiver, causing the radar to receive multiple echoes from different paths.\n",
    "\n",
    "**2. Delayed Echoes:** Each path the signal takes introduces a time delay in the received signal. These time delays can vary based on the length of each path, leading to differences in the time it takes for the radar signal to return. As a result, the radar receives multiple echoes at different times.\n",
    "\n",
    "**3. Signal Distortion:** Multipath effect can distort the received radar signal, making it challenging to accurately interpret and locate the target. The radar may perceive the target to be at a different location or with altered characteristics due to these multiple echoes.\n",
    "\n",
    "**4. Mitigation Techniques:** Radar systems employ various techniques to mitigate the multipath effect. These include advanced signal processing algorithms, antenna design, and the use of multiple antennas to improve signal discrimination and reject unwanted echoes.\n",
    "\n",
    "**5. Impact on Accuracy:** Understanding and compensating for the multipath effect is crucial for maintaining radar accuracy, especially in environments with reflective surfaces, clutter, or complex terrain. Failure to account for multipath can lead to false detections or reduced target tracking precision.\n",
    "\n",
    "In summary, the multipath effect in radar occurs when signals take multiple paths to reach the target and return to the receiver due to reflections and scattering. It introduces time delays and signal distortion, which can affect radar accuracy. Radar systems employ various techniques to mitigate this effect and ensure reliable target detection and tracking."
   ]
  },
  {
   "cell_type": "code",
   "execution_count": 2,
   "metadata": {},
   "outputs": [],
   "source": [
    "import numpy as np\n",
    "from radarsimpy import Radar, Transmitter, Receiver\n",
    "\n",
    "tx_channel = dict(\n",
    "    location=(0, 0, 0),\n",
    ")\n",
    "\n",
    "tx = Transmitter(f=[76.5e9-80e6, 76.5e9+80e6],\n",
    "                 t=20e-6,\n",
    "                 tx_power=15,\n",
    "                 prp=100e-6,\n",
    "                 pulses=1,\n",
    "                 channels=[tx_channel])\n",
    "\n",
    "\n",
    "rx_channel = dict(\n",
    "    location=(0, 0, 0),\n",
    ")\n",
    "\n",
    "rx = Receiver(fs=20e6,\n",
    "              noise_figure=8,\n",
    "              rf_gain=20,\n",
    "              load_resistor=1000,\n",
    "              baseband_gain=80,\n",
    "              channels=[rx_channel])\n",
    "\n",
    "radar = Radar(transmitter=tx, receiver=rx, time=np.arange(0, 290, 1))\n"
   ]
  },
  {
   "cell_type": "markdown",
   "metadata": {},
   "source": [
    "## Case 1: A corner reflector with ground surface"
   ]
  },
  {
   "cell_type": "code",
   "execution_count": 3,
   "metadata": {},
   "outputs": [
    {
     "name": "stdout",
     "output_type": "stream",
     "text": [
      "Exec time: 5.730456352233887 s\n"
     ]
    }
   ],
   "source": [
    "from radarsimpy.rt import scene\n",
    "from scipy import signal\n",
    "import radarsimpy.processing as proc\n",
    "import time\n",
    "\n",
    "\n",
    "target_1 = {\n",
    "    'model': '../models/cr.stl',\n",
    "    'location': (300, 0, 0),\n",
    "    'speed': (-1, 0, 0)\n",
    "}\n",
    "\n",
    "target_2 = {\n",
    "    'model': '../models/surface_400x400.stl',\n",
    "    'location': (0, 0, -0.5),\n",
    "    'speed': (0, 0, 0),\n",
    "    'permittivity': 3.2+0.1j,\n",
    "    'is_ground': True\n",
    "}\n",
    "targets = [target_1, target_2]\n",
    "\n",
    "tic = time.time()\n",
    "data = scene(radar, targets, density=0.5, noise=False)\n",
    "baseband = data['baseband']\n",
    "\n",
    "range_window = signal.chebwin(radar.samples_per_pulse, at=60)\n",
    "range_profile = proc.range_fft(baseband, range_window)\n",
    "\n",
    "amp_multi = np.max(20*np.log10(np.abs(range_profile)), axis=2)\n",
    "toc = time.time()\n",
    "print('Exec time:', toc-tic, 's')\n"
   ]
  },
  {
   "cell_type": "markdown",
   "metadata": {},
   "source": [
    "## Case 2: A corner reflector without ground surface"
   ]
  },
  {
   "cell_type": "code",
   "execution_count": 4,
   "metadata": {
    "scrolled": true
   },
   "outputs": [],
   "source": [
    "target_1 = {\n",
    "    'model': '../models/cr.stl',\n",
    "    'location': (300, 0, 0),\n",
    "    'speed': (-1, 0, 0)\n",
    "}\n",
    "\n",
    "targets = [target_1]\n",
    "\n",
    "data = scene(radar, targets, density=0.5, noise=False)\n",
    "baseband = data['baseband']\n",
    "\n",
    "range_window = signal.chebwin(radar.samples_per_pulse, at=60)\n",
    "range_profile = proc.range_fft(baseband, range_window)\n",
    "\n",
    "amp_single = np.max(20*np.log10(np.abs(range_profile)), axis=2)\n"
   ]
  },
  {
   "cell_type": "markdown",
   "metadata": {},
   "source": [
    "## Results\n",
    "\n",
    "Duo to the multi-path:\n",
    "- Path 1: Tx -> Corner reflecor -> Rx\n",
    "- Path 2: Tx -> Ground -> Corner reflecor -> Ground -> Rx\n",
    "\n",
    "A fluctuation can be observed from the received target amplitude versus the target range. "
   ]
  },
  {
   "cell_type": "code",
   "execution_count": 5,
   "metadata": {},
   "outputs": [
    {
     "data": {
      "image/svg+xml": [
       "<svg xmlns=\"http://www.w3.org/2000/svg\" xmlns:xlink=\"http://www.w3.org/1999/xlink\" class=\"main-svg\" width=\"700\" height=\"500\" style=\"\" viewBox=\"0 0 700 500\"><rect x=\"0\" y=\"0\" width=\"700\" height=\"500\" style=\"fill: rgb(255, 255, 255); fill-opacity: 1;\"/><defs id=\"defs-8ca7d1\"><g class=\"clips\"><clipPath id=\"clip8ca7d1xyplot\" class=\"plotclip\"><rect width=\"439\" height=\"320\"/></clipPath><clipPath class=\"axesclip\" id=\"clip8ca7d1x\"><rect x=\"80\" y=\"0\" width=\"439\" height=\"500\"/></clipPath><clipPath class=\"axesclip\" id=\"clip8ca7d1y\"><rect x=\"0\" y=\"100\" width=\"700\" height=\"320\"/></clipPath><clipPath class=\"axesclip\" id=\"clip8ca7d1xy\"><rect x=\"80\" y=\"100\" width=\"439\" height=\"320\"/></clipPath></g><g class=\"gradients\"/><g class=\"patterns\"/></defs><g class=\"bglayer\"><rect class=\"bg\" x=\"80\" y=\"100\" width=\"439\" height=\"320\" style=\"fill: rgb(229, 236, 246); fill-opacity: 1; stroke-width: 0;\"/></g><g class=\"layer-below\"><g class=\"imagelayer\"/><g class=\"shapelayer\"/></g><g class=\"cartesianlayer\"><g class=\"subplot xy\"><g class=\"layer-subplot\"><g class=\"shapelayer\"/><g class=\"imagelayer\"/></g><g class=\"minor-gridlayer\"><g class=\"x\"/><g class=\"y\"/></g><g class=\"gridlayer\"><g class=\"x\"><path class=\"xgrid crisp\" transform=\"translate(139.24,0)\" d=\"M0,100v320\" style=\"stroke: rgb(255, 255, 255); stroke-opacity: 1; stroke-width: 1px;\"/><path class=\"xgrid crisp\" transform=\"translate(215.19,0)\" d=\"M0,100v320\" style=\"stroke: rgb(255, 255, 255); stroke-opacity: 1; stroke-width: 1px;\"/><path class=\"xgrid crisp\" transform=\"translate(291.15,0)\" d=\"M0,100v320\" style=\"stroke: rgb(255, 255, 255); stroke-opacity: 1; stroke-width: 1px;\"/><path class=\"xgrid crisp\" transform=\"translate(367.1,0)\" d=\"M0,100v320\" style=\"stroke: rgb(255, 255, 255); stroke-opacity: 1; stroke-width: 1px;\"/><path class=\"xgrid crisp\" transform=\"translate(443.05,0)\" d=\"M0,100v320\" style=\"stroke: rgb(255, 255, 255); stroke-opacity: 1; stroke-width: 1px;\"/></g><g class=\"y\"><path class=\"ygrid crisp\" transform=\"translate(0,394.86)\" d=\"M80,0h439\" style=\"stroke: rgb(255, 255, 255); stroke-opacity: 1; stroke-width: 1px;\"/><path class=\"ygrid crisp\" transform=\"translate(0,359.25)\" d=\"M80,0h439\" style=\"stroke: rgb(255, 255, 255); stroke-opacity: 1; stroke-width: 1px;\"/><path class=\"ygrid crisp\" transform=\"translate(0,288.03)\" d=\"M80,0h439\" style=\"stroke: rgb(255, 255, 255); stroke-opacity: 1; stroke-width: 1px;\"/><path class=\"ygrid crisp\" transform=\"translate(0,252.42)\" d=\"M80,0h439\" style=\"stroke: rgb(255, 255, 255); stroke-opacity: 1; stroke-width: 1px;\"/><path class=\"ygrid crisp\" transform=\"translate(0,216.81)\" d=\"M80,0h439\" style=\"stroke: rgb(255, 255, 255); stroke-opacity: 1; stroke-width: 1px;\"/><path class=\"ygrid crisp\" transform=\"translate(0,181.20999999999998)\" d=\"M80,0h439\" style=\"stroke: rgb(255, 255, 255); stroke-opacity: 1; stroke-width: 1px;\"/><path class=\"ygrid crisp\" transform=\"translate(0,145.6)\" d=\"M80,0h439\" style=\"stroke: rgb(255, 255, 255); stroke-opacity: 1; stroke-width: 1px;\"/><path class=\"ygrid crisp\" transform=\"translate(0,109.99)\" d=\"M80,0h439\" style=\"stroke: rgb(255, 255, 255); stroke-opacity: 1; stroke-width: 1px;\"/></g></g><g class=\"zerolinelayer\"><path class=\"yzl zl crisp\" transform=\"translate(0,323.64)\" d=\"M80,0h439\" style=\"stroke: rgb(255, 255, 255); stroke-opacity: 1; stroke-width: 2px;\"/></g><path class=\"xlines-below\"/><path class=\"ylines-below\"/><g class=\"overlines-below\"/><g class=\"xaxislayer-below\"/><g class=\"yaxislayer-below\"/><g class=\"overaxes-below\"/><g class=\"plot\" transform=\"translate(80,100)\" clip-path=\"url(#clip8ca7d1xyplot)\"><g class=\"scatterlayer mlayer\"><g class=\"trace scatter trace1b528b\" style=\"stroke-miterlimit: 2; opacity: 1;\"><g class=\"fills\"/><g class=\"errorbars\"/><g class=\"lines\"><path class=\"js-line\" d=\"M439,239.01L435.96,238.24L434.44,237.69L432.92,236.07L431.4,236.04L428.37,235.97L426.85,237.1L423.81,238.59L422.29,238.38L419.25,234.22L417.73,232.82L416.21,231.77L414.7,231.72L407.1,229.26L405.58,229.51L401.02,232.47L399.51,231.92L396.47,227.99L394.95,226.7L393.43,225.76L391.91,225.77L384.31,223.96L382.8,224.32L381.28,224.91L379.76,226.42L378.24,227.65L376.72,226.78L373.68,223.11L372.16,221.94L370.64,221.14L369.12,221.23L361.53,220.18L360.01,220.69L358.49,221.43L356.97,223.07L355.45,224.47L353.93,223.31L349.38,219.02L347.86,218.4L341.78,218.85L340.26,218.1L335.71,220.32L334.19,222.15L332.67,223.51L331.15,222.41L326.59,219L325.07,218.68L323.55,218.53L322.03,219.37L319,220.32L317.48,219.84L312.92,223.52L311.4,225.76L309.88,226.98L308.36,226.42L306.84,225.91L305.33,224.35L300.77,225.83L299.25,227.44L296.21,229.82L294.69,231.5L291.65,235.35L290.13,238.08L287.1,243.56L285.58,245L284.06,246.79L282.54,246.13L279.5,256.65L277.98,261.18L276.46,265.95L274.94,276.95L271.91,302.73L270.39,304L268.87,279.22L267.35,268.48L264.31,260.51L262.79,251.92L261.27,244.04L259.75,240.62L258.24,230.72L256.72,226.34L253.68,219.11L252.16,219.02L249.12,213.24L247.6,212.68L246.08,207.64L244.56,206.28L241.53,204.77L240.01,201.4L233.93,188.65L232.41,186.72L230.89,185.25L229.37,185.37L226.34,182.46L224.82,182.24L223.3,179.34L221.78,178.94L220.26,178.83L218.74,176.7L217.22,175.7L215.7,173.06L209.63,164.63L208.11,163.43L206.59,164.22L205.07,163.47L200.51,160.51L198.99,160.63L197.47,160.82L195.96,158.95L194.44,158.29L192.92,156.18L186.84,149.81L185.32,149.15L183.8,150.33L182.28,149.69L179.25,150.4L177.73,148.89L174.69,149.92L173.17,148.38L171.65,148.6L170.13,147.17L167.09,145.66L165.57,143.9L164.06,143.44L162.54,144.08L161.02,146.07L159.5,146.41L156.46,149.23L154.94,148.93L151.9,152.2L150.38,152.14L148.87,153.97L147.35,154.32L142.79,157.97L141.27,160.37L138.23,170.74L136.71,175.97L133.67,194.64L132.16,205.6L130.64,230.52L129.12,241.93L126.08,196.12L124.56,184.48L120,162.86L118.48,158.97L116.97,156.09L115.45,154.83L112.41,153.77L110.89,154.45L109.37,154.81L107.85,156.91L106.33,158.91L104.81,162.29L103.29,168.38L101.78,177.94L98.74,224.98L97.22,185.2L94.18,150.93L92.66,141.75L89.62,127.86L88.1,122.2L82.03,110.17L80.51,108.07L78.99,106.47L77.47,106.26L75.95,106.41L74.43,108.64L72.91,113.38L71.39,122.2L69.88,134.02L68.36,157.56L66.84,206.69L65.32,148.74L62.28,124.19L60.76,121.14L59.24,121.33L57.72,127.49L56.2,157.89L54.69,151.82L53.17,115.79L51.65,98.73L48.61,83.29L47.09,81.84L45.57,88.18L44.05,101.93L42.53,143.31L41.01,123.6L39.49,99.27L37.98,97.49L36.46,116.13L34.94,113.82L33.42,78.07L31.9,67.78L30.38,73.55L28.86,122.25L27.34,83.49L25.82,75.93L24.3,136.28L22.79,62.34L21.27,63.6L19.75,97.84L18.23,65.41L16.71,80.68L15.19,53.1L13.67,59.42L12.15,103.39L10.63,46.41L9.11,36.54L7.6,35.03L6.08,30.85L4.56,36.11L3.04,53.59L1.52,25.52L0,16\" style=\"vector-effect: none; fill: none; stroke: rgb(99, 110, 250); stroke-opacity: 1; stroke-width: 2px; opacity: 1;\"/></g><g class=\"points\"/><g class=\"text\"/></g><g class=\"trace scatter trace03f87d\" style=\"stroke-miterlimit: 2; opacity: 1;\"><g class=\"fills\"/><g class=\"errorbars\"/><g class=\"lines\"><path class=\"js-line\" d=\"M439,234.07L435.96,233.84L434.44,233.55L432.92,232.35L431.4,232.4L428.37,233.07L426.85,234.58L423.81,236.37L422.29,236.32L419.25,232.65L417.73,231.64L416.21,230.81L414.7,231.07L407.1,229.49L405.58,229.93L402.54,232.29L401.02,233.3L399.51,232.82L397.99,230.36L393.43,227.38L391.91,227.66L384.31,226.16L382.8,226.63L381.28,227.27L379.76,229.01L378.24,230.04L376.72,229.13L373.68,225.53L372.16,224.55L370.64,223.76L369.12,224.05L361.53,222.64L360.01,223.12L358.49,223.78L356.97,225.53L355.45,226.58L353.93,225.24L347.86,219.93L346.34,220.23L338.74,218.9L337.22,219.39L335.71,220.07L334.19,221.83L332.67,222.62L331.15,221.12L325.07,215.87L323.55,215.29L320.52,215.57L319,215.54L317.48,214.58L315.96,214.9L312.92,216.11L311.4,217.87L309.88,218.22L308.36,216.74L302.29,211.53L300.77,210.96L297.73,211.27L296.21,211.25L294.69,211.41L293.17,210.62L290.13,211.85L288.62,213.62L287.1,213.53L285.58,212.06L279.5,206.88L277.98,206.33L274.94,206.64L273.43,206.63L271.91,206.8L270.39,206.01L264.31,208.49L262.79,207.03L256.72,201.88L255.2,201.32L252.16,201.64L250.64,201.63L249.12,201.81L247.6,201.02L241.53,203.05L240.01,201.59L233.93,196.44L232.41,195.89L229.37,196.19L227.85,196.19L226.34,196.37L224.82,195.56L220.26,197.72L218.74,197.13L211.15,190.49L209.63,189.94L208.11,189.56L206.59,190.22L203.55,190.39L202.03,189.56L197.47,191.45L195.96,190.63L188.36,183.93L186.84,183.37L185.32,182.98L183.8,183.6L176.21,184.09L174.69,184.28L171.65,181.94L170.13,180.65L168.61,179.53L167.09,177.37L162.54,175.61L161.02,176.18L151.9,176.23L150.38,174.52L147.35,172.48L145.83,171.34L144.31,170.37L142.79,168.31L139.75,167.24L138.23,167.74L129.12,167.05L127.6,165.29L124.56,163.12L123.04,161.92L121.52,160.89L120,158.74L115.45,157.21L113.93,157.81L110.89,158.04L109.37,157.11L107.85,157.66L106.33,156.34L103.29,153.59L101.78,152.13L98.74,149.73L97.22,147.44L92.66,145.01L91.14,146.05L86.58,146.33L85.07,145.39L82.03,140.93L80.51,140.42L72.91,132.66L71.39,131.89L69.88,130.39L68.36,131.47L63.8,131.18L62.28,129.72L57.72,122.02L56.2,121.91L53.17,118.7L51.65,115.78L47.09,111.4L45.57,112.29L41.01,110.92L39.49,108.45L34.94,99.5L33.42,98.66L28.86,92.45L27.34,88.22L24.3,84.43L22.79,84.22L18.23,80.37L16.71,75.78L12.15,64.02L10.63,61.13L6.08,50.53L4.56,43.42L0,30.16\" style=\"vector-effect: none; fill: none; stroke: rgb(239, 85, 59); stroke-opacity: 1; stroke-width: 2px; opacity: 1;\"/></g><g class=\"points\"/><g class=\"text\"/></g></g></g><g class=\"overplot\"/><path class=\"xlines-above crisp\" d=\"M0,0\" style=\"fill: none;\"/><path class=\"ylines-above crisp\" d=\"M0,0\" style=\"fill: none;\"/><g class=\"overlines-above\"/><g class=\"xaxislayer-above\"><g class=\"xtick\"><text text-anchor=\"middle\" x=\"0\" y=\"433\" transform=\"translate(139.24,0)\" style=\"font-family: 'Open Sans', verdana, arial, sans-serif; font-size: 12px; fill: rgb(42, 63, 95); fill-opacity: 1; white-space: pre; opacity: 1;\">50</text></g><g class=\"xtick\"><text text-anchor=\"middle\" x=\"0\" y=\"433\" style=\"font-family: 'Open Sans', verdana, arial, sans-serif; font-size: 12px; fill: rgb(42, 63, 95); fill-opacity: 1; white-space: pre; opacity: 1;\" transform=\"translate(215.19,0)\">100</text></g><g class=\"xtick\"><text text-anchor=\"middle\" x=\"0\" y=\"433\" style=\"font-family: 'Open Sans', verdana, arial, sans-serif; font-size: 12px; fill: rgb(42, 63, 95); fill-opacity: 1; white-space: pre; opacity: 1;\" transform=\"translate(291.15,0)\">150</text></g><g class=\"xtick\"><text text-anchor=\"middle\" x=\"0\" y=\"433\" style=\"font-family: 'Open Sans', verdana, arial, sans-serif; font-size: 12px; fill: rgb(42, 63, 95); fill-opacity: 1; white-space: pre; opacity: 1;\" transform=\"translate(367.1,0)\">200</text></g><g class=\"xtick\"><text text-anchor=\"middle\" x=\"0\" y=\"433\" style=\"font-family: 'Open Sans', verdana, arial, sans-serif; font-size: 12px; fill: rgb(42, 63, 95); fill-opacity: 1; white-space: pre; opacity: 1;\" transform=\"translate(443.05,0)\">250</text></g><g class=\"xtick\"><text text-anchor=\"middle\" x=\"0\" y=\"433\" style=\"font-family: 'Open Sans', verdana, arial, sans-serif; font-size: 12px; fill: rgb(42, 63, 95); fill-opacity: 1; white-space: pre; opacity: 1;\" transform=\"translate(519,0)\">300</text></g></g><g class=\"yaxislayer-above\"><g class=\"ytick\"><text text-anchor=\"end\" x=\"79\" y=\"4.199999999999999\" transform=\"translate(0,394.86)\" style=\"font-family: 'Open Sans', verdana, arial, sans-serif; font-size: 12px; fill: rgb(42, 63, 95); fill-opacity: 1; white-space: pre; opacity: 1;\">−20</text></g><g class=\"ytick\"><text text-anchor=\"end\" x=\"79\" y=\"4.199999999999999\" style=\"font-family: 'Open Sans', verdana, arial, sans-serif; font-size: 12px; fill: rgb(42, 63, 95); fill-opacity: 1; white-space: pre; opacity: 1;\" transform=\"translate(0,359.25)\">−10</text></g><g class=\"ytick\"><text text-anchor=\"end\" x=\"79\" y=\"4.199999999999999\" style=\"font-family: 'Open Sans', verdana, arial, sans-serif; font-size: 12px; fill: rgb(42, 63, 95); fill-opacity: 1; white-space: pre; opacity: 1;\" transform=\"translate(0,323.64)\">0</text></g><g class=\"ytick\"><text text-anchor=\"end\" x=\"79\" y=\"4.199999999999999\" style=\"font-family: 'Open Sans', verdana, arial, sans-serif; font-size: 12px; fill: rgb(42, 63, 95); fill-opacity: 1; white-space: pre; opacity: 1;\" transform=\"translate(0,288.03)\">10</text></g><g class=\"ytick\"><text text-anchor=\"end\" x=\"79\" y=\"4.199999999999999\" style=\"font-family: 'Open Sans', verdana, arial, sans-serif; font-size: 12px; fill: rgb(42, 63, 95); fill-opacity: 1; white-space: pre; opacity: 1;\" transform=\"translate(0,252.42)\">20</text></g><g class=\"ytick\"><text text-anchor=\"end\" x=\"79\" y=\"4.199999999999999\" style=\"font-family: 'Open Sans', verdana, arial, sans-serif; font-size: 12px; fill: rgb(42, 63, 95); fill-opacity: 1; white-space: pre; opacity: 1;\" transform=\"translate(0,216.81)\">30</text></g><g class=\"ytick\"><text text-anchor=\"end\" x=\"79\" y=\"4.199999999999999\" style=\"font-family: 'Open Sans', verdana, arial, sans-serif; font-size: 12px; fill: rgb(42, 63, 95); fill-opacity: 1; white-space: pre; opacity: 1;\" transform=\"translate(0,181.20999999999998)\">40</text></g><g class=\"ytick\"><text text-anchor=\"end\" x=\"79\" y=\"4.199999999999999\" style=\"font-family: 'Open Sans', verdana, arial, sans-serif; font-size: 12px; fill: rgb(42, 63, 95); fill-opacity: 1; white-space: pre; opacity: 1;\" transform=\"translate(0,145.6)\">50</text></g><g class=\"ytick\"><text text-anchor=\"end\" x=\"79\" y=\"4.199999999999999\" style=\"font-family: 'Open Sans', verdana, arial, sans-serif; font-size: 12px; fill: rgb(42, 63, 95); fill-opacity: 1; white-space: pre; opacity: 1;\" transform=\"translate(0,109.99)\">60</text></g></g><g class=\"overaxes-above\"/></g></g><g class=\"polarlayer\"/><g class=\"smithlayer\"/><g class=\"ternarylayer\"/><g class=\"geolayer\"/><g class=\"funnelarealayer\"/><g class=\"pielayer\"/><g class=\"iciclelayer\"/><g class=\"treemaplayer\"/><g class=\"sunburstlayer\"/><g class=\"glimages\"/><defs id=\"topdefs-8ca7d1\"><g class=\"clips\"/><clipPath id=\"legend8ca7d1\"><rect width=\"160\" height=\"48\" x=\"0\" y=\"0\"/></clipPath></defs><g class=\"layer-above\"><g class=\"imagelayer\"/><g class=\"shapelayer\"/></g><g class=\"infolayer\"><g class=\"legend\" pointer-events=\"all\" transform=\"translate(527.78,100)\"><rect class=\"bg\" shape-rendering=\"crispEdges\" style=\"stroke: rgb(68, 68, 68); stroke-opacity: 1; fill: rgb(255, 255, 255); fill-opacity: 1; stroke-width: 0px;\" width=\"160\" height=\"48\" x=\"0\" y=\"0\"/><g class=\"scrollbox\" transform=\"\" clip-path=\"url(#legend8ca7d1)\"><g class=\"groups\"><g class=\"traces\" transform=\"translate(0,14.5)\" style=\"opacity: 1;\"><text class=\"legendtext\" text-anchor=\"start\" x=\"40\" y=\"4.680000000000001\" style=\"font-family: 'Open Sans', verdana, arial, sans-serif; font-size: 12px; fill: rgb(42, 63, 95); fill-opacity: 1; white-space: pre;\">CR with Ground</text><g class=\"layers\" style=\"opacity: 1;\"><g class=\"legendfill\"/><g class=\"legendlines\"><path class=\"js-line\" d=\"M5,0h30\" style=\"fill: none; stroke: rgb(99, 110, 250); stroke-opacity: 1; stroke-width: 2px;\"/></g><g class=\"legendsymbols\"><g class=\"legendpoints\"/></g></g><rect class=\"legendtoggle\" x=\"0\" y=\"-9.5\" width=\"154.578125\" height=\"19\" style=\"fill: rgb(0, 0, 0); fill-opacity: 0;\"/></g><g class=\"traces\" transform=\"translate(0,33.5)\" style=\"opacity: 1;\"><text class=\"legendtext\" text-anchor=\"start\" x=\"40\" y=\"4.680000000000001\" style=\"font-family: 'Open Sans', verdana, arial, sans-serif; font-size: 12px; fill: rgb(42, 63, 95); fill-opacity: 1; white-space: pre;\">CR without Ground</text><g class=\"layers\" style=\"opacity: 1;\"><g class=\"legendfill\"/><g class=\"legendlines\"><path class=\"js-line\" d=\"M5,0h30\" style=\"fill: none; stroke: rgb(239, 85, 59); stroke-opacity: 1; stroke-width: 2px;\"/></g><g class=\"legendsymbols\"><g class=\"legendpoints\"/></g></g><rect class=\"legendtoggle\" x=\"0\" y=\"-9.5\" width=\"154.578125\" height=\"19\" style=\"fill: rgb(0, 0, 0); fill-opacity: 0;\"/></g></g></g><rect class=\"scrollbar\" rx=\"20\" ry=\"3\" width=\"0\" height=\"0\" style=\"fill: rgb(128, 139, 164); fill-opacity: 1;\" x=\"0\" y=\"0\"/></g><g class=\"g-gtitle\"><text class=\"gtitle\" x=\"35\" y=\"50\" text-anchor=\"start\" dy=\"0em\" style=\"font-family: 'Open Sans', verdana, arial, sans-serif; font-size: 17px; fill: rgb(42, 63, 95); opacity: 1; font-weight: normal; white-space: pre;\">Multi-Path Effect</text></g><g class=\"g-xtitle\"><text class=\"xtitle\" x=\"299.5\" y=\"460.3\" text-anchor=\"middle\" style=\"font-family: 'Open Sans', verdana, arial, sans-serif; font-size: 14px; fill: rgb(42, 63, 95); opacity: 1; font-weight: normal; white-space: pre;\">Range (m)</text></g><g class=\"g-ytitle\"><text class=\"ytitle\" transform=\"rotate(-90,29.621875000000003,260)\" x=\"29.621875000000003\" y=\"260\" text-anchor=\"middle\" style=\"font-family: 'Open Sans', verdana, arial, sans-serif; font-size: 14px; fill: rgb(42, 63, 95); opacity: 1; font-weight: normal; white-space: pre;\">Amplitude (dB)</text></g></g></svg>"
      ],
      "text/plain": [
       "<IPython.core.display.SVG object>"
      ]
     },
     "metadata": {},
     "output_type": "display_data"
    }
   ],
   "source": [
    "import plotly.graph_objs as go\n",
    "\n",
    "from IPython.display import SVG, display\n",
    "\n",
    "t_range = 10+np.arange(290, 0, -1)*1\n",
    "\n",
    "fig = go.Figure()\n",
    "\n",
    "fig.add_trace(go.Scatter(x=t_range, y=amp_multi[:, 0],\n",
    "                         name='CR with Ground'))\n",
    "fig.add_trace(go.Scatter(x=t_range, y=amp_single[:, 0],\n",
    "                         name='CR without Ground'))\n",
    "\n",
    "fig.update_layout(\n",
    "    title='Multi-Path Effect',\n",
    "    yaxis=dict(title='Amplitude (dB)'),\n",
    "    xaxis=dict(title='Range (m)'),\n",
    ")\n",
    "\n",
    "# fig.show()\n",
    "display(SVG(fig.to_image(format='svg', scale=1)))\n"
   ]
  }
 ],
 "metadata": {
  "kernelspec": {
   "display_name": "Python 3 (ipykernel)",
   "language": "python",
   "name": "python3"
  },
  "language_info": {
   "codemirror_mode": {
    "name": "ipython",
    "version": 3
   },
   "file_extension": ".py",
   "mimetype": "text/x-python",
   "name": "python",
   "nbconvert_exporter": "python",
   "pygments_lexer": "ipython3",
   "version": "3.10.11"
  },
  "varInspector": {
   "cols": {
    "lenName": 16,
    "lenType": 16,
    "lenVar": 40
   },
   "kernels_config": {
    "python": {
     "delete_cmd_postfix": "",
     "delete_cmd_prefix": "del ",
     "library": "var_list.py",
     "varRefreshCmd": "print(var_dic_list())"
    },
    "r": {
     "delete_cmd_postfix": ") ",
     "delete_cmd_prefix": "rm(",
     "library": "var_list.r",
     "varRefreshCmd": "cat(var_dic_list()) "
    }
   },
   "types_to_exclude": [
    "module",
    "function",
    "builtin_function_or_method",
    "instance",
    "_Feature"
   ],
   "window_display": false
  },
  "vscode": {
   "interpreter": {
    "hash": "93f700c1059b32d83d5a3c18a32630ee13b0a3dbf4faa4d0f71952c4a11b4154"
   }
  },
  "widgets": {
   "application/vnd.jupyter.widget-state+json": {
    "state": {},
    "version_major": 2,
    "version_minor": 0
   }
  }
 },
 "nbformat": 4,
 "nbformat_minor": 4
}
