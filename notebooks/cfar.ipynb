{
 "cells": [
  {
   "cell_type": "markdown",
   "metadata": {},
   "source": [
    "# CFAR\n",
    "\n",
    "<a href=\"https://rookiepeng.github.io/radarsimpy/\" target=\"_blank\" rel=\"nofollow\"><img src=\"https://img.shields.io/badge/Documentation-latest-brightgree?style=flat&logo=read-the-docs\" height=\"20\" align=\"left\"></a>\n",
    "\n",
    "<br></br>\n",
    "This is an example of Constant False Alarm Rate (CFAR) threshold for an FMCW radar.\n",
    "[`RadarSimPy`](https://github.com/rookiepeng/radarsimpy) has two buildin CFAR methods: `CA-CFAR` and `OS-CFAR`.\n",
    "\n",
    "## Radar Model\n",
    "### Transmitter\n",
    "\n",
    "Setup the basic transmitter parameters through `Transmitter` module.\n",
    "\n",
    "The following table lists the parameters in this example.\n",
    "\n",
    " | Parameter                       | Variable in `Transmitter`| Value                |\n",
    " |---------------------------------|--------------------------|----------------------|\n",
    " | Frequency ($f$)                 | `f`                      | [24.075, 24.175] GHz |\n",
    " | Time ($T$)                      | `t`                      | 80e-6 s              |\n",
    " | Transmitted power ($P_t$)       | `tx_power`               | 10 dBm               |\n",
    " | Pulse repetition period ($PRP$) | `prp`                    | 100 us               |\n",
    " | Number of pulses                | `pulses`                 | 1                    |\n",
    "\n",
    "Here, `f` and `t` define the frequency modulation of the transmitter. The frequency changes from `24.075 GHz` to `24.175 GHz` within `80e-6 s`.\n",
    "\n",
    "The radiation pattern os the transmitter antenna is $\\cos{\\theta}$. The gain of the antenna is 6 dB.\n"
   ]
  },
  {
   "cell_type": "code",
   "execution_count": 1,
   "metadata": {},
   "outputs": [],
   "source": [
    "import numpy as np\n",
    "from radarsimpy import Radar, Transmitter, Receiver\n",
    "\n",
    "angle = np.arange(-90, 91, 1)\n",
    "pattern = 20 * np.log10(np.cos(angle / 180 * np.pi) + 0.01) + 6\n",
    "\n",
    "tx_channel = dict(\n",
    "    location=(0, 0, 0),\n",
    "    azimuth_angle=angle,\n",
    "    azimuth_pattern=pattern,\n",
    "    elevation_angle=angle,\n",
    "    elevation_pattern=pattern,\n",
    ")\n",
    "\n",
    "tx = Transmitter(f=[24.075e9, 24.175e9],\n",
    "                 t=80e-6,\n",
    "                 tx_power=20,\n",
    "                 prp=100e-6,\n",
    "                 pulses=1,\n",
    "                 channels=[tx_channel])\n"
   ]
  },
  {
   "cell_type": "markdown",
   "metadata": {},
   "source": [
    "### Receiver\n",
    "\n",
    "Setup the receiver parameters through `Receiver` module.\n",
    "\n",
    "The parameters of the receiver are listed in the table below.\n",
    "\n",
    " | Parameter                        | Variable in `Receiver`   | Value        |\n",
    " |----------------------------------|--------------------------|--------------|\n",
    " | Sampling rate ($f_s$)            | `fs`                     | 2 Msps       |\n",
    " | Noise figure ($NF$)              | `noise_figure`           | 12 dB        |\n",
    " | RF gain/loss ($G_{rf}$)          | `rf_gain`                | 20 dB        |\n",
    " | Load resistor ($R_L$)            | `load_resistor`          | 500 $\\Omega$ |\n",
    " | Baseband voltage gain ($G_{BB}$) | `baseband_gain`          | 30 dB        |\n",
    "\n",
    " The radiation pattern os the receiver antenna is $\\cos{\\theta}$. The gain of the antenna is 6 dB."
   ]
  },
  {
   "cell_type": "code",
   "execution_count": 2,
   "metadata": {},
   "outputs": [],
   "source": [
    "rx_channel = dict(\n",
    "    location=(0, 0, 0),\n",
    "    azimuth_angle=angle,\n",
    "    azimuth_pattern=pattern,\n",
    "    elevation_angle=angle,\n",
    "    elevation_pattern=pattern,\n",
    ")\n",
    "\n",
    "rx = Receiver(fs=2e6,\n",
    "              noise_figure=12,\n",
    "              rf_gain=20,\n",
    "              load_resistor=500,\n",
    "              baseband_gain=30,\n",
    "              channels=[rx_channel])\n"
   ]
  },
  {
   "cell_type": "markdown",
   "metadata": {},
   "source": [
    " Create the FMCW radar model based on all the parameters defined above."
   ]
  },
  {
   "cell_type": "code",
   "execution_count": 3,
   "metadata": {},
   "outputs": [],
   "source": [
    "radar = Radar(transmitter=tx, receiver=rx)\n"
   ]
  },
  {
   "cell_type": "markdown",
   "metadata": {},
   "source": [
    "### Targets\n",
    "\n",
    "The propertities of targets are defined here. The locations of the targets are defined through $(x, y, z)$ coordinates in meters, and the speeds of the targets are defined trough $(v_x, v_y, v_z)$ in $m/s$. The propertites of the targets also includes radar cross-section (RCS (dBsm)) and phase (degree)."
   ]
  },
  {
   "cell_type": "code",
   "execution_count": 4,
   "metadata": {},
   "outputs": [],
   "source": [
    "target_1 = dict(location=(95, 20, 0), speed=(-50, 0, 0), rcs=20, phase=0)\n",
    "target_2 = dict(location=(30, -5, 0), speed=(-22, 0, 0), rcs=10, phase=0)\n",
    "\n",
    "targets = [target_1, target_2]\n"
   ]
  },
  {
   "cell_type": "markdown",
   "metadata": {},
   "source": [
    "## Simulate Baseband Signals\n",
    " \n",
    "Use the `simulator` module to simulate the baseband samples. The user can choose between Python engine `simpy` or C++ engine `simc`.\n",
    "\n",
    "The output baseband data is a 3-D matrix:\n",
    "\n",
    "$[channels, pulses, ADC~samples]$\n",
    " \n",
    "#### Simulate with C++ engine"
   ]
  },
  {
   "cell_type": "code",
   "execution_count": 5,
   "metadata": {},
   "outputs": [],
   "source": [
    "from radarsimpy.simulator import simc\n",
    "\n",
    "data = simc(radar, targets)\n",
    "time_matrix = data['timestamp']\n",
    "data_matrix = data['baseband']\n"
   ]
  },
  {
   "cell_type": "code",
   "execution_count": 6,
   "metadata": {},
   "outputs": [
    {
     "data": {
      "image/svg+xml": "<svg xmlns=\"http://www.w3.org/2000/svg\" xmlns:xlink=\"http://www.w3.org/1999/xlink\" class=\"main-svg\" width=\"700\" height=\"500\" style=\"\" viewBox=\"0 0 700 500\"><rect x=\"0\" y=\"0\" width=\"700\" height=\"500\" style=\"fill: rgb(255, 255, 255); fill-opacity: 1;\"/><defs id=\"defs-f2b3a9\"><g class=\"clips\"><clipPath id=\"clipf2b3a9xyplot\" class=\"plotclip\"><rect width=\"540\" height=\"320\"/></clipPath><clipPath class=\"axesclip\" id=\"clipf2b3a9x\"><rect x=\"80\" y=\"0\" width=\"540\" height=\"500\"/></clipPath><clipPath class=\"axesclip\" id=\"clipf2b3a9y\"><rect x=\"0\" y=\"100\" width=\"700\" height=\"320\"/></clipPath><clipPath class=\"axesclip\" id=\"clipf2b3a9xy\"><rect x=\"80\" y=\"100\" width=\"540\" height=\"320\"/></clipPath></g><g class=\"gradients\"/><g class=\"patterns\"/></defs><g class=\"bglayer\"><rect class=\"bg\" x=\"80\" y=\"100\" width=\"540\" height=\"320\" style=\"fill: rgb(229, 236, 246); fill-opacity: 1; stroke-width: 0;\"/></g><g class=\"layer-below\"><g class=\"imagelayer\"/><g class=\"shapelayer\"/></g><g class=\"cartesianlayer\"><g class=\"subplot xy\"><g class=\"layer-subplot\"><g class=\"shapelayer\"/><g class=\"imagelayer\"/></g><g class=\"gridlayer\"><g class=\"x\"><path class=\"xgrid crisp\" transform=\"translate(215.85,0)\" d=\"M0,100v320\" style=\"stroke: rgb(255, 255, 255); stroke-opacity: 1; stroke-width: 1px;\"/><path class=\"xgrid crisp\" transform=\"translate(351.7,0)\" d=\"M0,100v320\" style=\"stroke: rgb(255, 255, 255); stroke-opacity: 1; stroke-width: 1px;\"/><path class=\"xgrid crisp\" transform=\"translate(487.55,0)\" d=\"M0,100v320\" style=\"stroke: rgb(255, 255, 255); stroke-opacity: 1; stroke-width: 1px;\"/></g><g class=\"y\"><path class=\"ygrid crisp\" transform=\"translate(0,394.87)\" d=\"M80,0h540\" style=\"stroke: rgb(255, 255, 255); stroke-opacity: 1; stroke-width: 1px;\"/><path class=\"ygrid crisp\" transform=\"translate(0,328.16999999999996)\" d=\"M80,0h540\" style=\"stroke: rgb(255, 255, 255); stroke-opacity: 1; stroke-width: 1px;\"/><path class=\"ygrid crisp\" transform=\"translate(0,194.79000000000002)\" d=\"M80,0h540\" style=\"stroke: rgb(255, 255, 255); stroke-opacity: 1; stroke-width: 1px;\"/><path class=\"ygrid crisp\" transform=\"translate(0,128.09)\" d=\"M80,0h540\" style=\"stroke: rgb(255, 255, 255); stroke-opacity: 1; stroke-width: 1px;\"/></g></g><g class=\"zerolinelayer\"><path class=\"xzl zl crisp\" transform=\"translate(80,0)\" d=\"M0,100v320\" style=\"stroke: rgb(255, 255, 255); stroke-opacity: 1; stroke-width: 2px;\"/><path class=\"yzl zl crisp\" transform=\"translate(0,261.48)\" d=\"M80,0h540\" style=\"stroke: rgb(255, 255, 255); stroke-opacity: 1; stroke-width: 2px;\"/></g><path class=\"xlines-below\"/><path class=\"ylines-below\"/><g class=\"overlines-below\"/><g class=\"xaxislayer-below\"/><g class=\"yaxislayer-below\"/><g class=\"overaxes-below\"/><g class=\"plot\" transform=\"translate(80,100)\" clip-path=\"url(#clipf2b3a9xyplot)\"><g class=\"scatterlayer mlayer\"><g class=\"trace scatter tracee83071\" style=\"stroke-miterlimit: 2; opacity: 1;\"><g class=\"fills\"/><g class=\"errorbars\"/><g class=\"lines\"><path class=\"js-line\" d=\"M0,142.59L3.4,104.42L6.79,83.96L13.58,171.79L16.98,240.96L20.38,263.52L23.77,163.95L27.17,228.13L30.57,68.56L33.96,89.14L37.36,103.12L40.75,137.88L44.15,252.32L47.55,216.02L50.94,200.84L54.34,144.1L57.74,71.03L61.13,130.9L64.53,74.4L67.92,191.38L71.32,250.27L74.72,251.01L78.11,237.06L81.51,123.02L84.91,110.91L88.3,136.58L91.7,78.66L95.09,201.44L98.49,182.32L101.89,254.57L105.28,253.36L108.68,137.64L112.08,112.48L115.47,33.34L118.87,122.62L122.26,146.26L125.66,218.93L129.06,235.44L132.45,191.39L135.85,166.14L139.25,155.66L142.64,104.93L146.04,145.64L152.83,235.06L156.23,246.82L159.62,252.2L163.02,153.84L166.42,68.02L169.81,117.07L173.21,138.36L176.6,122.08L180,221.18L183.4,240.95L186.79,236.33L190.19,167L193.58,77.62L196.98,137.51L200.38,85.79L203.77,167.63L207.17,239.81L210.57,220.38L217.36,172.87L220.75,84.21L224.15,55.59L227.55,93.78L230.94,153.64L234.34,241L237.74,226.82L241.13,178.78L244.53,156.37L247.92,122.84L251.32,58.87L254.72,134.12L258.11,231.36L261.51,242.88L264.91,262.64L268.3,210.44L271.7,159.79L275.09,84.08L278.49,52.15L281.89,130.77L285.28,180.02L288.68,276.62L292.08,202.01L295.47,228.5L298.87,178.55L302.26,77.38L305.66,120.75L309.06,105.42L315.85,232L319.25,223.98L322.64,267.67L326.04,127.64L329.43,64.28L332.83,87.54L336.23,72.04L339.62,235.06L343.02,228.44L346.42,256.25L349.81,225.98L353.21,148.63L356.6,142.88L360,77.78L363.4,108.75L366.79,197.65L370.19,192.15L373.58,298.33L376.98,233.56L380.38,146.85L383.77,154.9L387.17,115.5L390.57,118.71L393.96,152.99L397.36,225.82L400.75,277.86L404.15,206.19L407.55,199.34L410.94,74.46L414.34,47.12L417.74,135.86L421.13,108.05L424.53,251.65L427.92,183.41L431.32,223.4L434.72,160.92L438.11,86.4L441.51,38.39L444.91,125.56L448.3,177.54L451.7,247.78L455.09,215.91L458.49,227.32L461.89,173.55L465.28,85.01L468.68,93.21L472.08,86.97L475.47,210.02L478.87,259.78L482.26,216.92L485.66,221.38L489.06,97.79L492.45,114.7L495.85,56.99L499.25,74.69L502.64,196.68L506.04,169.87L509.43,262.25L523.02,110.41L526.42,142.32L533.21,275.33L536.6,247.27L540,148.73\" style=\"vector-effect: non-scaling-stroke; fill: none; stroke: rgb(99, 110, 250); stroke-opacity: 1; stroke-width: 2px; opacity: 1;\"/></g><g class=\"points\"/><g class=\"text\"/></g><g class=\"trace scatter trace3cf874\" style=\"stroke-miterlimit: 2; opacity: 1;\"><g class=\"fills\"/><g class=\"errorbars\"/><g class=\"lines\"><path class=\"js-line\" d=\"M0,232.05L3.4,205.07L6.79,139.66L10.19,67.26L13.58,93.15L16.98,93.41L20.38,170.33L23.77,219.64L27.17,258.14L30.57,227.6L33.96,155.4L37.36,82.13L40.75,90.88L44.15,124.25L47.55,186.18L54.34,265.16L57.74,216.63L61.13,122.38L64.53,116.95L67.92,62.9L71.32,109.49L74.72,153.17L78.11,162.92L81.51,277.8L84.91,173.55L88.3,146.18L91.7,47.75L95.09,56.33L98.49,138.02L101.89,138.13L105.28,268.34L108.68,202.59L112.08,226.16L115.47,188.29L118.87,42.05L122.26,123.64L125.66,86.74L129.06,141.06L132.45,223.38L135.85,234.57L139.25,185.75L142.64,124.97L146.04,113.98L149.43,101.76L152.83,53.48L156.23,203.97L159.62,180.29L163.02,209.66L166.42,202.2L169.81,114.17L173.21,139.63L176.6,38.05L180,85.38L183.4,206.05L186.79,223.05L190.19,261.07L193.58,180.97L196.98,159.92L200.38,105.11L203.77,69.26L207.17,134.51L210.57,106.69L213.96,252.76L217.36,214.61L220.75,210.44L224.15,231.57L227.55,16L230.94,32.59L234.34,169.16L237.74,140.57L241.13,268.59L244.53,259.75L247.92,188.37L251.32,184.29L254.72,101.64L258.11,88.47L261.51,109.4L264.91,199.82L268.3,197.29L271.7,222.56L275.09,217.62L278.49,131.76L281.89,88.26L285.28,122.82L288.68,118.05L292.08,156.72L295.47,207.29L298.87,222.56L302.26,207.45L305.66,141.36L309.06,134.86L312.45,27.43L315.85,111.13L319.25,131.2L322.64,223.42L326.04,295.88L329.43,153.72L332.83,139.42L336.23,84.97L339.62,75.52L343.02,136.69L346.42,159.02L349.81,238.23L353.21,301.9L356.6,223.05L360,195.79L363.4,80.96L373.58,157.48L376.98,304L380.38,186.38L383.77,225.13L390.57,21.05L393.96,111.57L397.36,120.74L400.75,174.1L404.15,243.41L407.55,221.63L410.94,276.72L414.34,111.4L417.74,99.46L421.13,92.82L424.53,114L427.92,194.78L431.32,249.64L434.72,225.95L438.11,226.6L441.51,136.56L444.91,129.12L448.3,105.02L451.7,130.09L455.09,206.27L458.49,217.81L461.89,248.8L465.28,200.01L468.68,168.46L472.08,115.09L475.47,49.71L478.87,151.39L482.26,200.61L485.66,255.83L489.06,247.79L492.45,227.06L495.85,171.16L499.25,57.58L502.64,102.66L506.04,83.45L509.43,208.49L512.83,257.18L516.23,271.11L519.62,234L523.02,206.42L526.42,101.96L529.81,125.68L533.21,89.34L536.6,186.26L540,209.91\" style=\"vector-effect: non-scaling-stroke; fill: none; stroke: rgb(239, 85, 59); stroke-opacity: 1; stroke-width: 2px; opacity: 1;\"/></g><g class=\"points\"/><g class=\"text\"/></g></g></g><g class=\"overplot\"/><path class=\"xlines-above crisp\" d=\"M0,0\" style=\"fill: none;\"/><path class=\"ylines-above crisp\" d=\"M0,0\" style=\"fill: none;\"/><g class=\"overlines-above\"/><g class=\"xaxislayer-above\"><g class=\"xtick\"><text text-anchor=\"middle\" x=\"0\" y=\"433\" transform=\"translate(80,0)\" style=\"font-family: 'Open Sans', verdana, arial, sans-serif; font-size: 12px; fill: rgb(42, 63, 95); fill-opacity: 1; white-space: pre; opacity: 1;\">0</text></g><g class=\"xtick\"><text text-anchor=\"middle\" x=\"0\" y=\"433\" style=\"font-family: 'Open Sans', verdana, arial, sans-serif; font-size: 12px; fill: rgb(42, 63, 95); fill-opacity: 1; white-space: pre; opacity: 1;\" transform=\"translate(215.85,0)\">20μ</text></g><g class=\"xtick\"><text text-anchor=\"middle\" x=\"0\" y=\"433\" style=\"font-family: 'Open Sans', verdana, arial, sans-serif; font-size: 12px; fill: rgb(42, 63, 95); fill-opacity: 1; white-space: pre; opacity: 1;\" transform=\"translate(351.7,0)\">40μ</text></g><g class=\"xtick\"><text text-anchor=\"middle\" x=\"0\" y=\"433\" style=\"font-family: 'Open Sans', verdana, arial, sans-serif; font-size: 12px; fill: rgb(42, 63, 95); fill-opacity: 1; white-space: pre; opacity: 1;\" transform=\"translate(487.55,0)\">60μ</text></g></g><g class=\"yaxislayer-above\"><g class=\"ytick\"><text text-anchor=\"end\" x=\"79\" y=\"4.199999999999999\" transform=\"translate(0,394.87)\" style=\"font-family: 'Open Sans', verdana, arial, sans-serif; font-size: 12px; fill: rgb(42, 63, 95); fill-opacity: 1; white-space: pre; opacity: 1;\">−0.02</text></g><g class=\"ytick\"><text text-anchor=\"end\" x=\"79\" y=\"4.199999999999999\" style=\"font-family: 'Open Sans', verdana, arial, sans-serif; font-size: 12px; fill: rgb(42, 63, 95); fill-opacity: 1; white-space: pre; opacity: 1;\" transform=\"translate(0,328.16999999999996)\">−0.01</text></g><g class=\"ytick\"><text text-anchor=\"end\" x=\"79\" y=\"4.199999999999999\" style=\"font-family: 'Open Sans', verdana, arial, sans-serif; font-size: 12px; fill: rgb(42, 63, 95); fill-opacity: 1; white-space: pre; opacity: 1;\" transform=\"translate(0,261.48)\">0</text></g><g class=\"ytick\"><text text-anchor=\"end\" x=\"79\" y=\"4.199999999999999\" style=\"font-family: 'Open Sans', verdana, arial, sans-serif; font-size: 12px; fill: rgb(42, 63, 95); fill-opacity: 1; white-space: pre; opacity: 1;\" transform=\"translate(0,194.79000000000002)\">0.01</text></g><g class=\"ytick\"><text text-anchor=\"end\" x=\"79\" y=\"4.199999999999999\" style=\"font-family: 'Open Sans', verdana, arial, sans-serif; font-size: 12px; fill: rgb(42, 63, 95); fill-opacity: 1; white-space: pre; opacity: 1;\" transform=\"translate(0,128.09)\">0.02</text></g></g><g class=\"overaxes-above\"/></g></g><g class=\"polarlayer\"/><g class=\"smithlayer\"/><g class=\"ternarylayer\"/><g class=\"geolayer\"/><g class=\"funnelarealayer\"/><g class=\"pielayer\"/><g class=\"iciclelayer\"/><g class=\"treemaplayer\"/><g class=\"sunburstlayer\"/><g class=\"glimages\"/><defs id=\"topdefs-f2b3a9\"><g class=\"clips\"/><clipPath id=\"legendf2b3a9\"><rect width=\"55\" height=\"48\" x=\"0\" y=\"0\"/></clipPath></defs><g class=\"layer-above\"><g class=\"imagelayer\"/><g class=\"shapelayer\"/></g><g class=\"infolayer\"><g class=\"legend\" pointer-events=\"all\" transform=\"translate(630.8,100)\"><rect class=\"bg\" shape-rendering=\"crispEdges\" style=\"stroke: rgb(68, 68, 68); stroke-opacity: 1; fill: rgb(255, 255, 255); fill-opacity: 1; stroke-width: 0px;\" width=\"55\" height=\"48\" x=\"0\" y=\"0\"/><g class=\"scrollbox\" transform=\"\" clip-path=\"url(#legendf2b3a9)\"><g class=\"groups\"><g class=\"traces\" transform=\"translate(0,14.5)\" style=\"opacity: 1;\"><text class=\"legendtext\" text-anchor=\"start\" x=\"40\" y=\"4.680000000000001\" style=\"font-family: 'Open Sans', verdana, arial, sans-serif; font-size: 12px; fill: rgb(42, 63, 95); fill-opacity: 1; white-space: pre;\">I</text><g class=\"layers\" style=\"opacity: 1;\"><g class=\"legendfill\"/><g class=\"legendlines\"><path class=\"js-line\" d=\"M5,0h30\" style=\"fill: none; stroke: rgb(99, 110, 250); stroke-opacity: 1; stroke-width: 2px;\"/></g><g class=\"legendsymbols\"><g class=\"legendpoints\"/></g></g><rect class=\"legendtoggle\" x=\"0\" y=\"-9.5\" width=\"49.453125\" height=\"19\" style=\"fill: rgb(0, 0, 0); fill-opacity: 0;\"/></g><g class=\"traces\" transform=\"translate(0,33.5)\" style=\"opacity: 1;\"><text class=\"legendtext\" text-anchor=\"start\" x=\"40\" y=\"4.680000000000001\" style=\"font-family: 'Open Sans', verdana, arial, sans-serif; font-size: 12px; fill: rgb(42, 63, 95); fill-opacity: 1; white-space: pre;\">Q</text><g class=\"layers\" style=\"opacity: 1;\"><g class=\"legendfill\"/><g class=\"legendlines\"><path class=\"js-line\" d=\"M5,0h30\" style=\"fill: none; stroke: rgb(239, 85, 59); stroke-opacity: 1; stroke-width: 2px;\"/></g><g class=\"legendsymbols\"><g class=\"legendpoints\"/></g></g><rect class=\"legendtoggle\" x=\"0\" y=\"-9.5\" width=\"49.453125\" height=\"19\" style=\"fill: rgb(0, 0, 0); fill-opacity: 0;\"/></g></g></g><rect class=\"scrollbar\" rx=\"20\" ry=\"3\" width=\"0\" height=\"0\" style=\"fill: rgb(128, 139, 164); fill-opacity: 1;\" x=\"0\" y=\"0\"/></g><g class=\"g-gtitle\"><text class=\"gtitle\" x=\"35\" y=\"50\" text-anchor=\"start\" dy=\"0em\" style=\"font-family: 'Open Sans', verdana, arial, sans-serif; font-size: 17px; fill: rgb(42, 63, 95); opacity: 1; font-weight: normal; white-space: pre;\">I/Q Beat Signals for the First Chirp</text></g><g class=\"g-xtitle\"><text class=\"xtitle\" x=\"350\" y=\"460.8\" text-anchor=\"middle\" style=\"font-family: 'Open Sans', verdana, arial, sans-serif; font-size: 14px; fill: rgb(42, 63, 95); opacity: 1; font-weight: normal; white-space: pre;\">Time (s)</text></g><g class=\"g-ytitle\"><text class=\"ytitle\" transform=\"rotate(-90,17.121875000000003,260)\" x=\"17.121875000000003\" y=\"260\" text-anchor=\"middle\" style=\"font-family: 'Open Sans', verdana, arial, sans-serif; font-size: 14px; fill: rgb(42, 63, 95); opacity: 1; font-weight: normal; white-space: pre;\">Amplitude (V)</text></g></g></svg>",
      "text/plain": [
       "<IPython.core.display.SVG object>"
      ]
     },
     "metadata": {},
     "output_type": "display_data"
    }
   ],
   "source": [
    "import plotly.graph_objs as go\n",
    "from IPython.display import SVG, display\n",
    "\n",
    "fig = go.Figure()\n",
    "\n",
    "fig.add_trace(go.Scatter(\n",
    "    x=time_matrix[0, 0, :],\n",
    "    y=np.real(data_matrix[0, 0, :]),\n",
    "    name='I',\n",
    "))\n",
    "fig.add_trace(go.Scatter(\n",
    "    x=time_matrix[0, 0, :],\n",
    "    y=np.imag(data_matrix[0, 0, :]),\n",
    "    name='Q',\n",
    "))\n",
    "\n",
    "fig.update_layout(\n",
    "    title='I/Q Beat Signals for the First Chirp',\n",
    "    yaxis=dict(title='Amplitude (V)'),\n",
    "    xaxis=dict(title='Time (s)'),\n",
    ")\n",
    "\n",
    "# fig.show()\n",
    "display(SVG(fig.to_image(format='svg', scale=1)))\n"
   ]
  },
  {
   "cell_type": "markdown",
   "metadata": {},
   "source": [
    " ## Radar Signal Processing\n",
    " ### Range profile and CFAR"
   ]
  },
  {
   "cell_type": "code",
   "execution_count": 7,
   "metadata": {},
   "outputs": [],
   "source": [
    "from scipy import signal\n",
    "import radarsimpy.processing as proc\n",
    "\n",
    "range_window = signal.chebwin(radar.samples_per_pulse, at=60)\n",
    "range_profile = proc.cal_range_profile(radar, data_matrix, range_window)\n",
    "\n",
    "ca_cfar = proc.cfar_ca(range_profile[0, 0, :], guard=2, trailing=10, pfa=1e-2)\n",
    "os_cfar = proc.cfar_os(range_profile[0, 0, :], n=20, k=14, pfa=1e-2)\n"
   ]
  },
  {
   "cell_type": "markdown",
   "metadata": {},
   "source": [
    "Plot range profile and CFAR"
   ]
  },
  {
   "cell_type": "code",
   "execution_count": 8,
   "metadata": {},
   "outputs": [
    {
     "data": {
      "image/svg+xml": "<svg xmlns=\"http://www.w3.org/2000/svg\" xmlns:xlink=\"http://www.w3.org/1999/xlink\" class=\"main-svg\" width=\"700\" height=\"500\" style=\"\" viewBox=\"0 0 700 500\"><rect x=\"0\" y=\"0\" width=\"700\" height=\"500\" style=\"fill: rgb(255, 255, 255); fill-opacity: 1;\"/><defs id=\"defs-c34032\"><g class=\"clips\"><clipPath id=\"clipc34032xyplot\" class=\"plotclip\"><rect width=\"474\" height=\"320\"/></clipPath><clipPath class=\"axesclip\" id=\"clipc34032x\"><rect x=\"80\" y=\"0\" width=\"474\" height=\"500\"/></clipPath><clipPath class=\"axesclip\" id=\"clipc34032y\"><rect x=\"0\" y=\"100\" width=\"700\" height=\"320\"/></clipPath><clipPath class=\"axesclip\" id=\"clipc34032xy\"><rect x=\"80\" y=\"100\" width=\"474\" height=\"320\"/></clipPath></g><g class=\"gradients\"/><g class=\"patterns\"/></defs><g class=\"bglayer\"><rect class=\"bg\" x=\"80\" y=\"100\" width=\"474\" height=\"320\" style=\"fill: rgb(234, 234, 242); fill-opacity: 1; stroke-width: 0;\"/></g><g class=\"layer-below\"><g class=\"imagelayer\"/><g class=\"shapelayer\"/></g><g class=\"cartesianlayer\"><g class=\"subplot xy\"><g class=\"layer-subplot\"><g class=\"shapelayer\"/><g class=\"imagelayer\"/></g><g class=\"gridlayer\"><g class=\"x\"><path class=\"xgrid crisp\" transform=\"translate(179.37,0)\" d=\"M0,100v320\" style=\"stroke: rgb(255, 255, 255); stroke-opacity: 1; stroke-width: 1px;\"/><path class=\"xgrid crisp\" transform=\"translate(278.74,0)\" d=\"M0,100v320\" style=\"stroke: rgb(255, 255, 255); stroke-opacity: 1; stroke-width: 1px;\"/><path class=\"xgrid crisp\" transform=\"translate(378.11,0)\" d=\"M0,100v320\" style=\"stroke: rgb(255, 255, 255); stroke-opacity: 1; stroke-width: 1px;\"/><path class=\"xgrid crisp\" transform=\"translate(477.48,0)\" d=\"M0,100v320\" style=\"stroke: rgb(255, 255, 255); stroke-opacity: 1; stroke-width: 1px;\"/></g><g class=\"y\"><path class=\"ygrid crisp\" transform=\"translate(0,378.14)\" d=\"M80,0h474\" style=\"stroke: rgb(255, 255, 255); stroke-opacity: 1; stroke-width: 1px;\"/><path class=\"ygrid crisp\" transform=\"translate(0,325.15999999999997)\" d=\"M80,0h474\" style=\"stroke: rgb(255, 255, 255); stroke-opacity: 1; stroke-width: 1px;\"/><path class=\"ygrid crisp\" transform=\"translate(0,272.19)\" d=\"M80,0h474\" style=\"stroke: rgb(255, 255, 255); stroke-opacity: 1; stroke-width: 1px;\"/><path class=\"ygrid crisp\" transform=\"translate(0,219.22)\" d=\"M80,0h474\" style=\"stroke: rgb(255, 255, 255); stroke-opacity: 1; stroke-width: 1px;\"/><path class=\"ygrid crisp\" transform=\"translate(0,166.24)\" d=\"M80,0h474\" style=\"stroke: rgb(255, 255, 255); stroke-opacity: 1; stroke-width: 1px;\"/></g></g><g class=\"zerolinelayer\"><path class=\"xzl zl crisp\" transform=\"translate(80,0)\" d=\"M0,100v320\" style=\"stroke: rgb(255, 255, 255); stroke-opacity: 1; stroke-width: 1px;\"/><path class=\"yzl zl crisp\" transform=\"translate(0,113.27)\" d=\"M80,0h474\" style=\"stroke: rgb(255, 255, 255); stroke-opacity: 1; stroke-width: 1px;\"/></g><path class=\"xlines-below\"/><path class=\"ylines-below\"/><g class=\"overlines-below\"/><g class=\"xaxislayer-below\"/><g class=\"yaxislayer-below\"/><g class=\"overaxes-below\"/><g class=\"plot\" transform=\"translate(80,100)\" clip-path=\"url(#clipc34032xyplot)\"><g class=\"scatterlayer mlayer\"><g class=\"trace scatter traceae1367\" style=\"stroke-miterlimit: 2; opacity: 1;\"><g class=\"fills\"/><g class=\"errorbars\"/><g class=\"lines\"><path class=\"js-line\" d=\"M0,148.83L2.98,139.74L5.96,186.4L8.94,161.2L11.92,229.87L14.91,190.85L17.89,169.33L20.87,173.84L23.85,204.79L26.83,191.87L29.81,169.56L32.79,153.53L35.77,194.74L38.75,166.87L41.74,218.64L44.72,217.06L47.7,186.16L50.68,225.91L53.66,149.75L56.64,47.45L59.62,16L62.6,45.38L65.58,154.17L68.57,165.47L71.55,146.46L74.53,142.7L77.51,147.54L80.49,156.75L83.47,177.57L86.45,276.79L89.43,158.1L92.42,131.07L95.4,134.67L98.38,151.25L101.36,223.72L104.34,155.36L107.32,162.82L110.3,161.73L113.28,187.77L116.26,218.9L119.25,193.22L122.23,156.98L125.21,130.12L128.19,121.49L131.17,134.78L134.15,180.51L137.13,200.99L140.11,268.13L143.09,173.78L146.08,161.54L149.06,186.28L152.04,241.48L155.02,175.92L158,144.02L160.98,151.68L163.96,195.82L166.94,178.61L169.92,176.05L172.91,183.28L175.89,171.82L178.87,143.06L181.85,131.01L184.83,130.3L187.81,127.4L190.79,76L193.77,96.6L196.75,208.06L199.74,191.95L202.72,240.09L205.7,159.48L208.68,156.57L211.66,182.24L214.64,172.27L217.62,192.05L220.6,154.2L226.57,179.21L229.55,154.09L232.53,214.46L235.51,204.22L238.49,223.68L241.47,204.62L244.45,234.11L247.43,211.11L250.42,156.17L253.4,165.8L256.38,173.17L259.36,162.03L262.34,149.17L265.32,159.68L268.3,231.7L271.28,198.75L274.26,188.93L277.25,160.11L280.23,151.32L283.21,198.58L286.19,139.75L289.17,135.34L292.15,162.43L295.13,148.09L298.11,143.57L301.09,156.09L304.08,137.58L307.06,138.52L310.04,147.27L313.02,115.8L316,113.93L318.98,136.61L321.96,151.25L324.94,135.76L327.92,138.7L330.91,204.1L333.89,170.16L336.87,204.41L339.85,171.31L342.83,176.04L345.81,171.71L348.79,169.73L351.77,265.69L354.75,304L357.74,211.14L360.72,165.21L363.7,151.01L366.68,181.14L369.66,184.61L372.64,179.03L375.62,208.97L378.6,156.72L381.58,148.46L384.57,171.64L387.55,215.61L390.53,167.53L393.51,158.56L396.49,172.21L399.47,226.82L402.45,211.61L405.43,165.22L408.42,157.83L411.4,167.74L414.38,247.54L417.36,215.47L420.34,174.13L423.32,150.76L426.3,156.92L429.28,175L432.26,167.9L435.25,163.49L438.23,194.3L444.19,158.33L447.17,141.38L450.15,142.6L453.13,207.25L456.11,165.79L459.09,151.87L462.08,129.3L465.06,149.1L468.04,189.78L471.02,179.74L474,247.6\" style=\"vector-effect: non-scaling-stroke; fill: none; stroke: rgb(76, 114, 176); stroke-opacity: 1; stroke-width: 2px; opacity: 1;\"/></g><g class=\"points\"/><g class=\"text\"/></g><g class=\"trace scatter trace851a54\" style=\"stroke-miterlimit: 2; opacity: 1;\"><g class=\"fills\"/><g class=\"errorbars\"/><g class=\"lines\"><path class=\"js-line\" d=\"M0,135.53L2.98,136.33L5.96,135.9L11.92,121.71L14.91,121.39L17.89,112.75L20.87,79.85L23.85,47.42L26.83,36.67L29.81,35.54L32.79,35.22L38.75,33.46L41.74,33.2L44.72,32.64L47.7,33.15L50.68,42.7L53.66,69.88L56.64,91.99L59.62,91.73L62.6,88.61L65.58,68.56L68.57,42.29L71.55,33.46L92.42,30.65L95.4,38.42L101.36,81.58L104.34,82.17L107.32,81.05L110.3,81.92L113.28,82.52L116.26,85.41L122.23,91.3L125.21,92.2L131.17,95.86L134.15,93.58L140.11,87.66L143.09,86.64L146.08,83.88L149.06,83.13L152.04,81.35L155.02,70.46L158,64.73L160.98,66.59L166.94,71.08L169.92,71.59L172.91,72.56L175.89,74.38L178.87,75.38L181.85,78.65L184.83,90.84L187.81,97.14L193.77,86.71L196.75,84.94L199.74,75.72L202.72,70.87L211.66,74.29L214.64,73.94L217.62,74.59L220.6,76.82L223.58,79.48L226.57,80.68L232.53,100.54L235.51,99.38L241.47,94.05L244.45,95.52L247.43,99.42L250.42,97.65L253.4,97.09L256.38,98.59L259.36,97.84L262.34,94.18L268.3,89.66L271.28,85.81L274.26,84.09L277.25,79.43L280.23,76.98L283.21,76.42L289.17,73.69L292.15,74.23L298.11,74.18L301.09,77.1L304.08,77.59L307.06,78.98L310.04,81.7L313.02,81.18L316,82.29L318.98,85.81L321.96,83.67L324.94,80.01L333.89,77.8L336.87,77.57L339.85,79.88L342.83,81.07L348.79,80.72L351.77,85.03L354.75,89.94L357.74,92.71L360.72,95.48L363.7,101.76L366.68,107.46L369.66,103.6L372.64,102.27L375.62,102.91L378.6,105.84L381.58,106L384.57,108.05L387.55,106.33L393.51,97.24L396.49,95.79L399.47,95.82L402.45,98.11L405.43,98.06L408.42,96.43L414.38,90.45L417.36,92.85L420.34,94.62L423.32,95.07L426.3,91.96L429.28,91.35L435.25,90.11L438.23,91.16L441.21,93.86L444.19,98.08L450.15,104.51L453.13,105.62L459.09,110.6L462.08,116.63L465.06,120.7L468.04,119.09L471.02,113.97L474,112.5\" style=\"vector-effect: non-scaling-stroke; fill: none; stroke: rgb(221, 132, 82); stroke-opacity: 1; stroke-width: 2px; opacity: 1;\"/></g><g class=\"points\"/><g class=\"text\"/></g><g class=\"trace scatter trace5d9211\" style=\"stroke-miterlimit: 2; opacity: 1;\"><g class=\"fills\"/><g class=\"errorbars\"/><g class=\"lines\"><path class=\"js-line\" d=\"M0,79.45L2.98,81.11L5.96,81.11L11.92,81.11L14.91,88.78L17.89,94.45L20.87,96.91L23.85,94.45L26.83,88.78L29.81,81.11L32.79,88.78L35.77,81.76L38.75,81.76L41.74,81.11L44.72,77.34L47.7,75.12L50.68,75.12L53.66,75.12L56.64,77.34L59.62,77.34L62.6,75.12L65.58,70.28L68.57,70.28L71.55,70.28L74.53,74.04L77.51,70.28L80.49,70.28L86.45,70.28L89.43,74.04L92.42,78.83L95.4,78.83L101.36,70.28L104.34,70.28L110.3,78.83L113.28,78.83L122.23,78.83L125.21,84.56L131.17,84.56L134.15,82.94L137.13,84.56L140.11,84.56L146.08,84.56L149.06,79.26L152.04,71.6L155.02,70.64L175.89,70.64L178.87,71.6L187.81,71.6L190.79,79.26L193.77,81.78L196.75,70.64L208.68,70.64L211.66,81.67L214.64,81.78L217.62,84.15L220.6,87.06L223.58,87.06L226.57,93.38L229.55,93.38L232.53,87.06L235.51,87.06L238.49,87.26L241.47,89.61L244.45,89.61L247.43,87.69L256.38,87.26L259.36,83.75L262.34,87.69L265.32,83.75L268.3,78.9L271.28,78.9L274.26,76.75L277.25,75.67L280.23,74.85L283.21,71.16L286.19,71.16L289.17,67.33L295.13,65.16L298.11,65.16L301.09,65.16L304.08,66.1L307.06,65.16L310.04,65.16L313.02,66.1L316,66.1L336.87,66.28L339.85,74.85L342.83,78.59L345.81,78.83L348.79,84.3L351.77,84.3L354.75,92.79L357.74,97.32L360.72,97.74L363.7,97.32L366.68,95.11L369.66,95.11L372.64,95.11L375.62,92.81L393.51,92.81L396.49,86.14L405.43,86.14L408.42,91.07L414.38,91.07L417.36,86.14L423.32,86.14L426.3,91.07L429.28,85.42L432.26,84.51L435.25,79.45L438.23,79.45L447.17,79.45L450.15,78.34L453.13,76.68L456.11,76.68L459.09,76.68L462.08,79.45L465.06,79.45L468.04,76.68L474,76.68\" style=\"vector-effect: non-scaling-stroke; fill: none; stroke: rgb(85, 168, 104); stroke-opacity: 1; stroke-width: 2px; opacity: 1;\"/></g><g class=\"points\"/><g class=\"text\"/></g></g></g><g class=\"overplot\"/><path class=\"xlines-above crisp\" d=\"M0,0\" style=\"fill: none;\"/><path class=\"ylines-above crisp\" d=\"M0,0\" style=\"fill: none;\"/><g class=\"overlines-above\"/><g class=\"xaxislayer-above\"><g class=\"xtick\"><text text-anchor=\"middle\" x=\"0\" y=\"433\" transform=\"translate(80,0)\" style=\"font-family: 'Open Sans', verdana, arial, sans-serif; font-size: 12px; fill: rgb(36, 36, 36); fill-opacity: 1; white-space: pre; opacity: 1;\">0</text></g><g class=\"xtick\"><text text-anchor=\"middle\" x=\"0\" y=\"433\" style=\"font-family: 'Open Sans', verdana, arial, sans-serif; font-size: 12px; fill: rgb(36, 36, 36); fill-opacity: 1; white-space: pre; opacity: 1;\" transform=\"translate(179.37,0)\">50</text></g><g class=\"xtick\"><text text-anchor=\"middle\" x=\"0\" y=\"433\" style=\"font-family: 'Open Sans', verdana, arial, sans-serif; font-size: 12px; fill: rgb(36, 36, 36); fill-opacity: 1; white-space: pre; opacity: 1;\" transform=\"translate(278.74,0)\">100</text></g><g class=\"xtick\"><text text-anchor=\"middle\" x=\"0\" y=\"433\" style=\"font-family: 'Open Sans', verdana, arial, sans-serif; font-size: 12px; fill: rgb(36, 36, 36); fill-opacity: 1; white-space: pre; opacity: 1;\" transform=\"translate(378.11,0)\">150</text></g><g class=\"xtick\"><text text-anchor=\"middle\" x=\"0\" y=\"433\" style=\"font-family: 'Open Sans', verdana, arial, sans-serif; font-size: 12px; fill: rgb(36, 36, 36); fill-opacity: 1; white-space: pre; opacity: 1;\" transform=\"translate(477.48,0)\">200</text></g></g><g class=\"yaxislayer-above\"><g class=\"ytick\"><text text-anchor=\"end\" x=\"79\" y=\"4.199999999999999\" transform=\"translate(0,378.14)\" style=\"font-family: 'Open Sans', verdana, arial, sans-serif; font-size: 12px; fill: rgb(36, 36, 36); fill-opacity: 1; white-space: pre; opacity: 1;\">−50</text></g><g class=\"ytick\"><text text-anchor=\"end\" x=\"79\" y=\"4.199999999999999\" style=\"font-family: 'Open Sans', verdana, arial, sans-serif; font-size: 12px; fill: rgb(36, 36, 36); fill-opacity: 1; white-space: pre; opacity: 1;\" transform=\"translate(0,325.15999999999997)\">−40</text></g><g class=\"ytick\"><text text-anchor=\"end\" x=\"79\" y=\"4.199999999999999\" style=\"font-family: 'Open Sans', verdana, arial, sans-serif; font-size: 12px; fill: rgb(36, 36, 36); fill-opacity: 1; white-space: pre; opacity: 1;\" transform=\"translate(0,272.19)\">−30</text></g><g class=\"ytick\"><text text-anchor=\"end\" x=\"79\" y=\"4.199999999999999\" style=\"font-family: 'Open Sans', verdana, arial, sans-serif; font-size: 12px; fill: rgb(36, 36, 36); fill-opacity: 1; white-space: pre; opacity: 1;\" transform=\"translate(0,219.22)\">−20</text></g><g class=\"ytick\"><text text-anchor=\"end\" x=\"79\" y=\"4.199999999999999\" style=\"font-family: 'Open Sans', verdana, arial, sans-serif; font-size: 12px; fill: rgb(36, 36, 36); fill-opacity: 1; white-space: pre; opacity: 1;\" transform=\"translate(0,166.24)\">−10</text></g><g class=\"ytick\"><text text-anchor=\"end\" x=\"79\" y=\"4.199999999999999\" style=\"font-family: 'Open Sans', verdana, arial, sans-serif; font-size: 12px; fill: rgb(36, 36, 36); fill-opacity: 1; white-space: pre; opacity: 1;\" transform=\"translate(0,113.27)\">0</text></g></g><g class=\"overaxes-above\"/></g></g><g class=\"polarlayer\"/><g class=\"smithlayer\"/><g class=\"ternarylayer\"/><g class=\"geolayer\"/><g class=\"funnelarealayer\"/><g class=\"pielayer\"/><g class=\"iciclelayer\"/><g class=\"treemaplayer\"/><g class=\"sunburstlayer\"/><g class=\"glimages\"/><defs id=\"topdefs-c34032\"><g class=\"clips\"/><clipPath id=\"legendc34032\"><rect width=\"125\" height=\"67\" x=\"0\" y=\"0\"/></clipPath></defs><g class=\"layer-above\"><g class=\"imagelayer\"/><g class=\"shapelayer\"/></g><g class=\"infolayer\"><g class=\"legend\" pointer-events=\"all\" transform=\"translate(563.48,100)\"><rect class=\"bg\" shape-rendering=\"crispEdges\" style=\"stroke: rgb(68, 68, 68); stroke-opacity: 1; fill: rgb(255, 255, 255); fill-opacity: 1; stroke-width: 0px;\" width=\"125\" height=\"67\" x=\"0\" y=\"0\"/><g class=\"scrollbox\" transform=\"\" clip-path=\"url(#legendc34032)\"><g class=\"groups\"><g class=\"traces\" transform=\"translate(0,14.5)\" style=\"opacity: 1;\"><text class=\"legendtext\" text-anchor=\"start\" x=\"40\" y=\"4.680000000000001\" style=\"font-family: 'Open Sans', verdana, arial, sans-serif; font-size: 12px; fill: rgb(36, 36, 36); fill-opacity: 1; white-space: pre;\">Range profile</text><g class=\"layers\" style=\"opacity: 1;\"><g class=\"legendfill\"/><g class=\"legendlines\"><path class=\"js-line\" d=\"M5,0h30\" style=\"fill: none; stroke: rgb(76, 114, 176); stroke-opacity: 1; stroke-width: 2px;\"/></g><g class=\"legendsymbols\"><g class=\"legendpoints\"/></g></g><rect class=\"legendtoggle\" x=\"0\" y=\"-9.5\" width=\"119.59375\" height=\"19\" style=\"fill: rgb(0, 0, 0); fill-opacity: 0;\"/></g><g class=\"traces\" transform=\"translate(0,33.5)\" style=\"opacity: 1;\"><text class=\"legendtext\" text-anchor=\"start\" x=\"40\" y=\"4.680000000000001\" style=\"font-family: 'Open Sans', verdana, arial, sans-serif; font-size: 12px; fill: rgb(36, 36, 36); fill-opacity: 1; white-space: pre;\">CA-CFAR</text><g class=\"layers\" style=\"opacity: 1;\"><g class=\"legendfill\"/><g class=\"legendlines\"><path class=\"js-line\" d=\"M5,0h30\" style=\"fill: none; stroke: rgb(221, 132, 82); stroke-opacity: 1; stroke-width: 2px;\"/></g><g class=\"legendsymbols\"><g class=\"legendpoints\"/></g></g><rect class=\"legendtoggle\" x=\"0\" y=\"-9.5\" width=\"119.59375\" height=\"19\" style=\"fill: rgb(0, 0, 0); fill-opacity: 0;\"/></g><g class=\"traces\" transform=\"translate(0,52.5)\" style=\"opacity: 1;\"><text class=\"legendtext\" text-anchor=\"start\" x=\"40\" y=\"4.680000000000001\" style=\"font-family: 'Open Sans', verdana, arial, sans-serif; font-size: 12px; fill: rgb(36, 36, 36); fill-opacity: 1; white-space: pre;\">OS-CFAR</text><g class=\"layers\" style=\"opacity: 1;\"><g class=\"legendfill\"/><g class=\"legendlines\"><path class=\"js-line\" d=\"M5,0h30\" style=\"fill: none; stroke: rgb(85, 168, 104); stroke-opacity: 1; stroke-width: 2px;\"/></g><g class=\"legendsymbols\"><g class=\"legendpoints\"/></g></g><rect class=\"legendtoggle\" x=\"0\" y=\"-9.5\" width=\"119.59375\" height=\"19\" style=\"fill: rgb(0, 0, 0); fill-opacity: 0;\"/></g></g></g><rect class=\"scrollbar\" rx=\"20\" ry=\"3\" width=\"0\" height=\"0\" style=\"fill: rgb(128, 139, 164); fill-opacity: 1;\" x=\"0\" y=\"0\"/></g><g class=\"g-gtitle\"/><g class=\"g-xtitle\"><text class=\"xtitle\" x=\"317\" y=\"460.8\" text-anchor=\"middle\" style=\"font-family: 'Open Sans', verdana, arial, sans-serif; font-size: 14px; fill: rgb(36, 36, 36); opacity: 1; font-weight: normal; white-space: pre;\">Range (m)</text></g><g class=\"g-ytitle\"><text class=\"ytitle\" transform=\"rotate(-90,29.121875000000003,260)\" x=\"29.121875000000003\" y=\"260\" text-anchor=\"middle\" style=\"font-family: 'Open Sans', verdana, arial, sans-serif; font-size: 14px; fill: rgb(36, 36, 36); opacity: 1; font-weight: normal; white-space: pre;\">Amplitude (dB)</text></g></g></svg>",
      "text/plain": [
       "<IPython.core.display.SVG object>"
      ]
     },
     "metadata": {},
     "output_type": "display_data"
    }
   ],
   "source": [
    "max_range = (3e8 * radar.receiver.fs *\n",
    "             radar.transmitter.pulse_length /\n",
    "             radar.transmitter.bandwidth / 2)\n",
    "range_axis = np.linspace(\n",
    "    0, max_range, radar.samples_per_pulse, endpoint=False)\n",
    "\n",
    "fig = go.Figure()\n",
    "\n",
    "fig.add_trace(go.Scatter(\n",
    "    x=range_axis,\n",
    "    y=20*np.log10(np.abs(range_profile[0, 0, :])),\n",
    "    name='Range profile',\n",
    "))\n",
    "\n",
    "fig.add_trace(go.Scatter(\n",
    "    x=range_axis,\n",
    "    y=20*np.log10(ca_cfar),\n",
    "    name='CA-CFAR'\n",
    "))\n",
    "\n",
    "fig.add_trace(go.Scatter(\n",
    "    x=range_axis,\n",
    "    y=20*np.log10(os_cfar),\n",
    "    name='OS-CFAR'\n",
    "))\n",
    "\n",
    "fig.update_layout(\n",
    "    # title='Range Profile',\n",
    "    template=\"seaborn\",\n",
    "    yaxis=dict(title='Amplitude (dB)'),\n",
    "    xaxis=dict(title='Range (m)'),\n",
    ")\n",
    "\n",
    "# fig.show()\n",
    "display(SVG(fig.to_image(format='svg', scale=1)))\n",
    "# fig.write_image('cfar.svg', height=400, width=600)\n"
   ]
  },
  {
   "cell_type": "code",
   "execution_count": null,
   "metadata": {},
   "outputs": [],
   "source": []
  }
 ],
 "metadata": {
  "file_extension": ".py",
  "interpreter": {
   "hash": "049259d8f9b11052118f638702b5ad793ce853ba9db086a654763315ddd527c9"
  },
  "kernelspec": {
   "display_name": "Python 3.9.7 64-bit ('dev': conda)",
   "name": "python3"
  },
  "language_info": {
   "codemirror_mode": {
    "name": "ipython",
    "version": 3
   },
   "file_extension": ".py",
   "mimetype": "text/x-python",
   "name": "python",
   "nbconvert_exporter": "python",
   "pygments_lexer": "ipython3",
   "version": "3.10.0"
  },
  "mimetype": "text/x-python",
  "name": "python",
  "npconvert_exporter": "python",
  "pygments_lexer": "ipython3",
  "toc": {
   "base_numbering": 1,
   "nav_menu": {},
   "number_sections": true,
   "sideBar": true,
   "skip_h1_title": false,
   "title_cell": "Table of Contents",
   "title_sidebar": "Contents",
   "toc_cell": false,
   "toc_position": {},
   "toc_section_display": true,
   "toc_window_display": false
  },
  "varInspector": {
   "cols": {
    "lenName": 16,
    "lenType": 16,
    "lenVar": 40
   },
   "kernels_config": {
    "python": {
     "delete_cmd_postfix": "",
     "delete_cmd_prefix": "del ",
     "library": "var_list.py",
     "varRefreshCmd": "print(var_dic_list())"
    },
    "r": {
     "delete_cmd_postfix": ") ",
     "delete_cmd_prefix": "rm(",
     "library": "var_list.r",
     "varRefreshCmd": "cat(var_dic_list()) "
    }
   },
   "types_to_exclude": [
    "module",
    "function",
    "builtin_function_or_method",
    "instance",
    "_Feature"
   ],
   "window_display": false
  },
  "version": 3
 },
 "nbformat": 4,
 "nbformat_minor": 4
}
