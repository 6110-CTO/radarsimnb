{
 "cells": [
  {
   "cell_type": "code",
   "execution_count": 1,
   "metadata": {},
   "outputs": [
    {
     "name": "stdout",
     "output_type": "stream",
     "text": [
      "`RadarSimPy` used in this example is version: 11.2.0\n"
     ]
    }
   ],
   "source": [
    "import radarsimpy\n",
    "print('`RadarSimPy` used in this example is version: ' +\n",
    "      str(radarsimpy.__version__))\n"
   ]
  },
  {
   "attachments": {},
   "cell_type": "markdown",
   "metadata": {},
   "source": [
    "# CFAR\n",
    "\n",
    "[![Documentations](https://img.shields.io/github/v/tag/radarsimx/radarsimpy?label=Documentation&logo=read-the-docs)](https://radarsimx.github.io/radarsimpy/)\n",
    "[![Download](https://img.shields.io/github/v/tag/radarsimx/radarsimpy?label=Download&logo=python)](https://radarsimx.com/product/radarsimpy/)\n",
    "\n",
    "This example introduces constant false alarm rate (CFAR) detection and shows how to use [`RadarSimPy`](https://radarsimx.com/radarsimx/radarsimpy/) to perform Cell-Averaging CFAR (`CA-CFAR`) detection and Ordered Statistics CFAR (`OS-CFAR`) detection.\n",
    "\n",
    "## Introduction\n",
    "\n",
    "CFAR stands for \"Constant False Alarm Rate.\" It's a concept commonly used in radar signal processing and detection theory. CFAR is a technique that helps radar systems automatically adjust their detection thresholds based on the prevailing noise level in the environment, while maintaining a consistent probability of false alarms.\n",
    "\n",
    "In radar systems, the goal is to detect targets (such as airplanes, ships, or weather phenomena) while minimizing false alarms caused by noise or clutter in the radar returns. CFAR algorithms enable the radar to adapt its threshold for target detection based on the statistical characteristics of the background noise, which can vary due to factors like weather conditions, terrain, and other environmental variables.\n",
    "\n",
    "Here's how CFAR works:\n",
    "\n",
    "1. **Estimation of Background Noise Level**: CFAR algorithms estimate the statistical properties of the background noise by analyzing the radar returns in a designated area where no targets are expected. This can involve calculating the mean and variance of the received signal's power.\n",
    "\n",
    "2. **Threshold Calculation**: Once the background noise level is estimated, the CFAR algorithm calculates a detection threshold that corresponds to a constant probability of false alarms. The probability of false alarms is usually specified as a certain value (e.g., 1 false alarm per hour).\n",
    "\n",
    "3. **Adaptive Thresholding**: As the radar scans its environment, the CFAR algorithm adjusts the detection threshold based on the estimated background noise level. This allows the radar to maintain a relatively constant false alarm rate across different operating conditions.\n",
    "\n",
    "The advantage of CFAR is that it allows radar systems to be more adaptive and reliable in various environments. It ensures that the system doesn't produce an excessive number of false alarms when operating in noisy or cluttered conditions, while still detecting actual targets effectively.\n",
    "\n",
    "CFAR techniques can vary depending on the specific radar system and its requirements. Popular CFAR methods include Cell Averaging CFAR (CA-CFAR), Order Statistic CFAR (OS-CFAR), and Greatest-of CFAR (GO-CFAR), among others. Each of these methods employs different statistical approaches to achieve the constant false alarm rate behavior.\n",
    "\n",
    "## Create Radar Model\n",
    "\n",
    "Firstly, import the required modules from `radarsimpy`. `numpy` will also be needed in this example.\n"
   ]
  },
  {
   "cell_type": "code",
   "execution_count": 2,
   "metadata": {},
   "outputs": [],
   "source": [
    "import numpy as np\n",
    "from radarsimpy import Radar, Transmitter, Receiver\n"
   ]
  },
  {
   "cell_type": "markdown",
   "metadata": {},
   "source": [
    "### Transmitter\n",
    "\n",
    "Setup the basic transmitter parameters through [Transmitter](https://radarsimx.github.io/radarsimpy/radar.html#radarsimpy-transmitter) module.\n",
    "\n",
    "#### Define a Transmitter Channel\n",
    "\n",
    "Here, only the location of the transmitter channel is defined at [0, 0, 0] m. All the other properties, such as `polarization`, `antenna patterns`, and `modulation`, etc, are using default values as listed in the [documentation](https://radarsimx.github.io/radarsimpy/radar.html#radarsimpy-transmitter).\n"
   ]
  },
  {
   "cell_type": "code",
   "execution_count": 3,
   "metadata": {},
   "outputs": [],
   "source": [
    "tx_channel = dict(location=(0, 0, 0))\n"
   ]
  },
  {
   "cell_type": "markdown",
   "metadata": {},
   "source": [
    "#### Define a Radar Transmitter\n",
    "\n",
    "As shown in the diagram below, `f` and `t` are used to define the waveform modulation. For a linear frequency-modulated continuous waveform (FMCW), it can be specified as `f = [fstart, fend]` and `t = [tstart, tend]`. If `t` is a single number `t = t0`, which is equivalent to `t = [0, t0]`. The bandwidth of the FMCW is `abs(fstart - fend)`. `prp` is the pulse repetition period, and `prp >= (tend - tstart)`.\n",
    "\n",
    "```\n",
    "|                       prp\n",
    "|                  +-----------+\n",
    "|\n",
    "|            +---f[1]--->  /            /            /\n",
    "|                         /            /            /\n",
    "|                        /            /            /\n",
    "|                       /            /            /\n",
    "|                      /            /            /     ...\n",
    "|                     /            /            /\n",
    "|                    /            /            /\n",
    "|                   /            /            /\n",
    "|      +---f[0]--->/            /            /\n",
    "|\n",
    "|                  +-------+\n",
    "|                 t[0]    t[1]\n",
    "```\n"
   ]
  },
  {
   "cell_type": "code",
   "execution_count": 4,
   "metadata": {},
   "outputs": [],
   "source": [
    "tx = Transmitter(f=[24.075e9, 24.175e9],\n",
    "                 t=80e-6,\n",
    "                 tx_power=30,\n",
    "                 prp=100e-6,\n",
    "                 pulses=1,\n",
    "                 channels=[tx_channel])"
   ]
  },
  {
   "cell_type": "markdown",
   "metadata": {},
   "source": [
    "### Receiver\n",
    "\n",
    "Setup the receiver parameters through [Receiver](https://radarsimx.github.io/radarsimpy/radar.html#radarsimpy-receiver) module.\n",
    "\n",
    "#### Define a Receiver Channel\n",
    "\n",
    "Similar to the transmitter channel, only the location of the receiver channel is defined at [0, 0, 0] m. All the other properties, such as `polarization`, `antenna patterns`, are using default values as listed in the [documentation](https://radarsimx.github.io/radarsimpy/radar.html#radarsimpy-receiver).\n"
   ]
  },
  {
   "cell_type": "code",
   "execution_count": 5,
   "metadata": {},
   "outputs": [],
   "source": [
    "rx_channel = dict(location=(0, 0, 0))"
   ]
  },
  {
   "cell_type": "markdown",
   "metadata": {},
   "source": [
    "#### Define a Radar Receiver\n",
    "\n",
    "- `fs` – Sampling rate (sps)\n",
    "- `noise_figure` – Noise figure (dB)\n",
    "- `rf_gain` – Total RF gain (dB)\n",
    "- `load_resistor` – Load resistor to convert power to voltage (Ohm)\n",
    "- `baseband_gain` – Total baseband gain (dB)\n"
   ]
  },
  {
   "cell_type": "code",
   "execution_count": 6,
   "metadata": {},
   "outputs": [],
   "source": [
    "rx = Receiver(fs=2e6,\n",
    "              noise_figure=6,\n",
    "              rf_gain=20,\n",
    "              load_resistor=500,\n",
    "              baseband_gain=30,\n",
    "              channels=[rx_channel])"
   ]
  },
  {
   "cell_type": "markdown",
   "metadata": {},
   "source": [
    "### Radar System\n",
    "\n",
    "Use the defined transmitter and receiver to create the radar system.\n"
   ]
  },
  {
   "cell_type": "code",
   "execution_count": 7,
   "metadata": {},
   "outputs": [],
   "source": [
    "radar = Radar(transmitter=tx, receiver=rx)"
   ]
  },
  {
   "cell_type": "markdown",
   "metadata": {},
   "source": [
    "### Targets\n",
    "\n",
    "The propertities of targets are defined here. The locations of the targets are defined through $(x, y, z)$ coordinates in meters, and the speeds of the targets are defined trough $(v_x, v_y, v_z)$ in $m/s$. The propertites of the targets also includes radar cross-section (RCS (dBsm)) and phase (degree).\n"
   ]
  },
  {
   "cell_type": "code",
   "execution_count": 8,
   "metadata": {},
   "outputs": [],
   "source": [
    "target_1 = dict(location=(95, 20, 0), speed=(-50, 0, 0), rcs=20, phase=0)\n",
    "target_2 = dict(location=(30, -5, 0), speed=(-22, 0, 0), rcs=10, phase=0)\n",
    "\n",
    "targets = [target_1, target_2]"
   ]
  },
  {
   "cell_type": "markdown",
   "metadata": {},
   "source": [
    "## Simulate Baseband Signals\n",
    "\n",
    "Use the `simulator.sinc` module to simulate the baseband samples from the defined radar system and targets.\n",
    "\n",
    "The output baseband data is a dict including the timestamp and baseband. Both of them are 3-D matrix:\n",
    "\n",
    "`[channels, pulses, ADC samples]`\n"
   ]
  },
  {
   "cell_type": "code",
   "execution_count": 9,
   "metadata": {},
   "outputs": [],
   "source": [
    "from radarsimpy.simulator import simc\n",
    "\n",
    "data = simc(radar, targets)\n",
    "timestamp = data['timestamp']\n",
    "baseband = data['baseband']"
   ]
  },
  {
   "cell_type": "markdown",
   "metadata": {},
   "source": [
    "_Plot the baseband samples_\n"
   ]
  },
  {
   "cell_type": "code",
   "execution_count": 10,
   "metadata": {},
   "outputs": [
    {
     "data": {
      "application/vnd.plotly.v1+json": {
       "config": {
        "plotlyServerURL": "https://plot.ly"
       },
       "data": [
        {
         "name": "I",
         "type": "scatter",
         "x": [
          0,
          0.5,
          1,
          1.5,
          2,
          2.5,
          3,
          3.5,
          4,
          4.5,
          5,
          5.5,
          6,
          6.5,
          7,
          7.5,
          8,
          8.5,
          9,
          9.5,
          10,
          10.5,
          11,
          11.5,
          12,
          12.5,
          13,
          13.5,
          14,
          14.5,
          15,
          15.5,
          16,
          16.5,
          17,
          17.5,
          18,
          18.5,
          19,
          19.5,
          20,
          20.5,
          21,
          21.5,
          22,
          22.5,
          23,
          23.5,
          24,
          24.5,
          25,
          25.5,
          26,
          26.5,
          27,
          27.5,
          28,
          28.5,
          29,
          29.5,
          30,
          30.5,
          31,
          31.5,
          32,
          32.5,
          33,
          33.5,
          34,
          34.5,
          35,
          35.5,
          36,
          36.5,
          37,
          37.5,
          38,
          38.5,
          39,
          39.5,
          40,
          40.5,
          41,
          41.5,
          42,
          42.5,
          43,
          43.5,
          44,
          44.5,
          45,
          45.5,
          46,
          46.5,
          47,
          47.5,
          48,
          48.5,
          49,
          49.5,
          50,
          50.5,
          51,
          51.5,
          52,
          52.5,
          53,
          53.5,
          54,
          54.5,
          55,
          55.5,
          56,
          56.5,
          57,
          57.5,
          58,
          58.5,
          59,
          59.5,
          60,
          60.5,
          61,
          61.50000000000001,
          62,
          62.5,
          63,
          63.5,
          64,
          64.5,
          65,
          65.5,
          66,
          66.5,
          67,
          67.5,
          68,
          68.5,
          69,
          69.5,
          70,
          70.5,
          71,
          71.5,
          72,
          72.5,
          73,
          73.5,
          74,
          74.5,
          75,
          75.5,
          76,
          76.5,
          77,
          77.5,
          78,
          78.5,
          79,
          79.5
         ],
         "y": [
          0.004903850619308537,
          0.010355229260584742,
          0.01014906289164599,
          0.0021822538182411306,
          -0.0018961827300905277,
          -0.011157707464087178,
          -0.008143362000878602,
          0.00004799999106786098,
          -0.003315325695300489,
          0.007253618508913963,
          0.00985799737668613,
          0.004022191387187096,
          0.00019405757520395053,
          -0.009821057315065142,
          -0.010117987052681642,
          -0.0069269790416488074,
          -0.0022798324622159243,
          0.008443836253345702,
          0.008299076553588013,
          0.006829924325970073,
          -0.0015452019917049727,
          -0.007658319803716336,
          -0.006649306308438999,
          -0.009893541478448625,
          0.0018489772164483685,
          0.0074898008225639965,
          0.009653850846285538,
          0.00902799674179327,
          -0.00311214828785641,
          -0.004513486432797377,
          -0.010842609285879858,
          -0.005659597907541326,
          0.0027336714035721132,
          0.006691841133647592,
          0.011158360060205909,
          0.004166246648396096,
          -0.0031363223696077,
          -0.00264291722621498,
          -0.014989550390921386,
          -0.003473566694708497,
          -0.0012076782459122838,
          0.003801351342610713,
          0.014201249877944582,
          0.002073732921053635,
          -0.00042433477762111003,
          -0.01013863555593004,
          -0.011435553654298956,
          -0.002992936545720321,
          -0.0004729781285457105,
          0.011146938750750918,
          0.007472242321189058,
          0.004461886239964854,
          0.0009782001471847605,
          -0.010867134654520147,
          -0.0074991197454652705,
          -0.009283199947775956,
          0.00021857586617449307,
          0.009275872690614521,
          0.006594811821982947,
          0.009511946360789702,
          -0.0008208827057437943,
          -0.008655924405903917,
          -0.007124901002168723,
          -0.008290273637198168,
          0.006914556548530338,
          0.00912998424762079,
          0.007741781048456941,
          0.00999216327382952,
          -0.0015519584687505713,
          -0.00690152945675434,
          -0.011045262873350297,
          -0.009191507384267848,
          0.0004943614045701196,
          0.0037526336252146322,
          0.012520325806832407,
          0.004565154000885517,
          -0.00026181733756507845,
          -0.0037611855618749726,
          -0.013694925101068678,
          -0.0023279645648663027,
          0.00028498152999436644,
          0.008140320760074257,
          0.009236404493730678,
          0.005267342885038367,
          0.001556036375775044,
          -0.008059164904848874,
          -0.008961390565365306,
          -0.007328466828674184,
          0.0017708307423517,
          0.008915592007144701,
          0.00815970142226676,
          0.004912100247541115,
          0.002437182727920554,
          -0.011834281541653249,
          -0.0063670110735545744,
          -0.005959256524892953,
          0.0003726742503671564,
          0.008599556092662814,
          0.007341332793076568,
          0.005643411531643206,
          -0.0012639626185078877,
          -0.010817846780896695,
          -0.006396460069241355,
          -0.007979377737853816,
          0.007592776762563436,
          0.005535494484771048,
          0.010633628744236758,
          0.006893643089432023,
          -0.005095947888315978,
          -0.005745988877512392,
          -0.010599030254082174,
          -0.008332343924918415,
          0.00364208907905593,
          0.0018168058332354597,
          0.013789116217838319,
          0.005155316412605614,
          -0.0031851064161813212,
          -0.009463149701077445,
          -0.010247181172418053,
          -0.003377029217047071,
          0.0020997011958762742,
          0.006476473294689193,
          0.00931137067114146,
          0.004815390025681184,
          0.0020379814378972457,
          -0.008225417547882304,
          -0.009133993478821883,
          -0.0013176572228489232,
          -0.001658044197753246,
          0.009407355460016219,
          0.006565137602760817,
          0.004211320329606399,
          -0.0008456349264678942,
          -0.010833541825769632,
          -0.006458514055312645,
          -0.004164821412918381,
          -0.0015631191249753785,
          0.010985125382470385,
          0.00789525782072294,
          0.007993750760032725,
          -0.0032188058430681135,
          -0.007959591529641052,
          -0.005933836975999127,
          -0.009794306088163666,
          0.006541418765142021,
          0.0028530869030579374,
          0.01250064030634215,
          0.0049302007747351,
          -0.005236227312627868,
          -0.0011512972914084194,
          -0.013001816293945737,
          -0.0028120634930823857,
          0.0030449444630975212,
          0.005096681994303792,
          0.01220548665896194,
          0.0033028173156612944,
          0.00010800020787581923,
          -0.0054741091584874745,
          -0.013294977617665571,
          -0.0004601961725428979
         ]
        },
        {
         "name": "Q",
         "type": "scatter",
         "x": [
          0,
          0.5,
          1,
          1.5,
          2,
          2.5,
          3,
          3.5,
          4,
          4.5,
          5,
          5.5,
          6,
          6.5,
          7,
          7.5,
          8,
          8.5,
          9,
          9.5,
          10,
          10.5,
          11,
          11.5,
          12,
          12.5,
          13,
          13.5,
          14,
          14.5,
          15,
          15.5,
          16,
          16.5,
          17,
          17.5,
          18,
          18.5,
          19,
          19.5,
          20,
          20.5,
          21,
          21.5,
          22,
          22.5,
          23,
          23.5,
          24,
          24.5,
          25,
          25.5,
          26,
          26.5,
          27,
          27.5,
          28,
          28.5,
          29,
          29.5,
          30,
          30.5,
          31,
          31.5,
          32,
          32.5,
          33,
          33.5,
          34,
          34.5,
          35,
          35.5,
          36,
          36.5,
          37,
          37.5,
          38,
          38.5,
          39,
          39.5,
          40,
          40.5,
          41,
          41.5,
          42,
          42.5,
          43,
          43.5,
          44,
          44.5,
          45,
          45.5,
          46,
          46.5,
          47,
          47.5,
          48,
          48.5,
          49,
          49.5,
          50,
          50.5,
          51,
          51.5,
          52,
          52.5,
          53,
          53.5,
          54,
          54.5,
          55,
          55.5,
          56,
          56.5,
          57,
          57.5,
          58,
          58.5,
          59,
          59.5,
          60,
          60.5,
          61,
          61.50000000000001,
          62,
          62.5,
          63,
          63.5,
          64,
          64.5,
          65,
          65.5,
          66,
          66.5,
          67,
          67.5,
          68,
          68.5,
          69,
          69.5,
          70,
          70.5,
          71,
          71.5,
          72,
          72.5,
          73,
          73.5,
          74,
          74.5,
          75,
          75.5,
          76,
          76.5,
          77,
          77.5,
          78,
          78.5,
          79,
          79.5
         ],
         "y": [
          -0.0073578024600520105,
          -0.004498451061002753,
          0.0007492156713902541,
          0.008277711977464788,
          0.008289219134760552,
          0.007895586446074002,
          -0.0040721476487607065,
          -0.00615669782125493,
          -0.011411841333622757,
          -0.005385348428713139,
          0.0019828903186195597,
          0.004960285015238308,
          0.0114254323239921,
          0.005977939496581642,
          -0.00017675576046622885,
          -0.003610436994019392,
          -0.010643473787949819,
          -0.0017871141050024675,
          0.0028747800010668475,
          0.0034533969582662967,
          0.012045057037086996,
          0.004164254326919286,
          -0.000035058864752169423,
          -0.008236959330715032,
          -0.014694870939159848,
          -0.006088689246333429,
          -0.002562832698739293,
          0.009583202144366173,
          0.011701860633978572,
          0.004563313958999281,
          -0.00018593043656052466,
          -0.007504807695372798,
          -0.008578039728124294,
          -0.008058018037594119,
          -0.0005520934283268611,
          0.00913349435256043,
          0.00966955398159922,
          0.008393263324456127,
          -0.00026913483250286024,
          -0.01055640347830192,
          -0.0057008150856286775,
          -0.008235402795879636,
          0.0029859491418373313,
          0.008107286392154044,
          0.0100645076572968,
          0.009044835512234287,
          -0.0029098508373885897,
          -0.00674946253861614,
          -0.012102088999578724,
          -0.00782829724619775,
          0.005920726646364061,
          0.006557528526273398,
          0.010378431885816311,
          0.002449906043384851,
          -0.004893290591849189,
          -0.0033783537333360245,
          -0.010927226536271685,
          -0.004487134188630993,
          0.002794441598035114,
          0.004489424596092526,
          0.012719834499439813,
          0.0035400211777154808,
          0.002563009511917542,
          -0.007338185390998736,
          -0.00987141402320447,
          -0.004927667195363314,
          -0.001898984443557586,
          0.010186778148554496,
          0.008880442051785708,
          0.005791407694782185,
          0.0017388143548415329,
          -0.00852427306223138,
          -0.0048939144981588936,
          -0.006226638480295985,
          -0.0016943497819024566,
          0.009091724350163033,
          0.006511320885117082,
          0.006309698725271459,
          -0.002744092807496398,
          -0.009173114593852274,
          -0.0018999954374782201,
          -0.008864540464306419,
          0.0022894218622903028,
          0.0083572610580422,
          0.00955035773828765,
          0.006052239203587604,
          -0.005674303329926483,
          -0.009670809008211946,
          -0.009297853729332315,
          -0.0034143525151628202,
          0.00163966544051538,
          0.003836921321380822,
          0.014561324193333393,
          0.006197523857590861,
          -0.00024235733912977234,
          -0.004873416428070294,
          -0.013684016826241874,
          -0.0030134505849188204,
          0.0016299921586425412,
          0.008803072313736733,
          0.010281528381775925,
          -0.00015200490890457862,
          0.0003575893829352744,
          -0.007643722609918866,
          -0.01555818237332686,
          -0.0017525558021462436,
          -0.0009099542836824845,
          0.010226945359779001,
          0.009129662426781858,
          0.0055393496436337295,
          -0.0005489256023491222,
          -0.012463691139635092,
          -0.008165287401089082,
          -0.004922824547085573,
          0.0009301256712468147,
          0.01037918440229501,
          0.008229052824427653,
          0.00962663562263833,
          0.0005561895443082997,
          -0.00890848611820602,
          -0.007300545018203894,
          -0.007189691726248009,
          0.005093273977861738,
          0.0071829168747789066,
          0.009802099182980386,
          0.009491944753608265,
          -0.0020481415602655846,
          -0.002593524299605424,
          -0.009387880225066517,
          -0.006087898589063894,
          0.003095426668721959,
          0.004837698359538208,
          0.009779274155214589,
          0.004391558690428426,
          -0.0011425984995292915,
          -0.006148315058954745,
          -0.012679919327097795,
          -0.002406268425082166,
          0.0033953394122761653,
          0.007893437019651816,
          0.012684929396502816,
          0.0018729718164739867,
          0.0030335555873397544,
          -0.011385251822748436,
          -0.011286460267830705,
          -0.005640706661760156,
          -0.003977191548749737,
          0.010659840341068828,
          0.002468743353334216,
          0.0028591016588845816,
          -0.0003924970184404418,
          -0.00856599832167491,
          -0.0054350604616261915,
          -0.007127231460528193,
          -0.00021829200317015633,
          0.013809617785140994,
          0.0034537942486670527,
          0.007239530049352347,
          -0.0052234453502844795,
          -0.008635938402653833
         ]
        }
       ],
       "layout": {
        "template": {
         "data": {
          "bar": [
           {
            "error_x": {
             "color": "#2a3f5f"
            },
            "error_y": {
             "color": "#2a3f5f"
            },
            "marker": {
             "line": {
              "color": "#E5ECF6",
              "width": 0.5
             },
             "pattern": {
              "fillmode": "overlay",
              "size": 10,
              "solidity": 0.2
             }
            },
            "type": "bar"
           }
          ],
          "barpolar": [
           {
            "marker": {
             "line": {
              "color": "#E5ECF6",
              "width": 0.5
             },
             "pattern": {
              "fillmode": "overlay",
              "size": 10,
              "solidity": 0.2
             }
            },
            "type": "barpolar"
           }
          ],
          "carpet": [
           {
            "aaxis": {
             "endlinecolor": "#2a3f5f",
             "gridcolor": "white",
             "linecolor": "white",
             "minorgridcolor": "white",
             "startlinecolor": "#2a3f5f"
            },
            "baxis": {
             "endlinecolor": "#2a3f5f",
             "gridcolor": "white",
             "linecolor": "white",
             "minorgridcolor": "white",
             "startlinecolor": "#2a3f5f"
            },
            "type": "carpet"
           }
          ],
          "choropleth": [
           {
            "colorbar": {
             "outlinewidth": 0,
             "ticks": ""
            },
            "type": "choropleth"
           }
          ],
          "contour": [
           {
            "colorbar": {
             "outlinewidth": 0,
             "ticks": ""
            },
            "colorscale": [
             [
              0,
              "#0d0887"
             ],
             [
              0.1111111111111111,
              "#46039f"
             ],
             [
              0.2222222222222222,
              "#7201a8"
             ],
             [
              0.3333333333333333,
              "#9c179e"
             ],
             [
              0.4444444444444444,
              "#bd3786"
             ],
             [
              0.5555555555555556,
              "#d8576b"
             ],
             [
              0.6666666666666666,
              "#ed7953"
             ],
             [
              0.7777777777777778,
              "#fb9f3a"
             ],
             [
              0.8888888888888888,
              "#fdca26"
             ],
             [
              1,
              "#f0f921"
             ]
            ],
            "type": "contour"
           }
          ],
          "contourcarpet": [
           {
            "colorbar": {
             "outlinewidth": 0,
             "ticks": ""
            },
            "type": "contourcarpet"
           }
          ],
          "heatmap": [
           {
            "colorbar": {
             "outlinewidth": 0,
             "ticks": ""
            },
            "colorscale": [
             [
              0,
              "#0d0887"
             ],
             [
              0.1111111111111111,
              "#46039f"
             ],
             [
              0.2222222222222222,
              "#7201a8"
             ],
             [
              0.3333333333333333,
              "#9c179e"
             ],
             [
              0.4444444444444444,
              "#bd3786"
             ],
             [
              0.5555555555555556,
              "#d8576b"
             ],
             [
              0.6666666666666666,
              "#ed7953"
             ],
             [
              0.7777777777777778,
              "#fb9f3a"
             ],
             [
              0.8888888888888888,
              "#fdca26"
             ],
             [
              1,
              "#f0f921"
             ]
            ],
            "type": "heatmap"
           }
          ],
          "heatmapgl": [
           {
            "colorbar": {
             "outlinewidth": 0,
             "ticks": ""
            },
            "colorscale": [
             [
              0,
              "#0d0887"
             ],
             [
              0.1111111111111111,
              "#46039f"
             ],
             [
              0.2222222222222222,
              "#7201a8"
             ],
             [
              0.3333333333333333,
              "#9c179e"
             ],
             [
              0.4444444444444444,
              "#bd3786"
             ],
             [
              0.5555555555555556,
              "#d8576b"
             ],
             [
              0.6666666666666666,
              "#ed7953"
             ],
             [
              0.7777777777777778,
              "#fb9f3a"
             ],
             [
              0.8888888888888888,
              "#fdca26"
             ],
             [
              1,
              "#f0f921"
             ]
            ],
            "type": "heatmapgl"
           }
          ],
          "histogram": [
           {
            "marker": {
             "pattern": {
              "fillmode": "overlay",
              "size": 10,
              "solidity": 0.2
             }
            },
            "type": "histogram"
           }
          ],
          "histogram2d": [
           {
            "colorbar": {
             "outlinewidth": 0,
             "ticks": ""
            },
            "colorscale": [
             [
              0,
              "#0d0887"
             ],
             [
              0.1111111111111111,
              "#46039f"
             ],
             [
              0.2222222222222222,
              "#7201a8"
             ],
             [
              0.3333333333333333,
              "#9c179e"
             ],
             [
              0.4444444444444444,
              "#bd3786"
             ],
             [
              0.5555555555555556,
              "#d8576b"
             ],
             [
              0.6666666666666666,
              "#ed7953"
             ],
             [
              0.7777777777777778,
              "#fb9f3a"
             ],
             [
              0.8888888888888888,
              "#fdca26"
             ],
             [
              1,
              "#f0f921"
             ]
            ],
            "type": "histogram2d"
           }
          ],
          "histogram2dcontour": [
           {
            "colorbar": {
             "outlinewidth": 0,
             "ticks": ""
            },
            "colorscale": [
             [
              0,
              "#0d0887"
             ],
             [
              0.1111111111111111,
              "#46039f"
             ],
             [
              0.2222222222222222,
              "#7201a8"
             ],
             [
              0.3333333333333333,
              "#9c179e"
             ],
             [
              0.4444444444444444,
              "#bd3786"
             ],
             [
              0.5555555555555556,
              "#d8576b"
             ],
             [
              0.6666666666666666,
              "#ed7953"
             ],
             [
              0.7777777777777778,
              "#fb9f3a"
             ],
             [
              0.8888888888888888,
              "#fdca26"
             ],
             [
              1,
              "#f0f921"
             ]
            ],
            "type": "histogram2dcontour"
           }
          ],
          "mesh3d": [
           {
            "colorbar": {
             "outlinewidth": 0,
             "ticks": ""
            },
            "type": "mesh3d"
           }
          ],
          "parcoords": [
           {
            "line": {
             "colorbar": {
              "outlinewidth": 0,
              "ticks": ""
             }
            },
            "type": "parcoords"
           }
          ],
          "pie": [
           {
            "automargin": true,
            "type": "pie"
           }
          ],
          "scatter": [
           {
            "fillpattern": {
             "fillmode": "overlay",
             "size": 10,
             "solidity": 0.2
            },
            "type": "scatter"
           }
          ],
          "scatter3d": [
           {
            "line": {
             "colorbar": {
              "outlinewidth": 0,
              "ticks": ""
             }
            },
            "marker": {
             "colorbar": {
              "outlinewidth": 0,
              "ticks": ""
             }
            },
            "type": "scatter3d"
           }
          ],
          "scattercarpet": [
           {
            "marker": {
             "colorbar": {
              "outlinewidth": 0,
              "ticks": ""
             }
            },
            "type": "scattercarpet"
           }
          ],
          "scattergeo": [
           {
            "marker": {
             "colorbar": {
              "outlinewidth": 0,
              "ticks": ""
             }
            },
            "type": "scattergeo"
           }
          ],
          "scattergl": [
           {
            "marker": {
             "colorbar": {
              "outlinewidth": 0,
              "ticks": ""
             }
            },
            "type": "scattergl"
           }
          ],
          "scattermapbox": [
           {
            "marker": {
             "colorbar": {
              "outlinewidth": 0,
              "ticks": ""
             }
            },
            "type": "scattermapbox"
           }
          ],
          "scatterpolar": [
           {
            "marker": {
             "colorbar": {
              "outlinewidth": 0,
              "ticks": ""
             }
            },
            "type": "scatterpolar"
           }
          ],
          "scatterpolargl": [
           {
            "marker": {
             "colorbar": {
              "outlinewidth": 0,
              "ticks": ""
             }
            },
            "type": "scatterpolargl"
           }
          ],
          "scatterternary": [
           {
            "marker": {
             "colorbar": {
              "outlinewidth": 0,
              "ticks": ""
             }
            },
            "type": "scatterternary"
           }
          ],
          "surface": [
           {
            "colorbar": {
             "outlinewidth": 0,
             "ticks": ""
            },
            "colorscale": [
             [
              0,
              "#0d0887"
             ],
             [
              0.1111111111111111,
              "#46039f"
             ],
             [
              0.2222222222222222,
              "#7201a8"
             ],
             [
              0.3333333333333333,
              "#9c179e"
             ],
             [
              0.4444444444444444,
              "#bd3786"
             ],
             [
              0.5555555555555556,
              "#d8576b"
             ],
             [
              0.6666666666666666,
              "#ed7953"
             ],
             [
              0.7777777777777778,
              "#fb9f3a"
             ],
             [
              0.8888888888888888,
              "#fdca26"
             ],
             [
              1,
              "#f0f921"
             ]
            ],
            "type": "surface"
           }
          ],
          "table": [
           {
            "cells": {
             "fill": {
              "color": "#EBF0F8"
             },
             "line": {
              "color": "white"
             }
            },
            "header": {
             "fill": {
              "color": "#C8D4E3"
             },
             "line": {
              "color": "white"
             }
            },
            "type": "table"
           }
          ]
         },
         "layout": {
          "annotationdefaults": {
           "arrowcolor": "#2a3f5f",
           "arrowhead": 0,
           "arrowwidth": 1
          },
          "autotypenumbers": "strict",
          "coloraxis": {
           "colorbar": {
            "outlinewidth": 0,
            "ticks": ""
           }
          },
          "colorscale": {
           "diverging": [
            [
             0,
             "#8e0152"
            ],
            [
             0.1,
             "#c51b7d"
            ],
            [
             0.2,
             "#de77ae"
            ],
            [
             0.3,
             "#f1b6da"
            ],
            [
             0.4,
             "#fde0ef"
            ],
            [
             0.5,
             "#f7f7f7"
            ],
            [
             0.6,
             "#e6f5d0"
            ],
            [
             0.7,
             "#b8e186"
            ],
            [
             0.8,
             "#7fbc41"
            ],
            [
             0.9,
             "#4d9221"
            ],
            [
             1,
             "#276419"
            ]
           ],
           "sequential": [
            [
             0,
             "#0d0887"
            ],
            [
             0.1111111111111111,
             "#46039f"
            ],
            [
             0.2222222222222222,
             "#7201a8"
            ],
            [
             0.3333333333333333,
             "#9c179e"
            ],
            [
             0.4444444444444444,
             "#bd3786"
            ],
            [
             0.5555555555555556,
             "#d8576b"
            ],
            [
             0.6666666666666666,
             "#ed7953"
            ],
            [
             0.7777777777777778,
             "#fb9f3a"
            ],
            [
             0.8888888888888888,
             "#fdca26"
            ],
            [
             1,
             "#f0f921"
            ]
           ],
           "sequentialminus": [
            [
             0,
             "#0d0887"
            ],
            [
             0.1111111111111111,
             "#46039f"
            ],
            [
             0.2222222222222222,
             "#7201a8"
            ],
            [
             0.3333333333333333,
             "#9c179e"
            ],
            [
             0.4444444444444444,
             "#bd3786"
            ],
            [
             0.5555555555555556,
             "#d8576b"
            ],
            [
             0.6666666666666666,
             "#ed7953"
            ],
            [
             0.7777777777777778,
             "#fb9f3a"
            ],
            [
             0.8888888888888888,
             "#fdca26"
            ],
            [
             1,
             "#f0f921"
            ]
           ]
          },
          "colorway": [
           "#636efa",
           "#EF553B",
           "#00cc96",
           "#ab63fa",
           "#FFA15A",
           "#19d3f3",
           "#FF6692",
           "#B6E880",
           "#FF97FF",
           "#FECB52"
          ],
          "font": {
           "color": "#2a3f5f"
          },
          "geo": {
           "bgcolor": "white",
           "lakecolor": "white",
           "landcolor": "#E5ECF6",
           "showlakes": true,
           "showland": true,
           "subunitcolor": "white"
          },
          "hoverlabel": {
           "align": "left"
          },
          "hovermode": "closest",
          "mapbox": {
           "style": "light"
          },
          "paper_bgcolor": "white",
          "plot_bgcolor": "#E5ECF6",
          "polar": {
           "angularaxis": {
            "gridcolor": "white",
            "linecolor": "white",
            "ticks": ""
           },
           "bgcolor": "#E5ECF6",
           "radialaxis": {
            "gridcolor": "white",
            "linecolor": "white",
            "ticks": ""
           }
          },
          "scene": {
           "xaxis": {
            "backgroundcolor": "#E5ECF6",
            "gridcolor": "white",
            "gridwidth": 2,
            "linecolor": "white",
            "showbackground": true,
            "ticks": "",
            "zerolinecolor": "white"
           },
           "yaxis": {
            "backgroundcolor": "#E5ECF6",
            "gridcolor": "white",
            "gridwidth": 2,
            "linecolor": "white",
            "showbackground": true,
            "ticks": "",
            "zerolinecolor": "white"
           },
           "zaxis": {
            "backgroundcolor": "#E5ECF6",
            "gridcolor": "white",
            "gridwidth": 2,
            "linecolor": "white",
            "showbackground": true,
            "ticks": "",
            "zerolinecolor": "white"
           }
          },
          "shapedefaults": {
           "line": {
            "color": "#2a3f5f"
           }
          },
          "ternary": {
           "aaxis": {
            "gridcolor": "white",
            "linecolor": "white",
            "ticks": ""
           },
           "baxis": {
            "gridcolor": "white",
            "linecolor": "white",
            "ticks": ""
           },
           "bgcolor": "#E5ECF6",
           "caxis": {
            "gridcolor": "white",
            "linecolor": "white",
            "ticks": ""
           }
          },
          "title": {
           "x": 0.05
          },
          "xaxis": {
           "automargin": true,
           "gridcolor": "white",
           "linecolor": "white",
           "ticks": "",
           "title": {
            "standoff": 15
           },
           "zerolinecolor": "white",
           "zerolinewidth": 2
          },
          "yaxis": {
           "automargin": true,
           "gridcolor": "white",
           "linecolor": "white",
           "ticks": "",
           "title": {
            "standoff": 15
           },
           "zerolinecolor": "white",
           "zerolinewidth": 2
          }
         }
        },
        "title": {
         "text": "I/Q Beat Signals for the First Chirp"
        },
        "xaxis": {
         "title": {
          "text": "Time (us)"
         }
        },
        "yaxis": {
         "title": {
          "text": "Amplitude (V)"
         }
        }
       }
      }
     },
     "metadata": {},
     "output_type": "display_data"
    }
   ],
   "source": [
    "import plotly.graph_objs as go\n",
    "\n",
    "fig = go.Figure()\n",
    "fig.add_trace(go.Scatter(\n",
    "    x=timestamp[0, 0, :]*1e6,\n",
    "    y=np.real(baseband[0, 0, :]),\n",
    "    name='I',\n",
    "))\n",
    "fig.add_trace(go.Scatter(\n",
    "    x=timestamp[0, 0, :]*1e6,\n",
    "    y=np.imag(baseband[0, 0, :]),\n",
    "    name='Q',\n",
    "))\n",
    "fig.update_layout(\n",
    "    title='I/Q Beat Signals for the First Chirp',\n",
    "    yaxis=dict(title='Amplitude (V)'),\n",
    "    xaxis=dict(title='Time (us)'),\n",
    ")\n",
    "fig.show()"
   ]
  },
  {
   "cell_type": "markdown",
   "metadata": {},
   "source": [
    "## Radar Signal Processing\n",
    "\n",
    "### Range Profile\n",
    "\n",
    "With an FMCW radar, the range profile of the targets could be obtained through a simple FFT across the samples of the chirp. This process is also known as the range-FFT.\n"
   ]
  },
  {
   "cell_type": "code",
   "execution_count": 11,
   "metadata": {},
   "outputs": [],
   "source": [
    "from scipy import signal\n",
    "import radarsimpy.processing as proc\n",
    "\n",
    "range_window = signal.windows.chebwin(radar.samples_per_pulse, at=60)\n",
    "range_profile = proc.range_fft(baseband, range_window)\n"
   ]
  },
  {
   "cell_type": "markdown",
   "metadata": {},
   "source": [
    "### CFAR\n",
    "\n",
    "The processing module of [`RadarSimPy`](https://radarsimx.com/radarsimx/radarsimpy/) incorporates both `CA-CFAR` and `OS-CFAR` algorithms. To calculate CFAR for 1-dimensional data, you can utilize the functions [cfar_ca_1d](https://radarsimx.github.io/radarsimpy/process.html#radarsimpy.processing.cfar_ca_1d) and [cfar_os_1d](https://radarsimx.github.io/radarsimpy/process.html#radarsimpy.processing.cfar_os_1d). On the other hand, for 2-dimensional data, you can make use of [cfar_ca_2d](https://radarsimx.github.io/radarsimpy/process.html#radarsimpy.processing.cfar_ca_2d) and [cfar_os_2d](https://radarsimx.github.io/radarsimpy/process.html#radarsimpy.processing.cfar_os_2d). This paragraph specifically focuses on demonstrating an example of 1-dimensional CFAR. However, if you are interested in exploring an example of 2-dimensional CFAR, you can refer to the [FMCW radar example](https://radarsimx.com/2021/05/10/fmcw-radar-with-a-corner-reflector/) available on the website.\n"
   ]
  },
  {
   "cell_type": "code",
   "execution_count": 12,
   "metadata": {},
   "outputs": [],
   "source": [
    "ca_cfar = proc.cfar_ca_1d(np.abs(\n",
    "    range_profile[0, 0, :])**2, guard=2, trailing=10, pfa=1e-4, detector='squarelaw')\n",
    "os_cfar = proc.cfar_os_1d(np.abs(\n",
    "    range_profile[0, 0, :])**2, guard=0, trailing=10, k=14, pfa=1e-4, detector='squarelaw')\n"
   ]
  },
  {
   "cell_type": "markdown",
   "metadata": {},
   "source": [
    "_Plot range profile and CFAR_\n"
   ]
  },
  {
   "cell_type": "code",
   "execution_count": 13,
   "metadata": {},
   "outputs": [
    {
     "data": {
      "application/vnd.plotly.v1+json": {
       "config": {
        "plotlyServerURL": "https://plot.ly"
       },
       "data": [
        {
         "name": "Range profile",
         "type": "scatter",
         "x": [
          0,
          1.5000000000000002,
          3.0000000000000004,
          4.500000000000001,
          6.000000000000001,
          7.500000000000001,
          9.000000000000002,
          10.500000000000002,
          12.000000000000002,
          13.500000000000002,
          15.000000000000002,
          16.500000000000004,
          18.000000000000004,
          19.500000000000004,
          21.000000000000004,
          22.500000000000004,
          24.000000000000004,
          25.500000000000004,
          27.000000000000004,
          28.500000000000004,
          30.000000000000004,
          31.500000000000004,
          33.00000000000001,
          34.50000000000001,
          36.00000000000001,
          37.50000000000001,
          39.00000000000001,
          40.50000000000001,
          42.00000000000001,
          43.50000000000001,
          45.00000000000001,
          46.50000000000001,
          48.00000000000001,
          49.50000000000001,
          51.00000000000001,
          52.50000000000001,
          54.00000000000001,
          55.50000000000001,
          57.00000000000001,
          58.50000000000001,
          60.00000000000001,
          61.50000000000001,
          63.00000000000001,
          64.50000000000001,
          66.00000000000001,
          67.50000000000001,
          69.00000000000001,
          70.50000000000001,
          72.00000000000001,
          73.50000000000001,
          75.00000000000001,
          76.50000000000001,
          78.00000000000001,
          79.50000000000001,
          81.00000000000001,
          82.50000000000001,
          84.00000000000001,
          85.50000000000001,
          87.00000000000001,
          88.50000000000001,
          90.00000000000001,
          91.50000000000001,
          93.00000000000001,
          94.50000000000001,
          96.00000000000001,
          97.50000000000001,
          99.00000000000001,
          100.50000000000001,
          102.00000000000001,
          103.50000000000001,
          105.00000000000001,
          106.50000000000001,
          108.00000000000001,
          109.50000000000001,
          111.00000000000001,
          112.50000000000001,
          114.00000000000001,
          115.50000000000001,
          117.00000000000001,
          118.50000000000001,
          120.00000000000001,
          121.50000000000001,
          123.00000000000001,
          124.50000000000001,
          126.00000000000001,
          127.50000000000001,
          129.00000000000003,
          130.50000000000003,
          132.00000000000003,
          133.50000000000003,
          135.00000000000003,
          136.50000000000003,
          138.00000000000003,
          139.50000000000003,
          141.00000000000003,
          142.50000000000003,
          144.00000000000003,
          145.50000000000003,
          147.00000000000003,
          148.50000000000003,
          150.00000000000003,
          151.50000000000003,
          153.00000000000003,
          154.50000000000003,
          156.00000000000003,
          157.50000000000003,
          159.00000000000003,
          160.50000000000003,
          162.00000000000003,
          163.50000000000003,
          165.00000000000003,
          166.50000000000003,
          168.00000000000003,
          169.50000000000003,
          171.00000000000003,
          172.50000000000003,
          174.00000000000003,
          175.50000000000003,
          177.00000000000003,
          178.50000000000003,
          180.00000000000003,
          181.50000000000003,
          183.00000000000003,
          184.50000000000003,
          186.00000000000003,
          187.50000000000003,
          189.00000000000003,
          190.50000000000003,
          192.00000000000003,
          193.50000000000003,
          195.00000000000003,
          196.50000000000003,
          198.00000000000003,
          199.50000000000003,
          201.00000000000003,
          202.50000000000003,
          204.00000000000003,
          205.50000000000003,
          207.00000000000003,
          208.50000000000003,
          210.00000000000003,
          211.50000000000003,
          213.00000000000003,
          214.50000000000003,
          216.00000000000003,
          217.50000000000003,
          219.00000000000003,
          220.50000000000003,
          222.00000000000003,
          223.50000000000003,
          225.00000000000003,
          226.50000000000003,
          228.00000000000003,
          229.50000000000003,
          231.00000000000003,
          232.50000000000003,
          234.00000000000003,
          235.50000000000003,
          237.00000000000003,
          238.50000000000003
         ],
         "y": [
          -39.50047242371529,
          -44.45999465919381,
          -54.23841508083157,
          -41.45717790896242,
          -42.3168362491262,
          -35.58931183312565,
          -31.909067256991612,
          -35.72405170710074,
          -37.47267765246532,
          -42.73381967712662,
          -36.62225025394462,
          -30.81300529224572,
          -30.3240817386218,
          -30.60858350107341,
          -31.20757233264161,
          -38.76969926677043,
          -33.243067550856196,
          -29.99619903039306,
          -49.5644217417866,
          -8.931733172019232,
          -2.6721425558446295,
          -8.235645421857779,
          -30.060992321941605,
          -32.79129437070266,
          -41.26058123157004,
          -38.67175384578346,
          -38.97987652960639,
          -37.90877207333369,
          -41.325020330022966,
          -33.05264848478092,
          -37.49308908057826,
          -45.2172928167397,
          -38.32562240405546,
          -34.15875923727431,
          -33.15089496570471,
          -34.43357787048737,
          -32.12322375511124,
          -34.82082610606079,
          -34.81001944639817,
          -33.73656437067108,
          -35.95864233700774,
          -35.7855284514343,
          -37.49086531634118,
          -36.60069008821457,
          -38.11152948764185,
          -44.66914726457637,
          -35.402232831920344,
          -34.443781295116224,
          -38.48587074332184,
          -35.2683312027117,
          -37.323799471526605,
          -34.36781705537066,
          -32.25259970359247,
          -32.483541979111365,
          -34.61223809251242,
          -29.76046764994415,
          -31.051530935665994,
          -34.568429778517014,
          -35.324166314619674,
          -35.854128669855285,
          -35.446390869633845,
          -33.244410552582096,
          -45.62612835820961,
          -20.47300380466808,
          -13.520723010045181,
          -18.50381875722131,
          -35.175294457898396,
          -37.29407608405192,
          -36.37567539958809,
          -32.03076428756071,
          -35.96700235194377,
          -40.90895041165767,
          -35.62333135359986,
          -34.494246440699115,
          -32.92325139578345,
          -36.59806148412415,
          -32.690455481250076,
          -32.239631766059524,
          -32.72140144395718,
          -28.918884987486372,
          -32.42230434115096,
          -39.4031671786419,
          -36.2209507016308,
          -33.74562834030978,
          -37.96494348505992,
          -45.56440618402619,
          -47.128745776462964,
          -40.37913505843249,
          -36.28631463613745,
          -34.314636970018896,
          -31.837689010285487,
          -30.82660433282191,
          -36.65236089405327,
          -43.963260304291296,
          -37.83108260822098,
          -40.14855682000703,
          -39.814565604066104,
          -38.0268864266502,
          -39.52832153410082,
          -45.95431103419366,
          -44.00242083587912,
          -34.32936743012549,
          -29.224813202732886,
          -30.405852499276275,
          -38.091872157500816,
          -34.75754944743903,
          -33.2555797278391,
          -34.76259976310283,
          -39.9491654067562,
          -38.60223892878254,
          -34.90688208714835,
          -35.96640398429122,
          -39.518028838840024,
          -39.17693107731259,
          -53.53033574793323,
          -35.475239609131904,
          -34.65415610843693,
          -33.68015027331385,
          -35.88024220376116,
          -31.32437643118745,
          -37.93759762243451,
          -33.02698338297746,
          -29.38984286080444,
          -30.893194400897887,
          -33.82661327311744,
          -39.16280373067742,
          -31.08163719682501,
          -31.086295127331095,
          -34.40541659506306,
          -29.631455362006133,
          -33.55925150847518,
          -35.083955218692246,
          -37.31656479694572,
          -43.440685850868554,
          -38.030934333582366,
          -37.31714972803151,
          -47.75616639137462,
          -41.33708431405098,
          -38.048779508134835,
          -38.0487438537577,
          -40.05960728628894,
          -32.88028502765114,
          -30.673504383044335,
          -33.601938894581934,
          -36.3837207480065,
          -32.86012377743341,
          -34.39519128900152,
          -41.3065681163545,
          -40.930931309506065,
          -37.132979731336356,
          -33.78132171509919,
          -33.28552398104248,
          -31.790746203635592,
          -39.97951291147387,
          -38.95455076930689,
          -39.29847518718124,
          -41.76599384498444,
          -37.85909847208273,
          -36.0430300436561,
          -45.062135486812245
         ]
        },
        {
         "name": "CA-CFAR",
         "type": "scatter",
         "x": [
          0,
          1.5000000000000002,
          3.0000000000000004,
          4.500000000000001,
          6.000000000000001,
          7.500000000000001,
          9.000000000000002,
          10.500000000000002,
          12.000000000000002,
          13.500000000000002,
          15.000000000000002,
          16.500000000000004,
          18.000000000000004,
          19.500000000000004,
          21.000000000000004,
          22.500000000000004,
          24.000000000000004,
          25.500000000000004,
          27.000000000000004,
          28.500000000000004,
          30.000000000000004,
          31.500000000000004,
          33.00000000000001,
          34.50000000000001,
          36.00000000000001,
          37.50000000000001,
          39.00000000000001,
          40.50000000000001,
          42.00000000000001,
          43.50000000000001,
          45.00000000000001,
          46.50000000000001,
          48.00000000000001,
          49.50000000000001,
          51.00000000000001,
          52.50000000000001,
          54.00000000000001,
          55.50000000000001,
          57.00000000000001,
          58.50000000000001,
          60.00000000000001,
          61.50000000000001,
          63.00000000000001,
          64.50000000000001,
          66.00000000000001,
          67.50000000000001,
          69.00000000000001,
          70.50000000000001,
          72.00000000000001,
          73.50000000000001,
          75.00000000000001,
          76.50000000000001,
          78.00000000000001,
          79.50000000000001,
          81.00000000000001,
          82.50000000000001,
          84.00000000000001,
          85.50000000000001,
          87.00000000000001,
          88.50000000000001,
          90.00000000000001,
          91.50000000000001,
          93.00000000000001,
          94.50000000000001,
          96.00000000000001,
          97.50000000000001,
          99.00000000000001,
          100.50000000000001,
          102.00000000000001,
          103.50000000000001,
          105.00000000000001,
          106.50000000000001,
          108.00000000000001,
          109.50000000000001,
          111.00000000000001,
          112.50000000000001,
          114.00000000000001,
          115.50000000000001,
          117.00000000000001,
          118.50000000000001,
          120.00000000000001,
          121.50000000000001,
          123.00000000000001,
          124.50000000000001,
          126.00000000000001,
          127.50000000000001,
          129.00000000000003,
          130.50000000000003,
          132.00000000000003,
          133.50000000000003,
          135.00000000000003,
          136.50000000000003,
          138.00000000000003,
          139.50000000000003,
          141.00000000000003,
          142.50000000000003,
          144.00000000000003,
          145.50000000000003,
          147.00000000000003,
          148.50000000000003,
          150.00000000000003,
          151.50000000000003,
          153.00000000000003,
          154.50000000000003,
          156.00000000000003,
          157.50000000000003,
          159.00000000000003,
          160.50000000000003,
          162.00000000000003,
          163.50000000000003,
          165.00000000000003,
          166.50000000000003,
          168.00000000000003,
          169.50000000000003,
          171.00000000000003,
          172.50000000000003,
          174.00000000000003,
          175.50000000000003,
          177.00000000000003,
          178.50000000000003,
          180.00000000000003,
          181.50000000000003,
          183.00000000000003,
          184.50000000000003,
          186.00000000000003,
          187.50000000000003,
          189.00000000000003,
          190.50000000000003,
          192.00000000000003,
          193.50000000000003,
          195.00000000000003,
          196.50000000000003,
          198.00000000000003,
          199.50000000000003,
          201.00000000000003,
          202.50000000000003,
          204.00000000000003,
          205.50000000000003,
          207.00000000000003,
          208.50000000000003,
          210.00000000000003,
          211.50000000000003,
          213.00000000000003,
          214.50000000000003,
          216.00000000000003,
          217.50000000000003,
          219.00000000000003,
          220.50000000000003,
          222.00000000000003,
          223.50000000000003,
          225.00000000000003,
          226.50000000000003,
          228.00000000000003,
          229.50000000000003,
          231.00000000000003,
          232.50000000000003,
          234.00000000000003,
          235.50000000000003,
          237.00000000000003,
          238.50000000000003
         ],
         "y": [
          -26.857034314913033,
          -25.97113887009207,
          -25.320604282540252,
          -25.347638581550992,
          -25.46636931602083,
          -24.85273606957795,
          -24.92824139072406,
          -11.078030304626967,
          -4.043053096641973,
          -3.170652008180614,
          -3.1689358343420295,
          -3.1698023715085344,
          -3.173119557464084,
          -3.1725473420847417,
          -3.170195711862764,
          -3.16974611360124,
          -3.165213922014021,
          -3.8893857217353442,
          -10.349397184733295,
          -23.580961025063345,
          -23.64269802754467,
          -23.828768315151084,
          -11.015509176639762,
          -4.03093846249527,
          -3.1615678908607903,
          -3.160381027271279,
          -3.160837109883741,
          -3.164807713619827,
          -3.1643944381887996,
          -3.1649924730317114,
          -3.16924756636727,
          -3.1697873501257554,
          -3.9011977703878085,
          -10.407018106777116,
          -25.117656725049034,
          -25.84274673810136,
          -26.177878414181926,
          -25.88898124925747,
          -25.737767651553575,
          -25.210645337614643,
          -24.743590141124365,
          -24.309844067881855,
          -24.22895853133628,
          -23.54688330024647,
          -23.146026036065876,
          -23.135036833289245,
          -23.14199938589368,
          -23.338632069587774,
          -23.46426816727755,
          -23.588456689297818,
          -23.912514699695922,
          -20.522257216312703,
          -14.610113469454475,
          -13.747951859317409,
          -13.770853160255358,
          -13.755488482491876,
          -13.7384759212131,
          -13.705080176291588,
          -13.646436768574013,
          -13.640320611254007,
          -13.626457908702815,
          -14.152430545476841,
          -18.957780412045654,
          -23.330839022738694,
          -23.14744936149125,
          -23.230722885989422,
          -20.067581776912565,
          -14.43347903549218,
          -13.58007483618118,
          -13.606081358736757,
          -13.617636097312147,
          -13.617418303233844,
          -13.616461071359108,
          -13.62952654796414,
          -13.683260479005346,
          -13.698643683119062,
          -14.26447397902922,
          -19.49946527037831,
          -25.026198721194643,
          -24.321705741127847,
          -24.062935294282305,
          -24.113695989506393,
          -23.70090297708249,
          -23.47560577764899,
          -23.409047098858757,
          -23.392010617971437,
          -23.42366219068883,
          -23.830627431347743,
          -24.35594504337271,
          -25.09107495885253,
          -24.71882738392328,
          -24.30860912099608,
          -24.99113960471159,
          -24.741726882349266,
          -23.99266153339728,
          -23.895714261957156,
          -24.14720881411165,
          -24.070281901021396,
          -23.84771806077942,
          -23.866796330593004,
          -24.547226172988186,
          -25.264549770022548,
          -25.70974330089477,
          -26.390492533623785,
          -27.094949462044752,
          -25.883514539394504,
          -24.974025653998268,
          -24.527060259983063,
          -24.473045500522,
          -24.057360347529524,
          -23.33498283045362,
          -22.976319269812393,
          -22.720633316164182,
          -22.66345659072321,
          -22.51535434516624,
          -22.861281392747546,
          -23.21154349997661,
          -23.10605415420191,
          -22.988764257356472,
          -23.152576984294054,
          -23.63559797020058,
          -24.010242595060337,
          -23.79669769101652,
          -23.85683333493379,
          -24.188901826315934,
          -23.971892431700063,
          -23.67344532895208,
          -23.993898853662262,
          -24.32764756968684,
          -23.906889395572847,
          -23.31192168647786,
          -23.05016294296744,
          -22.838043503828974,
          -22.54906678658064,
          -22.477116370325355,
          -22.933843509180967,
          -23.37746192147843,
          -23.5009207306889,
          -23.287687810811263,
          -23.74929989716918,
          -24.32789315874123,
          -24.71765101870306,
          -25.57585769439765,
          -26.316091386277584,
          -26.417176841531372,
          -25.643687665443746,
          -25.15181769386377,
          -25.227127653776403,
          -25.301007151472156,
          -25.40784241596116,
          -26.034742654232428,
          -26.218480839195763,
          -26.31572531694394,
          -26.10090787614674,
          -26.218923743505545,
          -26.617357860757373,
          -27.35860180988608,
          -27.547809931406675,
          -28.167821801353497,
          -28.69290820133813
         ]
        },
        {
         "name": "OS-CFAR",
         "type": "scatter",
         "x": [
          0,
          1.5000000000000002,
          3.0000000000000004,
          4.500000000000001,
          6.000000000000001,
          7.500000000000001,
          9.000000000000002,
          10.500000000000002,
          12.000000000000002,
          13.500000000000002,
          15.000000000000002,
          16.500000000000004,
          18.000000000000004,
          19.500000000000004,
          21.000000000000004,
          22.500000000000004,
          24.000000000000004,
          25.500000000000004,
          27.000000000000004,
          28.500000000000004,
          30.000000000000004,
          31.500000000000004,
          33.00000000000001,
          34.50000000000001,
          36.00000000000001,
          37.50000000000001,
          39.00000000000001,
          40.50000000000001,
          42.00000000000001,
          43.50000000000001,
          45.00000000000001,
          46.50000000000001,
          48.00000000000001,
          49.50000000000001,
          51.00000000000001,
          52.50000000000001,
          54.00000000000001,
          55.50000000000001,
          57.00000000000001,
          58.50000000000001,
          60.00000000000001,
          61.50000000000001,
          63.00000000000001,
          64.50000000000001,
          66.00000000000001,
          67.50000000000001,
          69.00000000000001,
          70.50000000000001,
          72.00000000000001,
          73.50000000000001,
          75.00000000000001,
          76.50000000000001,
          78.00000000000001,
          79.50000000000001,
          81.00000000000001,
          82.50000000000001,
          84.00000000000001,
          85.50000000000001,
          87.00000000000001,
          88.50000000000001,
          90.00000000000001,
          91.50000000000001,
          93.00000000000001,
          94.50000000000001,
          96.00000000000001,
          97.50000000000001,
          99.00000000000001,
          100.50000000000001,
          102.00000000000001,
          103.50000000000001,
          105.00000000000001,
          106.50000000000001,
          108.00000000000001,
          109.50000000000001,
          111.00000000000001,
          112.50000000000001,
          114.00000000000001,
          115.50000000000001,
          117.00000000000001,
          118.50000000000001,
          120.00000000000001,
          121.50000000000001,
          123.00000000000001,
          124.50000000000001,
          126.00000000000001,
          127.50000000000001,
          129.00000000000003,
          130.50000000000003,
          132.00000000000003,
          133.50000000000003,
          135.00000000000003,
          136.50000000000003,
          138.00000000000003,
          139.50000000000003,
          141.00000000000003,
          142.50000000000003,
          144.00000000000003,
          145.50000000000003,
          147.00000000000003,
          148.50000000000003,
          150.00000000000003,
          151.50000000000003,
          153.00000000000003,
          154.50000000000003,
          156.00000000000003,
          157.50000000000003,
          159.00000000000003,
          160.50000000000003,
          162.00000000000003,
          163.50000000000003,
          165.00000000000003,
          166.50000000000003,
          168.00000000000003,
          169.50000000000003,
          171.00000000000003,
          172.50000000000003,
          174.00000000000003,
          175.50000000000003,
          177.00000000000003,
          178.50000000000003,
          180.00000000000003,
          181.50000000000003,
          183.00000000000003,
          184.50000000000003,
          186.00000000000003,
          187.50000000000003,
          189.00000000000003,
          190.50000000000003,
          192.00000000000003,
          193.50000000000003,
          195.00000000000003,
          196.50000000000003,
          198.00000000000003,
          199.50000000000003,
          201.00000000000003,
          202.50000000000003,
          204.00000000000003,
          205.50000000000003,
          207.00000000000003,
          208.50000000000003,
          210.00000000000003,
          211.50000000000003,
          213.00000000000003,
          214.50000000000003,
          216.00000000000003,
          217.50000000000003,
          219.00000000000003,
          220.50000000000003,
          222.00000000000003,
          223.50000000000003,
          225.00000000000003,
          226.50000000000003,
          228.00000000000003,
          229.50000000000003,
          231.00000000000003,
          232.50000000000003,
          234.00000000000003,
          235.50000000000003,
          237.00000000000003,
          238.50000000000003
         ],
         "y": [
          -25.058931479953056,
          -25.058931479953056,
          -25.058931479953056,
          -25.058931479953056,
          -24.924191605977963,
          -25.058931479953056,
          -24.924191605977963,
          -21.243947029843927,
          -21.243947029843927,
          -20.542452105493926,
          -20.14788506509803,
          -19.943463273925726,
          -19.943463273925726,
          -19.658961511474114,
          -19.658961511474114,
          -19.658961511474114,
          -19.658961511474114,
          -19.943463273925726,
          -19.658961511474114,
          -19.943463273925726,
          -19.943463273925726,
          -19.943463273925726,
          -19.943463273925726,
          -19.943463273925726,
          -20.542452105493926,
          -22.126174143554973,
          -21.458103527963562,
          -21.458103527963562,
          -22.126174143554973,
          -22.126174143554973,
          -22.387528257633228,
          -22.485774738557023,
          -23.071444143523397,
          -23.768457643339683,
          -24.14489921925049,
          -24.14489921925049,
          -24.14489921925049,
          -23.768457643339683,
          -23.768457643339683,
          -23.778661067968542,
          -23.778661067968542,
          -23.768457643339683,
          -23.70269682822297,
          -23.493639010126625,
          -23.70269682822297,
          -23.70269682822297,
          -23.071444143523397,
          -23.70269682822297,
          -23.70269682822297,
          -23.70269682822297,
          -23.778661067968542,
          -23.778661067968542,
          -23.778661067968542,
          -23.70269682822297,
          -21.818421751963683,
          -21.818421751963683,
          -21.818421751963683,
          -21.587479476444788,
          -21.587479476444788,
          -21.36564406041302,
          -21.36564406041302,
          -21.36564406041302,
          -21.36564406041302,
          -21.818421751963683,
          -22.258131168635767,
          -22.258131168635767,
          -22.02533525410239,
          -22.02533525410239,
          -22.02533525410239,
          -22.02533525410239,
          -21.57451153891184,
          -21.57451153891184,
          -21.57451153891184,
          -21.57451153891184,
          -21.757184114003273,
          -22.02533525410239,
          -22.258131168635767,
          -22.258131168635767,
          -22.258131168635767,
          -22.258131168635767,
          -22.258131168635767,
          -22.02533525410239,
          -22.02533525410239,
          -22.02533525410239,
          -22.02533525410239,
          -22.02533525410239,
          -22.02533525410239,
          -22.056281216809488,
          -23.0805081131621,
          -25.55583047448312,
          -25.62119440898976,
          -25.62119440898976,
          -23.664247202977798,
          -23.649516742871214,
          -23.664247202977798,
          -23.664247202977798,
          -23.649516742871214,
          -23.649516742871214,
          -23.649516742871214,
          -23.649516742871214,
          -23.664247202977798,
          -24.097479535955138,
          -24.241761860000658,
          -24.241761860000658,
          -24.097479535955138,
          -24.241761860000658,
          -24.097479535955138,
          -23.989035881289247,
          -23.989035881289247,
          -23.664247202977798,
          -23.664247202977798,
          -23.015030046166164,
          -22.59045950069141,
          -22.59045950069141,
          -23.015030046166164,
          -23.015030046166164,
          -22.59045950069141,
          -22.361863155829774,
          -22.361863155829774,
          -22.361863155829774,
          -20.659256204039764,
          -20.659256204039764,
          -22.361863155829774,
          -22.361863155829774,
          -20.659256204039764,
          -20.659256204039764,
          -22.361863155829774,
          -22.361863155829774,
          -20.659256204039764,
          -22.361863155829774,
          -22.361863155829774,
          -22.215164800503455,
          -20.42117490018341,
          -22.215164800503455,
          -22.894131281327496,
          -22.215164800503455,
          -22.215164800503455,
          -22.894131281327496,
          -22.936818667434245,
          -22.936818667434245,
          -23.116201487951503,
          -23.73007106185383,
          -23.116201487951503,
          -23.116201487951503,
          -22.936818667434245,
          -23.116201487951503,
          -22.936818667434245,
          -22.936818667434245,
          -22.936818667434245,
          -22.936818667434245,
          -22.936818667434245,
          -23.116201487951503,
          -23.73007106185383,
          -23.73007106185383,
          -25.377909816508417,
          -24.924191605977963,
          -24.924191605977963,
          -25.058931479953056,
          -25.058931479953056,
          -25.058931479953056
         ]
        }
       ],
       "layout": {
        "template": {
         "data": {
          "bar": [
           {
            "error_x": {
             "color": "#2a3f5f"
            },
            "error_y": {
             "color": "#2a3f5f"
            },
            "marker": {
             "line": {
              "color": "#E5ECF6",
              "width": 0.5
             },
             "pattern": {
              "fillmode": "overlay",
              "size": 10,
              "solidity": 0.2
             }
            },
            "type": "bar"
           }
          ],
          "barpolar": [
           {
            "marker": {
             "line": {
              "color": "#E5ECF6",
              "width": 0.5
             },
             "pattern": {
              "fillmode": "overlay",
              "size": 10,
              "solidity": 0.2
             }
            },
            "type": "barpolar"
           }
          ],
          "carpet": [
           {
            "aaxis": {
             "endlinecolor": "#2a3f5f",
             "gridcolor": "white",
             "linecolor": "white",
             "minorgridcolor": "white",
             "startlinecolor": "#2a3f5f"
            },
            "baxis": {
             "endlinecolor": "#2a3f5f",
             "gridcolor": "white",
             "linecolor": "white",
             "minorgridcolor": "white",
             "startlinecolor": "#2a3f5f"
            },
            "type": "carpet"
           }
          ],
          "choropleth": [
           {
            "colorbar": {
             "outlinewidth": 0,
             "ticks": ""
            },
            "type": "choropleth"
           }
          ],
          "contour": [
           {
            "colorbar": {
             "outlinewidth": 0,
             "ticks": ""
            },
            "colorscale": [
             [
              0,
              "#0d0887"
             ],
             [
              0.1111111111111111,
              "#46039f"
             ],
             [
              0.2222222222222222,
              "#7201a8"
             ],
             [
              0.3333333333333333,
              "#9c179e"
             ],
             [
              0.4444444444444444,
              "#bd3786"
             ],
             [
              0.5555555555555556,
              "#d8576b"
             ],
             [
              0.6666666666666666,
              "#ed7953"
             ],
             [
              0.7777777777777778,
              "#fb9f3a"
             ],
             [
              0.8888888888888888,
              "#fdca26"
             ],
             [
              1,
              "#f0f921"
             ]
            ],
            "type": "contour"
           }
          ],
          "contourcarpet": [
           {
            "colorbar": {
             "outlinewidth": 0,
             "ticks": ""
            },
            "type": "contourcarpet"
           }
          ],
          "heatmap": [
           {
            "colorbar": {
             "outlinewidth": 0,
             "ticks": ""
            },
            "colorscale": [
             [
              0,
              "#0d0887"
             ],
             [
              0.1111111111111111,
              "#46039f"
             ],
             [
              0.2222222222222222,
              "#7201a8"
             ],
             [
              0.3333333333333333,
              "#9c179e"
             ],
             [
              0.4444444444444444,
              "#bd3786"
             ],
             [
              0.5555555555555556,
              "#d8576b"
             ],
             [
              0.6666666666666666,
              "#ed7953"
             ],
             [
              0.7777777777777778,
              "#fb9f3a"
             ],
             [
              0.8888888888888888,
              "#fdca26"
             ],
             [
              1,
              "#f0f921"
             ]
            ],
            "type": "heatmap"
           }
          ],
          "heatmapgl": [
           {
            "colorbar": {
             "outlinewidth": 0,
             "ticks": ""
            },
            "colorscale": [
             [
              0,
              "#0d0887"
             ],
             [
              0.1111111111111111,
              "#46039f"
             ],
             [
              0.2222222222222222,
              "#7201a8"
             ],
             [
              0.3333333333333333,
              "#9c179e"
             ],
             [
              0.4444444444444444,
              "#bd3786"
             ],
             [
              0.5555555555555556,
              "#d8576b"
             ],
             [
              0.6666666666666666,
              "#ed7953"
             ],
             [
              0.7777777777777778,
              "#fb9f3a"
             ],
             [
              0.8888888888888888,
              "#fdca26"
             ],
             [
              1,
              "#f0f921"
             ]
            ],
            "type": "heatmapgl"
           }
          ],
          "histogram": [
           {
            "marker": {
             "pattern": {
              "fillmode": "overlay",
              "size": 10,
              "solidity": 0.2
             }
            },
            "type": "histogram"
           }
          ],
          "histogram2d": [
           {
            "colorbar": {
             "outlinewidth": 0,
             "ticks": ""
            },
            "colorscale": [
             [
              0,
              "#0d0887"
             ],
             [
              0.1111111111111111,
              "#46039f"
             ],
             [
              0.2222222222222222,
              "#7201a8"
             ],
             [
              0.3333333333333333,
              "#9c179e"
             ],
             [
              0.4444444444444444,
              "#bd3786"
             ],
             [
              0.5555555555555556,
              "#d8576b"
             ],
             [
              0.6666666666666666,
              "#ed7953"
             ],
             [
              0.7777777777777778,
              "#fb9f3a"
             ],
             [
              0.8888888888888888,
              "#fdca26"
             ],
             [
              1,
              "#f0f921"
             ]
            ],
            "type": "histogram2d"
           }
          ],
          "histogram2dcontour": [
           {
            "colorbar": {
             "outlinewidth": 0,
             "ticks": ""
            },
            "colorscale": [
             [
              0,
              "#0d0887"
             ],
             [
              0.1111111111111111,
              "#46039f"
             ],
             [
              0.2222222222222222,
              "#7201a8"
             ],
             [
              0.3333333333333333,
              "#9c179e"
             ],
             [
              0.4444444444444444,
              "#bd3786"
             ],
             [
              0.5555555555555556,
              "#d8576b"
             ],
             [
              0.6666666666666666,
              "#ed7953"
             ],
             [
              0.7777777777777778,
              "#fb9f3a"
             ],
             [
              0.8888888888888888,
              "#fdca26"
             ],
             [
              1,
              "#f0f921"
             ]
            ],
            "type": "histogram2dcontour"
           }
          ],
          "mesh3d": [
           {
            "colorbar": {
             "outlinewidth": 0,
             "ticks": ""
            },
            "type": "mesh3d"
           }
          ],
          "parcoords": [
           {
            "line": {
             "colorbar": {
              "outlinewidth": 0,
              "ticks": ""
             }
            },
            "type": "parcoords"
           }
          ],
          "pie": [
           {
            "automargin": true,
            "type": "pie"
           }
          ],
          "scatter": [
           {
            "fillpattern": {
             "fillmode": "overlay",
             "size": 10,
             "solidity": 0.2
            },
            "type": "scatter"
           }
          ],
          "scatter3d": [
           {
            "line": {
             "colorbar": {
              "outlinewidth": 0,
              "ticks": ""
             }
            },
            "marker": {
             "colorbar": {
              "outlinewidth": 0,
              "ticks": ""
             }
            },
            "type": "scatter3d"
           }
          ],
          "scattercarpet": [
           {
            "marker": {
             "colorbar": {
              "outlinewidth": 0,
              "ticks": ""
             }
            },
            "type": "scattercarpet"
           }
          ],
          "scattergeo": [
           {
            "marker": {
             "colorbar": {
              "outlinewidth": 0,
              "ticks": ""
             }
            },
            "type": "scattergeo"
           }
          ],
          "scattergl": [
           {
            "marker": {
             "colorbar": {
              "outlinewidth": 0,
              "ticks": ""
             }
            },
            "type": "scattergl"
           }
          ],
          "scattermapbox": [
           {
            "marker": {
             "colorbar": {
              "outlinewidth": 0,
              "ticks": ""
             }
            },
            "type": "scattermapbox"
           }
          ],
          "scatterpolar": [
           {
            "marker": {
             "colorbar": {
              "outlinewidth": 0,
              "ticks": ""
             }
            },
            "type": "scatterpolar"
           }
          ],
          "scatterpolargl": [
           {
            "marker": {
             "colorbar": {
              "outlinewidth": 0,
              "ticks": ""
             }
            },
            "type": "scatterpolargl"
           }
          ],
          "scatterternary": [
           {
            "marker": {
             "colorbar": {
              "outlinewidth": 0,
              "ticks": ""
             }
            },
            "type": "scatterternary"
           }
          ],
          "surface": [
           {
            "colorbar": {
             "outlinewidth": 0,
             "ticks": ""
            },
            "colorscale": [
             [
              0,
              "#0d0887"
             ],
             [
              0.1111111111111111,
              "#46039f"
             ],
             [
              0.2222222222222222,
              "#7201a8"
             ],
             [
              0.3333333333333333,
              "#9c179e"
             ],
             [
              0.4444444444444444,
              "#bd3786"
             ],
             [
              0.5555555555555556,
              "#d8576b"
             ],
             [
              0.6666666666666666,
              "#ed7953"
             ],
             [
              0.7777777777777778,
              "#fb9f3a"
             ],
             [
              0.8888888888888888,
              "#fdca26"
             ],
             [
              1,
              "#f0f921"
             ]
            ],
            "type": "surface"
           }
          ],
          "table": [
           {
            "cells": {
             "fill": {
              "color": "#EBF0F8"
             },
             "line": {
              "color": "white"
             }
            },
            "header": {
             "fill": {
              "color": "#C8D4E3"
             },
             "line": {
              "color": "white"
             }
            },
            "type": "table"
           }
          ]
         },
         "layout": {
          "annotationdefaults": {
           "arrowcolor": "#2a3f5f",
           "arrowhead": 0,
           "arrowwidth": 1
          },
          "autotypenumbers": "strict",
          "coloraxis": {
           "colorbar": {
            "outlinewidth": 0,
            "ticks": ""
           }
          },
          "colorscale": {
           "diverging": [
            [
             0,
             "#8e0152"
            ],
            [
             0.1,
             "#c51b7d"
            ],
            [
             0.2,
             "#de77ae"
            ],
            [
             0.3,
             "#f1b6da"
            ],
            [
             0.4,
             "#fde0ef"
            ],
            [
             0.5,
             "#f7f7f7"
            ],
            [
             0.6,
             "#e6f5d0"
            ],
            [
             0.7,
             "#b8e186"
            ],
            [
             0.8,
             "#7fbc41"
            ],
            [
             0.9,
             "#4d9221"
            ],
            [
             1,
             "#276419"
            ]
           ],
           "sequential": [
            [
             0,
             "#0d0887"
            ],
            [
             0.1111111111111111,
             "#46039f"
            ],
            [
             0.2222222222222222,
             "#7201a8"
            ],
            [
             0.3333333333333333,
             "#9c179e"
            ],
            [
             0.4444444444444444,
             "#bd3786"
            ],
            [
             0.5555555555555556,
             "#d8576b"
            ],
            [
             0.6666666666666666,
             "#ed7953"
            ],
            [
             0.7777777777777778,
             "#fb9f3a"
            ],
            [
             0.8888888888888888,
             "#fdca26"
            ],
            [
             1,
             "#f0f921"
            ]
           ],
           "sequentialminus": [
            [
             0,
             "#0d0887"
            ],
            [
             0.1111111111111111,
             "#46039f"
            ],
            [
             0.2222222222222222,
             "#7201a8"
            ],
            [
             0.3333333333333333,
             "#9c179e"
            ],
            [
             0.4444444444444444,
             "#bd3786"
            ],
            [
             0.5555555555555556,
             "#d8576b"
            ],
            [
             0.6666666666666666,
             "#ed7953"
            ],
            [
             0.7777777777777778,
             "#fb9f3a"
            ],
            [
             0.8888888888888888,
             "#fdca26"
            ],
            [
             1,
             "#f0f921"
            ]
           ]
          },
          "colorway": [
           "#636efa",
           "#EF553B",
           "#00cc96",
           "#ab63fa",
           "#FFA15A",
           "#19d3f3",
           "#FF6692",
           "#B6E880",
           "#FF97FF",
           "#FECB52"
          ],
          "font": {
           "color": "#2a3f5f"
          },
          "geo": {
           "bgcolor": "white",
           "lakecolor": "white",
           "landcolor": "#E5ECF6",
           "showlakes": true,
           "showland": true,
           "subunitcolor": "white"
          },
          "hoverlabel": {
           "align": "left"
          },
          "hovermode": "closest",
          "mapbox": {
           "style": "light"
          },
          "paper_bgcolor": "white",
          "plot_bgcolor": "#E5ECF6",
          "polar": {
           "angularaxis": {
            "gridcolor": "white",
            "linecolor": "white",
            "ticks": ""
           },
           "bgcolor": "#E5ECF6",
           "radialaxis": {
            "gridcolor": "white",
            "linecolor": "white",
            "ticks": ""
           }
          },
          "scene": {
           "xaxis": {
            "backgroundcolor": "#E5ECF6",
            "gridcolor": "white",
            "gridwidth": 2,
            "linecolor": "white",
            "showbackground": true,
            "ticks": "",
            "zerolinecolor": "white"
           },
           "yaxis": {
            "backgroundcolor": "#E5ECF6",
            "gridcolor": "white",
            "gridwidth": 2,
            "linecolor": "white",
            "showbackground": true,
            "ticks": "",
            "zerolinecolor": "white"
           },
           "zaxis": {
            "backgroundcolor": "#E5ECF6",
            "gridcolor": "white",
            "gridwidth": 2,
            "linecolor": "white",
            "showbackground": true,
            "ticks": "",
            "zerolinecolor": "white"
           }
          },
          "shapedefaults": {
           "line": {
            "color": "#2a3f5f"
           }
          },
          "ternary": {
           "aaxis": {
            "gridcolor": "white",
            "linecolor": "white",
            "ticks": ""
           },
           "baxis": {
            "gridcolor": "white",
            "linecolor": "white",
            "ticks": ""
           },
           "bgcolor": "#E5ECF6",
           "caxis": {
            "gridcolor": "white",
            "linecolor": "white",
            "ticks": ""
           }
          },
          "title": {
           "x": 0.05
          },
          "xaxis": {
           "automargin": true,
           "gridcolor": "white",
           "linecolor": "white",
           "ticks": "",
           "title": {
            "standoff": 15
           },
           "zerolinecolor": "white",
           "zerolinewidth": 2
          },
          "yaxis": {
           "automargin": true,
           "gridcolor": "white",
           "linecolor": "white",
           "ticks": "",
           "title": {
            "standoff": 15
           },
           "zerolinecolor": "white",
           "zerolinewidth": 2
          }
         }
        },
        "xaxis": {
         "title": {
          "text": "Range (m)"
         }
        },
        "yaxis": {
         "title": {
          "text": "Amplitude (dB)"
         }
        }
       }
      }
     },
     "metadata": {},
     "output_type": "display_data"
    }
   ],
   "source": [
    "max_range = (3e8 * radar.receiver.fs *\n",
    "             radar.transmitter.pulse_length /\n",
    "             radar.transmitter.bandwidth / 2)\n",
    "range_axis = np.linspace(0, max_range, radar.samples_per_pulse, endpoint=False)\n",
    "\n",
    "fig = go.Figure()\n",
    "fig.add_trace(go.Scatter(\n",
    "    x=range_axis,\n",
    "    y=20*np.log10(np.abs(range_profile[0, 0, :])),\n",
    "    name='Range profile',\n",
    "))\n",
    "fig.add_trace(go.Scatter(\n",
    "    x=range_axis,\n",
    "    y=10*np.log10(ca_cfar),\n",
    "    name='CA-CFAR'\n",
    "))\n",
    "fig.add_trace(go.Scatter(\n",
    "    x=range_axis,\n",
    "    y=10*np.log10(os_cfar),\n",
    "    name='OS-CFAR'\n",
    "))\n",
    "fig.update_layout(\n",
    "    yaxis=dict(title='Amplitude (dB)'),\n",
    "    xaxis=dict(title='Range (m)'),\n",
    ")\n",
    "\n",
    "fig.show()\n"
   ]
  }
 ],
 "metadata": {
  "file_extension": ".py",
  "kernelspec": {
   "display_name": "Python 3 (ipykernel)",
   "language": "python",
   "name": "python3"
  },
  "language_info": {
   "codemirror_mode": {
    "name": "ipython",
    "version": 3
   },
   "file_extension": ".py",
   "mimetype": "text/x-python",
   "name": "python",
   "nbconvert_exporter": "python",
   "pygments_lexer": "ipython3",
   "version": "3.11.4"
  },
  "mimetype": "text/x-python",
  "name": "python",
  "npconvert_exporter": "python",
  "pygments_lexer": "ipython3",
  "toc": {
   "base_numbering": 1,
   "nav_menu": {},
   "number_sections": true,
   "sideBar": true,
   "skip_h1_title": false,
   "title_cell": "Table of Contents",
   "title_sidebar": "Contents",
   "toc_cell": false,
   "toc_position": {},
   "toc_section_display": true,
   "toc_window_display": false
  },
  "varInspector": {
   "cols": {
    "lenName": 16,
    "lenType": 16,
    "lenVar": 40
   },
   "kernels_config": {
    "python": {
     "delete_cmd_postfix": "",
     "delete_cmd_prefix": "del ",
     "library": "var_list.py",
     "varRefreshCmd": "print(var_dic_list())"
    },
    "r": {
     "delete_cmd_postfix": ") ",
     "delete_cmd_prefix": "rm(",
     "library": "var_list.r",
     "varRefreshCmd": "cat(var_dic_list()) "
    }
   },
   "types_to_exclude": [
    "module",
    "function",
    "builtin_function_or_method",
    "instance",
    "_Feature"
   ],
   "window_display": false
  },
  "version": 3,
  "vscode": {
   "interpreter": {
    "hash": "93f700c1059b32d83d5a3c18a32630ee13b0a3dbf4faa4d0f71952c4a11b4154"
   }
  }
 },
 "nbformat": 4,
 "nbformat_minor": 4
}
