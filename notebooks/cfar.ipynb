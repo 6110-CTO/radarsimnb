{
 "cells": [
  {
   "cell_type": "code",
   "execution_count": 1,
   "metadata": {},
   "outputs": [
    {
     "data": {
      "text/plain": [
       "'11.2.0'"
      ]
     },
     "execution_count": 1,
     "metadata": {},
     "output_type": "execute_result"
    }
   ],
   "source": [
    "import radarsimpy\n",
    "radarsimpy.__version__\n"
   ]
  },
  {
   "attachments": {},
   "cell_type": "markdown",
   "metadata": {},
   "source": [
    "# CFAR\n",
    "\n",
    "<a href=\"https://radarsimx.github.io/radarsimpy/\" target=\"_blank\" rel=\"nofollow\"><img src=\"https://img.shields.io/badge/Documentation-latest-brightgree?style=flat&logo=read-the-docs\" height=\"20\"></a>\n",
    "<a href=\"https://radarsimx.com/product/radarsimpy/\" target=\"_blank\"><img src=\"https://img.shields.io/badge/Download-latest-brightgree?style=flat&logo=python\" height=\"20\"></a>\n",
    "\n",
    "This is an example of Constant False Alarm Rate (CFAR) threshold for an FMCW radar.\n",
    "[`RadarSimPy`](https://radarsimx.com/radarsimx/radarsimpy/) has two buildin CFAR methods: `CA-CFAR` and `OS-CFAR`.\n",
    "\n",
    "## Radar Model\n",
    "### Transmitter\n",
    "\n",
    "Setup the basic transmitter parameters through `Transmitter` module.\n",
    "\n",
    "The following table lists the parameters in this example.\n",
    "\n",
    " | Parameter                       | Variable in `Transmitter` | Value                |\n",
    " | ------------------------------- | ------------------------- | -------------------- |\n",
    " | Frequency ($f$)                 | `f`                       | [24.075, 24.175] GHz |\n",
    " | Time ($T$)                      | `t`                       | 80e-6 s              |\n",
    " | Transmitted power ($P_t$)       | `tx_power`                | 10 dBm               |\n",
    " | Pulse repetition period ($PRP$) | `prp`                     | 100 us               |\n",
    " | Number of pulses                | `pulses`                  | 1                    |\n",
    "\n",
    "Here, `f` and `t` define the frequency modulation of the transmitter. The frequency changes from `24.075 GHz` to `24.175 GHz` within `80e-6 s`.\n",
    "\n",
    "The radiation pattern os the transmitter antenna is $\\cos{\\theta}$. The gain of the antenna is 6 dB.\n"
   ]
  },
  {
   "cell_type": "code",
   "execution_count": 2,
   "metadata": {},
   "outputs": [],
   "source": [
    "import numpy as np\n",
    "from radarsimpy import Radar, Transmitter, Receiver\n",
    "\n",
    "angle = np.arange(-90, 91, 1)\n",
    "pattern = 20 * np.log10(np.cos(angle / 180 * np.pi) + 0.01) + 16\n",
    "\n",
    "tx_channel = dict(\n",
    "    location=(0, 0, 0),\n",
    "    azimuth_angle=angle,\n",
    "    azimuth_pattern=pattern,\n",
    "    elevation_angle=angle,\n",
    "    elevation_pattern=pattern,\n",
    ")\n",
    "\n",
    "tx = Transmitter(f=[24.075e9, 24.175e9],\n",
    "                 t=80e-6,\n",
    "                 tx_power=20,\n",
    "                 prp=100e-6,\n",
    "                 pulses=1,\n",
    "                 channels=[tx_channel])\n"
   ]
  },
  {
   "cell_type": "markdown",
   "metadata": {},
   "source": [
    "### Receiver\n",
    "\n",
    "Setup the receiver parameters through `Receiver` module.\n",
    "\n",
    "The parameters of the receiver are listed in the table below.\n",
    "\n",
    " | Parameter                        | Variable in `Receiver` | Value        |\n",
    " | -------------------------------- | ---------------------- | ------------ |\n",
    " | Sampling rate ($f_s$)            | `fs`                   | 2 Msps       |\n",
    " | Noise figure ($NF$)              | `noise_figure`         | 12 dB        |\n",
    " | RF gain/loss ($G_{rf}$)          | `rf_gain`              | 20 dB        |\n",
    " | Load resistor ($R_L$)            | `load_resistor`        | 500 $\\Omega$ |\n",
    " | Baseband voltage gain ($G_{BB}$) | `baseband_gain`        | 30 dB        |\n",
    "\n",
    " The radiation pattern os the receiver antenna is $\\cos{\\theta}$. The gain of the antenna is 6 dB."
   ]
  },
  {
   "cell_type": "code",
   "execution_count": 3,
   "metadata": {},
   "outputs": [],
   "source": [
    "rx_channel = dict(\n",
    "    location=(0, 0, 0),\n",
    "    azimuth_angle=angle,\n",
    "    azimuth_pattern=pattern,\n",
    "    elevation_angle=angle,\n",
    "    elevation_pattern=pattern,\n",
    ")\n",
    "\n",
    "rx = Receiver(fs=2e6,\n",
    "              noise_figure=12,\n",
    "              rf_gain=20,\n",
    "              load_resistor=500,\n",
    "              baseband_gain=30,\n",
    "              channels=[rx_channel])\n"
   ]
  },
  {
   "cell_type": "markdown",
   "metadata": {},
   "source": [
    " Create the FMCW radar model based on all the parameters defined above."
   ]
  },
  {
   "cell_type": "code",
   "execution_count": 4,
   "metadata": {},
   "outputs": [],
   "source": [
    "radar = Radar(transmitter=tx, receiver=rx)\n"
   ]
  },
  {
   "cell_type": "markdown",
   "metadata": {},
   "source": [
    "### Targets\n",
    "\n",
    "The propertities of targets are defined here. The locations of the targets are defined through $(x, y, z)$ coordinates in meters, and the speeds of the targets are defined trough $(v_x, v_y, v_z)$ in $m/s$. The propertites of the targets also includes radar cross-section (RCS (dBsm)) and phase (degree)."
   ]
  },
  {
   "cell_type": "code",
   "execution_count": 5,
   "metadata": {},
   "outputs": [],
   "source": [
    "target_1 = dict(location=(95, 20, 0), speed=(-50, 0, 0), rcs=20, phase=0)\n",
    "target_2 = dict(location=(30, -5, 0), speed=(-22, 0, 0), rcs=10, phase=0)\n",
    "\n",
    "targets = [target_1, target_2]\n"
   ]
  },
  {
   "cell_type": "markdown",
   "metadata": {},
   "source": [
    "## Simulate Baseband Signals\n",
    " \n",
    "Use the `simulator` module to simulate the baseband samples. The user can choose between Python engine `simpy` or C++ engine `simc`.\n",
    "\n",
    "The output baseband data is a 3-D matrix:\n",
    "\n",
    "$[channels, pulses, ADC~samples]$\n",
    " \n",
    "#### Simulate with C++ engine"
   ]
  },
  {
   "cell_type": "code",
   "execution_count": 6,
   "metadata": {},
   "outputs": [],
   "source": [
    "from radarsimpy.simulator import simc\n",
    "\n",
    "data = simc(radar, targets)\n",
    "time_matrix = data['timestamp']\n",
    "data_matrix = data['baseband']\n"
   ]
  },
  {
   "cell_type": "code",
   "execution_count": 7,
   "metadata": {},
   "outputs": [
    {
     "data": {
      "image/svg+xml": [
       "<svg xmlns=\"http://www.w3.org/2000/svg\" xmlns:xlink=\"http://www.w3.org/1999/xlink\" class=\"main-svg\" width=\"700\" height=\"500\" style=\"\" viewBox=\"0 0 700 500\"><rect x=\"0\" y=\"0\" width=\"700\" height=\"500\" style=\"fill: rgb(255, 255, 255); fill-opacity: 1;\"/><defs id=\"defs-732edc\"><g class=\"clips\"><clipPath id=\"clip732edcxyplot\" class=\"plotclip\"><rect width=\"540\" height=\"320\"/></clipPath><clipPath class=\"axesclip\" id=\"clip732edcx\"><rect x=\"80\" y=\"0\" width=\"540\" height=\"500\"/></clipPath><clipPath class=\"axesclip\" id=\"clip732edcy\"><rect x=\"0\" y=\"100\" width=\"700\" height=\"320\"/></clipPath><clipPath class=\"axesclip\" id=\"clip732edcxy\"><rect x=\"80\" y=\"100\" width=\"540\" height=\"320\"/></clipPath></g><g class=\"gradients\"/><g class=\"patterns\"/></defs><g class=\"bglayer\"><rect class=\"bg\" x=\"80\" y=\"100\" width=\"540\" height=\"320\" style=\"fill: rgb(234, 234, 242); fill-opacity: 1; stroke-width: 0;\"/></g><g class=\"layer-below\"><g class=\"imagelayer\"/><g class=\"shapelayer\"/></g><g class=\"cartesianlayer\"><g class=\"subplot xy\"><g class=\"layer-subplot\"><g class=\"shapelayer\"/><g class=\"imagelayer\"/></g><g class=\"minor-gridlayer\"><g class=\"x\"/><g class=\"y\"/></g><g class=\"gridlayer\"><g class=\"x\"><path class=\"xgrid crisp\" transform=\"translate(215.85,0)\" d=\"M0,100v320\" style=\"stroke: rgb(255, 255, 255); stroke-opacity: 1; stroke-width: 1px;\"/><path class=\"xgrid crisp\" transform=\"translate(351.7,0)\" d=\"M0,100v320\" style=\"stroke: rgb(255, 255, 255); stroke-opacity: 1; stroke-width: 1px;\"/><path class=\"xgrid crisp\" transform=\"translate(487.55,0)\" d=\"M0,100v320\" style=\"stroke: rgb(255, 255, 255); stroke-opacity: 1; stroke-width: 1px;\"/></g><g class=\"y\"><path class=\"ygrid crisp\" transform=\"translate(0,395.23)\" d=\"M80,0h540\" style=\"stroke: rgb(255, 255, 255); stroke-opacity: 1; stroke-width: 1px;\"/><path class=\"ygrid crisp\" transform=\"translate(0,349.65)\" d=\"M80,0h540\" style=\"stroke: rgb(255, 255, 255); stroke-opacity: 1; stroke-width: 1px;\"/><path class=\"ygrid crisp\" transform=\"translate(0,304.07)\" d=\"M80,0h540\" style=\"stroke: rgb(255, 255, 255); stroke-opacity: 1; stroke-width: 1px;\"/><path class=\"ygrid crisp\" transform=\"translate(0,212.92000000000002)\" d=\"M80,0h540\" style=\"stroke: rgb(255, 255, 255); stroke-opacity: 1; stroke-width: 1px;\"/><path class=\"ygrid crisp\" transform=\"translate(0,167.34)\" d=\"M80,0h540\" style=\"stroke: rgb(255, 255, 255); stroke-opacity: 1; stroke-width: 1px;\"/><path class=\"ygrid crisp\" transform=\"translate(0,121.76)\" d=\"M80,0h540\" style=\"stroke: rgb(255, 255, 255); stroke-opacity: 1; stroke-width: 1px;\"/></g></g><g class=\"zerolinelayer\"><path class=\"xzl zl crisp\" transform=\"translate(80,0)\" d=\"M0,100v320\" style=\"stroke: rgb(255, 255, 255); stroke-opacity: 1; stroke-width: 1px;\"/><path class=\"yzl zl crisp\" transform=\"translate(0,258.49)\" d=\"M80,0h540\" style=\"stroke: rgb(255, 255, 255); stroke-opacity: 1; stroke-width: 1px;\"/></g><path class=\"xlines-below\"/><path class=\"ylines-below\"/><g class=\"overlines-below\"/><g class=\"xaxislayer-below\"/><g class=\"yaxislayer-below\"/><g class=\"overaxes-below\"/><g class=\"plot\" transform=\"translate(80,100)\" clip-path=\"url(#clip732edcxyplot)\"><g class=\"scatterlayer mlayer\"><g class=\"trace scatter tracee5466b\" style=\"stroke-miterlimit: 2; opacity: 1;\"><g class=\"fills\"/><g class=\"errorbars\"/><g class=\"lines\"><path class=\"js-line\" d=\"M0,139.08L3.4,90.35L6.79,18.85L10.19,125.65L13.58,154.33L16.98,251.28L20.38,284.8L23.77,191.39L27.17,172.12L30.57,53.61L33.96,48.21L37.36,107.83L40.75,140.34L44.15,277.83L47.55,245.54L50.94,228.53L54.34,157.68L57.74,40.08L61.13,85.29L64.53,70.45L67.92,179.24L71.32,260.58L74.72,237.29L78.11,254.69L81.51,114.51L84.91,77.08L88.3,64.72L91.7,63.31L95.09,205.5L98.49,220.06L101.89,266.73L105.28,241.05L108.68,113.96L112.08,104.94L115.47,20.62L122.26,182.14L125.66,218.66L129.06,297.63L132.45,197.31L135.85,158.06L139.25,84.11L142.64,19.61L146.04,125.5L149.43,147.42L152.83,257.09L156.23,274.79L159.62,201.3L163.02,175.95L166.42,43.31L169.81,60.29L173.21,105.26L176.6,151.52L180,279.26L183.4,241.08L186.79,231.35L190.19,148.43L193.58,46.13L196.98,85.73L200.38,64.03L203.77,183.21L207.17,257.89L210.57,242.94L213.96,253.42L217.36,117.46L220.75,83.41L224.15,56.86L227.55,66.17L230.94,209.48L234.34,216.41L237.74,282.25L241.13,230.07L244.53,125.39L247.92,100.81L251.32,19.59L254.72,108.99L258.11,183.28L261.51,221.06L264.91,301.6L268.3,195.74L271.7,153.85L275.09,74.93L278.49,28.16L281.89,130.44L285.28,145.26L288.68,264.8L292.08,273.17L295.47,199.91L298.87,180.03L302.26,36.02L309.06,94.07L312.45,155.56L315.85,283.34L319.25,233.38L322.64,232.92L326.04,141.48L329.43,50L332.83,78.5L336.23,61.03L339.62,192.14L343.02,248.04L346.42,241.81L349.81,258.9L353.21,111.03L356.6,85.55L360,51.8L363.4,74.44L366.79,209.76L370.19,213.69L373.58,285.44L376.98,219.26L380.38,121.7L383.77,110.48L387.17,18.71L390.57,114.71L393.96,177.12L397.36,222.21L400.75,300.56L404.15,189.67L407.55,154.07L410.94,70.04L414.34,31.46L417.74,120.88L421.13,149.84L424.53,269.35L427.92,265.55L431.32,205.3L434.72,166.93L438.11,35.4L441.51,71.98L444.91,91.82L448.3,159.5L451.7,284.49L455.09,234.27L458.49,244.66L461.89,129.89L465.28,51.49L468.68,80.38L472.08,64.26L475.47,194.17L478.87,242.75L482.26,258.17L485.66,241.11L489.06,101.81L492.45,91.91L495.85,45.89L499.25,84.09L502.64,205.54L506.04,219.61L509.43,290.44L516.23,126.84L519.62,92.73L523.02,16L526.42,116.03L529.81,166.96L533.21,235.18L536.6,292.13L540,188.83\" style=\"vector-effect: none; fill: none; stroke: rgb(76, 114, 176); stroke-opacity: 1; stroke-width: 2px; opacity: 1;\"/></g><g class=\"points\"/><g class=\"text\"/></g><g class=\"trace scatter trace158b41\" style=\"stroke-miterlimit: 2; opacity: 1;\"><g class=\"fills\"/><g class=\"errorbars\"/><g class=\"lines\"><path class=\"js-line\" d=\"M0,237.93L3.4,251.38L6.79,131.28L10.19,61.51L13.58,75.04L16.98,58.16L20.38,202L27.17,258.21L30.57,246.2L33.96,109.88L37.36,103.51L40.75,33.35L44.15,88.54L47.55,195.84L50.94,210.1L54.34,304L57.74,206.59L61.13,134.21L64.53,95.63L67.92,16.4L71.32,129.37L74.72,160.49L78.11,239.5L81.51,297.12L84.91,191.21L88.3,173.36L91.7,61.32L95.09,50.55L98.49,116.82L101.89,143.57L105.28,274.19L108.68,254.55L112.08,221.2L115.47,163.84L118.87,36.62L122.26,74.03L125.66,74.11L132.45,268.32L135.85,233.05L139.25,248.03L142.64,121.09L146.04,65.83L149.43,76.31L152.83,61.75L156.23,212.07L159.62,226.14L163.02,260.34L166.42,242.87L169.81,110.19L173.21,105.48L176.6,32.52L180,96.94L183.4,185.84L186.79,216.47L190.19,302.32L193.58,205.2L196.98,147.13L203.77,23.51L207.17,123.53L210.57,160.75L213.96,253.25L217.36,286.75L220.75,199.61L224.15,178.87L227.55,45.01L230.94,55.85L234.34,105.47L237.74,148.8L241.13,281.04L244.53,244.92L247.92,220.79L251.32,156.45L254.72,37.95L258.11,85.5L261.51,66.15L264.91,181.52L268.3,266.58L271.7,236.28L275.09,255.94L278.49,118.33L281.89,73.15L285.28,69.65L288.68,61.32L292.08,207.91L295.47,221.6L298.87,272.66L302.26,237.56L305.66,114.47L309.06,110.36L312.45,28.59L315.85,96.99L319.25,191.72L322.64,221.21L326.04,303.28L329.43,191.86L332.83,146.14L336.23,81.06L339.62,20.11L343.02,127.81L346.42,147.43L349.81,260.37L353.21,274.2L356.6,186.57L360,175.14L363.4,48.7L366.79,60.36L370.19,110.16L373.58,153.57L376.98,282.73L380.38,236.2L383.77,230.89L387.17,147.85L390.57,42.64L393.96,87.17L397.36,72.73L400.75,182.68L404.15,256.99L407.55,241.62L410.94,256.84L414.34,113.7L417.74,78.13L421.13,64.15L424.53,66.96L427.92,214.99L431.32,222.84L434.72,283.31L438.11,229.32L441.51,112.5L444.91,102.11L448.3,17.31L451.7,112.89L455.09,186.03L458.49,231.46L461.89,299.5L465.28,189.22L468.68,152.26L472.08,76.5L475.47,23.62L478.87,131.19L482.26,146.42L485.66,259.48L489.06,266.26L492.45,194.72L495.85,171.45L499.25,37.29L502.64,72.32L506.04,97.6L509.43,155.21L512.83,280.06L516.23,236.58L519.62,236.71L526.42,47.93L529.81,81.2L533.21,63.13L536.6,188.53L540,254.91\" style=\"vector-effect: none; fill: none; stroke: rgb(221, 132, 82); stroke-opacity: 1; stroke-width: 2px; opacity: 1;\"/></g><g class=\"points\"/><g class=\"text\"/></g></g></g><g class=\"overplot\"/><path class=\"xlines-above crisp\" d=\"M0,0\" style=\"fill: none;\"/><path class=\"ylines-above crisp\" d=\"M0,0\" style=\"fill: none;\"/><g class=\"overlines-above\"/><g class=\"xaxislayer-above\"><g class=\"xtick\"><text text-anchor=\"middle\" x=\"0\" y=\"433\" transform=\"translate(80,0)\" style=\"font-family: 'Open Sans', verdana, arial, sans-serif; font-size: 12px; fill: rgb(36, 36, 36); fill-opacity: 1; white-space: pre; opacity: 1;\">0</text></g><g class=\"xtick\"><text text-anchor=\"middle\" x=\"0\" y=\"433\" style=\"font-family: 'Open Sans', verdana, arial, sans-serif; font-size: 12px; fill: rgb(36, 36, 36); fill-opacity: 1; white-space: pre; opacity: 1;\" transform=\"translate(215.85,0)\">20μ</text></g><g class=\"xtick\"><text text-anchor=\"middle\" x=\"0\" y=\"433\" style=\"font-family: 'Open Sans', verdana, arial, sans-serif; font-size: 12px; fill: rgb(36, 36, 36); fill-opacity: 1; white-space: pre; opacity: 1;\" transform=\"translate(351.7,0)\">40μ</text></g><g class=\"xtick\"><text text-anchor=\"middle\" x=\"0\" y=\"433\" style=\"font-family: 'Open Sans', verdana, arial, sans-serif; font-size: 12px; fill: rgb(36, 36, 36); fill-opacity: 1; white-space: pre; opacity: 1;\" transform=\"translate(487.55,0)\">60μ</text></g></g><g class=\"yaxislayer-above\"><g class=\"ytick\"><text text-anchor=\"end\" x=\"79\" y=\"4.199999999999999\" transform=\"translate(0,395.23)\" style=\"font-family: 'Open Sans', verdana, arial, sans-serif; font-size: 12px; fill: rgb(36, 36, 36); fill-opacity: 1; white-space: pre; opacity: 1;\">−0.15</text></g><g class=\"ytick\"><text text-anchor=\"end\" x=\"79\" y=\"4.199999999999999\" style=\"font-family: 'Open Sans', verdana, arial, sans-serif; font-size: 12px; fill: rgb(36, 36, 36); fill-opacity: 1; white-space: pre; opacity: 1;\" transform=\"translate(0,349.65)\">−0.1</text></g><g class=\"ytick\"><text text-anchor=\"end\" x=\"79\" y=\"4.199999999999999\" style=\"font-family: 'Open Sans', verdana, arial, sans-serif; font-size: 12px; fill: rgb(36, 36, 36); fill-opacity: 1; white-space: pre; opacity: 1;\" transform=\"translate(0,304.07)\">−0.05</text></g><g class=\"ytick\"><text text-anchor=\"end\" x=\"79\" y=\"4.199999999999999\" style=\"font-family: 'Open Sans', verdana, arial, sans-serif; font-size: 12px; fill: rgb(36, 36, 36); fill-opacity: 1; white-space: pre; opacity: 1;\" transform=\"translate(0,258.49)\">0</text></g><g class=\"ytick\"><text text-anchor=\"end\" x=\"79\" y=\"4.199999999999999\" style=\"font-family: 'Open Sans', verdana, arial, sans-serif; font-size: 12px; fill: rgb(36, 36, 36); fill-opacity: 1; white-space: pre; opacity: 1;\" transform=\"translate(0,212.92000000000002)\">0.05</text></g><g class=\"ytick\"><text text-anchor=\"end\" x=\"79\" y=\"4.199999999999999\" style=\"font-family: 'Open Sans', verdana, arial, sans-serif; font-size: 12px; fill: rgb(36, 36, 36); fill-opacity: 1; white-space: pre; opacity: 1;\" transform=\"translate(0,167.34)\">0.1</text></g><g class=\"ytick\"><text text-anchor=\"end\" x=\"79\" y=\"4.199999999999999\" style=\"font-family: 'Open Sans', verdana, arial, sans-serif; font-size: 12px; fill: rgb(36, 36, 36); fill-opacity: 1; white-space: pre; opacity: 1;\" transform=\"translate(0,121.76)\">0.15</text></g></g><g class=\"overaxes-above\"/></g></g><g class=\"polarlayer\"/><g class=\"smithlayer\"/><g class=\"ternarylayer\"/><g class=\"geolayer\"/><g class=\"funnelarealayer\"/><g class=\"pielayer\"/><g class=\"iciclelayer\"/><g class=\"treemaplayer\"/><g class=\"sunburstlayer\"/><g class=\"glimages\"/><defs id=\"topdefs-732edc\"><g class=\"clips\"/><clipPath id=\"legend732edc\"><rect width=\"55\" height=\"48\" x=\"0\" y=\"0\"/></clipPath></defs><g class=\"layer-above\"><g class=\"imagelayer\"/><g class=\"shapelayer\"/></g><g class=\"infolayer\"><g class=\"legend\" pointer-events=\"all\" transform=\"translate(630.8,100)\"><rect class=\"bg\" shape-rendering=\"crispEdges\" style=\"stroke: rgb(68, 68, 68); stroke-opacity: 1; fill: rgb(255, 255, 255); fill-opacity: 1; stroke-width: 0px;\" width=\"55\" height=\"48\" x=\"0\" y=\"0\"/><g class=\"scrollbox\" transform=\"\" clip-path=\"url(#legend732edc)\"><g class=\"groups\"><g class=\"traces\" transform=\"translate(0,14.5)\" style=\"opacity: 1;\"><text class=\"legendtext\" text-anchor=\"start\" x=\"40\" y=\"4.680000000000001\" style=\"font-family: 'Open Sans', verdana, arial, sans-serif; font-size: 12px; fill: rgb(36, 36, 36); fill-opacity: 1; white-space: pre;\">I</text><g class=\"layers\" style=\"opacity: 1;\"><g class=\"legendfill\"/><g class=\"legendlines\"><path class=\"js-line\" d=\"M5,0h30\" style=\"fill: none; stroke: rgb(76, 114, 176); stroke-opacity: 1; stroke-width: 2px;\"/></g><g class=\"legendsymbols\"><g class=\"legendpoints\"/></g></g><rect class=\"legendtoggle\" x=\"0\" y=\"-9.5\" width=\"49.453125\" height=\"19\" style=\"fill: rgb(0, 0, 0); fill-opacity: 0;\"/></g><g class=\"traces\" transform=\"translate(0,33.5)\" style=\"opacity: 1;\"><text class=\"legendtext\" text-anchor=\"start\" x=\"40\" y=\"4.680000000000001\" style=\"font-family: 'Open Sans', verdana, arial, sans-serif; font-size: 12px; fill: rgb(36, 36, 36); fill-opacity: 1; white-space: pre;\">Q</text><g class=\"layers\" style=\"opacity: 1;\"><g class=\"legendfill\"/><g class=\"legendlines\"><path class=\"js-line\" d=\"M5,0h30\" style=\"fill: none; stroke: rgb(221, 132, 82); stroke-opacity: 1; stroke-width: 2px;\"/></g><g class=\"legendsymbols\"><g class=\"legendpoints\"/></g></g><rect class=\"legendtoggle\" x=\"0\" y=\"-9.5\" width=\"49.453125\" height=\"19\" style=\"fill: rgb(0, 0, 0); fill-opacity: 0;\"/></g></g></g><rect class=\"scrollbar\" rx=\"20\" ry=\"3\" width=\"0\" height=\"0\" style=\"fill: rgb(128, 139, 164); fill-opacity: 1;\" x=\"0\" y=\"0\"/></g><g class=\"g-gtitle\"><text class=\"gtitle\" x=\"350\" y=\"50\" text-anchor=\"middle\" dy=\"0em\" style=\"font-family: 'Open Sans', verdana, arial, sans-serif; font-size: 17px; fill: rgb(36, 36, 36); opacity: 1; font-weight: normal; white-space: pre;\">I/Q Beat Signals for the First Chirp</text></g><g class=\"g-xtitle\"><text class=\"xtitle\" x=\"350\" y=\"460.3\" text-anchor=\"middle\" style=\"font-family: 'Open Sans', verdana, arial, sans-serif; font-size: 14px; fill: rgb(36, 36, 36); opacity: 1; font-weight: normal; white-space: pre;\">Time (s)</text></g><g class=\"g-ytitle\"><text class=\"ytitle\" transform=\"rotate(-90,17.621875000000003,260)\" x=\"17.621875000000003\" y=\"260\" text-anchor=\"middle\" style=\"font-family: 'Open Sans', verdana, arial, sans-serif; font-size: 14px; fill: rgb(36, 36, 36); opacity: 1; font-weight: normal; white-space: pre;\">Amplitude (V)</text></g></g></svg>"
      ],
      "text/plain": [
       "<IPython.core.display.SVG object>"
      ]
     },
     "metadata": {},
     "output_type": "display_data"
    }
   ],
   "source": [
    "import plotly.graph_objs as go\n",
    "from IPython.display import SVG, display\n",
    "\n",
    "fig = go.Figure()\n",
    "\n",
    "fig.add_trace(go.Scatter(\n",
    "    x=time_matrix[0, 0, :],\n",
    "    y=np.real(data_matrix[0, 0, :]),\n",
    "    name='I',\n",
    "))\n",
    "fig.add_trace(go.Scatter(\n",
    "    x=time_matrix[0, 0, :],\n",
    "    y=np.imag(data_matrix[0, 0, :]),\n",
    "    name='Q',\n",
    "))\n",
    "\n",
    "fig.update_layout(\n",
    "    template=\"seaborn\",\n",
    "    title='I/Q Beat Signals for the First Chirp',\n",
    "    yaxis=dict(title='Amplitude (V)'),\n",
    "    xaxis=dict(title='Time (s)'),\n",
    ")\n",
    "\n",
    "# fig.show()\n",
    "display(SVG(fig.to_image(format='svg', scale=1)))\n"
   ]
  },
  {
   "cell_type": "markdown",
   "metadata": {},
   "source": [
    " ## Radar Signal Processing\n",
    " ### Range profile and CFAR"
   ]
  },
  {
   "cell_type": "code",
   "execution_count": 10,
   "metadata": {},
   "outputs": [],
   "source": [
    "from scipy import signal\n",
    "import radarsimpy.processing as proc\n",
    "\n",
    "range_window = signal.chebwin(radar.samples_per_pulse, at=60)\n",
    "range_profile = proc.range_fft(data_matrix, range_window)\n",
    "\n",
    "ca_cfar = proc.cfar_ca_1d(np.abs(range_profile[0, 0, :])**2, guard=2, trailing=10, pfa=1e-4, detector='squarelaw')\n",
    "os_cfar = proc.cfar_os_1d(np.abs(range_profile[0, 0, :])**2, guard=0, trailing=10, k=14, pfa=1e-4, detector='squarelaw')\n"
   ]
  },
  {
   "cell_type": "markdown",
   "metadata": {},
   "source": [
    "Plot range profile and CFAR"
   ]
  },
  {
   "cell_type": "code",
   "execution_count": 11,
   "metadata": {},
   "outputs": [
    {
     "data": {
      "image/svg+xml": [
       "<svg xmlns=\"http://www.w3.org/2000/svg\" xmlns:xlink=\"http://www.w3.org/1999/xlink\" class=\"main-svg\" width=\"700\" height=\"500\" style=\"\" viewBox=\"0 0 700 500\"><rect x=\"0\" y=\"0\" width=\"700\" height=\"500\" style=\"fill: rgb(255, 255, 255); fill-opacity: 1;\"/><defs id=\"defs-68732c\"><g class=\"clips\"><clipPath id=\"clip68732cxyplot\" class=\"plotclip\"><rect width=\"474\" height=\"320\"/></clipPath><clipPath class=\"axesclip\" id=\"clip68732cx\"><rect x=\"80\" y=\"0\" width=\"474\" height=\"500\"/></clipPath><clipPath class=\"axesclip\" id=\"clip68732cy\"><rect x=\"0\" y=\"100\" width=\"700\" height=\"320\"/></clipPath><clipPath class=\"axesclip\" id=\"clip68732cxy\"><rect x=\"80\" y=\"100\" width=\"474\" height=\"320\"/></clipPath></g><g class=\"gradients\"/><g class=\"patterns\"/></defs><g class=\"bglayer\"><rect class=\"bg\" x=\"80\" y=\"100\" width=\"474\" height=\"320\" style=\"fill: rgb(234, 234, 242); fill-opacity: 1; stroke-width: 0;\"/></g><g class=\"layer-below\"><g class=\"imagelayer\"/><g class=\"shapelayer\"/></g><g class=\"cartesianlayer\"><g class=\"subplot xy\"><g class=\"layer-subplot\"><g class=\"shapelayer\"/><g class=\"imagelayer\"/></g><g class=\"minor-gridlayer\"><g class=\"x\"/><g class=\"y\"/></g><g class=\"gridlayer\"><g class=\"x\"><path class=\"xgrid crisp\" transform=\"translate(179.37,0)\" d=\"M0,100v320\" style=\"stroke: rgb(255, 255, 255); stroke-opacity: 1; stroke-width: 1px;\"/><path class=\"xgrid crisp\" transform=\"translate(278.74,0)\" d=\"M0,100v320\" style=\"stroke: rgb(255, 255, 255); stroke-opacity: 1; stroke-width: 1px;\"/><path class=\"xgrid crisp\" transform=\"translate(378.11,0)\" d=\"M0,100v320\" style=\"stroke: rgb(255, 255, 255); stroke-opacity: 1; stroke-width: 1px;\"/><path class=\"xgrid crisp\" transform=\"translate(477.48,0)\" d=\"M0,100v320\" style=\"stroke: rgb(255, 255, 255); stroke-opacity: 1; stroke-width: 1px;\"/></g><g class=\"y\"><path class=\"ygrid crisp\" transform=\"translate(0,393.5)\" d=\"M80,0h474\" style=\"stroke: rgb(255, 255, 255); stroke-opacity: 1; stroke-width: 1px;\"/><path class=\"ygrid crisp\" transform=\"translate(0,353.41999999999996)\" d=\"M80,0h474\" style=\"stroke: rgb(255, 255, 255); stroke-opacity: 1; stroke-width: 1px;\"/><path class=\"ygrid crisp\" transform=\"translate(0,313.35)\" d=\"M80,0h474\" style=\"stroke: rgb(255, 255, 255); stroke-opacity: 1; stroke-width: 1px;\"/><path class=\"ygrid crisp\" transform=\"translate(0,273.27)\" d=\"M80,0h474\" style=\"stroke: rgb(255, 255, 255); stroke-opacity: 1; stroke-width: 1px;\"/><path class=\"ygrid crisp\" transform=\"translate(0,233.19)\" d=\"M80,0h474\" style=\"stroke: rgb(255, 255, 255); stroke-opacity: 1; stroke-width: 1px;\"/><path class=\"ygrid crisp\" transform=\"translate(0,153.04)\" d=\"M80,0h474\" style=\"stroke: rgb(255, 255, 255); stroke-opacity: 1; stroke-width: 1px;\"/><path class=\"ygrid crisp\" transform=\"translate(0,112.96000000000001)\" d=\"M80,0h474\" style=\"stroke: rgb(255, 255, 255); stroke-opacity: 1; stroke-width: 1px;\"/></g></g><g class=\"zerolinelayer\"><path class=\"xzl zl crisp\" transform=\"translate(80,0)\" d=\"M0,100v320\" style=\"stroke: rgb(255, 255, 255); stroke-opacity: 1; stroke-width: 1px;\"/><path class=\"yzl zl crisp\" transform=\"translate(0,193.12)\" d=\"M80,0h474\" style=\"stroke: rgb(255, 255, 255); stroke-opacity: 1; stroke-width: 1px;\"/></g><path class=\"xlines-below\"/><path class=\"ylines-below\"/><g class=\"overlines-below\"/><g class=\"xaxislayer-below\"/><g class=\"yaxislayer-below\"/><g class=\"overaxes-below\"/><g class=\"plot\" transform=\"translate(80,100)\" clip-path=\"url(#clip68732cxyplot)\"><g class=\"scatterlayer mlayer\"><g class=\"trace scatter tracef73ce5\" style=\"stroke-miterlimit: 2; opacity: 1;\"><g class=\"fills\"/><g class=\"errorbars\"/><g class=\"lines\"><path class=\"js-line\" d=\"M0,209.9L2.98,226.42L5.96,218.78L8.94,234.34L11.92,212.97L14.91,183.95L17.89,201.14L20.87,195.75L23.85,211.61L26.83,241.48L29.81,199.95L32.79,198.48L35.77,204.61L38.75,209.91L41.74,239.91L44.72,216.73L47.7,219.19L50.68,203.25L53.66,128.07L56.64,39.73L59.62,16L62.6,38.83L65.58,125.84L68.57,203.71L71.55,240.16L74.53,191.7L77.51,195.69L80.49,244.01L83.47,225.17L86.45,212.86L89.43,220.15L92.42,219.89L95.4,218.8L98.38,214.15L101.36,204.35L104.34,208.91L107.32,228.31L110.3,266.37L113.28,224.25L116.26,214.37L119.25,219.96L122.23,223.7L125.21,214.28L128.19,217.91L131.17,210.29L134.15,220.61L137.13,194.99L140.11,205.46L143.09,229.53L146.08,208.27L149.06,198.71L152.04,201.92L155.02,214.78L158,202.45L160.98,212.82L163.96,226.5L166.94,227.07L169.92,233.45L172.91,226.9L175.89,187.76L178.87,208.39L181.85,207.62L184.83,167.44L187.81,86.04L190.79,57.56L193.77,75.03L196.75,157.17L199.74,197.72L202.72,191.66L205.7,223.41L208.68,299.38L211.66,224.5L214.64,197.17L217.62,215.77L220.6,211.34L223.58,228.2L226.57,260.21L229.55,217.99L232.53,196.17L235.51,184.37L238.49,195.78L241.47,201.92L244.45,198.52L247.43,198.1L250.42,230.1L256.38,201.78L259.36,233.48L262.34,235.21L265.32,186.49L268.3,187.39L271.28,237.17L274.26,192.25L277.25,202.97L283.21,279.55L286.19,247.06L289.17,257.44L292.15,211.37L295.13,201.42L298.11,221.22L301.09,207.15L304.08,202.94L307.06,233.94L310.04,215.82L313.02,226.68L316,243.14L318.98,218.17L321.96,221.44L324.94,205.26L327.92,218.83L330.91,282.18L333.89,266.09L339.85,184.17L342.83,176.26L345.81,215.32L348.79,223.29L351.77,205.01L354.75,199.5L357.74,188.53L360.72,195.94L363.7,195.08L366.68,199.96L369.66,212.04L372.64,211.3L375.62,225.15L378.6,201.95L381.58,182.06L384.57,185.69L387.55,216.75L390.53,207.97L393.51,195.67L396.49,215.46L399.47,209.96L402.45,177.15L405.43,189.72L408.42,232.12L411.4,252.54L414.38,221.41L417.36,204.88L420.34,304L423.32,209.17L426.3,207.8L435.25,227.12L438.23,286.06L441.21,211.13L444.19,210.02L447.17,199.92L450.15,236.35L453.13,205.19L456.11,210.76L459.09,244.35L462.08,218.98L465.06,217.66L468.04,203.38L471.02,212.27L474,240.33\" style=\"vector-effect: none; fill: none; stroke: rgb(76, 114, 176); stroke-opacity: 1; stroke-width: 2px; opacity: 1;\"/></g><g class=\"points\"/><g class=\"text\"/></g><g class=\"trace scatter tracebddc5f\" style=\"stroke-miterlimit: 2; opacity: 1;\"><g class=\"fills\"/><g class=\"errorbars\"/><g class=\"lines\"><path class=\"js-line\" d=\"M0,171.47L2.98,170.64L5.96,171.36L8.94,174.75L11.92,175.69L14.91,175.96L17.89,135.7L20.87,48.95L23.85,21.35L26.83,17.97L29.81,17.95L47.7,17.96L50.68,21.15L53.66,48.02L56.64,132.59L59.62,167.22L62.6,134.73L65.58,48.94L68.57,21.35L71.55,17.97L74.53,17.95L92.42,17.96L95.4,21.15L98.38,48.03L101.36,132.98L104.34,168.33L107.32,169.05L110.3,167.63L113.28,168.03L119.25,168.89L122.23,168.02L128.19,168.35L131.17,170.42L134.15,171.35L137.13,171.46L140.11,169.28L143.09,170.64L146.08,169.05L149.06,160.13L152.04,94.98L155.02,63.73L158,59.09L160.98,59.05L178.87,59.07L181.85,61.38L184.83,84.06L187.81,154.48L190.79,166.91L193.77,160.31L196.75,94.99L199.74,63.73L202.72,59.08L205.7,59.05L223.58,59.06L226.57,61.37L229.55,84.03L232.53,152.38L235.51,163.51L238.49,163.9L241.47,164.74L244.45,162.13L247.43,161.14L250.42,161.35L253.4,161.56L256.38,160.38L262.34,164.03L265.32,162.3L268.3,163.41L271.28,165.83L274.26,165.78L277.25,164.42L280.23,165.45L283.21,164.38L292.15,165.93L295.13,168.21L298.11,169.81L301.09,168.94L304.08,167.58L307.06,164.77L310.04,163.63L313.02,164.67L316,165L318.98,164.19L324.94,160.6L327.92,158.96L330.91,158.47L333.89,160.62L336.87,164.59L339.85,165.73L342.83,166.01L345.81,163.13L348.79,159.47L351.77,157.46L360.72,157.97L363.7,157.65L366.68,153.83L369.66,151.91L372.64,151.55L375.62,152.86L381.58,158.39L384.57,159.16L387.55,159.22L390.53,157.12L393.51,156.18L396.49,160.8L399.47,163.37L402.45,163.61L408.42,163.33L411.4,159.52L414.38,157.92L417.36,158.45L423.32,164.16L426.3,163.66L429.28,164.27L432.26,164.11L435.25,163.86L438.23,164.63L441.21,171.79L444.19,175.65L447.17,178.05L450.15,178.23L453.13,177.68L456.11,177.93L459.09,178.63L462.08,180.76L468.04,184.72L471.02,184.65L474,184.02\" style=\"vector-effect: none; fill: none; stroke: rgb(221, 132, 82); stroke-opacity: 1; stroke-width: 2px; opacity: 1;\"/></g><g class=\"points\"/><g class=\"text\"/></g><g class=\"trace scatter tracefdc25e\" style=\"stroke-miterlimit: 2; opacity: 1;\"><g class=\"fills\"/><g class=\"errorbars\"/><g class=\"lines\"><path class=\"js-line\" d=\"M0,160.64L11.92,160.64L14.91,161.87L17.89,161.87L20.87,160.64L23.85,158.39L26.83,157.21L29.81,155.74L32.79,153.01L35.77,141.21L38.75,141.21L44.72,141.21L47.7,148.96L50.68,148.96L53.66,152.95L65.58,152.95L68.57,148.96L71.55,148.96L74.53,152.95L77.51,148.96L80.49,148.96L83.47,148.96L86.45,152.95L89.43,160.97L92.42,161.6L98.38,170.12L101.36,171.41L104.34,171.41L107.32,170.12L113.28,170.12L116.26,167.54L122.23,165.53L125.21,165.53L128.19,162.72L131.17,162.72L137.13,167.54L140.11,167.54L146.08,162.72L149.06,165.53L152.04,164.87L155.02,159.71L158,159.18L160.98,155.97L163.96,152.25L166.94,145.01L172.91,145.01L175.89,148.92L178.87,145.01L181.85,145.01L184.83,148.92L187.81,148.92L196.75,148.92L199.74,145.01L202.72,145.01L205.7,141.62L214.64,141.62L217.62,148.92L220.6,153.04L223.58,153.43L232.53,155.78L235.51,155.78L241.47,154.43L244.45,153.43L262.34,153.43L265.32,155.78L268.3,158.68L271.28,158.68L277.25,159.03L280.23,160.19L292.15,160.23L295.13,162.52L298.11,162.52L301.09,168.63L310.04,168.63L313.02,164.4L318.98,164.4L321.96,162.52L327.92,162.27L330.91,160.19L333.89,156.76L336.87,156.76L342.83,157.22L345.81,156.76L348.79,156.76L351.77,153.2L354.75,152.33L357.74,153.2L360.72,152.33L363.7,152.93L369.66,152.33L372.64,152.33L390.53,152.93L393.51,157.22L396.49,157.22L399.47,159.2L402.45,162.14L405.43,162.14L408.42,159.2L411.4,162.14L414.38,165.06L417.36,165.23L420.34,165.06L423.32,162.44L426.3,166.43L429.28,165.06L432.26,165.06L435.25,166.43L450.15,167.16L453.13,167.28L462.08,167.28L465.06,167.16L468.04,167.16L471.02,162.44L474,162.44\" style=\"vector-effect: none; fill: none; stroke: rgb(85, 168, 104); stroke-opacity: 1; stroke-width: 2px; opacity: 1;\"/></g><g class=\"points\"/><g class=\"text\"/></g></g></g><g class=\"overplot\"/><path class=\"xlines-above crisp\" d=\"M0,0\" style=\"fill: none;\"/><path class=\"ylines-above crisp\" d=\"M0,0\" style=\"fill: none;\"/><g class=\"overlines-above\"/><g class=\"xaxislayer-above\"><g class=\"xtick\"><text text-anchor=\"middle\" x=\"0\" y=\"433\" transform=\"translate(80,0)\" style=\"font-family: 'Open Sans', verdana, arial, sans-serif; font-size: 12px; fill: rgb(36, 36, 36); fill-opacity: 1; white-space: pre; opacity: 1;\">0</text></g><g class=\"xtick\"><text text-anchor=\"middle\" x=\"0\" y=\"433\" style=\"font-family: 'Open Sans', verdana, arial, sans-serif; font-size: 12px; fill: rgb(36, 36, 36); fill-opacity: 1; white-space: pre; opacity: 1;\" transform=\"translate(179.37,0)\">50</text></g><g class=\"xtick\"><text text-anchor=\"middle\" x=\"0\" y=\"433\" style=\"font-family: 'Open Sans', verdana, arial, sans-serif; font-size: 12px; fill: rgb(36, 36, 36); fill-opacity: 1; white-space: pre; opacity: 1;\" transform=\"translate(278.74,0)\">100</text></g><g class=\"xtick\"><text text-anchor=\"middle\" x=\"0\" y=\"433\" style=\"font-family: 'Open Sans', verdana, arial, sans-serif; font-size: 12px; fill: rgb(36, 36, 36); fill-opacity: 1; white-space: pre; opacity: 1;\" transform=\"translate(378.11,0)\">150</text></g><g class=\"xtick\"><text text-anchor=\"middle\" x=\"0\" y=\"433\" style=\"font-family: 'Open Sans', verdana, arial, sans-serif; font-size: 12px; fill: rgb(36, 36, 36); fill-opacity: 1; white-space: pre; opacity: 1;\" transform=\"translate(477.48,0)\">200</text></g></g><g class=\"yaxislayer-above\"><g class=\"ytick\"><text text-anchor=\"end\" x=\"79\" y=\"4.199999999999999\" transform=\"translate(0,393.5)\" style=\"font-family: 'Open Sans', verdana, arial, sans-serif; font-size: 12px; fill: rgb(36, 36, 36); fill-opacity: 1; white-space: pre; opacity: 1;\">−50</text></g><g class=\"ytick\"><text text-anchor=\"end\" x=\"79\" y=\"4.199999999999999\" style=\"font-family: 'Open Sans', verdana, arial, sans-serif; font-size: 12px; fill: rgb(36, 36, 36); fill-opacity: 1; white-space: pre; opacity: 1;\" transform=\"translate(0,353.41999999999996)\">−40</text></g><g class=\"ytick\"><text text-anchor=\"end\" x=\"79\" y=\"4.199999999999999\" style=\"font-family: 'Open Sans', verdana, arial, sans-serif; font-size: 12px; fill: rgb(36, 36, 36); fill-opacity: 1; white-space: pre; opacity: 1;\" transform=\"translate(0,313.35)\">−30</text></g><g class=\"ytick\"><text text-anchor=\"end\" x=\"79\" y=\"4.199999999999999\" style=\"font-family: 'Open Sans', verdana, arial, sans-serif; font-size: 12px; fill: rgb(36, 36, 36); fill-opacity: 1; white-space: pre; opacity: 1;\" transform=\"translate(0,273.27)\">−20</text></g><g class=\"ytick\"><text text-anchor=\"end\" x=\"79\" y=\"4.199999999999999\" style=\"font-family: 'Open Sans', verdana, arial, sans-serif; font-size: 12px; fill: rgb(36, 36, 36); fill-opacity: 1; white-space: pre; opacity: 1;\" transform=\"translate(0,233.19)\">−10</text></g><g class=\"ytick\"><text text-anchor=\"end\" x=\"79\" y=\"4.199999999999999\" style=\"font-family: 'Open Sans', verdana, arial, sans-serif; font-size: 12px; fill: rgb(36, 36, 36); fill-opacity: 1; white-space: pre; opacity: 1;\" transform=\"translate(0,193.12)\">0</text></g><g class=\"ytick\"><text text-anchor=\"end\" x=\"79\" y=\"4.199999999999999\" style=\"font-family: 'Open Sans', verdana, arial, sans-serif; font-size: 12px; fill: rgb(36, 36, 36); fill-opacity: 1; white-space: pre; opacity: 1;\" transform=\"translate(0,153.04)\">10</text></g><g class=\"ytick\"><text text-anchor=\"end\" x=\"79\" y=\"4.199999999999999\" style=\"font-family: 'Open Sans', verdana, arial, sans-serif; font-size: 12px; fill: rgb(36, 36, 36); fill-opacity: 1; white-space: pre; opacity: 1;\" transform=\"translate(0,112.96000000000001)\">20</text></g></g><g class=\"overaxes-above\"/></g></g><g class=\"polarlayer\"/><g class=\"smithlayer\"/><g class=\"ternarylayer\"/><g class=\"geolayer\"/><g class=\"funnelarealayer\"/><g class=\"pielayer\"/><g class=\"iciclelayer\"/><g class=\"treemaplayer\"/><g class=\"sunburstlayer\"/><g class=\"glimages\"/><defs id=\"topdefs-68732c\"><g class=\"clips\"/><clipPath id=\"legend68732c\"><rect width=\"125\" height=\"67\" x=\"0\" y=\"0\"/></clipPath></defs><g class=\"layer-above\"><g class=\"imagelayer\"/><g class=\"shapelayer\"/></g><g class=\"infolayer\"><g class=\"legend\" pointer-events=\"all\" transform=\"translate(563.48,100)\"><rect class=\"bg\" shape-rendering=\"crispEdges\" width=\"125\" height=\"67\" x=\"0\" y=\"0\" style=\"stroke: rgb(68, 68, 68); stroke-opacity: 1; fill: rgb(255, 255, 255); fill-opacity: 1; stroke-width: 0px;\"/><g class=\"scrollbox\" transform=\"\" clip-path=\"url(#legend68732c)\"><g class=\"groups\"><g class=\"traces\" transform=\"translate(0,14.5)\" style=\"opacity: 1;\"><text class=\"legendtext\" text-anchor=\"start\" x=\"40\" y=\"4.680000000000001\" style=\"font-family: 'Open Sans', verdana, arial, sans-serif; font-size: 12px; fill: rgb(36, 36, 36); fill-opacity: 1; white-space: pre;\">Range profile</text><g class=\"layers\" style=\"opacity: 1;\"><g class=\"legendfill\"/><g class=\"legendlines\"><path class=\"js-line\" d=\"M5,0h30\" style=\"fill: none; stroke: rgb(76, 114, 176); stroke-opacity: 1; stroke-width: 2px;\"/></g><g class=\"legendsymbols\"><g class=\"legendpoints\"/></g></g><rect class=\"legendtoggle\" x=\"0\" y=\"-9.5\" width=\"119.59375\" height=\"19\" style=\"fill: rgb(0, 0, 0); fill-opacity: 0;\"/></g><g class=\"traces\" transform=\"translate(0,33.5)\" style=\"opacity: 1;\"><text class=\"legendtext\" text-anchor=\"start\" x=\"40\" y=\"4.680000000000001\" style=\"font-family: 'Open Sans', verdana, arial, sans-serif; font-size: 12px; fill: rgb(36, 36, 36); fill-opacity: 1; white-space: pre;\">CA-CFAR</text><g class=\"layers\" style=\"opacity: 1;\"><g class=\"legendfill\"/><g class=\"legendlines\"><path class=\"js-line\" d=\"M5,0h30\" style=\"fill: none; stroke: rgb(221, 132, 82); stroke-opacity: 1; stroke-width: 2px;\"/></g><g class=\"legendsymbols\"><g class=\"legendpoints\"/></g></g><rect class=\"legendtoggle\" x=\"0\" y=\"-9.5\" width=\"119.59375\" height=\"19\" style=\"fill: rgb(0, 0, 0); fill-opacity: 0;\"/></g><g class=\"traces\" transform=\"translate(0,52.5)\" style=\"opacity: 1;\"><text class=\"legendtext\" text-anchor=\"start\" x=\"40\" y=\"4.680000000000001\" style=\"font-family: 'Open Sans', verdana, arial, sans-serif; font-size: 12px; fill: rgb(36, 36, 36); fill-opacity: 1; white-space: pre;\">OS-CFAR</text><g class=\"layers\" style=\"opacity: 1;\"><g class=\"legendfill\"/><g class=\"legendlines\"><path class=\"js-line\" d=\"M5,0h30\" style=\"fill: none; stroke: rgb(85, 168, 104); stroke-opacity: 1; stroke-width: 2px;\"/></g><g class=\"legendsymbols\"><g class=\"legendpoints\"/></g></g><rect class=\"legendtoggle\" x=\"0\" y=\"-9.5\" width=\"119.59375\" height=\"19\" style=\"fill: rgb(0, 0, 0); fill-opacity: 0;\"/></g></g></g><rect class=\"scrollbar\" rx=\"20\" ry=\"3\" width=\"0\" height=\"0\" x=\"0\" y=\"0\" style=\"fill: rgb(128, 139, 164); fill-opacity: 1;\"/></g><g class=\"g-gtitle\"/><g class=\"g-xtitle\"><text class=\"xtitle\" x=\"317\" y=\"460.3\" text-anchor=\"middle\" style=\"font-family: 'Open Sans', verdana, arial, sans-serif; font-size: 14px; fill: rgb(36, 36, 36); opacity: 1; font-weight: normal; white-space: pre;\">Range (m)</text></g><g class=\"g-ytitle\"><text class=\"ytitle\" transform=\"rotate(-90,29.621875000000003,260)\" x=\"29.621875000000003\" y=\"260\" text-anchor=\"middle\" style=\"font-family: 'Open Sans', verdana, arial, sans-serif; font-size: 14px; fill: rgb(36, 36, 36); opacity: 1; font-weight: normal; white-space: pre;\">Amplitude (dB)</text></g></g></svg>"
      ],
      "text/plain": [
       "<IPython.core.display.SVG object>"
      ]
     },
     "metadata": {},
     "output_type": "display_data"
    }
   ],
   "source": [
    "max_range = (3e8 * radar.receiver.fs *\n",
    "             radar.transmitter.pulse_length /\n",
    "             radar.transmitter.bandwidth / 2)\n",
    "range_axis = np.linspace(\n",
    "    0, max_range, radar.samples_per_pulse, endpoint=False)\n",
    "\n",
    "fig = go.Figure()\n",
    "\n",
    "fig.add_trace(go.Scatter(\n",
    "    x=range_axis,\n",
    "    y=20*np.log10(np.abs(range_profile[0, 0, :])),\n",
    "    name='Range profile',\n",
    "))\n",
    "\n",
    "fig.add_trace(go.Scatter(\n",
    "    x=range_axis,\n",
    "    y=10*np.log10(ca_cfar),\n",
    "    name='CA-CFAR'\n",
    "))\n",
    "\n",
    "fig.add_trace(go.Scatter(\n",
    "    x=range_axis,\n",
    "    y=10*np.log10(os_cfar),\n",
    "    name='OS-CFAR'\n",
    "))\n",
    "\n",
    "fig.update_layout(\n",
    "    # title='Range Profile',\n",
    "    template=\"seaborn\",\n",
    "    yaxis=dict(title='Amplitude (dB)'),\n",
    "    xaxis=dict(title='Range (m)'),\n",
    ")\n",
    "\n",
    "# fig.show()\n",
    "display(SVG(fig.to_image(format='svg', scale=1)))\n"
   ]
  }
 ],
 "metadata": {
  "file_extension": ".py",
  "kernelspec": {
   "display_name": "Python 3 (ipykernel)",
   "language": "python",
   "name": "python3"
  },
  "language_info": {
   "codemirror_mode": {
    "name": "ipython",
    "version": 3
   },
   "file_extension": ".py",
   "mimetype": "text/x-python",
   "name": "python",
   "nbconvert_exporter": "python",
   "pygments_lexer": "ipython3",
   "version": "3.11.4"
  },
  "mimetype": "text/x-python",
  "name": "python",
  "npconvert_exporter": "python",
  "pygments_lexer": "ipython3",
  "toc": {
   "base_numbering": 1,
   "nav_menu": {},
   "number_sections": true,
   "sideBar": true,
   "skip_h1_title": false,
   "title_cell": "Table of Contents",
   "title_sidebar": "Contents",
   "toc_cell": false,
   "toc_position": {},
   "toc_section_display": true,
   "toc_window_display": false
  },
  "varInspector": {
   "cols": {
    "lenName": 16,
    "lenType": 16,
    "lenVar": 40
   },
   "kernels_config": {
    "python": {
     "delete_cmd_postfix": "",
     "delete_cmd_prefix": "del ",
     "library": "var_list.py",
     "varRefreshCmd": "print(var_dic_list())"
    },
    "r": {
     "delete_cmd_postfix": ") ",
     "delete_cmd_prefix": "rm(",
     "library": "var_list.r",
     "varRefreshCmd": "cat(var_dic_list()) "
    }
   },
   "types_to_exclude": [
    "module",
    "function",
    "builtin_function_or_method",
    "instance",
    "_Feature"
   ],
   "window_display": false
  },
  "version": 3,
  "vscode": {
   "interpreter": {
    "hash": "93f700c1059b32d83d5a3c18a32630ee13b0a3dbf4faa4d0f71952c4a11b4154"
   }
  }
 },
 "nbformat": 4,
 "nbformat_minor": 4
}
