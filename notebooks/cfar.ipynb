{
 "cells": [
  {
   "cell_type": "code",
   "execution_count": 2,
   "metadata": {},
   "outputs": [
    {
     "name": "stdout",
     "output_type": "stream",
     "text": [
      "`RadarSimPy` used in this example is version: 11.2.0\n"
     ]
    }
   ],
   "source": [
    "import radarsimpy\n",
    "print('`RadarSimPy` used in this example is version: ' +\n",
    "      str(radarsimpy.__version__))"
   ]
  },
  {
   "attachments": {},
   "cell_type": "markdown",
   "metadata": {},
   "source": [
    "# CFAR\n",
    "\n",
    "[![Documentations](https://img.shields.io/github/v/tag/radarsimx/radarsimpy?label=Documentation&logo=read-the-docs)](https://radarsimx.github.io/radarsimpy/)\n",
    "[![Download](https://img.shields.io/github/v/tag/radarsimx/radarsimpy?label=Download&logo=python)](https://radarsimx.com/product/radarsimpy/)\n",
    "\n",
    "This example introduces constant false alarm rate (CFAR) detection and shows how to use [`RadarSimPy`](https://radarsimx.com/radarsimx/radarsimpy/) to perform Cell-Averaging CFAR (`CA-CFAR`) detection and Ordered Statistics CFAR (`OS-CFAR`) detection.\n",
    "\n",
    "## Introduction\n",
    "\n",
    "CFAR stands for \"Constant False Alarm Rate.\" It's a concept commonly used in radar signal processing and detection theory. CFAR is a technique that helps radar systems automatically adjust their detection thresholds based on the prevailing noise level in the environment, while maintaining a consistent probability of false alarms.\n",
    "\n",
    "In radar systems, the goal is to detect targets (such as airplanes, ships, or weather phenomena) while minimizing false alarms caused by noise or clutter in the radar returns. CFAR algorithms enable the radar to adapt its threshold for target detection based on the statistical characteristics of the background noise, which can vary due to factors like weather conditions, terrain, and other environmental variables.\n",
    "\n",
    "Here's how CFAR works:\n",
    "\n",
    "1. **Estimation of Background Noise Level**: CFAR algorithms estimate the statistical properties of the background noise by analyzing the radar returns in a designated area where no targets are expected. This can involve calculating the mean and variance of the received signal's power.\n",
    "\n",
    "2. **Threshold Calculation**: Once the background noise level is estimated, the CFAR algorithm calculates a detection threshold that corresponds to a constant probability of false alarms. The probability of false alarms is usually specified as a certain value (e.g., 1 false alarm per hour).\n",
    "\n",
    "3. **Adaptive Thresholding**: As the radar scans its environment, the CFAR algorithm adjusts the detection threshold based on the estimated background noise level. This allows the radar to maintain a relatively constant false alarm rate across different operating conditions.\n",
    "\n",
    "The advantage of CFAR is that it allows radar systems to be more adaptive and reliable in various environments. It ensures that the system doesn't produce an excessive number of false alarms when operating in noisy or cluttered conditions, while still detecting actual targets effectively.\n",
    "\n",
    "CFAR techniques can vary depending on the specific radar system and its requirements. Popular CFAR methods include Cell Averaging CFAR (CA-CFAR), Order Statistic CFAR (OS-CFAR), and Greatest-of CFAR (GO-CFAR), among others. Each of these methods employs different statistical approaches to achieve the constant false alarm rate behavior.\n",
    "\n",
    "## Create Radar Model\n",
    "\n",
    "Firstly, import the required modules from `radarsimpy`. `numpy` will also be needed in this example.\n"
   ]
  },
  {
   "cell_type": "code",
   "execution_count": 3,
   "metadata": {},
   "outputs": [],
   "source": [
    "import numpy as np\n",
    "from radarsimpy import Radar, Transmitter, Receiver"
   ]
  },
  {
   "cell_type": "markdown",
   "metadata": {},
   "source": [
    "### Transmitter\n",
    "\n",
    "Setup the basic transmitter parameters through [Transmitter](https://radarsimx.github.io/radarsimpy/radar.html#radarsimpy-transmitter) module.\n",
    "\n",
    "#### Define a Transmitter Channel\n",
    "\n",
    "Here, only the location of the transmitter channel is defined at [0, 0, 0] m. All the other properties, such as `polarization`, `antenna patterns`, and `modulation`, etc, are using default values as listed in the [documentation](https://radarsimx.github.io/radarsimpy/radar.html#radarsimpy-transmitter).\n"
   ]
  },
  {
   "cell_type": "code",
   "execution_count": 4,
   "metadata": {},
   "outputs": [],
   "source": [
    "tx_channel = dict(location=(0, 0, 0))"
   ]
  },
  {
   "cell_type": "markdown",
   "metadata": {},
   "source": [
    "#### Define a Radar Transmitter\n",
    "\n",
    "As shown in the diagram below, `f` and `t` are used to define the waveform modulation. For a linear frequency-modulated continuous waveform (FMCW), it can be specified as `f = [fstart, fend]` and `t = [tstart, tend]`. If `t` is a single number `t = t0`, which is equivalent to `t = [0, t0]`. The bandwidth of the FMCW is `abs(fstart - fend)`. `prp` is the pulse repetition period, and `prp >= (tend - tstart)`.\n",
    "\n",
    "```\n",
    "|                       prp\n",
    "|                  +-----------+\n",
    "|\n",
    "|            +---f[1]--->  /            /            /\n",
    "|                         /            /            /\n",
    "|                        /            /            /\n",
    "|                       /            /            /\n",
    "|                      /            /            /     ...\n",
    "|                     /            /            /\n",
    "|                    /            /            /\n",
    "|                   /            /            /\n",
    "|      +---f[0]--->/            /            /\n",
    "|\n",
    "|                  +-------+\n",
    "|                 t[0]    t[1]\n",
    "```\n"
   ]
  },
  {
   "cell_type": "code",
   "execution_count": 5,
   "metadata": {},
   "outputs": [],
   "source": [
    "tx = Transmitter(f=[24.075e9, 24.175e9],\n",
    "                 t=80e-6,\n",
    "                 tx_power=30,\n",
    "                 prp=100e-6,\n",
    "                 pulses=1,\n",
    "                 channels=[tx_channel])\n"
   ]
  },
  {
   "cell_type": "markdown",
   "metadata": {},
   "source": [
    "### Receiver\n",
    "\n",
    "Setup the receiver parameters through [Receiver](https://radarsimx.github.io/radarsimpy/radar.html#radarsimpy-receiver) module.\n",
    "\n",
    "#### Define a Receiver Channel\n",
    "\n",
    "Similar to the transmitter channel, only the location of the receiver channel is defined at [0, 0, 0] m. All the other properties, such as `polarization`, `antenna patterns`, are using default values as listed in the [documentation](https://radarsimx.github.io/radarsimpy/radar.html#radarsimpy-receiver).\n"
   ]
  },
  {
   "cell_type": "code",
   "execution_count": 6,
   "metadata": {},
   "outputs": [],
   "source": [
    "rx_channel = dict(location=(0, 0, 0))\n"
   ]
  },
  {
   "cell_type": "markdown",
   "metadata": {},
   "source": [
    "#### Define a Radar Receiver\n",
    "\n",
    "- `fs` – Sampling rate (sps)\n",
    "- `noise_figure` – Noise figure (dB)\n",
    "- `rf_gain` – Total RF gain (dB)\n",
    "- `load_resistor` – Load resistor to convert power to voltage (Ohm)\n",
    "- `baseband_gain` – Total baseband gain (dB)\n"
   ]
  },
  {
   "cell_type": "code",
   "execution_count": 7,
   "metadata": {},
   "outputs": [],
   "source": [
    "rx = Receiver(fs=2e6,\n",
    "              noise_figure=6,\n",
    "              rf_gain=20,\n",
    "              load_resistor=500,\n",
    "              baseband_gain=30,\n",
    "              channels=[rx_channel])\n"
   ]
  },
  {
   "cell_type": "markdown",
   "metadata": {},
   "source": [
    "### Radar System\n",
    "\n",
    "Use the defined transmitter and receiver to create the radar system.\n"
   ]
  },
  {
   "cell_type": "code",
   "execution_count": 8,
   "metadata": {},
   "outputs": [],
   "source": [
    "radar = Radar(transmitter=tx, receiver=rx)\n"
   ]
  },
  {
   "cell_type": "markdown",
   "metadata": {},
   "source": [
    "### Targets\n",
    "\n",
    "The propertities of targets are defined here. The locations of the targets are defined through $(x, y, z)$ coordinates in meters, and the speeds of the targets are defined trough $(v_x, v_y, v_z)$ in $m/s$. The propertites of the targets also includes radar cross-section (RCS (dBsm)) and phase (degree).\n"
   ]
  },
  {
   "cell_type": "code",
   "execution_count": 9,
   "metadata": {},
   "outputs": [],
   "source": [
    "target_1 = dict(location=(95, 20, 0), speed=(-50, 0, 0), rcs=20, phase=0)\n",
    "target_2 = dict(location=(30, -5, 0), speed=(-22, 0, 0), rcs=10, phase=0)\n",
    "\n",
    "targets = [target_1, target_2]\n"
   ]
  },
  {
   "cell_type": "markdown",
   "metadata": {},
   "source": [
    "## Simulate Baseband Signals\n",
    "\n",
    "Use the `simulator.sinc` module to simulate the baseband samples from the defined radar system and targets.\n",
    "\n",
    "The output baseband data is a dict including the timestamp and baseband. Both of them are 3-D matrix:\n",
    "\n",
    "`[channels, pulses, ADC samples]`\n"
   ]
  },
  {
   "cell_type": "code",
   "execution_count": 10,
   "metadata": {},
   "outputs": [],
   "source": [
    "from radarsimpy.simulator import simc\n",
    "\n",
    "data = simc(radar, targets)\n",
    "timestamp = data['timestamp']\n",
    "baseband = data['baseband']\n"
   ]
  },
  {
   "cell_type": "markdown",
   "metadata": {},
   "source": [
    "_Plot the baseband samples_\n"
   ]
  },
  {
   "cell_type": "code",
   "execution_count": 13,
   "metadata": {},
   "outputs": [
    {
     "data": {
      "application/vnd.plotly.v1+json": {
       "config": {
        "plotlyServerURL": "https://plot.ly"
       },
       "data": [
        {
         "name": "I",
         "type": "scatter",
         "x": [
          0,
          0.5,
          1,
          1.5,
          2,
          2.5,
          3,
          3.5,
          4,
          4.5,
          5,
          5.5,
          6,
          6.5,
          7,
          7.5,
          8,
          8.5,
          9,
          9.5,
          10,
          10.5,
          11,
          11.5,
          12,
          12.5,
          13,
          13.5,
          14,
          14.5,
          15,
          15.5,
          16,
          16.5,
          17,
          17.5,
          18,
          18.5,
          19,
          19.5,
          20,
          20.5,
          21,
          21.5,
          22,
          22.5,
          23,
          23.5,
          24,
          24.5,
          25,
          25.5,
          26,
          26.5,
          27,
          27.5,
          28,
          28.5,
          29,
          29.5,
          30,
          30.5,
          31,
          31.5,
          32,
          32.5,
          33,
          33.5,
          34,
          34.5,
          35,
          35.5,
          36,
          36.5,
          37,
          37.5,
          38,
          38.5,
          39,
          39.5,
          40,
          40.5,
          41,
          41.5,
          42,
          42.5,
          43,
          43.5,
          44,
          44.5,
          45,
          45.5,
          46,
          46.5,
          47,
          47.5,
          48,
          48.5,
          49,
          49.5,
          50,
          50.5,
          51,
          51.5,
          52,
          52.5,
          53,
          53.5,
          54,
          54.5,
          55,
          55.5,
          56,
          56.5,
          57,
          57.5,
          58,
          58.5,
          59,
          59.5,
          60,
          60.5,
          61,
          61.50000000000001,
          62,
          62.5,
          63,
          63.5,
          64,
          64.5,
          65,
          65.5,
          66,
          66.5,
          67,
          67.5,
          68,
          68.5,
          69,
          69.5,
          70,
          70.5,
          71,
          71.5,
          72,
          72.5,
          73,
          73.5,
          74,
          74.5,
          75,
          75.5,
          76,
          76.5,
          77,
          77.5,
          78,
          78.5,
          79,
          79.5
         ],
         "y": [
          -0.00043755018759175776,
          0.0044838921116386946,
          0.014949701297187513,
          0.0005623340656165654,
          0.0013691722938926868,
          -0.006375283451831917,
          -0.010398229290244674,
          0.0003768910369371576,
          -0.002565622687827354,
          0.009748826123724744,
          0.011206308308045428,
          0.0034484596491069484,
          0.0018498836442306624,
          -0.011815102227913371,
          -0.009177998696316084,
          -0.010586693877691214,
          0.001517183852539279,
          0.009555394372041429,
          0.0061553210590741,
          0.00638233826549593,
          -0.0005704596523303318,
          -0.00925933503403172,
          -0.006391873574812553,
          -0.010841179285286997,
          0.004610152102383449,
          0.008087208793000688,
          0.007694988948498633,
          0.00801882186884868,
          -0.003326870025695304,
          -0.005280930606912945,
          -0.00766379850078007,
          -0.00769195444546771,
          0.008532234275211308,
          0.003445293809734416,
          0.00942294917556831,
          0.006036628734584999,
          -0.0030251195257068237,
          -0.0043719356582360685,
          -0.01373497061968184,
          -0.005407986991267733,
          -0.0007500400277442595,
          0.003815607946892893,
          0.010469844765272431,
          0.0031778690519599353,
          0.003517770758593158,
          -0.007085977678915074,
          -0.009166932578562709,
          -0.0016351779306123574,
          -0.001859614322022703,
          0.011745495692457834,
          0.009229374954134858,
          0.004055468871986519,
          0.00022743892774347476,
          -0.009817584547406012,
          -0.00819836208254556,
          -0.008380497084715246,
          0.0010579954592296456,
          0.007376768736413278,
          0.004044962927753936,
          0.00794249071792305,
          0.001625460008105887,
          -0.008577106987951841,
          -0.009846303856684611,
          -0.006721977161269776,
          0.00363028695294718,
          0.0068566701113419205,
          0.007621796918062128,
          0.008580421475544272,
          -0.00018637895277847077,
          -0.005953317640955197,
          -0.0055298957404775455,
          -0.010314715221561337,
          0.0034762527619465983,
          0.005314722486500537,
          0.010845696855293404,
          0.006725488240500354,
          -0.0003699337264219116,
          -0.004458049247647691,
          -0.011930082280404892,
          -0.001614685441678525,
          -0.0017190349674287753,
          0.007616924781596382,
          0.01155951857804592,
          0.002959952245338228,
          0.005345707914639837,
          -0.008839484005975722,
          -0.010316463565315275,
          -0.007128915019253496,
          -0.0018642552868047455,
          0.008237904944073789,
          0.007783582959666149,
          0.0033847442389628906,
          -0.0011556759992683604,
          -0.010367615338327786,
          -0.007059745445657578,
          -0.0026831170128711803,
          0.003248518321345697,
          0.010102301713969619,
          0.0033762009025694816,
          0.006555703223717728,
          -0.0011890937376632534,
          -0.007198223614479417,
          -0.007061687319353552,
          -0.008776069508501749,
          0.00668156368385926,
          0.005858383646279756,
          0.011676799910056527,
          0.009539397218872321,
          -0.006355227949809688,
          -0.008854433344212966,
          -0.015447867893339899,
          -0.005757989436217062,
          0.0035664148164917075,
          0.0017079093603678758,
          0.013164140179371906,
          0.004748958600519762,
          -0.00040187220247130746,
          -0.004951048873379128,
          -0.016141210672616976,
          -0.001615074924106487,
          0.001777221159415966,
          0.006550796144544856,
          0.011264406416629508,
          0.0017213985959631162,
          0.00003092506067972839,
          -0.007514522268462317,
          -0.009138792180935638,
          -0.0007548491722144911,
          -0.001904679083535748,
          0.008551974426879976,
          0.006505018369397605,
          0.005207986078150032,
          0.0002227911399683266,
          -0.009384450439161075,
          -0.006434869417957543,
          -0.005698827306590406,
          0.0016063735360192287,
          0.007855495709117838,
          0.007339907660311802,
          0.008622515167425154,
          -0.0035101857492498226,
          -0.008732970750174224,
          -0.007673771581984194,
          -0.007559101164474863,
          0.002351433744219786,
          0.008031370206720212,
          0.005540520451687563,
          0.0055196552301294164,
          -0.005237562376107073,
          -0.00486670607450666,
          -0.01126432409766504,
          -0.00609001857287478,
          0.004125033286404012,
          0.005321917768311839,
          0.009270551075864743,
          0.0002188186289201568,
          0.0014340218988034578,
          -0.006224726386251361,
          -0.012818697437867711,
          -0.002093268909833256
         ]
        },
        {
         "name": "Q",
         "type": "scatter",
         "x": [
          0,
          0.5,
          1,
          1.5,
          2,
          2.5,
          3,
          3.5,
          4,
          4.5,
          5,
          5.5,
          6,
          6.5,
          7,
          7.5,
          8,
          8.5,
          9,
          9.5,
          10,
          10.5,
          11,
          11.5,
          12,
          12.5,
          13,
          13.5,
          14,
          14.5,
          15,
          15.5,
          16,
          16.5,
          17,
          17.5,
          18,
          18.5,
          19,
          19.5,
          20,
          20.5,
          21,
          21.5,
          22,
          22.5,
          23,
          23.5,
          24,
          24.5,
          25,
          25.5,
          26,
          26.5,
          27,
          27.5,
          28,
          28.5,
          29,
          29.5,
          30,
          30.5,
          31,
          31.5,
          32,
          32.5,
          33,
          33.5,
          34,
          34.5,
          35,
          35.5,
          36,
          36.5,
          37,
          37.5,
          38,
          38.5,
          39,
          39.5,
          40,
          40.5,
          41,
          41.5,
          42,
          42.5,
          43,
          43.5,
          44,
          44.5,
          45,
          45.5,
          46,
          46.5,
          47,
          47.5,
          48,
          48.5,
          49,
          49.5,
          50,
          50.5,
          51,
          51.5,
          52,
          52.5,
          53,
          53.5,
          54,
          54.5,
          55,
          55.5,
          56,
          56.5,
          57,
          57.5,
          58,
          58.5,
          59,
          59.5,
          60,
          60.5,
          61,
          61.50000000000001,
          62,
          62.5,
          63,
          63.5,
          64,
          64.5,
          65,
          65.5,
          66,
          66.5,
          67,
          67.5,
          68,
          68.5,
          69,
          69.5,
          70,
          70.5,
          71,
          71.5,
          72,
          72.5,
          73,
          73.5,
          74,
          74.5,
          75,
          75.5,
          76,
          76.5,
          77,
          77.5,
          78,
          78.5,
          79,
          79.5
         ],
         "y": [
          -0.008754572650622239,
          -0.007236434473689592,
          0.0029683606848010693,
          0.0077375547196930055,
          0.00659126521358539,
          0.010124568968068263,
          -0.0025181271976981445,
          -0.007930976834702445,
          -0.004934115404580407,
          -0.009579063205812997,
          0.0029588620313529073,
          0.004674629190607398,
          0.00994552367433723,
          0.005836788189913976,
          -0.0032376588368486507,
          -0.0044728885451994545,
          -0.00788186177919209,
          -0.0033624399915639157,
          0.0025028078761221775,
          0.007022965485246646,
          0.011538659247808546,
          0.004730781279701525,
          -0.0017595932200126462,
          -0.00877770597146753,
          -0.011108904385148551,
          -0.00006103140349610417,
          -0.002146058088150638,
          0.008338415081207718,
          0.00792358860194631,
          0.0033570849183457425,
          0.004774406117890426,
          -0.010118365250443363,
          -0.005288376038009846,
          -0.007134940944747786,
          0.0006369936912856324,
          0.009254739642376351,
          0.00494227538106764,
          0.00472684980792391,
          -0.0031577614364801583,
          -0.009546970306324475,
          -0.0068272976129401825,
          -0.008524501024452139,
          0.0033191726839559843,
          0.006961228186826271,
          0.007545196853125588,
          0.012273279667958301,
          -0.0041663466975012465,
          -0.005307766329832259,
          -0.011446643562975783,
          -0.008525806552007423,
          0.006258081515777801,
          0.0014261580555465976,
          0.011138255419613378,
          0.007705689009922443,
          -0.0015322567362689114,
          -0.004029749835520241,
          -0.010669725232707131,
          -0.0065323248096238636,
          -0.0005833417625763274,
          0.005836418319124149,
          0.013790629777595691,
          0.0036953663927918076,
          0.000881408759275431,
          -0.006567598641682019,
          -0.012604269988301636,
          -0.002350325431004868,
          -0.00125707423973759,
          0.008734650543653617,
          0.01029687070571199,
          0.0065178878488565154,
          0.00047825478283998067,
          -0.012433722445876597,
          -0.005426196313827799,
          -0.00451245735224612,
          -0.0015216997184460635,
          0.012250447633052696,
          0.005985518457405156,
          0.00548203017143077,
          -0.0014934929047721699,
          -0.007094754477645046,
          -0.00865299843790451,
          -0.009721029363715267,
          0.0024343056863035404,
          0.004111436531102032,
          0.009400596970880935,
          0.007159809991182228,
          -0.0037476135907676196,
          -0.00690422639361272,
          -0.008161207441843973,
          -0.003925132090973511,
          0.002823068776709994,
          0.005473982252996562,
          0.010605164965051348,
          0.004912316521238244,
          -0.0049564777868794365,
          -0.008665620642800544,
          -0.011484037408347619,
          -0.0028614739027966445,
          0.0005216904286785022,
          0.008234009389223524,
          0.009601968077348078,
          0.0005636244735741595,
          0.0003338282734202636,
          -0.008790825029470468,
          -0.0069902243549919175,
          -0.004236452174942479,
          -0.0022156213298809998,
          0.010654513396042639,
          0.008050836319705892,
          0.008157449444968478,
          0.002822640188257208,
          -0.00861854402074545,
          -0.009253699417087952,
          -0.007888665095768684,
          -0.0007582502189503159,
          0.011179289062799516,
          0.009173772295915192,
          0.007782629794324749,
          -0.0027446257615799923,
          -0.005159002154915658,
          -0.0051108425103909335,
          -0.007871726825300183,
          0.0021318240448915827,
          0.007001624348581541,
          0.007888646093502847,
          0.00896107054883655,
          -0.005829584940816322,
          -0.00386661692075776,
          -0.006693844296552098,
          -0.005484860083348188,
          0.00457445398604215,
          0.00637454947273334,
          0.011306518432360897,
          0.004013448686734052,
          -0.005288760500702047,
          -0.009129015120097247,
          -0.010143790886000493,
          -0.005335159811252387,
          -0.0018164921282076394,
          0.005551736232059831,
          0.011109788010816229,
          0.004694094436785579,
          -0.0001622076577069431,
          -0.007121622745937771,
          -0.007884053448634411,
          -0.0038114095236232606,
          -0.0010668133951834198,
          0.01392322950519036,
          0.008629559453969217,
          0.007864384477245485,
          0.00007693162976240637,
          -0.0098824774723421,
          -0.006340890213372894,
          -0.006002800524628446,
          0.002625524978141636,
          0.008152392402047098,
          0.006938238668093897,
          0.007495089271321685,
          -0.0023337494349571497,
          -0.006695417357507571
         ]
        }
       ],
       "layout": {
        "template": {
         "data": {
          "bar": [
           {
            "error_x": {
             "color": "#2a3f5f"
            },
            "error_y": {
             "color": "#2a3f5f"
            },
            "marker": {
             "line": {
              "color": "#E5ECF6",
              "width": 0.5
             },
             "pattern": {
              "fillmode": "overlay",
              "size": 10,
              "solidity": 0.2
             }
            },
            "type": "bar"
           }
          ],
          "barpolar": [
           {
            "marker": {
             "line": {
              "color": "#E5ECF6",
              "width": 0.5
             },
             "pattern": {
              "fillmode": "overlay",
              "size": 10,
              "solidity": 0.2
             }
            },
            "type": "barpolar"
           }
          ],
          "carpet": [
           {
            "aaxis": {
             "endlinecolor": "#2a3f5f",
             "gridcolor": "white",
             "linecolor": "white",
             "minorgridcolor": "white",
             "startlinecolor": "#2a3f5f"
            },
            "baxis": {
             "endlinecolor": "#2a3f5f",
             "gridcolor": "white",
             "linecolor": "white",
             "minorgridcolor": "white",
             "startlinecolor": "#2a3f5f"
            },
            "type": "carpet"
           }
          ],
          "choropleth": [
           {
            "colorbar": {
             "outlinewidth": 0,
             "ticks": ""
            },
            "type": "choropleth"
           }
          ],
          "contour": [
           {
            "colorbar": {
             "outlinewidth": 0,
             "ticks": ""
            },
            "colorscale": [
             [
              0,
              "#0d0887"
             ],
             [
              0.1111111111111111,
              "#46039f"
             ],
             [
              0.2222222222222222,
              "#7201a8"
             ],
             [
              0.3333333333333333,
              "#9c179e"
             ],
             [
              0.4444444444444444,
              "#bd3786"
             ],
             [
              0.5555555555555556,
              "#d8576b"
             ],
             [
              0.6666666666666666,
              "#ed7953"
             ],
             [
              0.7777777777777778,
              "#fb9f3a"
             ],
             [
              0.8888888888888888,
              "#fdca26"
             ],
             [
              1,
              "#f0f921"
             ]
            ],
            "type": "contour"
           }
          ],
          "contourcarpet": [
           {
            "colorbar": {
             "outlinewidth": 0,
             "ticks": ""
            },
            "type": "contourcarpet"
           }
          ],
          "heatmap": [
           {
            "colorbar": {
             "outlinewidth": 0,
             "ticks": ""
            },
            "colorscale": [
             [
              0,
              "#0d0887"
             ],
             [
              0.1111111111111111,
              "#46039f"
             ],
             [
              0.2222222222222222,
              "#7201a8"
             ],
             [
              0.3333333333333333,
              "#9c179e"
             ],
             [
              0.4444444444444444,
              "#bd3786"
             ],
             [
              0.5555555555555556,
              "#d8576b"
             ],
             [
              0.6666666666666666,
              "#ed7953"
             ],
             [
              0.7777777777777778,
              "#fb9f3a"
             ],
             [
              0.8888888888888888,
              "#fdca26"
             ],
             [
              1,
              "#f0f921"
             ]
            ],
            "type": "heatmap"
           }
          ],
          "heatmapgl": [
           {
            "colorbar": {
             "outlinewidth": 0,
             "ticks": ""
            },
            "colorscale": [
             [
              0,
              "#0d0887"
             ],
             [
              0.1111111111111111,
              "#46039f"
             ],
             [
              0.2222222222222222,
              "#7201a8"
             ],
             [
              0.3333333333333333,
              "#9c179e"
             ],
             [
              0.4444444444444444,
              "#bd3786"
             ],
             [
              0.5555555555555556,
              "#d8576b"
             ],
             [
              0.6666666666666666,
              "#ed7953"
             ],
             [
              0.7777777777777778,
              "#fb9f3a"
             ],
             [
              0.8888888888888888,
              "#fdca26"
             ],
             [
              1,
              "#f0f921"
             ]
            ],
            "type": "heatmapgl"
           }
          ],
          "histogram": [
           {
            "marker": {
             "pattern": {
              "fillmode": "overlay",
              "size": 10,
              "solidity": 0.2
             }
            },
            "type": "histogram"
           }
          ],
          "histogram2d": [
           {
            "colorbar": {
             "outlinewidth": 0,
             "ticks": ""
            },
            "colorscale": [
             [
              0,
              "#0d0887"
             ],
             [
              0.1111111111111111,
              "#46039f"
             ],
             [
              0.2222222222222222,
              "#7201a8"
             ],
             [
              0.3333333333333333,
              "#9c179e"
             ],
             [
              0.4444444444444444,
              "#bd3786"
             ],
             [
              0.5555555555555556,
              "#d8576b"
             ],
             [
              0.6666666666666666,
              "#ed7953"
             ],
             [
              0.7777777777777778,
              "#fb9f3a"
             ],
             [
              0.8888888888888888,
              "#fdca26"
             ],
             [
              1,
              "#f0f921"
             ]
            ],
            "type": "histogram2d"
           }
          ],
          "histogram2dcontour": [
           {
            "colorbar": {
             "outlinewidth": 0,
             "ticks": ""
            },
            "colorscale": [
             [
              0,
              "#0d0887"
             ],
             [
              0.1111111111111111,
              "#46039f"
             ],
             [
              0.2222222222222222,
              "#7201a8"
             ],
             [
              0.3333333333333333,
              "#9c179e"
             ],
             [
              0.4444444444444444,
              "#bd3786"
             ],
             [
              0.5555555555555556,
              "#d8576b"
             ],
             [
              0.6666666666666666,
              "#ed7953"
             ],
             [
              0.7777777777777778,
              "#fb9f3a"
             ],
             [
              0.8888888888888888,
              "#fdca26"
             ],
             [
              1,
              "#f0f921"
             ]
            ],
            "type": "histogram2dcontour"
           }
          ],
          "mesh3d": [
           {
            "colorbar": {
             "outlinewidth": 0,
             "ticks": ""
            },
            "type": "mesh3d"
           }
          ],
          "parcoords": [
           {
            "line": {
             "colorbar": {
              "outlinewidth": 0,
              "ticks": ""
             }
            },
            "type": "parcoords"
           }
          ],
          "pie": [
           {
            "automargin": true,
            "type": "pie"
           }
          ],
          "scatter": [
           {
            "fillpattern": {
             "fillmode": "overlay",
             "size": 10,
             "solidity": 0.2
            },
            "type": "scatter"
           }
          ],
          "scatter3d": [
           {
            "line": {
             "colorbar": {
              "outlinewidth": 0,
              "ticks": ""
             }
            },
            "marker": {
             "colorbar": {
              "outlinewidth": 0,
              "ticks": ""
             }
            },
            "type": "scatter3d"
           }
          ],
          "scattercarpet": [
           {
            "marker": {
             "colorbar": {
              "outlinewidth": 0,
              "ticks": ""
             }
            },
            "type": "scattercarpet"
           }
          ],
          "scattergeo": [
           {
            "marker": {
             "colorbar": {
              "outlinewidth": 0,
              "ticks": ""
             }
            },
            "type": "scattergeo"
           }
          ],
          "scattergl": [
           {
            "marker": {
             "colorbar": {
              "outlinewidth": 0,
              "ticks": ""
             }
            },
            "type": "scattergl"
           }
          ],
          "scattermapbox": [
           {
            "marker": {
             "colorbar": {
              "outlinewidth": 0,
              "ticks": ""
             }
            },
            "type": "scattermapbox"
           }
          ],
          "scatterpolar": [
           {
            "marker": {
             "colorbar": {
              "outlinewidth": 0,
              "ticks": ""
             }
            },
            "type": "scatterpolar"
           }
          ],
          "scatterpolargl": [
           {
            "marker": {
             "colorbar": {
              "outlinewidth": 0,
              "ticks": ""
             }
            },
            "type": "scatterpolargl"
           }
          ],
          "scatterternary": [
           {
            "marker": {
             "colorbar": {
              "outlinewidth": 0,
              "ticks": ""
             }
            },
            "type": "scatterternary"
           }
          ],
          "surface": [
           {
            "colorbar": {
             "outlinewidth": 0,
             "ticks": ""
            },
            "colorscale": [
             [
              0,
              "#0d0887"
             ],
             [
              0.1111111111111111,
              "#46039f"
             ],
             [
              0.2222222222222222,
              "#7201a8"
             ],
             [
              0.3333333333333333,
              "#9c179e"
             ],
             [
              0.4444444444444444,
              "#bd3786"
             ],
             [
              0.5555555555555556,
              "#d8576b"
             ],
             [
              0.6666666666666666,
              "#ed7953"
             ],
             [
              0.7777777777777778,
              "#fb9f3a"
             ],
             [
              0.8888888888888888,
              "#fdca26"
             ],
             [
              1,
              "#f0f921"
             ]
            ],
            "type": "surface"
           }
          ],
          "table": [
           {
            "cells": {
             "fill": {
              "color": "#EBF0F8"
             },
             "line": {
              "color": "white"
             }
            },
            "header": {
             "fill": {
              "color": "#C8D4E3"
             },
             "line": {
              "color": "white"
             }
            },
            "type": "table"
           }
          ]
         },
         "layout": {
          "annotationdefaults": {
           "arrowcolor": "#2a3f5f",
           "arrowhead": 0,
           "arrowwidth": 1
          },
          "autotypenumbers": "strict",
          "coloraxis": {
           "colorbar": {
            "outlinewidth": 0,
            "ticks": ""
           }
          },
          "colorscale": {
           "diverging": [
            [
             0,
             "#8e0152"
            ],
            [
             0.1,
             "#c51b7d"
            ],
            [
             0.2,
             "#de77ae"
            ],
            [
             0.3,
             "#f1b6da"
            ],
            [
             0.4,
             "#fde0ef"
            ],
            [
             0.5,
             "#f7f7f7"
            ],
            [
             0.6,
             "#e6f5d0"
            ],
            [
             0.7,
             "#b8e186"
            ],
            [
             0.8,
             "#7fbc41"
            ],
            [
             0.9,
             "#4d9221"
            ],
            [
             1,
             "#276419"
            ]
           ],
           "sequential": [
            [
             0,
             "#0d0887"
            ],
            [
             0.1111111111111111,
             "#46039f"
            ],
            [
             0.2222222222222222,
             "#7201a8"
            ],
            [
             0.3333333333333333,
             "#9c179e"
            ],
            [
             0.4444444444444444,
             "#bd3786"
            ],
            [
             0.5555555555555556,
             "#d8576b"
            ],
            [
             0.6666666666666666,
             "#ed7953"
            ],
            [
             0.7777777777777778,
             "#fb9f3a"
            ],
            [
             0.8888888888888888,
             "#fdca26"
            ],
            [
             1,
             "#f0f921"
            ]
           ],
           "sequentialminus": [
            [
             0,
             "#0d0887"
            ],
            [
             0.1111111111111111,
             "#46039f"
            ],
            [
             0.2222222222222222,
             "#7201a8"
            ],
            [
             0.3333333333333333,
             "#9c179e"
            ],
            [
             0.4444444444444444,
             "#bd3786"
            ],
            [
             0.5555555555555556,
             "#d8576b"
            ],
            [
             0.6666666666666666,
             "#ed7953"
            ],
            [
             0.7777777777777778,
             "#fb9f3a"
            ],
            [
             0.8888888888888888,
             "#fdca26"
            ],
            [
             1,
             "#f0f921"
            ]
           ]
          },
          "colorway": [
           "#636efa",
           "#EF553B",
           "#00cc96",
           "#ab63fa",
           "#FFA15A",
           "#19d3f3",
           "#FF6692",
           "#B6E880",
           "#FF97FF",
           "#FECB52"
          ],
          "font": {
           "color": "#2a3f5f"
          },
          "geo": {
           "bgcolor": "white",
           "lakecolor": "white",
           "landcolor": "#E5ECF6",
           "showlakes": true,
           "showland": true,
           "subunitcolor": "white"
          },
          "hoverlabel": {
           "align": "left"
          },
          "hovermode": "closest",
          "mapbox": {
           "style": "light"
          },
          "paper_bgcolor": "white",
          "plot_bgcolor": "#E5ECF6",
          "polar": {
           "angularaxis": {
            "gridcolor": "white",
            "linecolor": "white",
            "ticks": ""
           },
           "bgcolor": "#E5ECF6",
           "radialaxis": {
            "gridcolor": "white",
            "linecolor": "white",
            "ticks": ""
           }
          },
          "scene": {
           "xaxis": {
            "backgroundcolor": "#E5ECF6",
            "gridcolor": "white",
            "gridwidth": 2,
            "linecolor": "white",
            "showbackground": true,
            "ticks": "",
            "zerolinecolor": "white"
           },
           "yaxis": {
            "backgroundcolor": "#E5ECF6",
            "gridcolor": "white",
            "gridwidth": 2,
            "linecolor": "white",
            "showbackground": true,
            "ticks": "",
            "zerolinecolor": "white"
           },
           "zaxis": {
            "backgroundcolor": "#E5ECF6",
            "gridcolor": "white",
            "gridwidth": 2,
            "linecolor": "white",
            "showbackground": true,
            "ticks": "",
            "zerolinecolor": "white"
           }
          },
          "shapedefaults": {
           "line": {
            "color": "#2a3f5f"
           }
          },
          "ternary": {
           "aaxis": {
            "gridcolor": "white",
            "linecolor": "white",
            "ticks": ""
           },
           "baxis": {
            "gridcolor": "white",
            "linecolor": "white",
            "ticks": ""
           },
           "bgcolor": "#E5ECF6",
           "caxis": {
            "gridcolor": "white",
            "linecolor": "white",
            "ticks": ""
           }
          },
          "title": {
           "x": 0.05
          },
          "xaxis": {
           "automargin": true,
           "gridcolor": "white",
           "linecolor": "white",
           "ticks": "",
           "title": {
            "standoff": 15
           },
           "zerolinecolor": "white",
           "zerolinewidth": 2
          },
          "yaxis": {
           "automargin": true,
           "gridcolor": "white",
           "linecolor": "white",
           "ticks": "",
           "title": {
            "standoff": 15
           },
           "zerolinecolor": "white",
           "zerolinewidth": 2
          }
         }
        },
        "title": {
         "text": "I/Q Beat Signals for the First Chirp"
        },
        "xaxis": {
         "title": {
          "text": "Time (us)"
         }
        },
        "yaxis": {
         "title": {
          "text": "Amplitude (V)"
         }
        }
       }
      }
     },
     "metadata": {},
     "output_type": "display_data"
    }
   ],
   "source": [
    "import plotly.graph_objs as go\n",
    "\n",
    "fig = go.Figure()\n",
    "fig.add_trace(go.Scatter(\n",
    "    x=timestamp[0, 0, :]*1e6,\n",
    "    y=np.real(baseband[0, 0, :]),\n",
    "    name='I',\n",
    "))\n",
    "fig.add_trace(go.Scatter(\n",
    "    x=timestamp[0, 0, :]*1e6,\n",
    "    y=np.imag(baseband[0, 0, :]),\n",
    "    name='Q',\n",
    "))\n",
    "fig.update_layout(\n",
    "    title='I/Q Beat Signals for the First Chirp',\n",
    "    yaxis=dict(title='Amplitude (V)'),\n",
    "    xaxis=dict(title='Time (us)'),\n",
    ")\n",
    "fig.show()\n"
   ]
  },
  {
   "cell_type": "markdown",
   "metadata": {},
   "source": [
    "## Radar Signal Processing\n",
    "\n",
    "### Range Profile\n",
    "\n",
    "With an FMCW radar, the range profile of the targets could be obtained through a simple FFT across the samples of the chirp. This process is also known as the range-FFT.\n"
   ]
  },
  {
   "cell_type": "code",
   "execution_count": 16,
   "metadata": {},
   "outputs": [],
   "source": [
    "from scipy import signal\n",
    "import radarsimpy.processing as proc\n",
    "\n",
    "range_window = signal.windows.chebwin(radar.samples_per_pulse, at=60)\n",
    "range_profile = proc.range_fft(baseband, range_window)"
   ]
  },
  {
   "cell_type": "markdown",
   "metadata": {},
   "source": [
    "### CFAR\n",
    "\n",
    "The processing module of [`RadarSimPy`](https://radarsimx.com/radarsimx/radarsimpy/) incorporates both `CA-CFAR` and `OS-CFAR` algorithms. To calculate CFAR for 1-dimensional data, you can utilize the functions [cfar_ca_1d](https://radarsimx.github.io/radarsimpy/process.html#radarsimpy.processing.cfar_ca_1d) and [cfar_os_1d](https://radarsimx.github.io/radarsimpy/process.html#radarsimpy.processing.cfar_os_1d). On the other hand, for 2-dimensional data, you can make use of [cfar_ca_2d](https://radarsimx.github.io/radarsimpy/process.html#radarsimpy.processing.cfar_ca_2d) and [cfar_os_2d](https://radarsimx.github.io/radarsimpy/process.html#radarsimpy.processing.cfar_os_2d). This paragraph specifically focuses on demonstrating an example of 1-dimensional CFAR. However, if you are interested in exploring an example of 2-dimensional CFAR, you can refer to the [FMCW radar example](https://radarsimx.com/2021/05/10/fmcw-radar-with-a-corner-reflector/) available on the website.\n"
   ]
  },
  {
   "cell_type": "code",
   "execution_count": 17,
   "metadata": {},
   "outputs": [],
   "source": [
    "ca_cfar = proc.cfar_ca_1d(np.abs(\n",
    "    range_profile[0, 0, :])**2, guard=2, trailing=10, pfa=1e-4, detector='squarelaw')\n",
    "os_cfar = proc.cfar_os_1d(np.abs(\n",
    "    range_profile[0, 0, :])**2, guard=0, trailing=10, k=14, pfa=1e-4, detector='squarelaw')"
   ]
  },
  {
   "cell_type": "markdown",
   "metadata": {},
   "source": [
    "_Plot range profile and CFAR_\n"
   ]
  },
  {
   "cell_type": "code",
   "execution_count": 15,
   "metadata": {},
   "outputs": [
    {
     "data": {
      "application/vnd.plotly.v1+json": {
       "config": {
        "plotlyServerURL": "https://plot.ly"
       },
       "data": [
        {
         "name": "Range profile",
         "type": "scatter",
         "x": [
          0,
          1.5000000000000002,
          3.0000000000000004,
          4.500000000000001,
          6.000000000000001,
          7.500000000000001,
          9.000000000000002,
          10.500000000000002,
          12.000000000000002,
          13.500000000000002,
          15.000000000000002,
          16.500000000000004,
          18.000000000000004,
          19.500000000000004,
          21.000000000000004,
          22.500000000000004,
          24.000000000000004,
          25.500000000000004,
          27.000000000000004,
          28.500000000000004,
          30.000000000000004,
          31.500000000000004,
          33.00000000000001,
          34.50000000000001,
          36.00000000000001,
          37.50000000000001,
          39.00000000000001,
          40.50000000000001,
          42.00000000000001,
          43.50000000000001,
          45.00000000000001,
          46.50000000000001,
          48.00000000000001,
          49.50000000000001,
          51.00000000000001,
          52.50000000000001,
          54.00000000000001,
          55.50000000000001,
          57.00000000000001,
          58.50000000000001,
          60.00000000000001,
          61.50000000000001,
          63.00000000000001,
          64.50000000000001,
          66.00000000000001,
          67.50000000000001,
          69.00000000000001,
          70.50000000000001,
          72.00000000000001,
          73.50000000000001,
          75.00000000000001,
          76.50000000000001,
          78.00000000000001,
          79.50000000000001,
          81.00000000000001,
          82.50000000000001,
          84.00000000000001,
          85.50000000000001,
          87.00000000000001,
          88.50000000000001,
          90.00000000000001,
          91.50000000000001,
          93.00000000000001,
          94.50000000000001,
          96.00000000000001,
          97.50000000000001,
          99.00000000000001,
          100.50000000000001,
          102.00000000000001,
          103.50000000000001,
          105.00000000000001,
          106.50000000000001,
          108.00000000000001,
          109.50000000000001,
          111.00000000000001,
          112.50000000000001,
          114.00000000000001,
          115.50000000000001,
          117.00000000000001,
          118.50000000000001,
          120.00000000000001,
          121.50000000000001,
          123.00000000000001,
          124.50000000000001,
          126.00000000000001,
          127.50000000000001,
          129.00000000000003,
          130.50000000000003,
          132.00000000000003,
          133.50000000000003,
          135.00000000000003,
          136.50000000000003,
          138.00000000000003,
          139.50000000000003,
          141.00000000000003,
          142.50000000000003,
          144.00000000000003,
          145.50000000000003,
          147.00000000000003,
          148.50000000000003,
          150.00000000000003,
          151.50000000000003,
          153.00000000000003,
          154.50000000000003,
          156.00000000000003,
          157.50000000000003,
          159.00000000000003,
          160.50000000000003,
          162.00000000000003,
          163.50000000000003,
          165.00000000000003,
          166.50000000000003,
          168.00000000000003,
          169.50000000000003,
          171.00000000000003,
          172.50000000000003,
          174.00000000000003,
          175.50000000000003,
          177.00000000000003,
          178.50000000000003,
          180.00000000000003,
          181.50000000000003,
          183.00000000000003,
          184.50000000000003,
          186.00000000000003,
          187.50000000000003,
          189.00000000000003,
          190.50000000000003,
          192.00000000000003,
          193.50000000000003,
          195.00000000000003,
          196.50000000000003,
          198.00000000000003,
          199.50000000000003,
          201.00000000000003,
          202.50000000000003,
          204.00000000000003,
          205.50000000000003,
          207.00000000000003,
          208.50000000000003,
          210.00000000000003,
          211.50000000000003,
          213.00000000000003,
          214.50000000000003,
          216.00000000000003,
          217.50000000000003,
          219.00000000000003,
          220.50000000000003,
          222.00000000000003,
          223.50000000000003,
          225.00000000000003,
          226.50000000000003,
          228.00000000000003,
          229.50000000000003,
          231.00000000000003,
          232.50000000000003,
          234.00000000000003,
          235.50000000000003,
          237.00000000000003,
          238.50000000000003
         ],
         "y": [
          -50.94301981859398,
          -42.524263901227044,
          -49.68182310219834,
          -43.27941150676377,
          -41.61534730141142,
          -35.96046949190499,
          -35.660249910869155,
          -40.22897653754879,
          -31.88293560875656,
          -29.95622409957242,
          -38.06081490343887,
          -42.917479727731006,
          -45.935980187027425,
          -39.788041873013384,
          -31.466395390311945,
          -28.84863129252926,
          -30.400649500700364,
          -29.05749456622673,
          -45.32844325155903,
          -9.263010291162674,
          -2.9782638171045455,
          -8.301555759576672,
          -26.456427445445705,
          -36.881399495432134,
          -40.32923709923455,
          -31.387837143477356,
          -29.863723506715857,
          -28.615160320281753,
          -32.06723364650419,
          -41.21195102900491,
          -37.708895253621016,
          -34.53548905911505,
          -38.58293113298702,
          -34.57544008413405,
          -34.135178924287196,
          -38.64701520667512,
          -42.38788493399561,
          -53.305445384132646,
          -47.29322751895684,
          -51.26582893302347,
          -29.46454375482814,
          -29.12868889070856,
          -47.88789824344485,
          -37.46149484196926,
          -34.849760783653416,
          -33.7357294036391,
          -37.34165823323445,
          -41.0703792804832,
          -42.13552565864879,
          -38.12400297217511,
          -34.843228596943014,
          -36.021791124721666,
          -36.813857673209604,
          -46.99503832078569,
          -55.13495745228724,
          -37.45637553143869,
          -33.21521818647729,
          -38.938101363807846,
          -38.000274002311144,
          -33.87365711005815,
          -41.94775253967726,
          -32.73745917339053,
          -29.230297058793106,
          -22.95905946462107,
          -13.617569006291019,
          -17.89768868982788,
          -38.70990643138252,
          -38.69667167753046,
          -32.46364119006281,
          -28.97830939006379,
          -27.35854309894495,
          -28.647044521040975,
          -35.61625315535136,
          -33.25047911999188,
          -35.604044385342995,
          -44.12141257500352,
          -37.8939371437947,
          -47.38241407406441,
          -41.878068719480446,
          -35.893464326292644,
          -38.03333281244204,
          -45.67459488633805,
          -43.43683376030931,
          -39.19590413559647,
          -43.11757733097642,
          -50.239807846073596,
          -41.22215897433115,
          -41.6155025398831,
          -35.31830832865435,
          -33.356206125188066,
          -33.2476729027152,
          -31.158460991757863,
          -33.450300890566034,
          -36.70140978933625,
          -31.443191305303042,
          -29.639791042813304,
          -33.23977397062031,
          -37.320145532444286,
          -32.56838287675411,
          -43.3211859474513,
          -41.096421283202204,
          -33.47778748301134,
          -32.13478608866365,
          -39.48723409623082,
          -35.590654921927445,
          -33.67016095975907,
          -34.56305528221862,
          -37.78642138204211,
          -33.59277148688372,
          -29.66464849012885,
          -31.188738261283014,
          -31.980791736620084,
          -29.53063173978122,
          -30.13090274696735,
          -40.33235889530004,
          -41.51924531551951,
          -36.9963027634639,
          -42.53396705637967,
          -38.28390535656821,
          -37.93946278809126,
          -33.827654101596046,
          -40.203893160623295,
          -38.620533817712136,
          -34.26631104073223,
          -41.860410227602394,
          -39.7202153096133,
          -34.532053104071316,
          -34.45826604343691,
          -29.454590447063325,
          -29.267428863602518,
          -29.184297320501887,
          -34.71954936586195,
          -38.53362204180934,
          -45.860852894027595,
          -34.333706071367786,
          -33.306121060377905,
          -43.37753137008232,
          -34.62352994397109,
          -30.573318826219666,
          -34.64809747781665,
          -41.26074851849466,
          -40.32155891497364,
          -41.07601652316756,
          -33.229827665740146,
          -36.05380457596803,
          -43.976817418991786,
          -33.974182001646064,
          -33.08813484593871,
          -44.32765365292625,
          -32.58269152550338,
          -34.3606256050695,
          -35.11096485947489,
          -45.250192832353456,
          -34.093540782989166,
          -32.689248193557795,
          -37.906337898403905,
          -38.16275073151969,
          -32.33649191983483,
          -34.61074081576078,
          -40.78761588009053
         ]
        },
        {
         "name": "CA-CFAR",
         "type": "scatter",
         "x": [
          0,
          1.5000000000000002,
          3.0000000000000004,
          4.500000000000001,
          6.000000000000001,
          7.500000000000001,
          9.000000000000002,
          10.500000000000002,
          12.000000000000002,
          13.500000000000002,
          15.000000000000002,
          16.500000000000004,
          18.000000000000004,
          19.500000000000004,
          21.000000000000004,
          22.500000000000004,
          24.000000000000004,
          25.500000000000004,
          27.000000000000004,
          28.500000000000004,
          30.000000000000004,
          31.500000000000004,
          33.00000000000001,
          34.50000000000001,
          36.00000000000001,
          37.50000000000001,
          39.00000000000001,
          40.50000000000001,
          42.00000000000001,
          43.50000000000001,
          45.00000000000001,
          46.50000000000001,
          48.00000000000001,
          49.50000000000001,
          51.00000000000001,
          52.50000000000001,
          54.00000000000001,
          55.50000000000001,
          57.00000000000001,
          58.50000000000001,
          60.00000000000001,
          61.50000000000001,
          63.00000000000001,
          64.50000000000001,
          66.00000000000001,
          67.50000000000001,
          69.00000000000001,
          70.50000000000001,
          72.00000000000001,
          73.50000000000001,
          75.00000000000001,
          76.50000000000001,
          78.00000000000001,
          79.50000000000001,
          81.00000000000001,
          82.50000000000001,
          84.00000000000001,
          85.50000000000001,
          87.00000000000001,
          88.50000000000001,
          90.00000000000001,
          91.50000000000001,
          93.00000000000001,
          94.50000000000001,
          96.00000000000001,
          97.50000000000001,
          99.00000000000001,
          100.50000000000001,
          102.00000000000001,
          103.50000000000001,
          105.00000000000001,
          106.50000000000001,
          108.00000000000001,
          109.50000000000001,
          111.00000000000001,
          112.50000000000001,
          114.00000000000001,
          115.50000000000001,
          117.00000000000001,
          118.50000000000001,
          120.00000000000001,
          121.50000000000001,
          123.00000000000001,
          124.50000000000001,
          126.00000000000001,
          127.50000000000001,
          129.00000000000003,
          130.50000000000003,
          132.00000000000003,
          133.50000000000003,
          135.00000000000003,
          136.50000000000003,
          138.00000000000003,
          139.50000000000003,
          141.00000000000003,
          142.50000000000003,
          144.00000000000003,
          145.50000000000003,
          147.00000000000003,
          148.50000000000003,
          150.00000000000003,
          151.50000000000003,
          153.00000000000003,
          154.50000000000003,
          156.00000000000003,
          157.50000000000003,
          159.00000000000003,
          160.50000000000003,
          162.00000000000003,
          163.50000000000003,
          165.00000000000003,
          166.50000000000003,
          168.00000000000003,
          169.50000000000003,
          171.00000000000003,
          172.50000000000003,
          174.00000000000003,
          175.50000000000003,
          177.00000000000003,
          178.50000000000003,
          180.00000000000003,
          181.50000000000003,
          183.00000000000003,
          184.50000000000003,
          186.00000000000003,
          187.50000000000003,
          189.00000000000003,
          190.50000000000003,
          192.00000000000003,
          193.50000000000003,
          195.00000000000003,
          196.50000000000003,
          198.00000000000003,
          199.50000000000003,
          201.00000000000003,
          202.50000000000003,
          204.00000000000003,
          205.50000000000003,
          207.00000000000003,
          208.50000000000003,
          210.00000000000003,
          211.50000000000003,
          213.00000000000003,
          214.50000000000003,
          216.00000000000003,
          217.50000000000003,
          219.00000000000003,
          220.50000000000003,
          222.00000000000003,
          223.50000000000003,
          225.00000000000003,
          226.50000000000003,
          228.00000000000003,
          229.50000000000003,
          231.00000000000003,
          232.50000000000003,
          234.00000000000003,
          235.50000000000003,
          237.00000000000003,
          238.50000000000003
         ],
         "y": [
          -28.13447305120727,
          -28.039624971945955,
          -27.10530221666354,
          -25.90681649520159,
          -25.267250611576422,
          -24.375870880949027,
          -24.793174037331337,
          -11.422287635088612,
          -4.356399932903276,
          -3.435649314720772,
          -3.422610023079003,
          -3.418432136794876,
          -3.4162595619007248,
          -3.41865251844683,
          -3.4180098306033906,
          -3.4171843682267933,
          -3.4135596130612282,
          -4.1253851700483954,
          -10.320813669632805,
          -21.562383520994196,
          -21.932707073914422,
          -22.125292426348977,
          -11.248369959866999,
          -4.327465932569103,
          -3.4191764167571623,
          -3.414351347900925,
          -3.4171543885261113,
          -3.4209997701924246,
          -3.4188524538925638,
          -3.413328978470048,
          -3.4132682935399328,
          -3.4109129489378995,
          -4.126883738141288,
          -10.34802077062318,
          -22.148054500539374,
          -23.098464471203958,
          -23.003006347928835,
          -22.785505789919483,
          -23.51571803648822,
          -24.79875906802136,
          -25.812471078436545,
          -26.621400840491305,
          -27.10532807501762,
          -26.256971901563368,
          -25.16032814055354,
          -25.22141194121054,
          -25.28267662925362,
          -25.116757711011083,
          -25.098198193916488,
          -24.77435194109586,
          -24.033588463222053,
          -21.597210854370434,
          -14.88984517315457,
          -13.835131260324676,
          -13.916646414098642,
          -13.90418947670544,
          -13.888666664248344,
          -13.85576342684218,
          -13.762351456111379,
          -13.69488174057439,
          -13.746935577480306,
          -14.025914023582066,
          -18.39951363045712,
          -23.157521239894653,
          -22.99742722664685,
          -22.578199329267584,
          -20.87414740259293,
          -14.813015521174718,
          -13.82818002057627,
          -13.93250838019279,
          -13.946462886910783,
          -13.942945642460945,
          -13.903516100707199,
          -13.79602207435569,
          -13.75083318845517,
          -13.8034976796584,
          -14.07769386095185,
          -18.552127353454384,
          -23.303593772115924,
          -22.905714955876974,
          -22.764330434981083,
          -22.965145348563603,
          -23.139186362060077,
          -23.466731904890203,
          -24.032277757749434,
          -24.105308929306798,
          -24.166589071756064,
          -24.614249508553876,
          -24.938400462321034,
          -25.27060345532568,
          -25.094259163290694,
          -24.990602120225102,
          -25.184808927828712,
          -25.480318380377234,
          -24.961491891823478,
          -24.66333954561484,
          -24.680415372716794,
          -23.56609300312263,
          -22.65303339415511,
          -22.388212275893768,
          -22.123971207407056,
          -21.684116849622036,
          -21.91417149893028,
          -22.222791237815986,
          -22.42530151417033,
          -22.403524791844944,
          -22.579322545753012,
          -23.25533406798161,
          -23.831158553056746,
          -24.258341728282595,
          -24.991004589791714,
          -25.603077701066933,
          -24.761457047376354,
          -24.2465211148471,
          -24.02451415470182,
          -23.536507873278797,
          -22.590473148413057,
          -22.219515919375837,
          -22.039777728183736,
          -22.00259674991207,
          -22.046283082759178,
          -22.31365508938794,
          -22.588780590915277,
          -22.582285610051976,
          -22.989616474438247,
          -23.521522367336654,
          -24.038836952423857,
          -24.63723602132774,
          -25.533179594444277,
          -25.61750217086223,
          -25.40046775902357,
          -24.291177428731835,
          -23.715343357230875,
          -23.502332201126052,
          -23.175576432915015,
          -23.097629957136366,
          -23.761654044153797,
          -23.462744720639744,
          -23.109869177390095,
          -23.157364152237896,
          -23.18984649267727,
          -23.37547941846422,
          -23.69089753419088,
          -24.336727287491367,
          -24.690152257840158,
          -24.667259439942505,
          -24.136767067178226,
          -24.542949852674166,
          -25.158224634157577,
          -25.11983625735187,
          -25.024765662445038,
          -26.15209378761147,
          -26.511712752439614,
          -26.36667321714615,
          -26.298194576861313,
          -27.04327000106096,
          -27.637057127778956,
          -27.342337198271423,
          -27.177556257630524,
          -27.519323904364434
         ]
        },
        {
         "name": "OS-CFAR",
         "type": "scatter",
         "x": [
          0,
          1.5000000000000002,
          3.0000000000000004,
          4.500000000000001,
          6.000000000000001,
          7.500000000000001,
          9.000000000000002,
          10.500000000000002,
          12.000000000000002,
          13.500000000000002,
          15.000000000000002,
          16.500000000000004,
          18.000000000000004,
          19.500000000000004,
          21.000000000000004,
          22.500000000000004,
          24.000000000000004,
          25.500000000000004,
          27.000000000000004,
          28.500000000000004,
          30.000000000000004,
          31.500000000000004,
          33.00000000000001,
          34.50000000000001,
          36.00000000000001,
          37.50000000000001,
          39.00000000000001,
          40.50000000000001,
          42.00000000000001,
          43.50000000000001,
          45.00000000000001,
          46.50000000000001,
          48.00000000000001,
          49.50000000000001,
          51.00000000000001,
          52.50000000000001,
          54.00000000000001,
          55.50000000000001,
          57.00000000000001,
          58.50000000000001,
          60.00000000000001,
          61.50000000000001,
          63.00000000000001,
          64.50000000000001,
          66.00000000000001,
          67.50000000000001,
          69.00000000000001,
          70.50000000000001,
          72.00000000000001,
          73.50000000000001,
          75.00000000000001,
          76.50000000000001,
          78.00000000000001,
          79.50000000000001,
          81.00000000000001,
          82.50000000000001,
          84.00000000000001,
          85.50000000000001,
          87.00000000000001,
          88.50000000000001,
          90.00000000000001,
          91.50000000000001,
          93.00000000000001,
          94.50000000000001,
          96.00000000000001,
          97.50000000000001,
          99.00000000000001,
          100.50000000000001,
          102.00000000000001,
          103.50000000000001,
          105.00000000000001,
          106.50000000000001,
          108.00000000000001,
          109.50000000000001,
          111.00000000000001,
          112.50000000000001,
          114.00000000000001,
          115.50000000000001,
          117.00000000000001,
          118.50000000000001,
          120.00000000000001,
          121.50000000000001,
          123.00000000000001,
          124.50000000000001,
          126.00000000000001,
          127.50000000000001,
          129.00000000000003,
          130.50000000000003,
          132.00000000000003,
          133.50000000000003,
          135.00000000000003,
          136.50000000000003,
          138.00000000000003,
          139.50000000000003,
          141.00000000000003,
          142.50000000000003,
          144.00000000000003,
          145.50000000000003,
          147.00000000000003,
          148.50000000000003,
          150.00000000000003,
          151.50000000000003,
          153.00000000000003,
          154.50000000000003,
          156.00000000000003,
          157.50000000000003,
          159.00000000000003,
          160.50000000000003,
          162.00000000000003,
          163.50000000000003,
          165.00000000000003,
          166.50000000000003,
          168.00000000000003,
          169.50000000000003,
          171.00000000000003,
          172.50000000000003,
          174.00000000000003,
          175.50000000000003,
          177.00000000000003,
          178.50000000000003,
          180.00000000000003,
          181.50000000000003,
          183.00000000000003,
          184.50000000000003,
          186.00000000000003,
          187.50000000000003,
          189.00000000000003,
          190.50000000000003,
          192.00000000000003,
          193.50000000000003,
          195.00000000000003,
          196.50000000000003,
          198.00000000000003,
          199.50000000000003,
          201.00000000000003,
          202.50000000000003,
          204.00000000000003,
          205.50000000000003,
          207.00000000000003,
          208.50000000000003,
          210.00000000000003,
          211.50000000000003,
          213.00000000000003,
          214.50000000000003,
          216.00000000000003,
          217.50000000000003,
          219.00000000000003,
          220.50000000000003,
          222.00000000000003,
          223.50000000000003,
          225.00000000000003,
          226.50000000000003,
          228.00000000000003,
          229.50000000000003,
          231.00000000000003,
          232.50000000000003,
          234.00000000000003,
          235.50000000000003,
          237.00000000000003,
          238.50000000000003
         ],
         "y": [
          -23.69550537792182,
          -23.94562058861309,
          -23.94562058861309,
          -23.94562058861309,
          -23.94562058861309,
          -23.94562058861309,
          -21.671371692687146,
          -21.21781538160888,
          -23.94562058861309,
          -21.21781538160888,
          -19.73552927355268,
          -19.291103872424735,
          -18.392374339079044,
          -18.392374339079044,
          -18.392374339079044,
          -19.291103872424735,
          -18.392374339079044,
          -18.18351106538157,
          -18.18351106538157,
          -18.392374339079044,
          -18.392374339079044,
          -18.392374339079044,
          -18.392374339079044,
          -18.18351106538157,
          -18.18351106538157,
          -18.18351106538157,
          -18.392374339079044,
          -19.198603279568175,
          -19.198603279568175,
          -19.198603279568175,
          -19.198603279568175,
          -19.198603279568175,
          -20.72271691632967,
          -21.402113419356507,
          -21.402113419356507,
          -21.402113419356507,
          -23.07060917649141,
          -23.470058697139507,
          -23.87036883196736,
          -23.91031985698637,
          -24.178108369795325,
          -24.178108369795325,
          -24.178108369795325,
          -24.178108369795325,
          -25.35667089757398,
          -26.148737446061915,
          -24.184640556505734,
          -24.184640556505734,
          -24.184640556505734,
          -24.178108369795325,
          -24.184640556505734,
          -24.178108369795325,
          -24.178108369795325,
          -23.208536882910465,
          -23.07060917649141,
          -22.5500979593296,
          -23.208536882910465,
          -22.5500979593296,
          -22.072338946242848,
          -21.798520962915124,
          -18.565176831645424,
          -18.313189162916103,
          -18.313189162916103,
          -18.565176831645424,
          -18.565176831645424,
          -18.565176831645424,
          -18.313189162916103,
          -18.313189162916103,
          -18.313189162916103,
          -18.565176831645424,
          -18.565176831645424,
          -18.565176831645424,
          -18.313189162916103,
          -18.313189162916103,
          -21.798520962915124,
          -22.58535889284419,
          -24.938924158195306,
          -24.938924158195306,
          -24.653188101506668,
          -24.653188101506668,
          -24.653188101506668,
          -24.653188101506668,
          -24.653188101506668,
          -24.653188101506668,
          -24.653188101506668,
          -22.78518066341835,
          -22.691085898040377,
          -22.691085898040377,
          -22.582552675567516,
          -22.582552675567516,
          -22.691085898040377,
          -22.691085898040377,
          -22.574653743472624,
          -22.574653743472624,
          -22.582552675567516,
          -22.582552675567516,
          -22.582552675567516,
          -22.574653743472624,
          -22.582552675567516,
          -21.90326264960642,
          -21.469665861515963,
          -21.315671509472395,
          -21.315671509472395,
          -20.778071078155357,
          -20.778071078155357,
          -21.315671509472395,
          -21.469665861515963,
          -21.469665861515963,
          -21.469665861515963,
          -22.81266725586366,
          -22.81266725586366,
          -22.81266725586366,
          -22.92765125973603,
          -23.005040732611384,
          -22.92765125973603,
          -22.92765125973603,
          -22.92765125973603,
          -22.92765125973603,
          -21.315671509472395,
          -20.523618034135332,
          -20.523618034135332,
          -21.315671509472395,
          -23.162533874448357,
          -23.793145816289222,
          -23.6685858442201,
          -23.601190813584548,
          -23.601190813584548,
          -23.601190813584548,
          -23.601190813584548,
          -23.601190813584548,
          -23.601190813584548,
          -23.601190813584548,
          -23.601190813584548,
          -22.64100083323022,
          -22.64100083323022,
          -23.6685858442201,
          -22.64100083323022,
          -22.56470743859246,
          -22.64100083323022,
          -22.56470743859246,
          -22.64100083323022,
          -23.30906177449838,
          -23.30906177449838,
          -23.428420555841477,
          -22.64100083323022,
          -22.64100083323022,
          -23.428420555841477,
          -23.30906177449838,
          -22.56470743859246,
          -23.428420555841477,
          -23.30906177449838,
          -23.30906177449838,
          -23.30906177449838,
          -23.30906177449838,
          -23.69550537792182,
          -23.428420555841477,
          -23.428420555841477,
          -23.94562058861309,
          -23.69550537792182,
          -23.428420555841477
         ]
        }
       ],
       "layout": {
        "template": {
         "data": {
          "bar": [
           {
            "error_x": {
             "color": "#2a3f5f"
            },
            "error_y": {
             "color": "#2a3f5f"
            },
            "marker": {
             "line": {
              "color": "#E5ECF6",
              "width": 0.5
             },
             "pattern": {
              "fillmode": "overlay",
              "size": 10,
              "solidity": 0.2
             }
            },
            "type": "bar"
           }
          ],
          "barpolar": [
           {
            "marker": {
             "line": {
              "color": "#E5ECF6",
              "width": 0.5
             },
             "pattern": {
              "fillmode": "overlay",
              "size": 10,
              "solidity": 0.2
             }
            },
            "type": "barpolar"
           }
          ],
          "carpet": [
           {
            "aaxis": {
             "endlinecolor": "#2a3f5f",
             "gridcolor": "white",
             "linecolor": "white",
             "minorgridcolor": "white",
             "startlinecolor": "#2a3f5f"
            },
            "baxis": {
             "endlinecolor": "#2a3f5f",
             "gridcolor": "white",
             "linecolor": "white",
             "minorgridcolor": "white",
             "startlinecolor": "#2a3f5f"
            },
            "type": "carpet"
           }
          ],
          "choropleth": [
           {
            "colorbar": {
             "outlinewidth": 0,
             "ticks": ""
            },
            "type": "choropleth"
           }
          ],
          "contour": [
           {
            "colorbar": {
             "outlinewidth": 0,
             "ticks": ""
            },
            "colorscale": [
             [
              0,
              "#0d0887"
             ],
             [
              0.1111111111111111,
              "#46039f"
             ],
             [
              0.2222222222222222,
              "#7201a8"
             ],
             [
              0.3333333333333333,
              "#9c179e"
             ],
             [
              0.4444444444444444,
              "#bd3786"
             ],
             [
              0.5555555555555556,
              "#d8576b"
             ],
             [
              0.6666666666666666,
              "#ed7953"
             ],
             [
              0.7777777777777778,
              "#fb9f3a"
             ],
             [
              0.8888888888888888,
              "#fdca26"
             ],
             [
              1,
              "#f0f921"
             ]
            ],
            "type": "contour"
           }
          ],
          "contourcarpet": [
           {
            "colorbar": {
             "outlinewidth": 0,
             "ticks": ""
            },
            "type": "contourcarpet"
           }
          ],
          "heatmap": [
           {
            "colorbar": {
             "outlinewidth": 0,
             "ticks": ""
            },
            "colorscale": [
             [
              0,
              "#0d0887"
             ],
             [
              0.1111111111111111,
              "#46039f"
             ],
             [
              0.2222222222222222,
              "#7201a8"
             ],
             [
              0.3333333333333333,
              "#9c179e"
             ],
             [
              0.4444444444444444,
              "#bd3786"
             ],
             [
              0.5555555555555556,
              "#d8576b"
             ],
             [
              0.6666666666666666,
              "#ed7953"
             ],
             [
              0.7777777777777778,
              "#fb9f3a"
             ],
             [
              0.8888888888888888,
              "#fdca26"
             ],
             [
              1,
              "#f0f921"
             ]
            ],
            "type": "heatmap"
           }
          ],
          "heatmapgl": [
           {
            "colorbar": {
             "outlinewidth": 0,
             "ticks": ""
            },
            "colorscale": [
             [
              0,
              "#0d0887"
             ],
             [
              0.1111111111111111,
              "#46039f"
             ],
             [
              0.2222222222222222,
              "#7201a8"
             ],
             [
              0.3333333333333333,
              "#9c179e"
             ],
             [
              0.4444444444444444,
              "#bd3786"
             ],
             [
              0.5555555555555556,
              "#d8576b"
             ],
             [
              0.6666666666666666,
              "#ed7953"
             ],
             [
              0.7777777777777778,
              "#fb9f3a"
             ],
             [
              0.8888888888888888,
              "#fdca26"
             ],
             [
              1,
              "#f0f921"
             ]
            ],
            "type": "heatmapgl"
           }
          ],
          "histogram": [
           {
            "marker": {
             "pattern": {
              "fillmode": "overlay",
              "size": 10,
              "solidity": 0.2
             }
            },
            "type": "histogram"
           }
          ],
          "histogram2d": [
           {
            "colorbar": {
             "outlinewidth": 0,
             "ticks": ""
            },
            "colorscale": [
             [
              0,
              "#0d0887"
             ],
             [
              0.1111111111111111,
              "#46039f"
             ],
             [
              0.2222222222222222,
              "#7201a8"
             ],
             [
              0.3333333333333333,
              "#9c179e"
             ],
             [
              0.4444444444444444,
              "#bd3786"
             ],
             [
              0.5555555555555556,
              "#d8576b"
             ],
             [
              0.6666666666666666,
              "#ed7953"
             ],
             [
              0.7777777777777778,
              "#fb9f3a"
             ],
             [
              0.8888888888888888,
              "#fdca26"
             ],
             [
              1,
              "#f0f921"
             ]
            ],
            "type": "histogram2d"
           }
          ],
          "histogram2dcontour": [
           {
            "colorbar": {
             "outlinewidth": 0,
             "ticks": ""
            },
            "colorscale": [
             [
              0,
              "#0d0887"
             ],
             [
              0.1111111111111111,
              "#46039f"
             ],
             [
              0.2222222222222222,
              "#7201a8"
             ],
             [
              0.3333333333333333,
              "#9c179e"
             ],
             [
              0.4444444444444444,
              "#bd3786"
             ],
             [
              0.5555555555555556,
              "#d8576b"
             ],
             [
              0.6666666666666666,
              "#ed7953"
             ],
             [
              0.7777777777777778,
              "#fb9f3a"
             ],
             [
              0.8888888888888888,
              "#fdca26"
             ],
             [
              1,
              "#f0f921"
             ]
            ],
            "type": "histogram2dcontour"
           }
          ],
          "mesh3d": [
           {
            "colorbar": {
             "outlinewidth": 0,
             "ticks": ""
            },
            "type": "mesh3d"
           }
          ],
          "parcoords": [
           {
            "line": {
             "colorbar": {
              "outlinewidth": 0,
              "ticks": ""
             }
            },
            "type": "parcoords"
           }
          ],
          "pie": [
           {
            "automargin": true,
            "type": "pie"
           }
          ],
          "scatter": [
           {
            "fillpattern": {
             "fillmode": "overlay",
             "size": 10,
             "solidity": 0.2
            },
            "type": "scatter"
           }
          ],
          "scatter3d": [
           {
            "line": {
             "colorbar": {
              "outlinewidth": 0,
              "ticks": ""
             }
            },
            "marker": {
             "colorbar": {
              "outlinewidth": 0,
              "ticks": ""
             }
            },
            "type": "scatter3d"
           }
          ],
          "scattercarpet": [
           {
            "marker": {
             "colorbar": {
              "outlinewidth": 0,
              "ticks": ""
             }
            },
            "type": "scattercarpet"
           }
          ],
          "scattergeo": [
           {
            "marker": {
             "colorbar": {
              "outlinewidth": 0,
              "ticks": ""
             }
            },
            "type": "scattergeo"
           }
          ],
          "scattergl": [
           {
            "marker": {
             "colorbar": {
              "outlinewidth": 0,
              "ticks": ""
             }
            },
            "type": "scattergl"
           }
          ],
          "scattermapbox": [
           {
            "marker": {
             "colorbar": {
              "outlinewidth": 0,
              "ticks": ""
             }
            },
            "type": "scattermapbox"
           }
          ],
          "scatterpolar": [
           {
            "marker": {
             "colorbar": {
              "outlinewidth": 0,
              "ticks": ""
             }
            },
            "type": "scatterpolar"
           }
          ],
          "scatterpolargl": [
           {
            "marker": {
             "colorbar": {
              "outlinewidth": 0,
              "ticks": ""
             }
            },
            "type": "scatterpolargl"
           }
          ],
          "scatterternary": [
           {
            "marker": {
             "colorbar": {
              "outlinewidth": 0,
              "ticks": ""
             }
            },
            "type": "scatterternary"
           }
          ],
          "surface": [
           {
            "colorbar": {
             "outlinewidth": 0,
             "ticks": ""
            },
            "colorscale": [
             [
              0,
              "#0d0887"
             ],
             [
              0.1111111111111111,
              "#46039f"
             ],
             [
              0.2222222222222222,
              "#7201a8"
             ],
             [
              0.3333333333333333,
              "#9c179e"
             ],
             [
              0.4444444444444444,
              "#bd3786"
             ],
             [
              0.5555555555555556,
              "#d8576b"
             ],
             [
              0.6666666666666666,
              "#ed7953"
             ],
             [
              0.7777777777777778,
              "#fb9f3a"
             ],
             [
              0.8888888888888888,
              "#fdca26"
             ],
             [
              1,
              "#f0f921"
             ]
            ],
            "type": "surface"
           }
          ],
          "table": [
           {
            "cells": {
             "fill": {
              "color": "#EBF0F8"
             },
             "line": {
              "color": "white"
             }
            },
            "header": {
             "fill": {
              "color": "#C8D4E3"
             },
             "line": {
              "color": "white"
             }
            },
            "type": "table"
           }
          ]
         },
         "layout": {
          "annotationdefaults": {
           "arrowcolor": "#2a3f5f",
           "arrowhead": 0,
           "arrowwidth": 1
          },
          "autotypenumbers": "strict",
          "coloraxis": {
           "colorbar": {
            "outlinewidth": 0,
            "ticks": ""
           }
          },
          "colorscale": {
           "diverging": [
            [
             0,
             "#8e0152"
            ],
            [
             0.1,
             "#c51b7d"
            ],
            [
             0.2,
             "#de77ae"
            ],
            [
             0.3,
             "#f1b6da"
            ],
            [
             0.4,
             "#fde0ef"
            ],
            [
             0.5,
             "#f7f7f7"
            ],
            [
             0.6,
             "#e6f5d0"
            ],
            [
             0.7,
             "#b8e186"
            ],
            [
             0.8,
             "#7fbc41"
            ],
            [
             0.9,
             "#4d9221"
            ],
            [
             1,
             "#276419"
            ]
           ],
           "sequential": [
            [
             0,
             "#0d0887"
            ],
            [
             0.1111111111111111,
             "#46039f"
            ],
            [
             0.2222222222222222,
             "#7201a8"
            ],
            [
             0.3333333333333333,
             "#9c179e"
            ],
            [
             0.4444444444444444,
             "#bd3786"
            ],
            [
             0.5555555555555556,
             "#d8576b"
            ],
            [
             0.6666666666666666,
             "#ed7953"
            ],
            [
             0.7777777777777778,
             "#fb9f3a"
            ],
            [
             0.8888888888888888,
             "#fdca26"
            ],
            [
             1,
             "#f0f921"
            ]
           ],
           "sequentialminus": [
            [
             0,
             "#0d0887"
            ],
            [
             0.1111111111111111,
             "#46039f"
            ],
            [
             0.2222222222222222,
             "#7201a8"
            ],
            [
             0.3333333333333333,
             "#9c179e"
            ],
            [
             0.4444444444444444,
             "#bd3786"
            ],
            [
             0.5555555555555556,
             "#d8576b"
            ],
            [
             0.6666666666666666,
             "#ed7953"
            ],
            [
             0.7777777777777778,
             "#fb9f3a"
            ],
            [
             0.8888888888888888,
             "#fdca26"
            ],
            [
             1,
             "#f0f921"
            ]
           ]
          },
          "colorway": [
           "#636efa",
           "#EF553B",
           "#00cc96",
           "#ab63fa",
           "#FFA15A",
           "#19d3f3",
           "#FF6692",
           "#B6E880",
           "#FF97FF",
           "#FECB52"
          ],
          "font": {
           "color": "#2a3f5f"
          },
          "geo": {
           "bgcolor": "white",
           "lakecolor": "white",
           "landcolor": "#E5ECF6",
           "showlakes": true,
           "showland": true,
           "subunitcolor": "white"
          },
          "hoverlabel": {
           "align": "left"
          },
          "hovermode": "closest",
          "mapbox": {
           "style": "light"
          },
          "paper_bgcolor": "white",
          "plot_bgcolor": "#E5ECF6",
          "polar": {
           "angularaxis": {
            "gridcolor": "white",
            "linecolor": "white",
            "ticks": ""
           },
           "bgcolor": "#E5ECF6",
           "radialaxis": {
            "gridcolor": "white",
            "linecolor": "white",
            "ticks": ""
           }
          },
          "scene": {
           "xaxis": {
            "backgroundcolor": "#E5ECF6",
            "gridcolor": "white",
            "gridwidth": 2,
            "linecolor": "white",
            "showbackground": true,
            "ticks": "",
            "zerolinecolor": "white"
           },
           "yaxis": {
            "backgroundcolor": "#E5ECF6",
            "gridcolor": "white",
            "gridwidth": 2,
            "linecolor": "white",
            "showbackground": true,
            "ticks": "",
            "zerolinecolor": "white"
           },
           "zaxis": {
            "backgroundcolor": "#E5ECF6",
            "gridcolor": "white",
            "gridwidth": 2,
            "linecolor": "white",
            "showbackground": true,
            "ticks": "",
            "zerolinecolor": "white"
           }
          },
          "shapedefaults": {
           "line": {
            "color": "#2a3f5f"
           }
          },
          "ternary": {
           "aaxis": {
            "gridcolor": "white",
            "linecolor": "white",
            "ticks": ""
           },
           "baxis": {
            "gridcolor": "white",
            "linecolor": "white",
            "ticks": ""
           },
           "bgcolor": "#E5ECF6",
           "caxis": {
            "gridcolor": "white",
            "linecolor": "white",
            "ticks": ""
           }
          },
          "title": {
           "x": 0.05
          },
          "xaxis": {
           "automargin": true,
           "gridcolor": "white",
           "linecolor": "white",
           "ticks": "",
           "title": {
            "standoff": 15
           },
           "zerolinecolor": "white",
           "zerolinewidth": 2
          },
          "yaxis": {
           "automargin": true,
           "gridcolor": "white",
           "linecolor": "white",
           "ticks": "",
           "title": {
            "standoff": 15
           },
           "zerolinecolor": "white",
           "zerolinewidth": 2
          }
         }
        },
        "xaxis": {
         "title": {
          "text": "Range (m)"
         }
        },
        "yaxis": {
         "title": {
          "text": "Amplitude (dB)"
         }
        }
       }
      }
     },
     "metadata": {},
     "output_type": "display_data"
    }
   ],
   "source": [
    "max_range = (3e8 * radar.receiver.fs *\n",
    "             radar.transmitter.pulse_length /\n",
    "             radar.transmitter.bandwidth / 2)\n",
    "range_axis = np.linspace(0, max_range, radar.samples_per_pulse, endpoint=False)\n",
    "\n",
    "fig = go.Figure()\n",
    "fig.add_trace(go.Scatter(\n",
    "    x=range_axis,\n",
    "    y=20*np.log10(np.abs(range_profile[0, 0, :])),\n",
    "    name='Range profile',\n",
    "))\n",
    "fig.add_trace(go.Scatter(\n",
    "    x=range_axis,\n",
    "    y=10*np.log10(ca_cfar),\n",
    "    name='CA-CFAR'\n",
    "))\n",
    "fig.add_trace(go.Scatter(\n",
    "    x=range_axis,\n",
    "    y=10*np.log10(os_cfar),\n",
    "    name='OS-CFAR'\n",
    "))\n",
    "fig.update_layout(\n",
    "    yaxis=dict(title='Amplitude (dB)'),\n",
    "    xaxis=dict(title='Range (m)'),\n",
    ")\n",
    "\n",
    "fig.show()"
   ]
  }
 ],
 "metadata": {
  "file_extension": ".py",
  "kernelspec": {
   "display_name": "Python 3 (ipykernel)",
   "language": "python",
   "name": "python3"
  },
  "language_info": {
   "codemirror_mode": {
    "name": "ipython",
    "version": 3
   },
   "file_extension": ".py",
   "mimetype": "text/x-python",
   "name": "python",
   "nbconvert_exporter": "python",
   "pygments_lexer": "ipython3",
   "version": "3.11.4"
  },
  "mimetype": "text/x-python",
  "name": "python",
  "npconvert_exporter": "python",
  "pygments_lexer": "ipython3",
  "toc": {
   "base_numbering": 1,
   "nav_menu": {},
   "number_sections": true,
   "sideBar": true,
   "skip_h1_title": false,
   "title_cell": "Table of Contents",
   "title_sidebar": "Contents",
   "toc_cell": false,
   "toc_position": {},
   "toc_section_display": true,
   "toc_window_display": false
  },
  "varInspector": {
   "cols": {
    "lenName": 16,
    "lenType": 16,
    "lenVar": 40
   },
   "kernels_config": {
    "python": {
     "delete_cmd_postfix": "",
     "delete_cmd_prefix": "del ",
     "library": "var_list.py",
     "varRefreshCmd": "print(var_dic_list())"
    },
    "r": {
     "delete_cmd_postfix": ") ",
     "delete_cmd_prefix": "rm(",
     "library": "var_list.r",
     "varRefreshCmd": "cat(var_dic_list()) "
    }
   },
   "types_to_exclude": [
    "module",
    "function",
    "builtin_function_or_method",
    "instance",
    "_Feature"
   ],
   "window_display": false
  },
  "version": 3,
  "vscode": {
   "interpreter": {
    "hash": "93f700c1059b32d83d5a3c18a32630ee13b0a3dbf4faa4d0f71952c4a11b4154"
   }
  }
 },
 "nbformat": 4,
 "nbformat_minor": 4
}
