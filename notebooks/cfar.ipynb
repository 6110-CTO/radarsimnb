{
 "cells": [
  {
   "cell_type": "code",
   "execution_count": 6,
   "metadata": {},
   "outputs": [
    {
     "name": "stdout",
     "output_type": "stream",
     "text": [
      "`RadarSimPy` used in this example is version: 11.2.0\n"
     ]
    }
   ],
   "source": [
    "import radarsimpy\n",
    "print('`RadarSimPy` used in this example is version: ' + str(radarsimpy.__version__))"
   ]
  },
  {
   "attachments": {},
   "cell_type": "markdown",
   "metadata": {},
   "source": [
    "# CFAR\n",
    "\n",
    "[![Documentations](https://img.shields.io/github/v/tag/radarsimx/radarsimpy?label=Documentation&logo=read-the-docs)](https://radarsimx.github.io/radarsimpy/)\n",
    "[![Download](https://img.shields.io/github/v/tag/radarsimx/radarsimpy?label=Download&logo=python)](https://radarsimx.com/product/radarsimpy/)\n",
    "\n",
    "This example introduces constant false alarm rate (CFAR) detection and shows how to use [`RadarSimPy`](https://radarsimx.com/radarsimx/radarsimpy/) to perform Cell-Averaging CFAR (`CA-CFAR`) detection and Ordered Statistics CFAR (`OS-CFAR`) detection.\n",
    "\n",
    "## Introduction\n",
    "\n",
    "CFAR stands for \"Constant False Alarm Rate.\" It's a concept commonly used in radar signal processing and detection theory. CFAR is a technique that helps radar systems automatically adjust their detection thresholds based on the prevailing noise level in the environment, while maintaining a consistent probability of false alarms.\n",
    "\n",
    "In radar systems, the goal is to detect targets (such as airplanes, ships, or weather phenomena) while minimizing false alarms caused by noise or clutter in the radar returns. CFAR algorithms enable the radar to adapt its threshold for target detection based on the statistical characteristics of the background noise, which can vary due to factors like weather conditions, terrain, and other environmental variables.\n",
    "\n",
    "Here's how CFAR works:\n",
    "\n",
    "1. **Estimation of Background Noise Level**: CFAR algorithms estimate the statistical properties of the background noise by analyzing the radar returns in a designated area where no targets are expected. This can involve calculating the mean and variance of the received signal's power.\n",
    "\n",
    "2. **Threshold Calculation**: Once the background noise level is estimated, the CFAR algorithm calculates a detection threshold that corresponds to a constant probability of false alarms. The probability of false alarms is usually specified as a certain value (e.g., 1 false alarm per hour).\n",
    "\n",
    "3. **Adaptive Thresholding**: As the radar scans its environment, the CFAR algorithm adjusts the detection threshold based on the estimated background noise level. This allows the radar to maintain a relatively constant false alarm rate across different operating conditions.\n",
    "\n",
    "The advantage of CFAR is that it allows radar systems to be more adaptive and reliable in various environments. It ensures that the system doesn't produce an excessive number of false alarms when operating in noisy or cluttered conditions, while still detecting actual targets effectively.\n",
    "\n",
    "CFAR techniques can vary depending on the specific radar system and its requirements. Popular CFAR methods include Cell Averaging CFAR (CA-CFAR), Order Statistic CFAR (OS-CFAR), and Greatest-of CFAR (GO-CFAR), among others. Each of these methods employs different statistical approaches to achieve the constant false alarm rate behavior.\n",
    "\n",
    "## Create Radar Model\n",
    "\n",
    "Firstly, import the required modules from `radarsimpy`. `numpy` will also be needed in this example.\n"
   ]
  },
  {
   "cell_type": "code",
   "execution_count": null,
   "metadata": {},
   "outputs": [],
   "source": [
    "import numpy as np\n",
    "from radarsimpy import Radar, Transmitter, Receiver"
   ]
  },
  {
   "cell_type": "markdown",
   "metadata": {},
   "source": [
    "### Transmitter\n",
    "\n",
    "Setup the basic transmitter parameters through [Transmitter](https://radarsimx.github.io/radarsimpy/radar.html#radarsimpy-transmitter) module.\n",
    "\n",
    "#### Define a Transmitter Channel\n",
    "\n",
    "Here, only the location of the transmitter channel is defined at [0, 0, 0] m. All the other properties, such as `polarization`, `antenna patterns`, and `modulation`, etc, are using default values as listed in the [documentation](https://radarsimx.github.io/radarsimpy/radar.html#radarsimpy-transmitter)."
   ]
  },
  {
   "cell_type": "code",
   "execution_count": 2,
   "metadata": {},
   "outputs": [],
   "source": [
    "tx_channel = dict(location=(0, 0, 0))"
   ]
  },
  {
   "cell_type": "markdown",
   "metadata": {},
   "source": [
    "#### Define a Radar Transmitter\n",
    "\n",
    "As shown in the diagram below, `f` and `t` are used to define the waveform modulation. For a linear frequency-modulated continuous waveform (FMCW), it can be specified as `f = [fstart, fend]` and `t = [tstart, tend]`. If `t` is a single number `t = t0`, which is equivalent to `t = [0, t0]`. The bandwidth of the FMCW is `abs(fstart - fend)`. `prp` is the pulse repetition period, and `prp >= (tend - tstart)`.\n",
    "\n",
    "```\n",
    "|                       prp\n",
    "|                  +-----------+\n",
    "|\n",
    "|            +---f[1]--->  /            /            /\n",
    "|                         /            /            /\n",
    "|                        /            /            /\n",
    "|                       /            /            /\n",
    "|                      /            /            /     ...\n",
    "|                     /            /            /\n",
    "|                    /            /            /\n",
    "|                   /            /            /\n",
    "|      +---f[0]--->/            /            /\n",
    "|\n",
    "|                  +-------+\n",
    "|                 t[0]    t[1]\n",
    "```\n"
   ]
  },
  {
   "cell_type": "code",
   "execution_count": null,
   "metadata": {},
   "outputs": [],
   "source": [
    "tx = Transmitter(f=[24.075e9, 24.175e9],\n",
    "                 t=80e-6,\n",
    "                 tx_power=20,\n",
    "                 prp=100e-6,\n",
    "                 pulses=1,\n",
    "                 channels=[tx_channel])"
   ]
  },
  {
   "cell_type": "markdown",
   "metadata": {},
   "source": [
    "### Receiver\n",
    "\n",
    "Setup the receiver parameters through [Receiver](https://radarsimx.github.io/radarsimpy/radar.html#radarsimpy-receiver) module.\n",
    "\n",
    "#### Define a Receiver Channel\n",
    "\n",
    "Similar to the transmitter channel, only the location of the receiver channel is defined at [0, 0, 0] m. All the other properties, such as `polarization`, `antenna patterns`, are using default values as listed in the [documentation](https://radarsimx.github.io/radarsimpy/radar.html#radarsimpy-receiver)."
   ]
  },
  {
   "cell_type": "code",
   "execution_count": 3,
   "metadata": {},
   "outputs": [],
   "source": [
    "rx_channel = dict(location=(0, 0, 0))"
   ]
  },
  {
   "cell_type": "markdown",
   "metadata": {},
   "source": [
    "#### Define a Radar Receiver\n",
    "\n",
    "- `fs` – Sampling rate (sps)\n",
    "- `noise_figure` – Noise figure (dB)\n",
    "- `rf_gain` – Total RF gain (dB)\n",
    "- `load_resistor` – Load resistor to convert power to voltage (Ohm)\n",
    "- `baseband_gain` – Total baseband gain (dB)"
   ]
  },
  {
   "cell_type": "code",
   "execution_count": null,
   "metadata": {},
   "outputs": [],
   "source": [
    "rx = Receiver(fs=2e6,\n",
    "              noise_figure=12,\n",
    "              rf_gain=20,\n",
    "              load_resistor=500,\n",
    "              baseband_gain=30,\n",
    "              channels=[rx_channel])"
   ]
  },
  {
   "cell_type": "markdown",
   "metadata": {},
   "source": [
    "### Radar System\n",
    "\n",
    "Use the defined transmitter and receiver to create the radar system."
   ]
  },
  {
   "cell_type": "code",
   "execution_count": 4,
   "metadata": {},
   "outputs": [],
   "source": [
    "radar = Radar(transmitter=tx, receiver=rx)"
   ]
  },
  {
   "cell_type": "markdown",
   "metadata": {},
   "source": [
    "### Targets\n",
    "\n",
    "The propertities of targets are defined here. The locations of the targets are defined through $(x, y, z)$ coordinates in meters, and the speeds of the targets are defined trough $(v_x, v_y, v_z)$ in $m/s$. The propertites of the targets also includes radar cross-section (RCS (dBsm)) and phase (degree)."
   ]
  },
  {
   "cell_type": "code",
   "execution_count": 5,
   "metadata": {},
   "outputs": [],
   "source": [
    "target_1 = dict(location=(95, 20, 0), speed=(-50, 0, 0), rcs=20, phase=0)\n",
    "target_2 = dict(location=(30, -5, 0), speed=(-22, 0, 0), rcs=10, phase=0)\n",
    "\n",
    "targets = [target_1, target_2]"
   ]
  },
  {
   "cell_type": "markdown",
   "metadata": {},
   "source": [
    "## Simulate Baseband Signals\n",
    " \n",
    "Use the `simulator` module to simulate the baseband samples. The user can choose between Python engine `simpy` or C++ engine `simc`.\n",
    "\n",
    "The output baseband data is a 3-D matrix:\n",
    "\n",
    "$[channels, pulses, ADC~samples]$\n",
    " \n",
    "#### Simulate with C++ engine"
   ]
  },
  {
   "cell_type": "code",
   "execution_count": 6,
   "metadata": {},
   "outputs": [],
   "source": [
    "from radarsimpy.simulator import simc\n",
    "\n",
    "data = simc(radar, targets)\n",
    "time_matrix = data['timestamp']\n",
    "data_matrix = data['baseband']\n"
   ]
  },
  {
   "cell_type": "code",
   "execution_count": 7,
   "metadata": {},
   "outputs": [
    {
     "data": {
      "image/svg+xml": [
       "<svg xmlns=\"http://www.w3.org/2000/svg\" xmlns:xlink=\"http://www.w3.org/1999/xlink\" class=\"main-svg\" width=\"700\" height=\"500\" style=\"\" viewBox=\"0 0 700 500\"><rect x=\"0\" y=\"0\" width=\"700\" height=\"500\" style=\"fill: rgb(255, 255, 255); fill-opacity: 1;\"/><defs id=\"defs-d2ec90\"><g class=\"clips\"><clipPath id=\"clipd2ec90xyplot\" class=\"plotclip\"><rect width=\"540\" height=\"320\"/></clipPath><clipPath class=\"axesclip\" id=\"clipd2ec90x\"><rect x=\"80\" y=\"0\" width=\"540\" height=\"500\"/></clipPath><clipPath class=\"axesclip\" id=\"clipd2ec90y\"><rect x=\"0\" y=\"100\" width=\"700\" height=\"320\"/></clipPath><clipPath class=\"axesclip\" id=\"clipd2ec90xy\"><rect x=\"80\" y=\"100\" width=\"540\" height=\"320\"/></clipPath></g><g class=\"gradients\"/><g class=\"patterns\"/></defs><g class=\"bglayer\"><rect class=\"bg\" x=\"80\" y=\"100\" width=\"540\" height=\"320\" style=\"fill: rgb(234, 234, 242); fill-opacity: 1; stroke-width: 0;\"/></g><g class=\"layer-below\"><g class=\"imagelayer\"/><g class=\"shapelayer\"/></g><g class=\"cartesianlayer\"><g class=\"subplot xy\"><g class=\"layer-subplot\"><g class=\"shapelayer\"/><g class=\"imagelayer\"/></g><g class=\"minor-gridlayer\"><g class=\"x\"/><g class=\"y\"/></g><g class=\"gridlayer\"><g class=\"x\"><path class=\"xgrid crisp\" transform=\"translate(215.85,0)\" d=\"M0,100v320\" style=\"stroke: rgb(255, 255, 255); stroke-opacity: 1; stroke-width: 1px;\"/><path class=\"xgrid crisp\" transform=\"translate(351.7,0)\" d=\"M0,100v320\" style=\"stroke: rgb(255, 255, 255); stroke-opacity: 1; stroke-width: 1px;\"/><path class=\"xgrid crisp\" transform=\"translate(487.55,0)\" d=\"M0,100v320\" style=\"stroke: rgb(255, 255, 255); stroke-opacity: 1; stroke-width: 1px;\"/></g><g class=\"y\"><path class=\"ygrid crisp\" transform=\"translate(0,396.07)\" d=\"M80,0h540\" style=\"stroke: rgb(255, 255, 255); stroke-opacity: 1; stroke-width: 1px;\"/><path class=\"ygrid crisp\" transform=\"translate(0,351.65)\" d=\"M80,0h540\" style=\"stroke: rgb(255, 255, 255); stroke-opacity: 1; stroke-width: 1px;\"/><path class=\"ygrid crisp\" transform=\"translate(0,307.24)\" d=\"M80,0h540\" style=\"stroke: rgb(255, 255, 255); stroke-opacity: 1; stroke-width: 1px;\"/><path class=\"ygrid crisp\" transform=\"translate(0,218.41)\" d=\"M80,0h540\" style=\"stroke: rgb(255, 255, 255); stroke-opacity: 1; stroke-width: 1px;\"/><path class=\"ygrid crisp\" transform=\"translate(0,173.99)\" d=\"M80,0h540\" style=\"stroke: rgb(255, 255, 255); stroke-opacity: 1; stroke-width: 1px;\"/><path class=\"ygrid crisp\" transform=\"translate(0,129.57999999999998)\" d=\"M80,0h540\" style=\"stroke: rgb(255, 255, 255); stroke-opacity: 1; stroke-width: 1px;\"/></g></g><g class=\"zerolinelayer\"><path class=\"xzl zl crisp\" transform=\"translate(80,0)\" d=\"M0,100v320\" style=\"stroke: rgb(255, 255, 255); stroke-opacity: 1; stroke-width: 1px;\"/><path class=\"yzl zl crisp\" transform=\"translate(0,262.82)\" d=\"M80,0h540\" style=\"stroke: rgb(255, 255, 255); stroke-opacity: 1; stroke-width: 1px;\"/></g><path class=\"xlines-below\"/><path class=\"ylines-below\"/><g class=\"overlines-below\"/><g class=\"xaxislayer-below\"/><g class=\"yaxislayer-below\"/><g class=\"overaxes-below\"/><g class=\"plot\" transform=\"translate(80,100)\" clip-path=\"url(#clipd2ec90xyplot)\"><g class=\"scatterlayer mlayer\"><g class=\"trace scatter traceb9ef4e\" style=\"stroke-miterlimit: 2; opacity: 1;\"><g class=\"fills\"/><g class=\"errorbars\"/><g class=\"lines\"><path class=\"js-line\" d=\"M0,149.99L6.79,30.63L10.19,129.71L13.58,161.34L16.98,252.32L20.38,282.77L23.77,194.96L27.17,179.1L30.57,51.31L33.96,53.85L37.36,115.82L40.75,143L44.15,277.65L47.55,244.98L50.94,230.88L54.34,165.95L57.74,44.05L61.13,88.46L64.53,74.72L67.92,182.89L71.32,264.22L74.72,242.37L78.11,260.52L81.51,126.64L84.91,82.2L88.3,70.81L91.7,70.36L95.09,210.41L98.49,222.45L101.89,281.86L105.28,242.21L108.68,118.21L112.08,108.65L115.47,24.97L118.87,105.71L122.26,186.22L125.66,220.84L129.06,295.83L132.45,194.94L135.85,157L139.25,93.12L142.64,33.23L146.04,127.89L149.43,158.43L152.83,262.29L156.23,278.46L159.62,196.69L163.02,176.76L166.42,47.56L169.81,65.33L173.21,106.23L176.6,155.06L180,279.35L183.4,236.66L186.79,232.61L190.19,156.97L193.58,57.11L196.98,93L200.38,70.13L203.77,192.25L207.17,255.2L210.57,246.32L213.96,258.1L217.36,119.86L220.75,87.71L224.15,66.7L227.55,75.34L230.94,214.41L234.34,221.85L237.74,280.51L241.13,234.99L244.53,119.43L247.92,107.04L251.32,26.07L254.72,107.08L258.11,187.57L261.51,226.74L264.91,303.09L268.3,199.34L271.7,157.27L275.09,80.6L278.49,33.6L281.89,133.38L285.28,152.57L288.68,266.24L292.08,266.98L295.47,208.5L298.87,177.22L302.26,44.16L309.06,103.5L312.45,153.4L315.85,283.78L319.25,236.84L322.64,240.97L326.04,148.02L329.43,56.23L332.83,91.83L336.23,75.24L339.62,194.96L343.02,250.72L346.42,248L349.81,260.08L353.21,111.52L356.6,90.45L360,58.86L363.4,83.47L366.79,215.04L370.19,220.35L373.58,286.38L376.98,226.44L380.38,126.03L383.77,111.44L387.17,16L390.57,120.93L393.96,173.57L400.75,298.06L404.15,190.13L407.55,170.92L410.94,75.04L414.34,40.72L417.74,128.35L421.13,147.25L424.53,273.73L427.92,267.1L431.32,201.22L434.72,176.73L438.11,41.9L441.51,79.22L444.91,97.43L448.3,170.3L451.7,280.68L455.09,236.06L458.49,241.55L465.28,58.19L468.68,89.66L472.08,76.64L475.47,211.15L478.87,245.8L482.26,249.26L485.66,256.98L489.06,111.05L492.45,96.6L495.85,47.61L499.25,87.37L502.64,214.15L506.04,220.6L509.43,290.19L516.23,131.94L519.62,99.25L523.02,30.16L526.42,131.86L529.81,173.4L533.21,236.12L536.6,290.96L540,189.32\" style=\"vector-effect: none; fill: none; stroke: rgb(76, 114, 176); stroke-opacity: 1; stroke-width: 2px; opacity: 1;\"/></g><g class=\"points\"/><g class=\"text\"/></g><g class=\"trace scatter trace86b5f7\" style=\"stroke-miterlimit: 2; opacity: 1;\"><g class=\"fills\"/><g class=\"errorbars\"/><g class=\"lines\"><path class=\"js-line\" d=\"M0,238.89L3.4,251.1L6.79,138.74L10.19,75.17L13.58,83.11L16.98,63.53L20.38,204.71L27.17,261.12L30.57,250.62L33.96,112.24L37.36,102.69L40.75,43.58L44.15,89.53L47.55,191.97L50.94,214.23L54.34,295.68L57.74,214.04L61.13,142.12L64.53,102.97L67.92,31.11L71.32,128.88L74.72,167.78L78.11,244.53L81.51,287.88L84.91,195.91L88.3,179.24L91.7,64.46L95.09,55.84L98.49,117.63L101.89,149.67L105.28,275.54L112.08,221.66L115.47,170.48L118.87,45.78L122.26,86.01L125.66,83.11L129.06,178.09L132.45,269L135.85,237.87L139.25,255.75L142.64,135.61L146.04,75.89L149.43,81.14L152.83,67.05L156.23,209.28L159.62,227.2L163.02,269.7L166.42,240.26L169.81,114.14L173.21,105.5L176.6,34.98L180,99.17L183.4,194.33L186.79,224.4L190.19,298.14L193.58,205.09L196.98,152.26L203.77,32.46L207.17,132.62L210.57,158.76L213.96,247.94L217.36,286.42L220.75,202.17L224.15,180.11L227.55,54.91L230.94,58.24L234.34,117.58L237.74,148.6L241.13,282.01L244.53,245.13L247.92,232.53L251.32,163.37L254.72,48.11L258.11,92.14L261.51,77.35L268.3,263.64L271.7,240.26L275.09,259.79L278.49,123.84L281.89,81.25L285.28,72.7L288.68,69.81L292.08,213.98L295.47,223.73L298.87,273.03L302.26,235.89L305.66,113.47L309.06,108.19L312.45,35.91L319.25,190.46L322.64,221.32L326.04,304L329.43,198.79L332.83,156.95L336.23,84.42L339.62,33.64L343.02,133.77L346.42,157L349.81,262.85L353.21,274.8L356.6,195.31L360,181.23L363.4,51.88L366.79,67.76L370.19,111.89L373.58,154.09L376.98,277.3L380.38,235.74L383.77,229.33L387.17,155.46L390.57,50.68L393.96,88.91L397.36,78.98L400.75,191.54L404.15,258.35L407.55,249.51L410.94,252.14L414.34,109.15L417.74,84.36L421.13,69.61L424.53,71.3L427.92,215.34L431.32,221.77L434.72,280.62L438.11,232.07L441.51,124.11L444.91,107.2L448.3,32.66L451.7,117.16L455.09,190.25L458.49,219.59L461.89,300.11L465.28,197.46L468.68,157.71L472.08,84.07L475.47,36.36L478.87,137.39L482.26,148.53L485.66,262.08L489.06,272.66L492.45,198.12L495.85,172.13L499.25,43.87L506.04,104.27L509.43,163.55L512.83,280.38L516.23,244.07L519.62,240.78L523.02,143.65L526.42,54.27L529.81,92.08L533.21,71.42L536.6,204.23L540,250.87\" style=\"vector-effect: none; fill: none; stroke: rgb(221, 132, 82); stroke-opacity: 1; stroke-width: 2px; opacity: 1;\"/></g><g class=\"points\"/><g class=\"text\"/></g></g></g><g class=\"overplot\"/><path class=\"xlines-above crisp\" d=\"M0,0\" style=\"fill: none;\"/><path class=\"ylines-above crisp\" d=\"M0,0\" style=\"fill: none;\"/><g class=\"overlines-above\"/><g class=\"xaxislayer-above\"><g class=\"xtick\"><text text-anchor=\"middle\" x=\"0\" y=\"433\" transform=\"translate(80,0)\" style=\"font-family: 'Open Sans', verdana, arial, sans-serif; font-size: 12px; fill: rgb(36, 36, 36); fill-opacity: 1; white-space: pre; opacity: 1;\">0</text></g><g class=\"xtick\"><text text-anchor=\"middle\" x=\"0\" y=\"433\" style=\"font-family: 'Open Sans', verdana, arial, sans-serif; font-size: 12px; fill: rgb(36, 36, 36); fill-opacity: 1; white-space: pre; opacity: 1;\" transform=\"translate(215.85,0)\">20μ</text></g><g class=\"xtick\"><text text-anchor=\"middle\" x=\"0\" y=\"433\" style=\"font-family: 'Open Sans', verdana, arial, sans-serif; font-size: 12px; fill: rgb(36, 36, 36); fill-opacity: 1; white-space: pre; opacity: 1;\" transform=\"translate(351.7,0)\">40μ</text></g><g class=\"xtick\"><text text-anchor=\"middle\" x=\"0\" y=\"433\" style=\"font-family: 'Open Sans', verdana, arial, sans-serif; font-size: 12px; fill: rgb(36, 36, 36); fill-opacity: 1; white-space: pre; opacity: 1;\" transform=\"translate(487.55,0)\">60μ</text></g></g><g class=\"yaxislayer-above\"><g class=\"ytick\"><text text-anchor=\"end\" x=\"79\" y=\"4.199999999999999\" transform=\"translate(0,396.07)\" style=\"font-family: 'Open Sans', verdana, arial, sans-serif; font-size: 12px; fill: rgb(36, 36, 36); fill-opacity: 1; white-space: pre; opacity: 1;\">−0.15</text></g><g class=\"ytick\"><text text-anchor=\"end\" x=\"79\" y=\"4.199999999999999\" style=\"font-family: 'Open Sans', verdana, arial, sans-serif; font-size: 12px; fill: rgb(36, 36, 36); fill-opacity: 1; white-space: pre; opacity: 1;\" transform=\"translate(0,351.65)\">−0.1</text></g><g class=\"ytick\"><text text-anchor=\"end\" x=\"79\" y=\"4.199999999999999\" style=\"font-family: 'Open Sans', verdana, arial, sans-serif; font-size: 12px; fill: rgb(36, 36, 36); fill-opacity: 1; white-space: pre; opacity: 1;\" transform=\"translate(0,307.24)\">−0.05</text></g><g class=\"ytick\"><text text-anchor=\"end\" x=\"79\" y=\"4.199999999999999\" style=\"font-family: 'Open Sans', verdana, arial, sans-serif; font-size: 12px; fill: rgb(36, 36, 36); fill-opacity: 1; white-space: pre; opacity: 1;\" transform=\"translate(0,262.82)\">0</text></g><g class=\"ytick\"><text text-anchor=\"end\" x=\"79\" y=\"4.199999999999999\" style=\"font-family: 'Open Sans', verdana, arial, sans-serif; font-size: 12px; fill: rgb(36, 36, 36); fill-opacity: 1; white-space: pre; opacity: 1;\" transform=\"translate(0,218.41)\">0.05</text></g><g class=\"ytick\"><text text-anchor=\"end\" x=\"79\" y=\"4.199999999999999\" style=\"font-family: 'Open Sans', verdana, arial, sans-serif; font-size: 12px; fill: rgb(36, 36, 36); fill-opacity: 1; white-space: pre; opacity: 1;\" transform=\"translate(0,173.99)\">0.1</text></g><g class=\"ytick\"><text text-anchor=\"end\" x=\"79\" y=\"4.199999999999999\" style=\"font-family: 'Open Sans', verdana, arial, sans-serif; font-size: 12px; fill: rgb(36, 36, 36); fill-opacity: 1; white-space: pre; opacity: 1;\" transform=\"translate(0,129.57999999999998)\">0.15</text></g></g><g class=\"overaxes-above\"/></g></g><g class=\"polarlayer\"/><g class=\"smithlayer\"/><g class=\"ternarylayer\"/><g class=\"geolayer\"/><g class=\"funnelarealayer\"/><g class=\"pielayer\"/><g class=\"iciclelayer\"/><g class=\"treemaplayer\"/><g class=\"sunburstlayer\"/><g class=\"glimages\"/><defs id=\"topdefs-d2ec90\"><g class=\"clips\"/><clipPath id=\"legendd2ec90\"><rect width=\"55\" height=\"48\" x=\"0\" y=\"0\"/></clipPath></defs><g class=\"layer-above\"><g class=\"imagelayer\"/><g class=\"shapelayer\"/></g><g class=\"infolayer\"><g class=\"legend\" pointer-events=\"all\" transform=\"translate(630.8,100)\"><rect class=\"bg\" shape-rendering=\"crispEdges\" style=\"stroke: rgb(68, 68, 68); stroke-opacity: 1; fill: rgb(255, 255, 255); fill-opacity: 1; stroke-width: 0px;\" width=\"55\" height=\"48\" x=\"0\" y=\"0\"/><g class=\"scrollbox\" transform=\"\" clip-path=\"url(#legendd2ec90)\"><g class=\"groups\"><g class=\"traces\" transform=\"translate(0,14.5)\" style=\"opacity: 1;\"><text class=\"legendtext\" text-anchor=\"start\" x=\"40\" y=\"4.680000000000001\" style=\"font-family: 'Open Sans', verdana, arial, sans-serif; font-size: 12px; fill: rgb(36, 36, 36); fill-opacity: 1; white-space: pre;\">I</text><g class=\"layers\" style=\"opacity: 1;\"><g class=\"legendfill\"/><g class=\"legendlines\"><path class=\"js-line\" d=\"M5,0h30\" style=\"fill: none; stroke: rgb(76, 114, 176); stroke-opacity: 1; stroke-width: 2px;\"/></g><g class=\"legendsymbols\"><g class=\"legendpoints\"/></g></g><rect class=\"legendtoggle\" x=\"0\" y=\"-9.5\" width=\"49.453125\" height=\"19\" style=\"fill: rgb(0, 0, 0); fill-opacity: 0;\"/></g><g class=\"traces\" transform=\"translate(0,33.5)\" style=\"opacity: 1;\"><text class=\"legendtext\" text-anchor=\"start\" x=\"40\" y=\"4.680000000000001\" style=\"font-family: 'Open Sans', verdana, arial, sans-serif; font-size: 12px; fill: rgb(36, 36, 36); fill-opacity: 1; white-space: pre;\">Q</text><g class=\"layers\" style=\"opacity: 1;\"><g class=\"legendfill\"/><g class=\"legendlines\"><path class=\"js-line\" d=\"M5,0h30\" style=\"fill: none; stroke: rgb(221, 132, 82); stroke-opacity: 1; stroke-width: 2px;\"/></g><g class=\"legendsymbols\"><g class=\"legendpoints\"/></g></g><rect class=\"legendtoggle\" x=\"0\" y=\"-9.5\" width=\"49.453125\" height=\"19\" style=\"fill: rgb(0, 0, 0); fill-opacity: 0;\"/></g></g></g><rect class=\"scrollbar\" rx=\"20\" ry=\"3\" width=\"0\" height=\"0\" style=\"fill: rgb(128, 139, 164); fill-opacity: 1;\" x=\"0\" y=\"0\"/></g><g class=\"g-gtitle\"><text class=\"gtitle\" x=\"350\" y=\"50\" text-anchor=\"middle\" dy=\"0em\" style=\"font-family: 'Open Sans', verdana, arial, sans-serif; font-size: 17px; fill: rgb(36, 36, 36); opacity: 1; font-weight: normal; white-space: pre;\">I/Q Beat Signals for the First Chirp</text></g><g class=\"g-xtitle\"><text class=\"xtitle\" x=\"350\" y=\"460.3\" text-anchor=\"middle\" style=\"font-family: 'Open Sans', verdana, arial, sans-serif; font-size: 14px; fill: rgb(36, 36, 36); opacity: 1; font-weight: normal; white-space: pre;\">Time (s)</text></g><g class=\"g-ytitle\"><text class=\"ytitle\" transform=\"rotate(-90,17.621875000000003,260)\" x=\"17.621875000000003\" y=\"260\" text-anchor=\"middle\" style=\"font-family: 'Open Sans', verdana, arial, sans-serif; font-size: 14px; fill: rgb(36, 36, 36); opacity: 1; font-weight: normal; white-space: pre;\">Amplitude (V)</text></g></g></svg>"
      ],
      "text/plain": [
       "<IPython.core.display.SVG object>"
      ]
     },
     "metadata": {},
     "output_type": "display_data"
    }
   ],
   "source": [
    "import plotly.graph_objs as go\n",
    "from IPython.display import SVG, display\n",
    "\n",
    "fig = go.Figure()\n",
    "\n",
    "fig.add_trace(go.Scatter(\n",
    "    x=time_matrix[0, 0, :],\n",
    "    y=np.real(data_matrix[0, 0, :]),\n",
    "    name='I',\n",
    "))\n",
    "fig.add_trace(go.Scatter(\n",
    "    x=time_matrix[0, 0, :],\n",
    "    y=np.imag(data_matrix[0, 0, :]),\n",
    "    name='Q',\n",
    "))\n",
    "\n",
    "fig.update_layout(\n",
    "    template=\"seaborn\",\n",
    "    title='I/Q Beat Signals for the First Chirp',\n",
    "    yaxis=dict(title='Amplitude (V)'),\n",
    "    xaxis=dict(title='Time (s)'),\n",
    ")\n",
    "\n",
    "# fig.show()\n",
    "display(SVG(fig.to_image(format='svg', scale=1)))\n"
   ]
  },
  {
   "cell_type": "markdown",
   "metadata": {},
   "source": [
    " ## Radar Signal Processing\n",
    " ### Range profile and CFAR"
   ]
  },
  {
   "cell_type": "code",
   "execution_count": 8,
   "metadata": {},
   "outputs": [],
   "source": [
    "from scipy import signal\n",
    "import radarsimpy.processing as proc\n",
    "\n",
    "range_window = signal.chebwin(radar.samples_per_pulse, at=60)\n",
    "range_profile = proc.range_fft(data_matrix, range_window)\n",
    "\n",
    "ca_cfar = proc.cfar_ca_1d(np.abs(range_profile[0, 0, :])**2, guard=2, trailing=10, pfa=1e-4, detector='squarelaw')\n",
    "os_cfar = proc.cfar_os_1d(np.abs(range_profile[0, 0, :])**2, guard=0, trailing=10, k=14, pfa=1e-4, detector='squarelaw')\n"
   ]
  },
  {
   "cell_type": "markdown",
   "metadata": {},
   "source": [
    "Plot range profile and CFAR"
   ]
  },
  {
   "cell_type": "code",
   "execution_count": 9,
   "metadata": {},
   "outputs": [
    {
     "data": {
      "image/svg+xml": [
       "<svg xmlns=\"http://www.w3.org/2000/svg\" xmlns:xlink=\"http://www.w3.org/1999/xlink\" class=\"main-svg\" width=\"700\" height=\"500\" style=\"\" viewBox=\"0 0 700 500\"><rect x=\"0\" y=\"0\" width=\"700\" height=\"500\" style=\"fill: rgb(255, 255, 255); fill-opacity: 1;\"/><defs id=\"defs-6ddea8\"><g class=\"clips\"><clipPath id=\"clip6ddea8xyplot\" class=\"plotclip\"><rect width=\"474\" height=\"320\"/></clipPath><clipPath class=\"axesclip\" id=\"clip6ddea8x\"><rect x=\"80\" y=\"0\" width=\"474\" height=\"500\"/></clipPath><clipPath class=\"axesclip\" id=\"clip6ddea8y\"><rect x=\"0\" y=\"100\" width=\"700\" height=\"320\"/></clipPath><clipPath class=\"axesclip\" id=\"clip6ddea8xy\"><rect x=\"80\" y=\"100\" width=\"474\" height=\"320\"/></clipPath></g><g class=\"gradients\"/><g class=\"patterns\"/></defs><g class=\"bglayer\"><rect class=\"bg\" x=\"80\" y=\"100\" width=\"474\" height=\"320\" style=\"fill: rgb(234, 234, 242); fill-opacity: 1; stroke-width: 0;\"/></g><g class=\"layer-below\"><g class=\"imagelayer\"/><g class=\"shapelayer\"/></g><g class=\"cartesianlayer\"><g class=\"subplot xy\"><g class=\"layer-subplot\"><g class=\"shapelayer\"/><g class=\"imagelayer\"/></g><g class=\"minor-gridlayer\"><g class=\"x\"/><g class=\"y\"/></g><g class=\"gridlayer\"><g class=\"x\"><path class=\"xgrid crisp\" transform=\"translate(179.37,0)\" d=\"M0,100v320\" style=\"stroke: rgb(255, 255, 255); stroke-opacity: 1; stroke-width: 1px;\"/><path class=\"xgrid crisp\" transform=\"translate(278.74,0)\" d=\"M0,100v320\" style=\"stroke: rgb(255, 255, 255); stroke-opacity: 1; stroke-width: 1px;\"/><path class=\"xgrid crisp\" transform=\"translate(378.11,0)\" d=\"M0,100v320\" style=\"stroke: rgb(255, 255, 255); stroke-opacity: 1; stroke-width: 1px;\"/><path class=\"xgrid crisp\" transform=\"translate(477.48,0)\" d=\"M0,100v320\" style=\"stroke: rgb(255, 255, 255); stroke-opacity: 1; stroke-width: 1px;\"/></g><g class=\"y\"><path class=\"ygrid crisp\" transform=\"translate(0,395.8)\" d=\"M80,0h474\" style=\"stroke: rgb(255, 255, 255); stroke-opacity: 1; stroke-width: 1px;\"/><path class=\"ygrid crisp\" transform=\"translate(0,325.16999999999996)\" d=\"M80,0h474\" style=\"stroke: rgb(255, 255, 255); stroke-opacity: 1; stroke-width: 1px;\"/><path class=\"ygrid crisp\" transform=\"translate(0,254.53)\" d=\"M80,0h474\" style=\"stroke: rgb(255, 255, 255); stroke-opacity: 1; stroke-width: 1px;\"/><path class=\"ygrid crisp\" transform=\"translate(0,113.26)\" d=\"M80,0h474\" style=\"stroke: rgb(255, 255, 255); stroke-opacity: 1; stroke-width: 1px;\"/></g></g><g class=\"zerolinelayer\"><path class=\"xzl zl crisp\" transform=\"translate(80,0)\" d=\"M0,100v320\" style=\"stroke: rgb(255, 255, 255); stroke-opacity: 1; stroke-width: 1px;\"/><path class=\"yzl zl crisp\" transform=\"translate(0,183.9)\" d=\"M80,0h474\" style=\"stroke: rgb(255, 255, 255); stroke-opacity: 1; stroke-width: 1px;\"/></g><path class=\"xlines-below\"/><path class=\"ylines-below\"/><g class=\"overlines-below\"/><g class=\"xaxislayer-below\"/><g class=\"yaxislayer-below\"/><g class=\"overaxes-below\"/><g class=\"plot\" transform=\"translate(80,100)\" clip-path=\"url(#clip6ddea8xyplot)\"><g class=\"scatterlayer mlayer\"><g class=\"trace scatter trace2c0af1\" style=\"stroke-miterlimit: 2; opacity: 1;\"><g class=\"fills\"/><g class=\"errorbars\"/><g class=\"lines\"><path class=\"js-line\" d=\"M0,210.5L2.98,209.24L5.96,221.5L8.94,218.93L11.92,179.89L14.91,180.11L17.89,216.05L20.87,211.5L23.85,194.77L26.83,198.2L29.81,234.17L32.79,188.47L35.77,182.5L38.75,190.41L41.74,201.45L44.72,209.79L47.7,203.92L50.68,184.88L53.66,115.81L56.64,36.89L59.62,16L62.6,36.12L65.58,113.04L68.57,171.75L71.55,188.16L74.53,197.06L77.51,180.73L80.49,196.8L83.47,202.55L86.45,174.69L89.43,180.91L92.42,201.18L95.4,202.03L98.38,204.63L101.36,213.3L104.34,217.12L107.32,208.22L110.3,231.73L113.28,199.4L116.26,205.01L119.25,224.31L122.23,187.92L125.21,166.43L128.19,181.61L131.17,201.72L134.15,193.21L137.13,199.23L140.11,188.71L143.09,235.28L146.08,178.4L149.06,220.54L155.02,190.14L158,189.43L160.98,183.8L163.96,180.01L166.94,183.51L169.92,210.86L172.91,183.01L175.89,179.69L178.87,186.02L181.85,189.73L184.83,172.67L187.81,78.63L190.79,52.7L193.77,67.72L196.75,134.43L199.74,176.43L202.72,186.28L205.7,175.53L208.68,213.54L211.66,194.93L214.64,187.99L217.62,269.82L220.6,192.34L223.58,192.97L226.57,182.75L229.55,183.86L232.53,166.76L235.51,191.74L238.49,184.3L241.47,184.8L244.45,196.94L247.43,189.48L250.42,219.7L253.4,222.68L256.38,220.07L259.36,205.41L262.34,197.06L265.32,183.13L268.3,172.65L271.28,196.69L274.26,176.33L277.25,186.11L280.23,184.42L283.21,197.61L286.19,192.95L289.17,217.57L292.15,191.22L295.13,192.36L298.11,185.21L301.09,172.79L304.08,168.43L307.06,173.59L310.04,186.61L313.02,213.99L316,280.74L318.98,222.4L321.96,186.4L324.94,181.93L327.92,193.29L330.91,222.11L333.89,200.72L336.87,189.82L339.85,180.76L342.83,214.62L345.81,182.22L348.79,214.74L351.77,224L354.75,304L357.74,204.54L360.72,197.36L363.7,175.85L366.68,203.89L369.66,172.34L372.64,173.36L375.62,191.6L378.6,193.58L381.58,170.57L384.57,159.64L387.55,165.81L390.53,184.82L393.51,216.89L396.49,218.81L399.47,213.82L402.45,187.24L405.43,189.1L408.42,184.68L411.4,202.76L414.38,236.91L417.36,187.51L420.34,177.82L423.32,180.36L426.3,200.16L429.28,177.4L432.26,162.94L435.25,182.3L438.23,193.15L441.21,177.96L444.19,212.81L447.17,192.7L450.15,184.38L453.13,161.31L456.11,187.03L459.09,211.84L462.08,190.46L468.04,227.27L471.02,193.98L474,208.99\" style=\"vector-effect: none; fill: none; stroke: rgb(76, 114, 176); stroke-opacity: 1; stroke-width: 2px; opacity: 1;\"/></g><g class=\"points\"/><g class=\"text\"/></g><g class=\"trace scatter tracedb2983\" style=\"stroke-miterlimit: 2; opacity: 1;\"><g class=\"fills\"/><g class=\"errorbars\"/><g class=\"lines\"><path class=\"js-line\" d=\"M0,165.35L2.98,163.94L5.96,166.54L8.94,169.46L11.92,168.31L14.91,165.75L17.89,123.12L20.87,45.02L23.85,20.71L26.83,17.73L29.81,17.71L47.7,17.73L50.68,20.54L53.66,44.23L56.64,119.41L59.62,151.49L62.6,122.05L65.58,45.02L68.57,20.71L71.55,17.73L74.53,17.71L92.42,17.73L95.4,20.54L98.38,44.23L101.36,119.06L104.34,148.93L107.32,151.18L110.3,150.59L113.28,150.88L116.26,152.59L119.25,156.32L122.23,156.92L125.21,158.34L128.19,159.03L131.17,157.19L137.13,151.71L140.11,151.66L149.06,147.88L152.04,86.59L155.02,58.28L158,54.07L178.87,54.03L181.85,55.95L184.83,75.64L187.81,135.45L190.79,149.03L193.77,148.32L196.75,86.55L199.74,58.28L202.72,54.07L205.7,54.03L223.58,54.03L226.57,55.96L229.55,75.66L232.53,136.31L235.51,152.26L238.49,151.61L241.47,149.21L244.45,149.46L250.42,147.6L253.4,148.01L256.38,147.26L259.36,148.06L262.34,149.55L265.32,148.95L268.3,148.63L271.28,150.08L277.25,148.98L280.23,149.99L289.17,147.28L292.15,147.32L295.13,148.63L298.11,151.11L301.09,152.3L304.08,152.4L307.06,153.8L310.04,150.68L313.02,149.54L316,149.24L321.96,151.04L324.94,151.27L327.92,149.92L330.91,150.09L336.87,147.43L339.85,149.66L342.83,151.73L345.81,150.63L348.79,146.02L351.77,143.9L354.75,142.85L357.74,143.82L360.72,144.46L363.7,146.76L366.68,147.98L369.66,147.6L372.64,146.18L375.62,148.23L378.6,152.13L381.58,152.83L384.57,152.79L387.55,151.07L390.53,148.59L393.51,143.81L396.49,140.24L399.47,139.77L402.45,140.8L405.43,140.27L411.4,142.08L414.38,142.32L417.36,140.35L420.34,141.23L426.3,149.9L429.28,150.28L432.26,149.64L435.25,150.34L441.21,146.78L444.19,147.24L447.17,151.76L450.15,151.36L453.13,151.41L456.11,152.39L459.09,153.21L462.08,149.9L465.06,149.95L468.04,151.56L471.02,155.62L474,157\" style=\"vector-effect: none; fill: none; stroke: rgb(221, 132, 82); stroke-opacity: 1; stroke-width: 2px; opacity: 1;\"/></g><g class=\"points\"/><g class=\"text\"/></g><g class=\"trace scatter trace7d55d2\" style=\"stroke-miterlimit: 2; opacity: 1;\"><g class=\"fills\"/><g class=\"errorbars\"/><g class=\"lines\"><path class=\"js-line\" d=\"M0,152.8L2.98,150.81L5.96,150.81L8.94,152.74L11.92,156.32L17.89,156.32L20.87,152.74L23.85,150.81L26.83,147.22L32.79,142.45L35.77,142.23L38.75,134.09L41.74,134.09L50.68,134.09L53.66,143.06L56.64,137.03L59.62,137.03L68.57,137.03L71.55,134.09L83.47,134.09L86.45,143.06L95.4,143.24L98.38,143.95L101.36,150.25L104.34,150.25L107.32,150.25L110.3,151.05L113.28,151.05L116.26,150.25L119.25,151.05L122.23,161.56L125.21,155.55L128.19,152.47L134.15,150.25L137.13,146.13L146.08,145.84L149.06,145.34L152.04,145.34L155.02,143.95L158,143.95L160.98,142.35L163.96,142.03L166.94,140.73L169.92,138.76L172.91,138.76L175.89,137.86L178.87,137.86L181.85,137.86L184.83,138.76L196.75,138.76L199.74,137.86L202.72,135.01L205.7,135.01L214.64,135.01L217.62,137.86L220.6,138.76L223.58,145.08L226.57,146.63L229.55,147.13L232.53,148.62L235.51,146.63L238.49,147.13L241.47,146.63L247.43,146.19L250.42,146.19L262.34,146.76L265.32,148.44L271.28,147.13L274.26,147.54L277.25,145.46L280.23,145.46L292.15,145.46L295.13,144.26L298.11,144.26L301.09,147.54L304.08,147.54L307.06,148.44L310.04,146.76L313.02,147.54L316,144.55L318.98,144.55L321.96,144.55L324.94,147.54L327.92,144.55L330.91,144.55L333.89,144.55L336.87,148.74L339.85,148.95L342.83,144.55L345.81,148.74L348.79,144.55L351.77,144.26L354.75,143.09L357.74,138.19L360.72,138.19L363.7,143.09L366.68,138.19L369.66,143.09L372.64,144.55L375.62,138.19L378.6,138.19L381.58,147.01L384.57,147.01L387.55,147.01L390.53,138.19L393.51,138.19L396.49,140.16L402.45,139.73L405.43,140.16L414.38,140.29L417.36,142.7L420.34,146.71L423.32,144.63L426.3,142.7L429.28,144.63L432.26,144.63L435.25,142.7L438.23,142.7L441.21,144.63L444.19,142.7L447.17,142.7L450.15,142.7L453.13,146.71L456.11,146.71L459.09,144.63L462.08,144.63L465.06,146.71L468.04,149.36L471.02,149.36L474,152.8\" style=\"vector-effect: none; fill: none; stroke: rgb(85, 168, 104); stroke-opacity: 1; stroke-width: 2px; opacity: 1;\"/></g><g class=\"points\"/><g class=\"text\"/></g></g></g><g class=\"overplot\"/><path class=\"xlines-above crisp\" d=\"M0,0\" style=\"fill: none;\"/><path class=\"ylines-above crisp\" d=\"M0,0\" style=\"fill: none;\"/><g class=\"overlines-above\"/><g class=\"xaxislayer-above\"><g class=\"xtick\"><text text-anchor=\"middle\" x=\"0\" y=\"433\" transform=\"translate(80,0)\" style=\"font-family: 'Open Sans', verdana, arial, sans-serif; font-size: 12px; fill: rgb(36, 36, 36); fill-opacity: 1; white-space: pre; opacity: 1;\">0</text></g><g class=\"xtick\"><text text-anchor=\"middle\" x=\"0\" y=\"433\" style=\"font-family: 'Open Sans', verdana, arial, sans-serif; font-size: 12px; fill: rgb(36, 36, 36); fill-opacity: 1; white-space: pre; opacity: 1;\" transform=\"translate(179.37,0)\">50</text></g><g class=\"xtick\"><text text-anchor=\"middle\" x=\"0\" y=\"433\" style=\"font-family: 'Open Sans', verdana, arial, sans-serif; font-size: 12px; fill: rgb(36, 36, 36); fill-opacity: 1; white-space: pre; opacity: 1;\" transform=\"translate(278.74,0)\">100</text></g><g class=\"xtick\"><text text-anchor=\"middle\" x=\"0\" y=\"433\" style=\"font-family: 'Open Sans', verdana, arial, sans-serif; font-size: 12px; fill: rgb(36, 36, 36); fill-opacity: 1; white-space: pre; opacity: 1;\" transform=\"translate(378.11,0)\">150</text></g><g class=\"xtick\"><text text-anchor=\"middle\" x=\"0\" y=\"433\" style=\"font-family: 'Open Sans', verdana, arial, sans-serif; font-size: 12px; fill: rgb(36, 36, 36); fill-opacity: 1; white-space: pre; opacity: 1;\" transform=\"translate(477.48,0)\">200</text></g></g><g class=\"yaxislayer-above\"><g class=\"ytick\"><text text-anchor=\"end\" x=\"79\" y=\"4.199999999999999\" transform=\"translate(0,395.8)\" style=\"font-family: 'Open Sans', verdana, arial, sans-serif; font-size: 12px; fill: rgb(36, 36, 36); fill-opacity: 1; white-space: pre; opacity: 1;\">−60</text></g><g class=\"ytick\"><text text-anchor=\"end\" x=\"79\" y=\"4.199999999999999\" style=\"font-family: 'Open Sans', verdana, arial, sans-serif; font-size: 12px; fill: rgb(36, 36, 36); fill-opacity: 1; white-space: pre; opacity: 1;\" transform=\"translate(0,325.16999999999996)\">−40</text></g><g class=\"ytick\"><text text-anchor=\"end\" x=\"79\" y=\"4.199999999999999\" style=\"font-family: 'Open Sans', verdana, arial, sans-serif; font-size: 12px; fill: rgb(36, 36, 36); fill-opacity: 1; white-space: pre; opacity: 1;\" transform=\"translate(0,254.53)\">−20</text></g><g class=\"ytick\"><text text-anchor=\"end\" x=\"79\" y=\"4.199999999999999\" style=\"font-family: 'Open Sans', verdana, arial, sans-serif; font-size: 12px; fill: rgb(36, 36, 36); fill-opacity: 1; white-space: pre; opacity: 1;\" transform=\"translate(0,183.9)\">0</text></g><g class=\"ytick\"><text text-anchor=\"end\" x=\"79\" y=\"4.199999999999999\" style=\"font-family: 'Open Sans', verdana, arial, sans-serif; font-size: 12px; fill: rgb(36, 36, 36); fill-opacity: 1; white-space: pre; opacity: 1;\" transform=\"translate(0,113.26)\">20</text></g></g><g class=\"overaxes-above\"/></g></g><g class=\"polarlayer\"/><g class=\"smithlayer\"/><g class=\"ternarylayer\"/><g class=\"geolayer\"/><g class=\"funnelarealayer\"/><g class=\"pielayer\"/><g class=\"iciclelayer\"/><g class=\"treemaplayer\"/><g class=\"sunburstlayer\"/><g class=\"glimages\"/><defs id=\"topdefs-6ddea8\"><g class=\"clips\"/><clipPath id=\"legend6ddea8\"><rect width=\"125\" height=\"67\" x=\"0\" y=\"0\"/></clipPath></defs><g class=\"layer-above\"><g class=\"imagelayer\"/><g class=\"shapelayer\"/></g><g class=\"infolayer\"><g class=\"legend\" pointer-events=\"all\" transform=\"translate(563.48,100)\"><rect class=\"bg\" shape-rendering=\"crispEdges\" style=\"stroke: rgb(68, 68, 68); stroke-opacity: 1; fill: rgb(255, 255, 255); fill-opacity: 1; stroke-width: 0px;\" width=\"125\" height=\"67\" x=\"0\" y=\"0\"/><g class=\"scrollbox\" transform=\"\" clip-path=\"url(#legend6ddea8)\"><g class=\"groups\"><g class=\"traces\" transform=\"translate(0,14.5)\" style=\"opacity: 1;\"><text class=\"legendtext\" text-anchor=\"start\" x=\"40\" y=\"4.680000000000001\" style=\"font-family: 'Open Sans', verdana, arial, sans-serif; font-size: 12px; fill: rgb(36, 36, 36); fill-opacity: 1; white-space: pre;\">Range profile</text><g class=\"layers\" style=\"opacity: 1;\"><g class=\"legendfill\"/><g class=\"legendlines\"><path class=\"js-line\" d=\"M5,0h30\" style=\"fill: none; stroke: rgb(76, 114, 176); stroke-opacity: 1; stroke-width: 2px;\"/></g><g class=\"legendsymbols\"><g class=\"legendpoints\"/></g></g><rect class=\"legendtoggle\" x=\"0\" y=\"-9.5\" width=\"119.59375\" height=\"19\" style=\"fill: rgb(0, 0, 0); fill-opacity: 0;\"/></g><g class=\"traces\" transform=\"translate(0,33.5)\" style=\"opacity: 1;\"><text class=\"legendtext\" text-anchor=\"start\" x=\"40\" y=\"4.680000000000001\" style=\"font-family: 'Open Sans', verdana, arial, sans-serif; font-size: 12px; fill: rgb(36, 36, 36); fill-opacity: 1; white-space: pre;\">CA-CFAR</text><g class=\"layers\" style=\"opacity: 1;\"><g class=\"legendfill\"/><g class=\"legendlines\"><path class=\"js-line\" d=\"M5,0h30\" style=\"fill: none; stroke: rgb(221, 132, 82); stroke-opacity: 1; stroke-width: 2px;\"/></g><g class=\"legendsymbols\"><g class=\"legendpoints\"/></g></g><rect class=\"legendtoggle\" x=\"0\" y=\"-9.5\" width=\"119.59375\" height=\"19\" style=\"fill: rgb(0, 0, 0); fill-opacity: 0;\"/></g><g class=\"traces\" transform=\"translate(0,52.5)\" style=\"opacity: 1;\"><text class=\"legendtext\" text-anchor=\"start\" x=\"40\" y=\"4.680000000000001\" style=\"font-family: 'Open Sans', verdana, arial, sans-serif; font-size: 12px; fill: rgb(36, 36, 36); fill-opacity: 1; white-space: pre;\">OS-CFAR</text><g class=\"layers\" style=\"opacity: 1;\"><g class=\"legendfill\"/><g class=\"legendlines\"><path class=\"js-line\" d=\"M5,0h30\" style=\"fill: none; stroke: rgb(85, 168, 104); stroke-opacity: 1; stroke-width: 2px;\"/></g><g class=\"legendsymbols\"><g class=\"legendpoints\"/></g></g><rect class=\"legendtoggle\" x=\"0\" y=\"-9.5\" width=\"119.59375\" height=\"19\" style=\"fill: rgb(0, 0, 0); fill-opacity: 0;\"/></g></g></g><rect class=\"scrollbar\" rx=\"20\" ry=\"3\" width=\"0\" height=\"0\" style=\"fill: rgb(128, 139, 164); fill-opacity: 1;\" x=\"0\" y=\"0\"/></g><g class=\"g-gtitle\"/><g class=\"g-xtitle\"><text class=\"xtitle\" x=\"317\" y=\"460.3\" text-anchor=\"middle\" style=\"font-family: 'Open Sans', verdana, arial, sans-serif; font-size: 14px; fill: rgb(36, 36, 36); opacity: 1; font-weight: normal; white-space: pre;\">Range (m)</text></g><g class=\"g-ytitle\"><text class=\"ytitle\" transform=\"rotate(-90,29.621875000000003,260)\" x=\"29.621875000000003\" y=\"260\" text-anchor=\"middle\" style=\"font-family: 'Open Sans', verdana, arial, sans-serif; font-size: 14px; fill: rgb(36, 36, 36); opacity: 1; font-weight: normal; white-space: pre;\">Amplitude (dB)</text></g></g></svg>"
      ],
      "text/plain": [
       "<IPython.core.display.SVG object>"
      ]
     },
     "metadata": {},
     "output_type": "display_data"
    }
   ],
   "source": [
    "max_range = (3e8 * radar.receiver.fs *\n",
    "             radar.transmitter.pulse_length /\n",
    "             radar.transmitter.bandwidth / 2)\n",
    "range_axis = np.linspace(\n",
    "    0, max_range, radar.samples_per_pulse, endpoint=False)\n",
    "\n",
    "fig = go.Figure()\n",
    "\n",
    "fig.add_trace(go.Scatter(\n",
    "    x=range_axis,\n",
    "    y=20*np.log10(np.abs(range_profile[0, 0, :])),\n",
    "    name='Range profile',\n",
    "))\n",
    "\n",
    "fig.add_trace(go.Scatter(\n",
    "    x=range_axis,\n",
    "    y=10*np.log10(ca_cfar),\n",
    "    name='CA-CFAR'\n",
    "))\n",
    "\n",
    "fig.add_trace(go.Scatter(\n",
    "    x=range_axis,\n",
    "    y=10*np.log10(os_cfar),\n",
    "    name='OS-CFAR'\n",
    "))\n",
    "\n",
    "fig.update_layout(\n",
    "    # title='Range Profile',\n",
    "    template=\"seaborn\",\n",
    "    yaxis=dict(title='Amplitude (dB)'),\n",
    "    xaxis=dict(title='Range (m)'),\n",
    ")\n",
    "\n",
    "# fig.show()\n",
    "display(SVG(fig.to_image(format='svg', scale=1)))\n"
   ]
  }
 ],
 "metadata": {
  "file_extension": ".py",
  "kernelspec": {
   "display_name": "Python 3 (ipykernel)",
   "language": "python",
   "name": "python3"
  },
  "language_info": {
   "codemirror_mode": {
    "name": "ipython",
    "version": 3
   },
   "file_extension": ".py",
   "mimetype": "text/x-python",
   "name": "python",
   "nbconvert_exporter": "python",
   "pygments_lexer": "ipython3",
   "version": "3.11.4"
  },
  "mimetype": "text/x-python",
  "name": "python",
  "npconvert_exporter": "python",
  "pygments_lexer": "ipython3",
  "toc": {
   "base_numbering": 1,
   "nav_menu": {},
   "number_sections": true,
   "sideBar": true,
   "skip_h1_title": false,
   "title_cell": "Table of Contents",
   "title_sidebar": "Contents",
   "toc_cell": false,
   "toc_position": {},
   "toc_section_display": true,
   "toc_window_display": false
  },
  "varInspector": {
   "cols": {
    "lenName": 16,
    "lenType": 16,
    "lenVar": 40
   },
   "kernels_config": {
    "python": {
     "delete_cmd_postfix": "",
     "delete_cmd_prefix": "del ",
     "library": "var_list.py",
     "varRefreshCmd": "print(var_dic_list())"
    },
    "r": {
     "delete_cmd_postfix": ") ",
     "delete_cmd_prefix": "rm(",
     "library": "var_list.r",
     "varRefreshCmd": "cat(var_dic_list()) "
    }
   },
   "types_to_exclude": [
    "module",
    "function",
    "builtin_function_or_method",
    "instance",
    "_Feature"
   ],
   "window_display": false
  },
  "version": 3,
  "vscode": {
   "interpreter": {
    "hash": "93f700c1059b32d83d5a3c18a32630ee13b0a3dbf4faa4d0f71952c4a11b4154"
   }
  }
 },
 "nbformat": 4,
 "nbformat_minor": 4
}
