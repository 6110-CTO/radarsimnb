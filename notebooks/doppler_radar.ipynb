{
 "cells": [
  {
   "cell_type": "markdown",
   "metadata": {},
   "source": [
    "# Doppler (Interferometry) Radar\n",
    "\n",
    "<a href=\"https://rookiepeng.github.io/radarsimpy/\" target=\"_blank\" rel=\"nofollow\"><img src=\"https://img.shields.io/badge/Documentation-latest-brightgree?style=flat&logo=read-the-docs\" height=\"20\" align=\"left\"></a>\n",
    "\n",
    "<br></br>\n",
    "This is a Doppler (interferometry) radar simulation example based on [`RadarSimPy`](https://github.com/rookiepeng/radarsimpy).\n",
    "\n",
    "---\n",
    "\n",
    "\n",
    "## Radar Model\n",
    "### Transmitter\n",
    "\n",
    "Setup the basic transmitter parameters through `Transmitter` module.\n",
    "\n",
    "The following table lists the parameters in this example.\n",
    "\n",
    "| Parameter                       | Variable in `Transmitter`| Value      |\n",
    "|---------------------------------|--------------------------|------------|\n",
    "| Frequency ($f$)                 | `f`                      | 24.125 GHz |\n",
    "| Signal length ($T$)             | `t`                      | 20 s       |\n",
    "| Transmitted power ($P_t$)       | `tx_power`               | 10 dBm     |\n",
    "\n",
    "A single transmitter channel is used in this example. The tranmitter channel is located at [0, 0, 0].\n",
    "\n",
    "### Receiver\n",
    "\n",
    "Setup the receiver parameters through `Receiver` module.\n",
    "\n",
    "The parameters of the receiver are listed in the table below.\n",
    "\n",
    "| Parameter                        | Variable in `Receiver`   | Value        |\n",
    "|----------------------------------|--------------------------|--------------|\n",
    "| Sampling rate ($f_s$)            | `fs`                     | 20 sps       |\n",
    "| Noise figure ($NF$)              | `noise_figure`           | 12 dB        |\n",
    "| RF gain/loss ($G_{rf}$)          | `rf_gain`                | 20 dB        |\n",
    "| Baseband gain ($G_{BB}$)         | `baseband_gain`          | 50 dB        |\n",
    "| Load resistor ($R_L$)            | `load_resistor`          | 1000 $\\Omega$|\n",
    "\n",
    "A single receiver channel is used in this example. The receiver channel is located at [0, 0, 0]."
   ]
  },
  {
   "cell_type": "code",
   "execution_count": 1,
   "metadata": {},
   "outputs": [],
   "source": [
    "import numpy as np\n",
    "from radarsimpy import Radar, Transmitter, Receiver\n",
    "\n",
    "# setup transmitter\n",
    "tx = Transmitter(f=24.125e9,\n",
    "                 t=20,\n",
    "                 tx_power=10,\n",
    "                 pulses=1,\n",
    "                 channels=[dict(location=(0, 0, 0))])\n",
    "\n",
    "# setup receiver\n",
    "rx = Receiver(fs=20,\n",
    "              noise_figure=12,\n",
    "              rf_gain=20,\n",
    "              baseband_gain=50,\n",
    "              load_resistor=1000,\n",
    "              channels=[dict(location=(0, 0, 0))])\n",
    "\n",
    "# create radar\n",
    "radar = Radar(transmitter=tx, receiver=rx)"
   ]
  },
  {
   "cell_type": "markdown",
   "metadata": {},
   "source": [
    "### Targets\n",
    "\n",
    "Define a list of targets. There is only one target in this simulaiton. The motion of the target is defined by:\n",
    "\n",
    "`1.4+1e-3*np.sin(2*np.pi*1*radar.timestamp)`\n",
    "\n",
    "`radar.timestamp` is the time matrix of the baseband samples."
   ]
  },
  {
   "cell_type": "code",
   "execution_count": 2,
   "metadata": {},
   "outputs": [],
   "source": [
    "target = dict(location=(1.4+1e-3*np.sin(2*np.pi*1*radar.timestamp), 0, 0),\n",
    "              rcs=-10,\n",
    "              phase=0)\n",
    "\n",
    "targets = [target]"
   ]
  },
  {
   "cell_type": "markdown",
   "metadata": {},
   "source": [
    "## Simulate Baseband Signals\n",
    "\n",
    "Use the `simulator` module to simulate the baseband samples. The user can choose between Python engine `simpy` or C++ engine `simc`.\n",
    "\n",
    "The output baseband data is a 3-D matrix:\n",
    "\n",
    "$[channels, pulses, ADC~samples]$"
   ]
  },
  {
   "cell_type": "code",
   "execution_count": 3,
   "metadata": {},
   "outputs": [],
   "source": [
    "# Python engine\n",
    "from radarsimpy.simulator import simpy\n",
    "# C++ engine\n",
    "from radarsimpy.simulator import simc\n",
    "\n",
    "bb_data = simc(radar, targets)\n",
    "timestamp = bb_data['timestamp']\n",
    "baseband = bb_data['baseband']"
   ]
  },
  {
   "cell_type": "markdown",
   "metadata": {},
   "source": [
    "Plot the baseband"
   ]
  },
  {
   "cell_type": "code",
   "execution_count": 4,
   "metadata": {
    "tags": [
     "remove_cell"
    ]
   },
   "outputs": [
    {
     "data": {
      "image/svg+xml": "<svg xmlns=\"http://www.w3.org/2000/svg\" xmlns:xlink=\"http://www.w3.org/1999/xlink\" class=\"main-svg\" width=\"700\" height=\"500\" style=\"\" viewBox=\"0 0 700 500\"><rect x=\"0\" y=\"0\" width=\"700\" height=\"500\" style=\"fill: rgb(255, 255, 255); fill-opacity: 1;\"/><defs id=\"defs-8da6aa\"><g class=\"clips\"><clipPath id=\"clip8da6aaxyplot\" class=\"plotclip\"><rect width=\"540\" height=\"320\"/></clipPath><clipPath class=\"axesclip\" id=\"clip8da6aax\"><rect x=\"80\" y=\"0\" width=\"540\" height=\"500\"/></clipPath><clipPath class=\"axesclip\" id=\"clip8da6aay\"><rect x=\"0\" y=\"100\" width=\"700\" height=\"320\"/></clipPath><clipPath class=\"axesclip\" id=\"clip8da6aaxy\"><rect x=\"80\" y=\"100\" width=\"540\" height=\"320\"/></clipPath></g><g class=\"gradients\"/><g class=\"patterns\"/></defs><g class=\"bglayer\"><rect class=\"bg\" x=\"80\" y=\"100\" width=\"540\" height=\"320\" style=\"fill: rgb(229, 236, 246); fill-opacity: 1; stroke-width: 0;\"/></g><g class=\"layer-below\"><g class=\"imagelayer\"/><g class=\"shapelayer\"/></g><g class=\"cartesianlayer\"><g class=\"subplot xy\"><g class=\"layer-subplot\"><g class=\"shapelayer\"/><g class=\"imagelayer\"/></g><g class=\"gridlayer\"><g class=\"x\"><path class=\"xgrid crisp\" transform=\"translate(215.34,0)\" d=\"M0,100v320\" style=\"stroke: rgb(255, 255, 255); stroke-opacity: 1; stroke-width: 1px;\"/><path class=\"xgrid crisp\" transform=\"translate(350.68,0)\" d=\"M0,100v320\" style=\"stroke: rgb(255, 255, 255); stroke-opacity: 1; stroke-width: 1px;\"/><path class=\"xgrid crisp\" transform=\"translate(486.02,0)\" d=\"M0,100v320\" style=\"stroke: rgb(255, 255, 255); stroke-opacity: 1; stroke-width: 1px;\"/></g><g class=\"y\"><path class=\"ygrid crisp\" transform=\"translate(0,396.62)\" d=\"M80,0h540\" style=\"stroke: rgb(255, 255, 255); stroke-opacity: 1; stroke-width: 1px;\"/><path class=\"ygrid crisp\" transform=\"translate(0,351.03)\" d=\"M80,0h540\" style=\"stroke: rgb(255, 255, 255); stroke-opacity: 1; stroke-width: 1px;\"/><path class=\"ygrid crisp\" transform=\"translate(0,305.45)\" d=\"M80,0h540\" style=\"stroke: rgb(255, 255, 255); stroke-opacity: 1; stroke-width: 1px;\"/><path class=\"ygrid crisp\" transform=\"translate(0,214.29000000000002)\" d=\"M80,0h540\" style=\"stroke: rgb(255, 255, 255); stroke-opacity: 1; stroke-width: 1px;\"/><path class=\"ygrid crisp\" transform=\"translate(0,168.70999999999998)\" d=\"M80,0h540\" style=\"stroke: rgb(255, 255, 255); stroke-opacity: 1; stroke-width: 1px;\"/><path class=\"ygrid crisp\" transform=\"translate(0,123.13)\" d=\"M80,0h540\" style=\"stroke: rgb(255, 255, 255); stroke-opacity: 1; stroke-width: 1px;\"/></g></g><g class=\"zerolinelayer\"><path class=\"xzl zl crisp\" transform=\"translate(80,0)\" d=\"M0,100v320\" style=\"stroke: rgb(255, 255, 255); stroke-opacity: 1; stroke-width: 2px;\"/><path class=\"yzl zl crisp\" transform=\"translate(0,259.87)\" d=\"M80,0h540\" style=\"stroke: rgb(255, 255, 255); stroke-opacity: 1; stroke-width: 2px;\"/></g><path class=\"xlines-below\"/><path class=\"ylines-below\"/><g class=\"overlines-below\"/><g class=\"xaxislayer-below\"/><g class=\"yaxislayer-below\"/><g class=\"overaxes-below\"/><g class=\"plot\" transform=\"translate(80,100)\" clip-path=\"url(#clip8da6aaxyplot)\"><g class=\"scatterlayer mlayer\"><g class=\"trace scatter trace229b93\" style=\"stroke-miterlimit: 2; opacity: 1;\"><g class=\"fills\"/><g class=\"errorbars\"/><g class=\"lines\"><path class=\"js-line\" d=\"M0,223.75L2.71,285.63L4.06,298.43L5.41,302.99L6.77,303.94L8.12,303.05L9.47,298.46L10.83,285.56L12.18,260.63L17.59,108.41L18.95,89.48L20.3,83.27L21.65,89.47L23.01,108.35L24.36,139.82L29.77,285.59L31.13,298.45L32.48,303.1L33.83,303.97L35.19,303.06L36.54,298.44L37.89,285.59L39.25,260.73L44.66,108.41L46.02,89.48L47.37,83.29L48.72,89.46L50.08,108.41L51.43,139.79L56.84,285.59L58.2,298.42L59.55,303.11L60.9,303.93L62.26,303.09L63.61,298.43L64.96,285.63L66.32,260.65L71.73,108.45L73.08,89.49L74.44,83.27L75.79,89.49L77.14,108.42L78.5,139.83L83.91,285.62L85.26,298.43L86.62,302.97L87.97,303.88L89.32,303.02L90.68,298.43L92.03,285.63L93.38,260.63L98.8,108.37L100.15,89.47L101.5,83.31L102.86,89.42L104.21,108.46L105.56,139.87L110.98,285.6L112.33,298.48L113.68,303.02L115.04,303.96L116.39,303.05L117.74,298.46L119.1,285.66L120.45,260.61L125.86,108.34L127.22,89.48L128.57,83.32L129.92,89.44L131.28,108.37L132.63,139.79L138.05,285.62L139.4,298.35L140.75,303.03L142.11,304L143.46,303.02L144.81,298.5L146.17,285.65L147.52,260.64L152.93,108.42L154.29,89.42L155.64,83.27L156.99,89.47L158.35,108.45L159.7,139.79L165.11,285.6L166.47,298.46L167.82,303.05L169.17,303.95L170.53,303.01L171.88,298.37L173.23,285.58L174.59,260.63L180,108.42L181.35,89.46L182.71,83.26L184.06,89.45L185.41,108.43L186.77,139.82L192.18,285.65L193.53,298.38L194.89,303.04L196.24,303.91L197.59,303.03L198.95,298.43L200.3,285.63L201.65,260.62L207.07,108.32L208.42,89.47L209.77,83.31L211.13,89.47L212.48,108.44L213.83,139.81L219.25,285.57L220.6,298.49L221.95,303.02L223.31,303.95L224.66,303.05L226.02,298.36L227.37,285.63L228.72,260.62L234.14,108.4L235.49,89.41L236.84,83.32L238.2,89.45L239.55,108.43L240.9,139.83L246.32,285.59L247.67,298.47L249.02,303.05L250.38,303.95L251.73,303.09L253.08,298.49L254.44,285.63L255.79,260.67L261.2,108.44L262.56,89.45L263.91,83.2L265.26,89.45L266.62,108.36L267.97,139.79L273.38,285.6L274.74,298.4L276.09,303.07L277.44,303.93L278.8,303.03L280.15,298.37L281.5,285.64L282.86,260.74L288.27,108.37L289.62,89.48L290.98,83.29L292.33,89.48L293.68,108.38L295.04,139.8L300.45,285.62L301.8,298.44L303.16,303L304.51,303.93L305.86,303.11L307.22,298.5L308.57,285.54L309.92,260.68L315.34,108.45L316.69,89.5L318.05,83.24L319.4,89.43L320.75,108.47L322.11,139.75L327.52,285.66L328.87,298.43L330.23,303.04L331.58,303.99L332.93,303.01L334.29,298.41L335.64,285.56L336.99,260.64L342.41,108.42L343.76,89.47L345.11,83.27L346.47,89.46L347.82,108.38L349.17,139.86L354.59,285.58L355.94,298.48L357.29,303.06L358.65,303.9L360,303.03L361.35,298.43L362.71,285.61L364.06,260.74L369.47,108.35L370.83,89.52L372.18,83.23L373.53,89.46L374.89,108.48L376.24,139.81L381.65,285.62L383.01,298.53L384.36,302.99L385.71,303.93L387.07,303L388.42,298.44L389.77,285.56L391.13,260.7L396.54,108.37L397.89,89.52L399.25,83.25L400.6,89.45L401.95,108.46L403.31,139.81L408.72,285.6L410.08,298.44L411.43,303.04L412.78,303.91L414.14,303.02L415.49,298.41L416.84,285.65L418.2,260.6L423.61,108.31L424.96,89.5L426.32,83.26L427.67,89.43L429.02,108.45L430.38,139.83L435.79,285.6L437.14,298.46L438.5,303.1L439.85,303.97L441.2,303.11L442.56,298.5L443.91,285.56L445.26,260.64L450.68,108.39L452.03,89.55L453.38,83.33L454.74,89.5L456.09,108.43L457.44,139.83L462.86,285.65L464.21,298.48L465.56,303.05L466.92,303.96L468.27,303.08L469.62,298.48L470.98,285.53L472.33,260.62L477.74,108.33L479.1,89.58L480.45,83.28L481.8,89.46L483.16,108.41L484.51,139.82L489.92,285.64L491.28,298.42L492.63,303.03L493.98,303.96L495.34,303.08L496.69,298.45L498.05,285.58L499.4,260.68L504.81,108.35L506.17,89.51L507.52,83.3L508.87,89.4L510.23,108.37L511.58,139.82L516.99,285.56L518.35,298.43L519.7,303.01L521.05,303.95L522.41,303.01L523.76,298.48L525.11,285.57L526.47,260.71L531.88,108.36L533.23,89.5L534.59,83.24L535.94,89.54L537.29,108.43L538.65,139.83L540,180.65\" style=\"vector-effect: non-scaling-stroke; fill: none; stroke: rgb(99, 110, 250); stroke-opacity: 1; stroke-width: 2px; opacity: 1;\"/></g><g class=\"points\"/><g class=\"text\"/></g><g class=\"trace scatter trace712fff\" style=\"stroke-miterlimit: 2; opacity: 1;\"><g class=\"fills\"/><g class=\"errorbars\"/><g class=\"lines\"><path class=\"js-line\" d=\"M0,29.71L5.41,137.71L6.77,144.87L8.12,137.77L9.47,117.46L13.53,29.56L14.89,16.19L16.24,16.07L17.59,24.08L18.95,32.78L20.3,36.42L21.65,32.75L23.01,24.1L24.36,16.12L25.71,16.22L27.07,29.55L28.42,55.68L32.48,137.74L33.83,144.86L35.19,137.71L36.54,117.52L40.6,29.62L41.95,16.25L43.31,16.06L44.66,24.05L46.02,32.77L47.37,36.4L48.72,32.85L50.08,24.08L51.43,16.09L52.78,16.28L54.14,29.67L55.49,55.68L59.55,137.78L60.9,144.84L62.26,137.65L63.61,117.46L67.67,29.63L69.02,16.22L70.38,16.07L71.73,24.11L73.08,32.79L74.44,36.41L75.79,32.81L77.14,24.09L78.5,16.07L79.85,16.19L81.2,29.67L82.56,55.6L86.62,137.79L87.97,144.8L89.32,137.81L90.68,117.51L94.74,29.64L96.09,16.27L97.44,16.1L98.8,24.07L100.15,32.78L101.5,36.44L102.86,32.82L104.21,24.14L105.56,16.06L106.92,16.18L108.27,29.6L109.62,55.61L113.68,137.75L115.04,144.83L116.39,137.86L117.74,117.53L121.8,29.6L123.16,16.22L124.51,16.11L125.86,24.07L127.22,32.87L128.57,36.4L129.92,32.82L131.28,24.04L132.63,16.13L133.98,16.27L135.34,29.61L136.69,55.6L140.75,137.76L142.11,144.91L143.46,137.8L144.81,117.5L148.87,29.67L150.23,16.25L151.58,16.05L152.93,24.02L154.29,32.88L155.64,36.47L156.99,32.83L158.35,24.12L159.7,16.13L161.05,16.18L162.41,29.6L163.76,55.56L167.82,137.75L169.17,144.87L170.53,137.86L171.88,117.53L175.94,29.58L177.29,16.2L178.65,16.09L180,24.12L181.35,32.8L182.71,36.43L184.06,32.78L185.41,24.05L186.77,16.12L188.12,16.25L189.47,29.66L190.83,55.56L194.89,137.77L196.24,144.84L197.59,137.75L198.95,117.48L203.01,29.61L204.36,16.25L205.71,16.04L207.07,24.08L208.42,32.87L209.77,36.45L211.13,32.8L212.48,24.04L213.83,16L215.19,16.24L216.54,29.64L217.89,55.65L221.95,137.74L223.31,144.94L224.66,137.8L226.02,117.52L230.08,29.62L231.43,16.25L232.78,16.07L234.14,24.09L235.49,32.81L236.84,36.49L238.2,32.82L239.55,24.08L240.9,16.08L242.26,16.26L243.61,29.61L244.96,55.66L249.02,137.8L250.38,144.92L251.73,137.76L253.08,117.46L257.14,29.55L258.5,16.21L259.85,16.11L261.2,24.07L262.56,32.84L263.91,36.48L265.26,32.77L266.62,24.17L267.97,16.07L269.32,16.23L270.68,29.65L272.03,55.56L276.09,137.78L277.44,144.92L278.8,137.78L280.15,117.45L284.21,29.63L285.56,16.25L286.92,16.13L288.27,24.06L289.62,32.82L290.98,36.49L292.33,32.78L293.68,24.07L295.04,16.1L296.39,16.25L297.74,29.61L299.1,55.64L303.16,137.73L304.51,144.86L305.86,137.78L307.22,117.56L311.28,29.65L312.63,16.2L313.98,16.09L315.34,24.07L316.69,32.83L318.05,36.41L319.4,32.89L320.75,24.04L322.11,16.12L323.46,16.23L324.81,29.65L326.17,55.61L330.23,137.75L331.58,144.88L332.93,137.72L334.29,117.52L338.35,29.66L339.7,16.25L341.05,16.1L342.41,24.12L343.76,32.76L345.11,36.47L346.47,32.87L347.82,23.97L349.17,16.02L350.53,16.24L351.88,29.64L353.23,55.62L357.29,137.88L358.65,144.88L360,137.78L361.35,117.47L365.41,29.58L366.77,16.15L368.12,16.05L369.47,24.07L370.83,32.83L372.18,36.48L373.53,32.81L374.89,24.03L376.24,16.07L377.59,16.17L378.95,29.6L380.3,55.6L384.36,137.83L385.71,144.93L387.07,137.78L388.42,117.48L392.48,29.69L393.83,16.18L395.19,16.08L396.54,24.08L397.89,32.8L399.25,36.52L400.6,32.86L401.95,24.07L403.31,16.14L404.66,16.23L406.02,29.62L407.37,55.59L411.43,137.83L412.78,144.93L414.14,137.77L415.49,117.45L419.55,29.67L420.9,16.25L422.26,16.05L423.61,24.13L424.96,32.84L426.32,36.43L427.67,32.87L429.02,24.01L430.38,16.08L431.73,16.26L433.08,29.63L434.44,55.59L438.5,137.74L439.85,144.87L441.2,137.68L442.56,117.6L446.62,29.57L447.97,16.23L449.32,16.08L450.68,24.13L452.03,32.82L453.38,36.47L454.74,32.76L456.09,24.12L457.44,16.11L458.8,16.26L460.15,29.62L461.5,55.65L465.56,137.75L466.92,144.87L468.27,137.8L469.62,117.51L473.68,29.63L475.04,16.25L476.39,16.03L477.74,24.13L479.1,32.79L480.45,36.46L481.8,32.76L483.16,24.06L484.51,16.09L485.86,16.19L487.22,29.6L488.57,55.63L492.63,137.76L493.98,144.9L495.34,137.73L496.69,117.58L500.75,29.58L502.11,16.27L503.46,16.11L504.81,24.09L506.17,32.75L507.52,36.43L508.87,32.83L510.23,24L511.58,16.04L512.93,16.2L514.29,29.61L515.64,55.63L519.7,137.8L521.05,144.85L522.41,137.74L523.76,117.55L527.82,29.6L529.17,16.23L530.53,16.03L531.88,24.11L533.23,32.74L534.59,36.47L535.94,32.82L537.29,24.05L538.65,16.15L540,16.24\" style=\"vector-effect: non-scaling-stroke; fill: none; stroke: rgb(239, 85, 59); stroke-opacity: 1; stroke-width: 2px; opacity: 1;\"/></g><g class=\"points\"/><g class=\"text\"/></g></g></g><g class=\"overplot\"/><path class=\"xlines-above crisp\" d=\"M0,0\" style=\"fill: none;\"/><path class=\"ylines-above crisp\" d=\"M0,0\" style=\"fill: none;\"/><g class=\"overlines-above\"/><g class=\"xaxislayer-above\"><g class=\"xtick\"><text text-anchor=\"middle\" x=\"0\" y=\"433\" transform=\"translate(80,0)\" style=\"font-family: 'Open Sans', verdana, arial, sans-serif; font-size: 12px; fill: rgb(42, 63, 95); fill-opacity: 1; white-space: pre; opacity: 1;\">0</text></g><g class=\"xtick\"><text text-anchor=\"middle\" x=\"0\" y=\"433\" style=\"font-family: 'Open Sans', verdana, arial, sans-serif; font-size: 12px; fill: rgb(42, 63, 95); fill-opacity: 1; white-space: pre; opacity: 1;\" transform=\"translate(215.34,0)\">5</text></g><g class=\"xtick\"><text text-anchor=\"middle\" x=\"0\" y=\"433\" style=\"font-family: 'Open Sans', verdana, arial, sans-serif; font-size: 12px; fill: rgb(42, 63, 95); fill-opacity: 1; white-space: pre; opacity: 1;\" transform=\"translate(350.68,0)\">10</text></g><g class=\"xtick\"><text text-anchor=\"middle\" x=\"0\" y=\"433\" style=\"font-family: 'Open Sans', verdana, arial, sans-serif; font-size: 12px; fill: rgb(42, 63, 95); fill-opacity: 1; white-space: pre; opacity: 1;\" transform=\"translate(486.02,0)\">15</text></g></g><g class=\"yaxislayer-above\"><g class=\"ytick\"><text text-anchor=\"end\" x=\"79\" y=\"4.199999999999999\" transform=\"translate(0,396.62)\" style=\"font-family: 'Open Sans', verdana, arial, sans-serif; font-size: 12px; fill: rgb(42, 63, 95); fill-opacity: 1; white-space: pre; opacity: 1;\">−0.6</text></g><g class=\"ytick\"><text text-anchor=\"end\" x=\"79\" y=\"4.199999999999999\" style=\"font-family: 'Open Sans', verdana, arial, sans-serif; font-size: 12px; fill: rgb(42, 63, 95); fill-opacity: 1; white-space: pre; opacity: 1;\" transform=\"translate(0,351.03)\">−0.4</text></g><g class=\"ytick\"><text text-anchor=\"end\" x=\"79\" y=\"4.199999999999999\" style=\"font-family: 'Open Sans', verdana, arial, sans-serif; font-size: 12px; fill: rgb(42, 63, 95); fill-opacity: 1; white-space: pre; opacity: 1;\" transform=\"translate(0,305.45)\">−0.2</text></g><g class=\"ytick\"><text text-anchor=\"end\" x=\"79\" y=\"4.199999999999999\" style=\"font-family: 'Open Sans', verdana, arial, sans-serif; font-size: 12px; fill: rgb(42, 63, 95); fill-opacity: 1; white-space: pre; opacity: 1;\" transform=\"translate(0,259.87)\">0</text></g><g class=\"ytick\"><text text-anchor=\"end\" x=\"79\" y=\"4.199999999999999\" style=\"font-family: 'Open Sans', verdana, arial, sans-serif; font-size: 12px; fill: rgb(42, 63, 95); fill-opacity: 1; white-space: pre; opacity: 1;\" transform=\"translate(0,214.29000000000002)\">0.2</text></g><g class=\"ytick\"><text text-anchor=\"end\" x=\"79\" y=\"4.199999999999999\" style=\"font-family: 'Open Sans', verdana, arial, sans-serif; font-size: 12px; fill: rgb(42, 63, 95); fill-opacity: 1; white-space: pre; opacity: 1;\" transform=\"translate(0,168.70999999999998)\">0.4</text></g><g class=\"ytick\"><text text-anchor=\"end\" x=\"79\" y=\"4.199999999999999\" style=\"font-family: 'Open Sans', verdana, arial, sans-serif; font-size: 12px; fill: rgb(42, 63, 95); fill-opacity: 1; white-space: pre; opacity: 1;\" transform=\"translate(0,123.13)\">0.6</text></g></g><g class=\"overaxes-above\"/></g></g><g class=\"polarlayer\"/><g class=\"smithlayer\"/><g class=\"ternarylayer\"/><g class=\"geolayer\"/><g class=\"funnelarealayer\"/><g class=\"pielayer\"/><g class=\"iciclelayer\"/><g class=\"treemaplayer\"/><g class=\"sunburstlayer\"/><g class=\"glimages\"/><defs id=\"topdefs-8da6aa\"><g class=\"clips\"/><clipPath id=\"legend8da6aa\"><rect width=\"55\" height=\"48\" x=\"0\" y=\"0\"/></clipPath></defs><g class=\"layer-above\"><g class=\"imagelayer\"/><g class=\"shapelayer\"/></g><g class=\"infolayer\"><g class=\"legend\" pointer-events=\"all\" transform=\"translate(630.8,100)\"><rect class=\"bg\" shape-rendering=\"crispEdges\" style=\"stroke: rgb(68, 68, 68); stroke-opacity: 1; fill: rgb(255, 255, 255); fill-opacity: 1; stroke-width: 0px;\" width=\"55\" height=\"48\" x=\"0\" y=\"0\"/><g class=\"scrollbox\" transform=\"\" clip-path=\"url(#legend8da6aa)\"><g class=\"groups\"><g class=\"traces\" transform=\"translate(0,14.5)\" style=\"opacity: 1;\"><text class=\"legendtext\" text-anchor=\"start\" x=\"40\" y=\"4.680000000000001\" style=\"font-family: 'Open Sans', verdana, arial, sans-serif; font-size: 12px; fill: rgb(42, 63, 95); fill-opacity: 1; white-space: pre;\">I</text><g class=\"layers\" style=\"opacity: 1;\"><g class=\"legendfill\"/><g class=\"legendlines\"><path class=\"js-line\" d=\"M5,0h30\" style=\"fill: none; stroke: rgb(99, 110, 250); stroke-opacity: 1; stroke-width: 2px;\"/></g><g class=\"legendsymbols\"><g class=\"legendpoints\"/></g></g><rect class=\"legendtoggle\" x=\"0\" y=\"-9.5\" width=\"49.453125\" height=\"19\" style=\"fill: rgb(0, 0, 0); fill-opacity: 0;\"/></g><g class=\"traces\" transform=\"translate(0,33.5)\" style=\"opacity: 1;\"><text class=\"legendtext\" text-anchor=\"start\" x=\"40\" y=\"4.680000000000001\" style=\"font-family: 'Open Sans', verdana, arial, sans-serif; font-size: 12px; fill: rgb(42, 63, 95); fill-opacity: 1; white-space: pre;\">Q</text><g class=\"layers\" style=\"opacity: 1;\"><g class=\"legendfill\"/><g class=\"legendlines\"><path class=\"js-line\" d=\"M5,0h30\" style=\"fill: none; stroke: rgb(239, 85, 59); stroke-opacity: 1; stroke-width: 2px;\"/></g><g class=\"legendsymbols\"><g class=\"legendpoints\"/></g></g><rect class=\"legendtoggle\" x=\"0\" y=\"-9.5\" width=\"49.453125\" height=\"19\" style=\"fill: rgb(0, 0, 0); fill-opacity: 0;\"/></g></g></g><rect class=\"scrollbar\" rx=\"20\" ry=\"3\" width=\"0\" height=\"0\" style=\"fill: rgb(128, 139, 164); fill-opacity: 1;\" x=\"0\" y=\"0\"/></g><g class=\"g-gtitle\"><text class=\"gtitle\" x=\"35\" y=\"50\" text-anchor=\"start\" dy=\"0em\" style=\"font-family: 'Open Sans', verdana, arial, sans-serif; font-size: 17px; fill: rgb(42, 63, 95); opacity: 1; font-weight: normal; white-space: pre;\">I/Q Baseband Signals</text></g><g class=\"g-xtitle\"><text class=\"xtitle\" x=\"350\" y=\"460.8\" text-anchor=\"middle\" style=\"font-family: 'Open Sans', verdana, arial, sans-serif; font-size: 14px; fill: rgb(42, 63, 95); opacity: 1; font-weight: normal; white-space: pre;\">Time (s)</text></g><g class=\"g-ytitle\"><text class=\"ytitle\" transform=\"rotate(-90,24.746875000000003,260)\" x=\"24.746875000000003\" y=\"260\" text-anchor=\"middle\" style=\"font-family: 'Open Sans', verdana, arial, sans-serif; font-size: 14px; fill: rgb(42, 63, 95); opacity: 1; font-weight: normal; white-space: pre;\">Amplitude (V)</text></g></g></svg>",
      "text/plain": [
       "<IPython.core.display.SVG object>"
      ]
     },
     "metadata": {},
     "output_type": "display_data"
    }
   ],
   "source": [
    "import plotly.graph_objs as go\n",
    "from IPython.display import SVG, display\n",
    "\n",
    "fig = go.Figure()\n",
    "\n",
    "fig.add_trace(go.Scatter(\n",
    "    x=timestamp[0, 0, :],\n",
    "    y=np.real(baseband[0, 0, :]),\n",
    "    name='I',\n",
    "))\n",
    "fig.add_trace(go.Scatter(\n",
    "    x=timestamp[0, 0, :],\n",
    "    y=np.imag(baseband[0, 0, :]),\n",
    "    name='Q',\n",
    "))\n",
    "\n",
    "fig.update_layout(\n",
    "    title='I/Q Baseband Signals',\n",
    "    yaxis=dict(title='Amplitude (V)'),\n",
    "    xaxis=dict(title='Time (s)'),\n",
    ")\n",
    "\n",
    "# fig.show()\n",
    "display(SVG(fig.to_image(format='svg', scale=1)))"
   ]
  },
  {
   "cell_type": "code",
   "execution_count": 5,
   "metadata": {},
   "outputs": [
    {
     "data": {
      "image/svg+xml": "<svg xmlns=\"http://www.w3.org/2000/svg\" xmlns:xlink=\"http://www.w3.org/1999/xlink\" class=\"main-svg\" width=\"600\" height=\"600\" style=\"\" viewBox=\"0 0 600 600\"><rect x=\"0\" y=\"0\" width=\"600\" height=\"600\" style=\"fill: rgb(255, 255, 255); fill-opacity: 1;\"/><defs id=\"defs-7642a9\"><g class=\"clips\"><clipPath id=\"clip7642a9xyplot\" class=\"plotclip\"><rect width=\"440\" height=\"420\"/></clipPath><clipPath class=\"axesclip\" id=\"clip7642a9x\"><rect x=\"80\" y=\"0\" width=\"440\" height=\"600\"/></clipPath><clipPath class=\"axesclip\" id=\"clip7642a9y\"><rect x=\"0\" y=\"100\" width=\"600\" height=\"420\"/></clipPath><clipPath class=\"axesclip\" id=\"clip7642a9xy\"><rect x=\"80\" y=\"100\" width=\"440\" height=\"420\"/></clipPath></g><g class=\"gradients\"/><g class=\"patterns\"/></defs><g class=\"bglayer\"><rect class=\"bg\" x=\"80\" y=\"100\" width=\"440\" height=\"420\" style=\"fill: rgb(229, 236, 246); fill-opacity: 1; stroke-width: 0;\"/></g><g class=\"layer-below\"><g class=\"imagelayer\"/><g class=\"shapelayer\"/></g><g class=\"cartesianlayer\"><g class=\"subplot xy\"><g class=\"layer-subplot\"><g class=\"shapelayer\"/><g class=\"imagelayer\"/></g><g class=\"gridlayer\"><g class=\"x\"><path class=\"xgrid crisp\" transform=\"translate(90,0)\" d=\"M0,100v420\" style=\"stroke: rgb(255, 255, 255); stroke-opacity: 1; stroke-width: 1px;\"/><path class=\"xgrid crisp\" transform=\"translate(195,0)\" d=\"M0,100v420\" style=\"stroke: rgb(255, 255, 255); stroke-opacity: 1; stroke-width: 1px;\"/><path class=\"xgrid crisp\" transform=\"translate(405,0)\" d=\"M0,100v420\" style=\"stroke: rgb(255, 255, 255); stroke-opacity: 1; stroke-width: 1px;\"/><path class=\"xgrid crisp\" transform=\"translate(510,0)\" d=\"M0,100v420\" style=\"stroke: rgb(255, 255, 255); stroke-opacity: 1; stroke-width: 1px;\"/></g><g class=\"y\"><path class=\"ygrid crisp\" transform=\"translate(0,415)\" d=\"M80,0h440\" style=\"stroke: rgb(255, 255, 255); stroke-opacity: 1; stroke-width: 1px;\"/><path class=\"ygrid crisp\" transform=\"translate(0,205)\" d=\"M80,0h440\" style=\"stroke: rgb(255, 255, 255); stroke-opacity: 1; stroke-width: 1px;\"/></g></g><g class=\"zerolinelayer\"><path class=\"xzl zl crisp\" transform=\"translate(300,0)\" d=\"M0,100v420\" style=\"stroke: rgb(255, 255, 255); stroke-opacity: 1; stroke-width: 2px;\"/><path class=\"yzl zl crisp\" transform=\"translate(0,310)\" d=\"M80,0h440\" style=\"stroke: rgb(255, 255, 255); stroke-opacity: 1; stroke-width: 2px;\"/></g><path class=\"xlines-below\"/><path class=\"ylines-below\"/><g class=\"overlines-below\"/><g class=\"xaxislayer-below\"/><g class=\"yaxislayer-below\"/><g class=\"overaxes-below\"/><g class=\"plot\" transform=\"translate(80,100)\" clip-path=\"url(#clip7642a9xyplot)\"><g class=\"scatterlayer mlayer\"><g class=\"trace scatter tracee8b6bf\" style=\"stroke-miterlimit: 2; opacity: 1;\"><g class=\"fills\"/><g class=\"errorbars\"/><g class=\"lines\"><path class=\"js-line\" d=\"M161.14,90.06L127.2,113.91L104.12,143.52L92.33,170.93L88.13,189.58L87.25,196.17L88.07,189.64L92.3,170.92L104.19,143.54L127.16,113.87L161.16,89.93L200.86,77.61L238.46,77.5L267.42,84.88L290.59,96.25L267.47,84.89L238.48,77.55L200.83,77.64L161.09,89.92L127.16,113.99L104.16,143.62L92.31,170.92L88.03,189.61L87.22,196.17L88.06,189.58L92.32,170.97L104.15,143.55L127.07,113.95L161.18,89.99L200.86,77.67L238.49,77.48L267.42,84.84L290.57,96.23L267.42,84.88L238.5,77.51L200.85,77.69L161.17,90.03L127.16,113.99L104.16,143.58L92.34,170.94L88.02,189.64L87.26,196.15L88.03,189.52L92.33,170.92L104.12,143.64L127.14,113.96L161.2,89.99L200.87,77.64L238.5,77.5L267.39,84.9L290.59,96.24L267.41,84.88L238.46,77.5L200.81,77.61L161.19,90.02L127.09,113.92L104.13,143.56L92.33,170.97L88.14,189.65L87.3,196.11L88.1,189.67L92.33,170.97L104.12,143.62L127.16,113.89L161.13,90L200.89,77.68L238.44,77.52L267.45,84.86L290.55,96.27L267.37,84.93L238.43,77.49L200.92,77.6L161.2,89.96L127.19,113.93L104.15,143.6L92.28,170.99L88.1,189.61L87.23,196.14L88.08,189.72L92.3,170.98L104.09,143.62L127.18,113.96L161.24,89.97L200.93,77.63L238.54,77.53L267.48,84.87L290.54,96.23L267.46,84.84L238.5,77.55L200.91,77.68L161.13,89.97L127.14,113.92L104.13,143.62L92.4,170.97L88.09,189.62L87.2,196.22L88.1,189.66L92.26,170.95L104.11,143.59L127.15,113.93L161.11,90.02L200.91,77.66L238.48,77.48L267.41,84.82L290.58,96.29L267.38,84.92L238.5,77.55L200.97,77.6L161.13,89.96L127.09,113.88L104.15,143.57L92.3,170.94L88.07,189.62L87.24,196.18L88.11,189.72L92.38,170.99L104.17,143.61L127.16,113.97L161.21,89.94L200.85,77.62L238.47,77.51L267.41,84.91L290.59,96.26L267.4,84.85L238.47,77.54L200.9,77.66L161.16,90.02L127.16,113.88L104.11,143.57L92.37,170.96L88.08,189.64L87.28,196.15L88.09,189.62L92.33,170.94L104.12,143.55L127.17,113.95L161.15,89.97L200.83,77.66L238.43,77.47L267.5,84.88L290.55,96.28L267.39,84.84L238.49,77.43L200.93,77.65L161.16,90L127.14,113.97L104.18,143.61L92.27,170.9L88.09,189.6L87.24,196.24L88.07,189.66L92.39,170.98L104.12,143.5L127.17,113.89L161.16,89.99L200.91,77.66L238.52,77.5L267.43,84.88L290.53,96.31L267.4,84.88L238.47,77.51L200.92,77.67L161.15,89.97L127.15,113.98L104.16,143.57L92.29,170.96L88.07,189.66L87.24,196.22L88.03,189.62L92.27,170.92L104.13,143.59L127.12,113.91L161.18,89.92L200.85,77.62L238.47,77.54L267.39,84.87L290.65,96.3L267.46,84.96L238.51,77.49L200.96,77.64L161.16,90.01L127.15,113.89L104.15,143.55L92.36,170.86L88.05,189.65L87.26,196.22L88.09,189.65L92.38,170.91L104.12,143.57L127.06,113.91L161.21,89.99L200.93,77.67L238.55,77.55L267.45,84.85L290.56,96.31L267.45,84.87L238.49,77.52L200.93,77.66L161.17,89.97L127.13,113.96L104.13,143.59L92.32,170.94L88.12,189.6L87.26,196.17L88.02,189.65L92.26,171.01L104.21,143.55L127.11,113.92L161.15,90.01L200.95,77.61L238.51,77.51L267.39,84.87L290.61,96.24L267.36,84.84L238.54,77.54L200.85,77.64L161.14,90.01L127.15,113.93L104.1,143.51L92.33,171.03L88.08,189.62L87.21,196.18L88.11,189.59L92.34,170.98L104.18,143.55L127.15,113.92L161.17,90.02L200.96,77.66L238.46,77.52L267.41,84.91L290.59,96.29L284.88,92.97L267.44,84.78L238.44,77.45L200.87,77.65L161.1,90L127.11,113.94L104.17,143.54L92.28,170.98L87.29,196.18L92.33,170.93L104.14,143.57L127.06,114.02L161.12,89.94L200.93,77.57L238.51,77.47L267.48,84.87L284.83,92.94L290.62,96.3L284.88,92.92L267.36,84.83L238.48,77.5L200.93,77.59L161.19,89.97L127.12,113.92L104.13,143.55L92.24,170.86L87.26,196.23L92.31,170.94L104.19,143.58L127.1,113.92L161.1,90.05L200.94,77.6L238.51,77.5L267.46,84.88L284.83,92.91L290.6,96.34L284.89,92.97L267.37,84.87L238.48,77.56L200.91,77.65L161.04,89.98L127.13,113.91L104.15,143.55L92.32,170.91L87.28,196.23L92.35,170.91L104.1,143.56L127.19,113.94L161.12,90.03L200.94,77.67L238.51,77.47L267.51,84.93L284.85,92.95L290.59,96.26L284.91,92.98L267.39,84.81L238.47,77.5L200.91,77.67L161.13,89.99L127.15,113.91L104.15,143.56L92.3,170.97L87.22,196.18L92.26,171.05L104.19,143.56L127.15,113.91L161.21,89.94L200.93,77.65L238.44,77.5L267.43,84.92L284.79,92.93L290.53,96.3L284.84,92.87L267.4,84.92L238.47,77.53L200.87,77.67L161.17,89.99L127.13,113.96L104.11,143.58L92.28,170.94L87.24,196.18L92.28,170.97L104.21,143.61L127.17,113.96L161.18,89.99L200.87,77.66L238.44,77.46L267.49,84.92L284.77,92.9L290.57,96.29L284.88,92.88L267.42,84.86L238.47,77.52L200.95,77.6L161.17,89.96L127.14,113.94L104.11,143.61L92.33,170.95L87.23,196.21L92.31,171.03L104.17,143.51L127.11,113.97L161.16,89.94L200.99,77.68L238.5,77.53L267.47,84.88L284.84,92.87L290.55,96.26L284.93,92.94L267.46,84.81L238.48,77.47L200.81,77.61L161.19,89.97L127.11,113.95L104.18,143.63L92.33,170.97L87.24,196.16L92.29,171L104.18,143.56L127.09,113.95L161.23,89.97L200.91,77.64L238.46,77.46L267.46,84.9L284.84,92.86L290.61,96.3L284.81,92.93L267.4,84.85L238.47,77.57L200.85,77.66\" style=\"vector-effect: non-scaling-stroke; fill: none; stroke: rgb(99, 110, 250); stroke-opacity: 1; stroke-width: 2px; opacity: 1;\"/></g><g class=\"points\"/><g class=\"text\"/></g></g></g><g class=\"overplot\"/><path class=\"xlines-above crisp\" d=\"M0,0\" style=\"fill: none;\"/><path class=\"ylines-above crisp\" d=\"M0,0\" style=\"fill: none;\"/><g class=\"overlines-above\"/><g class=\"xaxislayer-above\"><g class=\"xtick\"><text text-anchor=\"middle\" x=\"0\" y=\"533\" transform=\"translate(90,0)\" style=\"font-family: 'Open Sans', verdana, arial, sans-serif; font-size: 12px; fill: rgb(42, 63, 95); fill-opacity: 1; white-space: pre; opacity: 1;\">−1.00</text></g><g class=\"xtick\"><text text-anchor=\"middle\" x=\"0\" y=\"533\" style=\"font-family: 'Open Sans', verdana, arial, sans-serif; font-size: 12px; fill: rgb(42, 63, 95); fill-opacity: 1; white-space: pre; opacity: 1;\" transform=\"translate(195,0)\">−0.50</text></g><g class=\"xtick\"><text text-anchor=\"middle\" x=\"0\" y=\"533\" style=\"font-family: 'Open Sans', verdana, arial, sans-serif; font-size: 12px; fill: rgb(42, 63, 95); fill-opacity: 1; white-space: pre; opacity: 1;\" transform=\"translate(300,0)\">0.00</text></g><g class=\"xtick\"><text text-anchor=\"middle\" x=\"0\" y=\"533\" style=\"font-family: 'Open Sans', verdana, arial, sans-serif; font-size: 12px; fill: rgb(42, 63, 95); fill-opacity: 1; white-space: pre; opacity: 1;\" transform=\"translate(405,0)\">0.50</text></g><g class=\"xtick\"><text text-anchor=\"middle\" x=\"0\" y=\"533\" style=\"font-family: 'Open Sans', verdana, arial, sans-serif; font-size: 12px; fill: rgb(42, 63, 95); fill-opacity: 1; white-space: pre; opacity: 1;\" transform=\"translate(510,0)\">1.00</text></g></g><g class=\"yaxislayer-above\"><g class=\"ytick\"><text text-anchor=\"end\" x=\"79\" y=\"4.199999999999999\" transform=\"translate(0,520)\" style=\"font-family: 'Open Sans', verdana, arial, sans-serif; font-size: 12px; fill: rgb(42, 63, 95); fill-opacity: 1; white-space: pre; opacity: 1;\">−1.00</text></g><g class=\"ytick\"><text text-anchor=\"end\" x=\"79\" y=\"4.199999999999999\" style=\"font-family: 'Open Sans', verdana, arial, sans-serif; font-size: 12px; fill: rgb(42, 63, 95); fill-opacity: 1; white-space: pre; opacity: 1;\" transform=\"translate(0,415)\">−0.50</text></g><g class=\"ytick\"><text text-anchor=\"end\" x=\"79\" y=\"4.199999999999999\" style=\"font-family: 'Open Sans', verdana, arial, sans-serif; font-size: 12px; fill: rgb(42, 63, 95); fill-opacity: 1; white-space: pre; opacity: 1;\" transform=\"translate(0,310)\">0.00</text></g><g class=\"ytick\"><text text-anchor=\"end\" x=\"79\" y=\"4.199999999999999\" style=\"font-family: 'Open Sans', verdana, arial, sans-serif; font-size: 12px; fill: rgb(42, 63, 95); fill-opacity: 1; white-space: pre; opacity: 1;\" transform=\"translate(0,205)\">0.50</text></g><g class=\"ytick\"><text text-anchor=\"end\" x=\"79\" y=\"4.199999999999999\" style=\"font-family: 'Open Sans', verdana, arial, sans-serif; font-size: 12px; fill: rgb(42, 63, 95); fill-opacity: 1; white-space: pre; opacity: 1;\" transform=\"translate(0,100)\">1.00</text></g></g><g class=\"overaxes-above\"/></g></g><g class=\"polarlayer\"/><g class=\"smithlayer\"/><g class=\"ternarylayer\"/><g class=\"geolayer\"/><g class=\"funnelarealayer\"/><g class=\"pielayer\"/><g class=\"iciclelayer\"/><g class=\"treemaplayer\"/><g class=\"sunburstlayer\"/><g class=\"glimages\"/><defs id=\"topdefs-7642a9\"><g class=\"clips\"/></defs><g class=\"layer-above\"><g class=\"imagelayer\"/><g class=\"shapelayer\"/></g><g class=\"infolayer\"><g class=\"g-gtitle\"><text class=\"gtitle\" x=\"30\" y=\"50\" text-anchor=\"start\" dy=\"0em\" style=\"font-family: 'Open Sans', verdana, arial, sans-serif; font-size: 17px; fill: rgb(42, 63, 95); opacity: 1; font-weight: normal; white-space: pre;\">I/Q Constellation Plot</text></g><g class=\"g-xtitle\"><text class=\"xtitle\" x=\"300\" y=\"560.8\" text-anchor=\"middle\" style=\"font-family: 'Open Sans', verdana, arial, sans-serif; font-size: 14px; fill: rgb(42, 63, 95); opacity: 1; font-weight: normal; white-space: pre;\">In-phase (V)</text></g><g class=\"g-ytitle\"><text class=\"ytitle\" transform=\"rotate(-90,17.121875000000003,310)\" x=\"17.121875000000003\" y=\"310\" text-anchor=\"middle\" style=\"font-family: 'Open Sans', verdana, arial, sans-serif; font-size: 14px; fill: rgb(42, 63, 95); opacity: 1; font-weight: normal; white-space: pre;\">Quadrature (V)</text></g></g></svg>",
      "text/plain": [
       "<IPython.core.display.SVG object>"
      ]
     },
     "metadata": {},
     "output_type": "display_data"
    }
   ],
   "source": [
    "fig = go.Figure()\n",
    "\n",
    "fig.add_trace(go.Scatter(\n",
    "    x=np.real(baseband[0, 0, :]),\n",
    "    y=np.imag(baseband[0, 0, :]),\n",
    "))\n",
    "\n",
    "fig.update_layout(\n",
    "    title='I/Q Constellation Plot',\n",
    "    xaxis=dict(range=[-1, 1], tickformat='.2f', title='In-phase (V)'),\n",
    "    yaxis=dict(range=[-1, 1],\n",
    "               tickformat='.2f',\n",
    "               title='Quadrature (V)',\n",
    "               scaleanchor=\"x\",\n",
    "               scaleratio=1),\n",
    "    height=600,\n",
    "    width=600,\n",
    ")\n",
    "\n",
    "# fig.show()\n",
    "display(SVG(fig.to_image(format='svg', scale=1)))"
   ]
  },
  {
   "cell_type": "markdown",
   "metadata": {},
   "source": [
    "## Phase demodulation\n",
    "\n",
    "Demodulate the phase of the baseband signal"
   ]
  },
  {
   "cell_type": "code",
   "execution_count": 6,
   "metadata": {},
   "outputs": [],
   "source": [
    "demod = np.angle(baseband[0, 0, :])"
   ]
  },
  {
   "cell_type": "markdown",
   "metadata": {},
   "source": [
    "Plot"
   ]
  },
  {
   "cell_type": "code",
   "execution_count": 7,
   "metadata": {},
   "outputs": [
    {
     "data": {
      "image/svg+xml": "<svg xmlns=\"http://www.w3.org/2000/svg\" xmlns:xlink=\"http://www.w3.org/1999/xlink\" class=\"main-svg\" width=\"700\" height=\"500\" style=\"\" viewBox=\"0 0 700 500\"><rect x=\"0\" y=\"0\" width=\"700\" height=\"500\" style=\"fill: rgb(255, 255, 255); fill-opacity: 1;\"/><defs id=\"defs-5963b1\"><g class=\"clips\"><clipPath id=\"clip5963b1xyplot\" class=\"plotclip\"><rect width=\"540\" height=\"320\"/></clipPath><clipPath class=\"axesclip\" id=\"clip5963b1x\"><rect x=\"80\" y=\"0\" width=\"540\" height=\"500\"/></clipPath><clipPath class=\"axesclip\" id=\"clip5963b1y\"><rect x=\"0\" y=\"100\" width=\"700\" height=\"320\"/></clipPath><clipPath class=\"axesclip\" id=\"clip5963b1xy\"><rect x=\"80\" y=\"100\" width=\"540\" height=\"320\"/></clipPath></g><g class=\"gradients\"/><g class=\"patterns\"/></defs><g class=\"bglayer\"><rect class=\"bg\" x=\"80\" y=\"100\" width=\"540\" height=\"320\" style=\"fill: rgb(229, 236, 246); fill-opacity: 1; stroke-width: 0;\"/></g><g class=\"layer-below\"><g class=\"imagelayer\"/><g class=\"shapelayer\"/></g><g class=\"cartesianlayer\"><g class=\"subplot xy\"><g class=\"layer-subplot\"><g class=\"shapelayer\"/><g class=\"imagelayer\"/></g><g class=\"gridlayer\"><g class=\"x\"><path class=\"xgrid crisp\" transform=\"translate(215.34,0)\" d=\"M0,100v320\" style=\"stroke: rgb(255, 255, 255); stroke-opacity: 1; stroke-width: 1px;\"/><path class=\"xgrid crisp\" transform=\"translate(350.68,0)\" d=\"M0,100v320\" style=\"stroke: rgb(255, 255, 255); stroke-opacity: 1; stroke-width: 1px;\"/><path class=\"xgrid crisp\" transform=\"translate(486.02,0)\" d=\"M0,100v320\" style=\"stroke: rgb(255, 255, 255); stroke-opacity: 1; stroke-width: 1px;\"/></g><g class=\"y\"><path class=\"ygrid crisp\" transform=\"translate(0,406.11)\" d=\"M80,0h540\" style=\"stroke: rgb(255, 255, 255); stroke-opacity: 1; stroke-width: 1px;\"/><path class=\"ygrid crisp\" transform=\"translate(0,334.95)\" d=\"M80,0h540\" style=\"stroke: rgb(255, 255, 255); stroke-opacity: 1; stroke-width: 1px;\"/><path class=\"ygrid crisp\" transform=\"translate(0,263.78)\" d=\"M80,0h540\" style=\"stroke: rgb(255, 255, 255); stroke-opacity: 1; stroke-width: 1px;\"/><path class=\"ygrid crisp\" transform=\"translate(0,192.62)\" d=\"M80,0h540\" style=\"stroke: rgb(255, 255, 255); stroke-opacity: 1; stroke-width: 1px;\"/><path class=\"ygrid crisp\" transform=\"translate(0,121.46000000000001)\" d=\"M80,0h540\" style=\"stroke: rgb(255, 255, 255); stroke-opacity: 1; stroke-width: 1px;\"/></g></g><g class=\"zerolinelayer\"><path class=\"xzl zl crisp\" transform=\"translate(80,0)\" d=\"M0,100v320\" style=\"stroke: rgb(255, 255, 255); stroke-opacity: 1; stroke-width: 2px;\"/></g><path class=\"xlines-below\"/><path class=\"ylines-below\"/><g class=\"overlines-below\"/><g class=\"xaxislayer-below\"/><g class=\"yaxislayer-below\"/><g class=\"overaxes-below\"/><g class=\"plot\" transform=\"translate(80,100)\" clip-path=\"url(#clip5963b1xyplot)\"><g class=\"scatterlayer mlayer\"><g class=\"trace scatter trace7921e2\" style=\"stroke-miterlimit: 2; opacity: 1;\"><g class=\"fills\"/><g class=\"errorbars\"/><g class=\"lines\"><path class=\"js-line\" d=\"M0,159.94L4.06,43.57L5.41,23.17L6.77,16.08L8.12,23.1L10.83,75.46L12.18,115.57L17.59,276.43L18.95,296.86L20.3,303.92L21.65,296.86L23.01,276.49L24.36,244.6L31.13,43.58L32.48,23.12L33.83,16.08L35.19,23.16L36.54,43.52L37.89,75.43L44.66,276.42L46.02,296.86L47.37,303.89L48.72,296.91L50.08,276.43L51.43,244.62L58.2,43.56L59.55,23.09L60.9,16.1L62.26,23.22L63.61,43.58L64.96,75.32L71.73,276.41L73.08,296.85L74.44,303.91L75.79,296.87L78.5,244.58L79.85,204.38L85.26,43.53L86.62,23.1L87.97,16.14L89.32,23.07L90.68,43.53L92.03,75.35L98.8,276.46L100.15,296.87L101.5,303.9L102.86,296.93L105.56,244.54L106.92,204.5L112.33,43.49L113.68,23.13L115.04,16.11L116.39,23.02L119.1,75.33L120.45,115.51L125.86,276.49L127.22,296.9L128.57,303.86L129.92,296.91L131.28,276.45L132.63,244.63L139.4,43.56L140.75,23.12L142.11,16.02L143.46,23.08L146.17,75.36L147.52,115.52L152.93,276.4L154.29,296.96L155.64,303.94L156.99,296.9L158.35,276.41L159.7,244.63L166.47,43.55L167.82,23.12L169.17,16.07L170.53,23.02L173.23,75.38L174.59,115.49L180,276.43L181.35,296.89L182.71,303.93L184.06,296.89L186.77,244.59L188.12,204.47L193.53,43.55L194.89,23.1L196.24,16.11L197.59,23.12L198.95,43.56L200.3,75.41L207.07,276.51L208.42,296.91L209.77,303.9L211.13,296.88L213.83,244.59L215.19,204.51L220.6,43.58L221.95,23.14L223.31,16L224.66,23.07L226.02,43.54L227.37,75.45L234.14,276.44L235.49,296.93L236.84,303.91L238.2,296.9L240.9,244.58L242.26,204.49L247.67,43.53L249.02,23.07L250.38,16.03L251.73,23.11L254.44,75.38L255.79,115.51L261.2,276.4L262.56,296.91L263.91,304L265.26,296.89L266.62,276.5L267.97,244.62L274.74,43.65L276.09,23.09L277.44,16.03L278.8,23.09L281.5,75.39L282.86,115.46L288.27,276.46L289.62,296.88L290.98,303.93L292.33,296.86L295.04,244.61L296.39,204.5L301.8,43.56L303.16,23.15L304.51,16.08L305.86,23.08L307.22,43.47L308.57,75.46L315.34,276.39L316.69,296.87L318.05,303.93L319.4,296.95L322.11,244.67L323.46,204.42L328.87,43.48L330.23,23.12L331.58,16.06L332.93,23.16L334.29,43.53L335.64,75.44L342.41,276.44L343.76,296.86L345.11,303.94L346.47,296.92L349.17,244.55L350.53,204.44L355.94,43.51L357.29,23L358.65,16.07L360,23.1L362.71,75.4L364.06,115.38L369.47,276.48L370.83,296.85L372.18,303.98L373.53,296.89L374.89,276.35L376.24,244.6L383.01,43.62L384.36,23.06L385.71,16.02L387.07,23.1L389.77,75.41L391.13,115.48L396.54,276.47L397.89,296.84L399.25,303.98L400.6,296.93L403.31,244.61L404.66,204.49L410.08,43.59L411.43,23.04L412.78,16.02L414.14,23.11L416.84,75.39L418.2,115.53L423.61,276.54L424.96,296.87L426.32,303.93L427.67,296.95L430.38,244.58L431.73,204.48L437.14,43.53L438.5,23.13L439.85,16.07L441.2,23.18L442.56,43.43L443.91,75.44L450.68,276.46L452.03,296.82L453.38,303.89L454.74,296.83L456.09,276.42L457.44,244.59L464.21,43.55L465.56,23.12L466.92,16.07L468.27,23.07L470.98,75.4L472.33,115.51L477.74,276.52L479.1,296.78L480.45,303.92L481.8,296.87L483.16,276.43L484.51,244.59L491.28,43.56L492.63,23.12L493.98,16.04L495.34,23.14L496.69,43.46L498.05,75.47L504.81,276.48L506.17,296.82L507.52,303.89L508.87,296.95L510.23,276.44L511.58,244.59L518.35,43.53L519.7,23.08L521.05,16.09L522.41,23.14L523.76,43.49L525.11,75.43L531.88,276.48L533.23,296.83L534.59,303.97L535.94,296.83L538.65,244.59L540,204.42\" style=\"vector-effect: non-scaling-stroke; fill: none; stroke: rgb(99, 110, 250); stroke-opacity: 1; stroke-width: 2px; opacity: 1;\"/></g><g class=\"points\"/><g class=\"text\"/></g></g></g><g class=\"overplot\"/><path class=\"xlines-above crisp\" d=\"M0,0\" style=\"fill: none;\"/><path class=\"ylines-above crisp\" d=\"M0,0\" style=\"fill: none;\"/><g class=\"overlines-above\"/><g class=\"xaxislayer-above\"><g class=\"xtick\"><text text-anchor=\"middle\" x=\"0\" y=\"433\" transform=\"translate(80,0)\" style=\"font-family: 'Open Sans', verdana, arial, sans-serif; font-size: 12px; fill: rgb(42, 63, 95); fill-opacity: 1; white-space: pre; opacity: 1;\">0.00</text></g><g class=\"xtick\"><text text-anchor=\"middle\" x=\"0\" y=\"433\" style=\"font-family: 'Open Sans', verdana, arial, sans-serif; font-size: 12px; fill: rgb(42, 63, 95); fill-opacity: 1; white-space: pre; opacity: 1;\" transform=\"translate(215.34,0)\">5.00</text></g><g class=\"xtick\"><text text-anchor=\"middle\" x=\"0\" y=\"433\" style=\"font-family: 'Open Sans', verdana, arial, sans-serif; font-size: 12px; fill: rgb(42, 63, 95); fill-opacity: 1; white-space: pre; opacity: 1;\" transform=\"translate(350.68,0)\">10.00</text></g><g class=\"xtick\"><text text-anchor=\"middle\" x=\"0\" y=\"433\" style=\"font-family: 'Open Sans', verdana, arial, sans-serif; font-size: 12px; fill: rgb(42, 63, 95); fill-opacity: 1; white-space: pre; opacity: 1;\" transform=\"translate(486.02,0)\">15.00</text></g></g><g class=\"yaxislayer-above\"><g class=\"ytick\"><text text-anchor=\"end\" x=\"79\" y=\"4.199999999999999\" transform=\"translate(0,406.11)\" style=\"font-family: 'Open Sans', verdana, arial, sans-serif; font-size: 12px; fill: rgb(42, 63, 95); fill-opacity: 1; white-space: pre; opacity: 1;\">1.00</text></g><g class=\"ytick\"><text text-anchor=\"end\" x=\"79\" y=\"4.199999999999999\" style=\"font-family: 'Open Sans', verdana, arial, sans-serif; font-size: 12px; fill: rgb(42, 63, 95); fill-opacity: 1; white-space: pre; opacity: 1;\" transform=\"translate(0,334.95)\">1.50</text></g><g class=\"ytick\"><text text-anchor=\"end\" x=\"79\" y=\"4.199999999999999\" style=\"font-family: 'Open Sans', verdana, arial, sans-serif; font-size: 12px; fill: rgb(42, 63, 95); fill-opacity: 1; white-space: pre; opacity: 1;\" transform=\"translate(0,263.78)\">2.00</text></g><g class=\"ytick\"><text text-anchor=\"end\" x=\"79\" y=\"4.199999999999999\" style=\"font-family: 'Open Sans', verdana, arial, sans-serif; font-size: 12px; fill: rgb(42, 63, 95); fill-opacity: 1; white-space: pre; opacity: 1;\" transform=\"translate(0,192.62)\">2.50</text></g><g class=\"ytick\"><text text-anchor=\"end\" x=\"79\" y=\"4.199999999999999\" style=\"font-family: 'Open Sans', verdana, arial, sans-serif; font-size: 12px; fill: rgb(42, 63, 95); fill-opacity: 1; white-space: pre; opacity: 1;\" transform=\"translate(0,121.46000000000001)\">3.00</text></g></g><g class=\"overaxes-above\"/></g></g><g class=\"polarlayer\"/><g class=\"smithlayer\"/><g class=\"ternarylayer\"/><g class=\"geolayer\"/><g class=\"funnelarealayer\"/><g class=\"pielayer\"/><g class=\"iciclelayer\"/><g class=\"treemaplayer\"/><g class=\"sunburstlayer\"/><g class=\"glimages\"/><defs id=\"topdefs-5963b1\"><g class=\"clips\"/></defs><g class=\"layer-above\"><g class=\"imagelayer\"/><g class=\"shapelayer\"/></g><g class=\"infolayer\"><g class=\"g-gtitle\"><text class=\"gtitle\" x=\"35\" y=\"50\" text-anchor=\"start\" dy=\"0em\" style=\"font-family: 'Open Sans', verdana, arial, sans-serif; font-size: 17px; fill: rgb(42, 63, 95); opacity: 1; font-weight: normal; white-space: pre;\">Phase demodulated</text></g><g class=\"g-xtitle\"><text class=\"xtitle\" x=\"350\" y=\"460.8\" text-anchor=\"middle\" style=\"font-family: 'Open Sans', verdana, arial, sans-serif; font-size: 14px; fill: rgb(42, 63, 95); opacity: 1; font-weight: normal; white-space: pre;\">Time (s)</text></g><g class=\"g-ytitle\"><text class=\"ytitle\" transform=\"rotate(-90,26.934375000000003,260)\" x=\"26.934375000000003\" y=\"260\" text-anchor=\"middle\" style=\"font-family: 'Open Sans', verdana, arial, sans-serif; font-size: 14px; fill: rgb(42, 63, 95); opacity: 1; font-weight: normal; white-space: pre;\">Phase (rad)</text></g></g></svg>",
      "text/plain": [
       "<IPython.core.display.SVG object>"
      ]
     },
     "metadata": {},
     "output_type": "display_data"
    }
   ],
   "source": [
    "fig = go.Figure()\n",
    "fig.add_trace(go.Scatter(\n",
    "    x=timestamp[0, 0, :],\n",
    "    y=demod,\n",
    "))\n",
    "\n",
    "fig.update_layout(\n",
    "    title='Phase demodulated',\n",
    "    xaxis=dict(tickformat='.2f', title='Time (s)'),\n",
    "    yaxis=dict(tickformat='.2f', title='Phase (rad)'),\n",
    ")\n",
    "\n",
    "# fig.show()\n",
    "display(SVG(fig.to_image(format='svg', scale=1)))"
   ]
  },
  {
   "cell_type": "code",
   "execution_count": null,
   "metadata": {},
   "outputs": [],
   "source": []
  }
 ],
 "metadata": {
  "kernel_info": {
   "name": "python3"
  },
  "kernelspec": {
   "display_name": "Python 3",
   "language": "python",
   "name": "python3"
  },
  "language_info": {
   "codemirror_mode": {
    "name": "ipython",
    "version": 3
   },
   "file_extension": ".py",
   "mimetype": "text/x-python",
   "name": "python",
   "nbconvert_exporter": "python",
   "pygments_lexer": "ipython3",
   "version": "3.10.0"
  },
  "nteract": {
   "version": "0.12.3"
  },
  "toc": {
   "base_numbering": 1,
   "nav_menu": {},
   "number_sections": true,
   "sideBar": true,
   "skip_h1_title": false,
   "title_cell": "Table of Contents",
   "title_sidebar": "Contents",
   "toc_cell": false,
   "toc_position": {},
   "toc_section_display": true,
   "toc_window_display": false
  },
  "toc-showcode": false,
  "varInspector": {
   "cols": {
    "lenName": 16,
    "lenType": 16,
    "lenVar": 40
   },
   "kernels_config": {
    "python": {
     "delete_cmd_postfix": "",
     "delete_cmd_prefix": "del ",
     "library": "var_list.py",
     "varRefreshCmd": "print(var_dic_list())"
    },
    "r": {
     "delete_cmd_postfix": ") ",
     "delete_cmd_prefix": "rm(",
     "library": "var_list.r",
     "varRefreshCmd": "cat(var_dic_list()) "
    }
   },
   "types_to_exclude": [
    "module",
    "function",
    "builtin_function_or_method",
    "instance",
    "_Feature"
   ],
   "window_display": false
  }
 },
 "nbformat": 4,
 "nbformat_minor": 4
}
