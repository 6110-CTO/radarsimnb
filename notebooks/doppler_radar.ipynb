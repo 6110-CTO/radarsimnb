{
 "cells": [
  {
   "cell_type": "code",
   "execution_count": 1,
   "metadata": {},
   "outputs": [
    {
     "data": {
      "text/plain": [
       "'11.1.0'"
      ]
     },
     "execution_count": 1,
     "metadata": {},
     "output_type": "execute_result"
    }
   ],
   "source": [
    "import radarsimpy\n",
    "radarsimpy.__version__\n"
   ]
  },
  {
   "attachments": {},
   "cell_type": "markdown",
   "metadata": {},
   "source": [
    "# Doppler (Interferometry) Radar\n",
    "\n",
    "<a href=\"https://radarsimx.github.io/radarsimpy/\" target=\"_blank\" rel=\"nofollow\"><img src=\"https://img.shields.io/badge/Documentation-latest-brightgree?style=flat&logo=read-the-docs\" height=\"20\"></a>\n",
    "<a href=\"https://radarsimx.com/product/radarsimpy/\" target=\"_blank\"><img src=\"https://img.shields.io/badge/Download-latest-brightgree?style=flat&logo=python\" height=\"20\"></a>\n",
    "\n",
    "This is a Doppler (interferometry) radar simulation example based on [`RadarSimPy`](https://radarsimx.com/radarsimx/radarsimpy/).\n",
    "\n",
    "---\n",
    "\n",
    "\n",
    "## Radar Model\n",
    "### Transmitter\n",
    "\n",
    "Setup the basic transmitter parameters through `Transmitter` module.\n",
    "\n",
    "The following table lists the parameters in this example.\n",
    "\n",
    "| Parameter                 | Variable in `Transmitter` | Value      |\n",
    "| ------------------------- | ------------------------- | ---------- |\n",
    "| Frequency ($f$)           | `f`                       | 24.125 GHz |\n",
    "| Signal length ($T$)       | `t`                       | 20 s       |\n",
    "| Transmitted power ($P_t$) | `tx_power`                | 10 dBm     |\n",
    "\n",
    "A single transmitter channel is used in this example. The tranmitter channel is located at [0, 0, 0].\n",
    "\n",
    "### Receiver\n",
    "\n",
    "Setup the receiver parameters through `Receiver` module.\n",
    "\n",
    "The parameters of the receiver are listed in the table below.\n",
    "\n",
    "| Parameter                | Variable in `Receiver` | Value         |\n",
    "| ------------------------ | ---------------------- | ------------- |\n",
    "| Sampling rate ($f_s$)    | `fs`                   | 20 sps        |\n",
    "| Noise figure ($NF$)      | `noise_figure`         | 12 dB         |\n",
    "| RF gain/loss ($G_{rf}$)  | `rf_gain`              | 20 dB         |\n",
    "| Baseband gain ($G_{BB}$) | `baseband_gain`        | 50 dB         |\n",
    "| Load resistor ($R_L$)    | `load_resistor`        | 1000 $\\Omega$ |\n",
    "\n",
    "A single receiver channel is used in this example. The receiver channel is located at [0, 0, 0]."
   ]
  },
  {
   "cell_type": "code",
   "execution_count": 2,
   "metadata": {},
   "outputs": [],
   "source": [
    "import numpy as np\n",
    "from radarsimpy import Radar, Transmitter, Receiver\n",
    "\n",
    "# setup transmitter\n",
    "tx = Transmitter(f=24.125e9,\n",
    "                 t=20,\n",
    "                 tx_power=10,\n",
    "                 pulses=1,\n",
    "                 channels=[dict(location=(0, 0, 0))])\n",
    "\n",
    "# setup receiver\n",
    "rx = Receiver(fs=20,\n",
    "              noise_figure=12,\n",
    "              rf_gain=20,\n",
    "              baseband_gain=50,\n",
    "              load_resistor=1000,\n",
    "              channels=[dict(location=(0, 0, 0))])\n",
    "\n",
    "# create radar\n",
    "radar = Radar(transmitter=tx, receiver=rx)\n"
   ]
  },
  {
   "cell_type": "markdown",
   "metadata": {},
   "source": [
    "### Targets\n",
    "\n",
    "Define a list of targets. There is only one target in this simulaiton. The motion of the target is defined by:\n",
    "\n",
    "`1.4+1e-3*np.sin(2*np.pi*1*radar.timestamp)`\n",
    "\n",
    "`radar.timestamp` is the time matrix of the baseband samples."
   ]
  },
  {
   "cell_type": "code",
   "execution_count": 3,
   "metadata": {},
   "outputs": [],
   "source": [
    "target = dict(location=(1.4+1e-3*np.sin(2*np.pi*1*radar.timestamp), 0, 0),\n",
    "              rcs=-10,\n",
    "              phase=0)\n",
    "\n",
    "targets = [target]\n"
   ]
  },
  {
   "cell_type": "markdown",
   "metadata": {},
   "source": [
    "## Simulate Baseband Signals\n",
    "\n",
    "Use the `simulator` module to simulate the baseband samples. The user can choose between Python engine `simpy` or C++ engine `simc`.\n",
    "\n",
    "The output baseband data is a 3-D matrix:\n",
    "\n",
    "$[channels, pulses, ADC~samples]$"
   ]
  },
  {
   "cell_type": "code",
   "execution_count": 4,
   "metadata": {},
   "outputs": [],
   "source": [
    "# Python engine\n",
    "from radarsimpy.simulator import simpy\n",
    "# C++ engine\n",
    "from radarsimpy.simulator import simc\n",
    "\n",
    "bb_data = simc(radar, targets)\n",
    "timestamp = bb_data['timestamp']\n",
    "baseband = bb_data['baseband']\n"
   ]
  },
  {
   "cell_type": "markdown",
   "metadata": {},
   "source": [
    "Plot the baseband"
   ]
  },
  {
   "cell_type": "code",
   "execution_count": 5,
   "metadata": {
    "tags": [
     "remove_cell"
    ]
   },
   "outputs": [
    {
     "data": {
      "image/svg+xml": [
       "<svg xmlns=\"http://www.w3.org/2000/svg\" xmlns:xlink=\"http://www.w3.org/1999/xlink\" class=\"main-svg\" width=\"700\" height=\"500\" style=\"\" viewBox=\"0 0 700 500\"><rect x=\"0\" y=\"0\" width=\"700\" height=\"500\" style=\"fill: rgb(255, 255, 255); fill-opacity: 1;\"/><defs id=\"defs-c3a5e5\"><g class=\"clips\"><clipPath id=\"clipc3a5e5xyplot\" class=\"plotclip\"><rect width=\"540\" height=\"320\"/></clipPath><clipPath class=\"axesclip\" id=\"clipc3a5e5x\"><rect x=\"80\" y=\"0\" width=\"540\" height=\"500\"/></clipPath><clipPath class=\"axesclip\" id=\"clipc3a5e5y\"><rect x=\"0\" y=\"100\" width=\"700\" height=\"320\"/></clipPath><clipPath class=\"axesclip\" id=\"clipc3a5e5xy\"><rect x=\"80\" y=\"100\" width=\"540\" height=\"320\"/></clipPath></g><g class=\"gradients\"/><g class=\"patterns\"/></defs><g class=\"bglayer\"><rect class=\"bg\" x=\"80\" y=\"100\" width=\"540\" height=\"320\" style=\"fill: rgb(234, 234, 242); fill-opacity: 1; stroke-width: 0;\"/></g><g class=\"layer-below\"><g class=\"imagelayer\"/><g class=\"shapelayer\"/></g><g class=\"cartesianlayer\"><g class=\"subplot xy\"><g class=\"layer-subplot\"><g class=\"shapelayer\"/><g class=\"imagelayer\"/></g><g class=\"minor-gridlayer\"><g class=\"x\"/><g class=\"y\"/></g><g class=\"gridlayer\"><g class=\"x\"><path class=\"xgrid crisp\" transform=\"translate(215.34,0)\" d=\"M0,100v320\" style=\"stroke: rgb(255, 255, 255); stroke-opacity: 1; stroke-width: 1px;\"/><path class=\"xgrid crisp\" transform=\"translate(350.68,0)\" d=\"M0,100v320\" style=\"stroke: rgb(255, 255, 255); stroke-opacity: 1; stroke-width: 1px;\"/><path class=\"xgrid crisp\" transform=\"translate(486.02,0)\" d=\"M0,100v320\" style=\"stroke: rgb(255, 255, 255); stroke-opacity: 1; stroke-width: 1px;\"/></g><g class=\"y\"><path class=\"ygrid crisp\" transform=\"translate(0,396.62)\" d=\"M80,0h540\" style=\"stroke: rgb(255, 255, 255); stroke-opacity: 1; stroke-width: 1px;\"/><path class=\"ygrid crisp\" transform=\"translate(0,351.03999999999996)\" d=\"M80,0h540\" style=\"stroke: rgb(255, 255, 255); stroke-opacity: 1; stroke-width: 1px;\"/><path class=\"ygrid crisp\" transform=\"translate(0,305.45)\" d=\"M80,0h540\" style=\"stroke: rgb(255, 255, 255); stroke-opacity: 1; stroke-width: 1px;\"/><path class=\"ygrid crisp\" transform=\"translate(0,214.28)\" d=\"M80,0h540\" style=\"stroke: rgb(255, 255, 255); stroke-opacity: 1; stroke-width: 1px;\"/><path class=\"ygrid crisp\" transform=\"translate(0,168.69)\" d=\"M80,0h540\" style=\"stroke: rgb(255, 255, 255); stroke-opacity: 1; stroke-width: 1px;\"/><path class=\"ygrid crisp\" transform=\"translate(0,123.1)\" d=\"M80,0h540\" style=\"stroke: rgb(255, 255, 255); stroke-opacity: 1; stroke-width: 1px;\"/></g></g><g class=\"zerolinelayer\"><path class=\"xzl zl crisp\" transform=\"translate(80,0)\" d=\"M0,100v320\" style=\"stroke: rgb(255, 255, 255); stroke-opacity: 1; stroke-width: 1px;\"/><path class=\"yzl zl crisp\" transform=\"translate(0,259.86)\" d=\"M80,0h540\" style=\"stroke: rgb(255, 255, 255); stroke-opacity: 1; stroke-width: 1px;\"/></g><path class=\"xlines-below\"/><path class=\"ylines-below\"/><g class=\"overlines-below\"/><g class=\"xaxislayer-below\"/><g class=\"yaxislayer-below\"/><g class=\"overaxes-below\"/><g class=\"plot\" transform=\"translate(80,100)\" clip-path=\"url(#clipc3a5e5xyplot)\"><g class=\"scatterlayer mlayer\"><g class=\"trace scatter traced46650\" style=\"stroke-miterlimit: 2; opacity: 1;\"><g class=\"fills\"/><g class=\"errorbars\"/><g class=\"lines\"><path class=\"js-line\" d=\"M0,223.65L2.71,285.66L4.06,298.45L5.41,302.99L6.77,303.95L8.12,303.07L9.47,298.41L10.83,285.63L12.18,260.63L17.59,108.37L18.95,89.39L20.3,83.36L21.65,89.49L23.01,108.39L24.36,139.78L29.77,285.56L31.13,298.45L32.48,303.03L33.83,303.94L35.19,303.03L36.54,298.4L37.89,285.58L39.25,260.66L44.66,108.4L46.02,89.46L47.37,83.24L48.72,89.52L50.08,108.37L51.43,139.82L56.84,285.63L58.2,298.38L59.55,303.06L60.9,303.95L62.26,303.04L63.61,298.44L64.96,285.62L66.32,260.64L71.73,108.37L73.08,89.45L74.44,83.26L75.79,89.43L77.14,108.37L78.5,139.79L83.91,285.55L85.26,298.45L86.62,303.05L87.97,303.99L89.32,303.06L90.68,298.43L92.03,285.61L93.38,260.65L98.8,108.37L100.15,89.44L101.5,83.25L102.86,89.38L104.21,108.4L105.56,139.81L110.98,285.61L112.33,298.45L113.68,303.05L115.04,303.99L116.39,303.08L117.74,298.42L119.1,285.64L120.45,260.63L125.86,108.4L127.22,89.46L128.57,83.26L129.92,89.5L131.28,108.43L132.63,139.83L138.05,285.65L139.4,298.44L140.75,303.02L142.11,303.93L143.46,303.02L144.81,298.44L146.17,285.63L147.52,260.57L152.93,108.35L154.29,89.49L155.64,83.28L156.99,89.45L158.35,108.4L159.7,139.81L165.11,285.61L166.47,298.39L167.82,303.01L169.17,304L170.53,303.07L171.88,298.48L173.23,285.59L174.59,260.61L180,108.41L181.35,89.5L182.71,83.29L184.06,89.45L185.41,108.43L186.77,139.85L192.18,285.59L193.53,298.47L194.89,302.94L196.24,303.95L197.59,303.03L198.95,298.49L200.3,285.63L201.65,260.52L207.07,108.38L208.42,89.46L209.77,83.28L211.13,89.49L212.48,108.47L213.83,139.81L219.25,285.58L220.6,298.39L221.95,303.07L223.31,303.97L224.66,303L226.02,298.4L227.37,285.64L228.72,260.68L234.14,108.4L235.49,89.34L236.84,83.33L238.2,89.49L239.55,108.42L240.9,139.77L246.32,285.69L247.67,298.4L249.02,303.01L250.38,303.96L251.73,303.02L253.08,298.45L254.44,285.63L255.79,260.65L261.2,108.42L262.56,89.51L263.91,83.34L265.26,89.44L266.62,108.33L267.97,139.77L273.38,285.6L274.74,298.49L276.09,303.03L277.44,303.97L278.8,303.04L280.15,298.45L281.5,285.68L282.86,260.61L288.27,108.47L289.62,89.44L290.98,83.25L292.33,89.43L293.68,108.41L295.04,139.86L300.45,285.62L301.8,298.5L303.16,303.07L304.51,304L305.86,303.09L307.22,298.39L308.57,285.7L309.92,260.64L315.34,108.46L316.69,89.49L318.05,83.31L319.4,89.44L320.75,108.34L322.11,139.73L327.52,285.67L328.87,298.42L330.23,303.02L331.58,303.87L332.93,303.06L334.29,298.47L335.64,285.64L336.99,260.62L342.41,108.38L343.76,89.46L345.11,83.3L346.47,89.49L347.82,108.42L349.17,139.72L354.59,285.62L355.94,298.4L357.29,303.08L358.65,303.91L360,302.99L361.35,298.39L362.71,285.6L364.06,260.68L369.47,108.35L370.83,89.5L372.18,83.27L373.53,89.42L374.89,108.39L376.24,139.74L381.65,285.63L383.01,298.46L384.36,303.07L385.71,303.96L387.07,303.13L388.42,298.51L389.77,285.62L391.13,260.63L396.54,108.41L397.89,89.52L399.25,83.27L400.6,89.55L401.95,108.48L403.31,139.72L408.72,285.61L410.08,298.48L411.43,303.04L412.78,303.94L414.14,303.09L415.49,298.37L416.84,285.62L418.2,260.57L423.61,108.51L424.96,89.52L426.32,83.24L427.67,89.44L429.02,108.43L430.38,139.79L435.79,285.59L437.14,298.44L438.5,303.03L439.85,303.95L441.2,303.05L442.56,298.35L443.91,285.61L445.26,260.64L450.68,108.33L452.03,89.43L453.38,83.26L454.74,89.5L456.09,108.38L457.44,139.86L462.86,285.6L464.21,298.43L465.56,303.07L466.92,303.93L468.27,303.04L469.62,298.44L470.98,285.57L472.33,260.65L477.74,108.29L479.1,89.47L480.45,83.25L481.8,89.41L483.16,108.39L484.51,139.82L489.92,285.56L491.28,298.5L492.63,302.99L493.98,303.98L495.34,302.99L496.69,298.5L498.05,285.54L499.4,260.63L504.81,108.38L506.17,89.51L507.52,83.28L508.87,89.44L510.23,108.32L511.58,139.85L516.99,285.58L518.35,298.44L519.7,303.05L521.05,303.9L522.41,303.08L523.76,298.45L525.11,285.63L526.47,260.61L531.88,108.37L533.23,89.41L534.59,83.25L535.94,89.41L537.29,108.37L538.65,139.79L540,180.49\" style=\"vector-effect: none; fill: none; stroke: rgb(76, 114, 176); stroke-opacity: 1; stroke-width: 2px; opacity: 1;\"/></g><g class=\"points\"/><g class=\"text\"/></g><g class=\"trace scatter trace223f36\" style=\"stroke-miterlimit: 2; opacity: 1;\"><g class=\"fills\"/><g class=\"errorbars\"/><g class=\"lines\"><path class=\"js-line\" d=\"M0,29.68L5.41,137.72L6.77,144.9L8.12,137.76L9.47,117.49L13.53,29.62L14.89,16.19L16.24,16.02L17.59,24.08L18.95,32.77L20.3,36.51L21.65,32.8L23.01,24.04L24.36,16L25.71,16.19L27.07,29.62L28.42,55.63L32.48,137.78L33.83,144.88L35.19,137.77L36.54,117.49L40.6,29.62L41.95,16.2L43.31,16.07L44.66,24.03L46.02,32.78L47.37,36.39L48.72,32.77L50.08,24.09L51.43,16.11L52.78,16.19L54.14,29.62L55.49,55.63L59.55,137.77L60.9,144.91L62.26,137.73L63.61,117.46L67.67,29.6L69.02,16.18L70.38,16.03L71.73,24.03L73.08,32.76L74.44,36.47L75.79,32.78L77.14,24.06L78.5,16.07L79.85,16.19L81.2,29.61L82.56,55.58L86.62,137.77L87.97,144.78L89.32,137.78L90.68,117.53L94.74,29.64L96.09,16.22L97.44,16.12L98.8,24.04L100.15,32.77L101.5,36.44L102.86,32.84L104.21,24.05L105.56,16.08L106.92,16.23L108.27,29.62L109.62,55.55L113.68,137.79L115.04,144.8L116.39,137.75L117.74,117.5L121.8,29.57L123.16,16.16L124.51,16.08L125.86,23.99L127.22,32.85L128.57,36.43L129.92,32.83L131.28,23.98L132.63,16.07L133.98,16.28L135.34,29.63L136.69,55.55L140.75,137.74L142.11,144.92L143.46,137.75L144.81,117.54L148.87,29.57L150.23,16.21L151.58,16.04L152.93,23.97L154.29,32.77L155.64,36.42L156.99,32.82L158.35,24.14L159.7,16.03L161.05,16.15L162.41,29.62L163.76,55.61L167.82,137.73L169.17,144.81L170.53,137.8L171.88,117.54L175.94,29.59L177.29,16.15L178.65,16.04L180,24.09L181.35,32.82L182.71,36.35L184.06,32.73L185.41,24.06L186.77,16.07L188.12,16.27L189.47,29.61L190.83,55.65L194.89,137.79L196.24,144.8L197.59,137.74L198.95,117.47L203.01,29.55L204.36,16.24L205.71,16.04L207.07,24.04L208.42,32.82L209.77,36.39L211.13,32.76L212.48,24.04L213.83,16.03L215.19,16.23L216.54,29.57L217.89,55.55L221.95,137.78L223.31,144.89L224.66,137.7L226.02,117.42L230.08,29.62L231.43,16.18L232.78,16.09L234.14,24.02L235.49,32.79L236.84,36.43L238.2,32.77L239.55,24.01L240.9,16.08L242.26,16.22L243.61,29.64L244.96,55.63L249.02,137.77L250.38,144.91L251.73,137.79L253.08,117.45L257.14,29.58L258.5,16.21L259.85,16.04L261.2,24.05L262.56,32.74L263.91,36.39L265.26,32.78L266.62,24L267.97,16.06L269.32,16.24L270.68,29.56L272.03,55.59L276.09,137.77L277.44,144.87L278.8,137.76L280.15,117.46L284.21,29.64L285.56,16.22L286.92,16.02L288.27,24.04L289.62,32.79L290.98,36.39L292.33,32.78L293.68,24.03L295.04,16L296.39,16.2L297.74,29.59L299.1,55.61L303.16,137.73L304.51,144.91L305.86,137.71L307.22,117.4L311.28,29.6L312.63,16.25L313.98,16.03L315.34,24.1L316.69,32.81L318.05,36.39L319.4,32.78L320.75,24.02L322.11,16.04L323.46,16.29L324.81,29.57L326.17,55.55L330.23,137.78L331.58,144.9L332.93,137.78L334.29,117.47L338.35,29.58L339.7,16.24L341.05,16.11L342.41,24.04L343.76,32.75L345.11,36.44L346.47,32.85L347.82,24.01L349.17,16.11L350.53,16.22L351.88,29.6L353.23,55.55L357.29,137.76L358.65,144.97L360,137.71L361.35,117.45L365.41,29.56L366.77,16.24L368.12,16.04L369.47,24.04L370.83,32.79L372.18,36.43L373.53,32.81L374.89,24L376.24,16.16L377.59,16.17L378.95,29.61L380.3,55.59L384.36,137.82L385.71,144.86L387.07,137.79L388.42,117.52L392.48,29.64L393.83,16.24L395.19,16.05L396.54,23.98L397.89,32.69L399.25,36.37L400.6,32.83L401.95,24.01L403.31,16.05L404.66,16.22L406.02,29.59L407.37,55.55L411.43,137.8L412.78,144.9L414.14,137.82L415.49,117.48L419.55,29.57L420.9,16.23L422.26,16.1L423.61,24.04L424.96,32.8L426.32,36.41L427.67,32.78L429.02,24.05L430.38,16.05L431.73,16.2L433.08,29.59L434.44,55.62L438.5,137.74L439.85,144.83L441.2,137.7L442.56,117.55L446.62,29.55L447.97,16.22L449.32,16.07L450.68,24.02L452.03,32.82L453.38,36.39L454.74,32.75L456.09,24.04L457.44,16.01L458.8,16.17L460.15,29.62L461.5,55.62L465.56,137.68L466.92,144.86L468.27,137.74L469.62,117.52L473.68,29.58L475.04,16.16L476.39,16.01L477.74,24.06L479.1,32.79L480.45,36.42L481.8,32.75L483.16,24.07L484.51,16.06L485.86,16.24L487.22,29.56L488.57,55.6L492.63,137.73L493.98,144.77L495.34,137.73L496.69,117.44L500.75,29.56L502.11,16.19L503.46,16.01L504.81,24L506.17,32.79L507.52,36.39L508.87,32.84L510.23,24.08L511.58,16.04L512.93,16.22L514.29,29.52L515.64,55.7L519.7,137.76L521.05,144.83L522.41,137.7L523.76,117.47L527.82,29.58L529.17,16.21L530.53,16.08L531.88,24.01L533.23,32.78L534.59,36.43L535.94,32.82L537.29,24.04L538.65,16.02L540,16.26\" style=\"vector-effect: none; fill: none; stroke: rgb(221, 132, 82); stroke-opacity: 1; stroke-width: 2px; opacity: 1;\"/></g><g class=\"points\"/><g class=\"text\"/></g></g></g><g class=\"overplot\"/><path class=\"xlines-above crisp\" d=\"M0,0\" style=\"fill: none;\"/><path class=\"ylines-above crisp\" d=\"M0,0\" style=\"fill: none;\"/><g class=\"overlines-above\"/><g class=\"xaxislayer-above\"><g class=\"xtick\"><text text-anchor=\"middle\" x=\"0\" y=\"433\" transform=\"translate(80,0)\" style=\"font-family: 'Open Sans', verdana, arial, sans-serif; font-size: 12px; fill: rgb(36, 36, 36); fill-opacity: 1; white-space: pre; opacity: 1;\">0</text></g><g class=\"xtick\"><text text-anchor=\"middle\" x=\"0\" y=\"433\" style=\"font-family: 'Open Sans', verdana, arial, sans-serif; font-size: 12px; fill: rgb(36, 36, 36); fill-opacity: 1; white-space: pre; opacity: 1;\" transform=\"translate(215.34,0)\">5</text></g><g class=\"xtick\"><text text-anchor=\"middle\" x=\"0\" y=\"433\" style=\"font-family: 'Open Sans', verdana, arial, sans-serif; font-size: 12px; fill: rgb(36, 36, 36); fill-opacity: 1; white-space: pre; opacity: 1;\" transform=\"translate(350.68,0)\">10</text></g><g class=\"xtick\"><text text-anchor=\"middle\" x=\"0\" y=\"433\" style=\"font-family: 'Open Sans', verdana, arial, sans-serif; font-size: 12px; fill: rgb(36, 36, 36); fill-opacity: 1; white-space: pre; opacity: 1;\" transform=\"translate(486.02,0)\">15</text></g></g><g class=\"yaxislayer-above\"><g class=\"ytick\"><text text-anchor=\"end\" x=\"79\" y=\"4.199999999999999\" transform=\"translate(0,396.62)\" style=\"font-family: 'Open Sans', verdana, arial, sans-serif; font-size: 12px; fill: rgb(36, 36, 36); fill-opacity: 1; white-space: pre; opacity: 1;\">−0.6</text></g><g class=\"ytick\"><text text-anchor=\"end\" x=\"79\" y=\"4.199999999999999\" style=\"font-family: 'Open Sans', verdana, arial, sans-serif; font-size: 12px; fill: rgb(36, 36, 36); fill-opacity: 1; white-space: pre; opacity: 1;\" transform=\"translate(0,351.03999999999996)\">−0.4</text></g><g class=\"ytick\"><text text-anchor=\"end\" x=\"79\" y=\"4.199999999999999\" style=\"font-family: 'Open Sans', verdana, arial, sans-serif; font-size: 12px; fill: rgb(36, 36, 36); fill-opacity: 1; white-space: pre; opacity: 1;\" transform=\"translate(0,305.45)\">−0.2</text></g><g class=\"ytick\"><text text-anchor=\"end\" x=\"79\" y=\"4.199999999999999\" style=\"font-family: 'Open Sans', verdana, arial, sans-serif; font-size: 12px; fill: rgb(36, 36, 36); fill-opacity: 1; white-space: pre; opacity: 1;\" transform=\"translate(0,259.86)\">0</text></g><g class=\"ytick\"><text text-anchor=\"end\" x=\"79\" y=\"4.199999999999999\" style=\"font-family: 'Open Sans', verdana, arial, sans-serif; font-size: 12px; fill: rgb(36, 36, 36); fill-opacity: 1; white-space: pre; opacity: 1;\" transform=\"translate(0,214.28)\">0.2</text></g><g class=\"ytick\"><text text-anchor=\"end\" x=\"79\" y=\"4.199999999999999\" style=\"font-family: 'Open Sans', verdana, arial, sans-serif; font-size: 12px; fill: rgb(36, 36, 36); fill-opacity: 1; white-space: pre; opacity: 1;\" transform=\"translate(0,168.69)\">0.4</text></g><g class=\"ytick\"><text text-anchor=\"end\" x=\"79\" y=\"4.199999999999999\" style=\"font-family: 'Open Sans', verdana, arial, sans-serif; font-size: 12px; fill: rgb(36, 36, 36); fill-opacity: 1; white-space: pre; opacity: 1;\" transform=\"translate(0,123.1)\">0.6</text></g></g><g class=\"overaxes-above\"/></g></g><g class=\"polarlayer\"/><g class=\"smithlayer\"/><g class=\"ternarylayer\"/><g class=\"geolayer\"/><g class=\"funnelarealayer\"/><g class=\"pielayer\"/><g class=\"iciclelayer\"/><g class=\"treemaplayer\"/><g class=\"sunburstlayer\"/><g class=\"glimages\"/><defs id=\"topdefs-c3a5e5\"><g class=\"clips\"/><clipPath id=\"legendc3a5e5\"><rect width=\"55\" height=\"48\" x=\"0\" y=\"0\"/></clipPath></defs><g class=\"layer-above\"><g class=\"imagelayer\"/><g class=\"shapelayer\"/></g><g class=\"infolayer\"><g class=\"legend\" pointer-events=\"all\" transform=\"translate(630.8,100)\"><rect class=\"bg\" shape-rendering=\"crispEdges\" style=\"stroke: rgb(68, 68, 68); stroke-opacity: 1; fill: rgb(255, 255, 255); fill-opacity: 1; stroke-width: 0px;\" width=\"55\" height=\"48\" x=\"0\" y=\"0\"/><g class=\"scrollbox\" transform=\"\" clip-path=\"url(#legendc3a5e5)\"><g class=\"groups\"><g class=\"traces\" transform=\"translate(0,14.5)\" style=\"opacity: 1;\"><text class=\"legendtext\" text-anchor=\"start\" x=\"40\" y=\"4.680000000000001\" style=\"font-family: 'Open Sans', verdana, arial, sans-serif; font-size: 12px; fill: rgb(36, 36, 36); fill-opacity: 1; white-space: pre;\">I</text><g class=\"layers\" style=\"opacity: 1;\"><g class=\"legendfill\"/><g class=\"legendlines\"><path class=\"js-line\" d=\"M5,0h30\" style=\"fill: none; stroke: rgb(76, 114, 176); stroke-opacity: 1; stroke-width: 2px;\"/></g><g class=\"legendsymbols\"><g class=\"legendpoints\"/></g></g><rect class=\"legendtoggle\" x=\"0\" y=\"-9.5\" width=\"49.453125\" height=\"19\" style=\"fill: rgb(0, 0, 0); fill-opacity: 0;\"/></g><g class=\"traces\" transform=\"translate(0,33.5)\" style=\"opacity: 1;\"><text class=\"legendtext\" text-anchor=\"start\" x=\"40\" y=\"4.680000000000001\" style=\"font-family: 'Open Sans', verdana, arial, sans-serif; font-size: 12px; fill: rgb(36, 36, 36); fill-opacity: 1; white-space: pre;\">Q</text><g class=\"layers\" style=\"opacity: 1;\"><g class=\"legendfill\"/><g class=\"legendlines\"><path class=\"js-line\" d=\"M5,0h30\" style=\"fill: none; stroke: rgb(221, 132, 82); stroke-opacity: 1; stroke-width: 2px;\"/></g><g class=\"legendsymbols\"><g class=\"legendpoints\"/></g></g><rect class=\"legendtoggle\" x=\"0\" y=\"-9.5\" width=\"49.453125\" height=\"19\" style=\"fill: rgb(0, 0, 0); fill-opacity: 0;\"/></g></g></g><rect class=\"scrollbar\" rx=\"20\" ry=\"3\" width=\"0\" height=\"0\" style=\"fill: rgb(128, 139, 164); fill-opacity: 1;\" x=\"0\" y=\"0\"/></g><g class=\"g-gtitle\"><text class=\"gtitle\" x=\"350\" y=\"50\" text-anchor=\"middle\" dy=\"0em\" style=\"font-family: 'Open Sans', verdana, arial, sans-serif; font-size: 17px; fill: rgb(36, 36, 36); opacity: 1; font-weight: normal; white-space: pre;\">I/Q Baseband Signals</text></g><g class=\"g-xtitle\"><text class=\"xtitle\" x=\"350\" y=\"460.3\" text-anchor=\"middle\" style=\"font-family: 'Open Sans', verdana, arial, sans-serif; font-size: 14px; fill: rgb(36, 36, 36); opacity: 1; font-weight: normal; white-space: pre;\">Time (s)</text></g><g class=\"g-ytitle\"><text class=\"ytitle\" transform=\"rotate(-90,25.246875000000003,260)\" x=\"25.246875000000003\" y=\"260\" text-anchor=\"middle\" style=\"font-family: 'Open Sans', verdana, arial, sans-serif; font-size: 14px; fill: rgb(36, 36, 36); opacity: 1; font-weight: normal; white-space: pre;\">Amplitude (V)</text></g></g></svg>"
      ],
      "text/plain": [
       "<IPython.core.display.SVG object>"
      ]
     },
     "metadata": {},
     "output_type": "display_data"
    }
   ],
   "source": [
    "import plotly.graph_objs as go\n",
    "from IPython.display import SVG, display\n",
    "\n",
    "fig = go.Figure()\n",
    "\n",
    "fig.add_trace(go.Scatter(\n",
    "    x=timestamp[0, 0, :],\n",
    "    y=np.real(baseband[0, 0, :]),\n",
    "    name='I',\n",
    "))\n",
    "fig.add_trace(go.Scatter(\n",
    "    x=timestamp[0, 0, :],\n",
    "    y=np.imag(baseband[0, 0, :]),\n",
    "    name='Q',\n",
    "))\n",
    "\n",
    "fig.update_layout(\n",
    "    template=\"seaborn\",\n",
    "    title='I/Q Baseband Signals',\n",
    "    yaxis=dict(title='Amplitude (V)'),\n",
    "    xaxis=dict(title='Time (s)'),\n",
    ")\n",
    "\n",
    "# fig.show()\n",
    "display(SVG(fig.to_image(format='svg', scale=1)))\n"
   ]
  },
  {
   "cell_type": "code",
   "execution_count": 6,
   "metadata": {},
   "outputs": [
    {
     "data": {
      "image/svg+xml": [
       "<svg xmlns=\"http://www.w3.org/2000/svg\" xmlns:xlink=\"http://www.w3.org/1999/xlink\" class=\"main-svg\" width=\"600\" height=\"600\" style=\"\" viewBox=\"0 0 600 600\"><rect x=\"0\" y=\"0\" width=\"600\" height=\"600\" style=\"fill: rgb(255, 255, 255); fill-opacity: 1;\"/><defs id=\"defs-8a212d\"><g class=\"clips\"><clipPath id=\"clip8a212dxyplot\" class=\"plotclip\"><rect width=\"440\" height=\"420\"/></clipPath><clipPath class=\"axesclip\" id=\"clip8a212dx\"><rect x=\"80\" y=\"0\" width=\"440\" height=\"600\"/></clipPath><clipPath class=\"axesclip\" id=\"clip8a212dy\"><rect x=\"0\" y=\"100\" width=\"600\" height=\"420\"/></clipPath><clipPath class=\"axesclip\" id=\"clip8a212dxy\"><rect x=\"80\" y=\"100\" width=\"440\" height=\"420\"/></clipPath></g><g class=\"gradients\"/><g class=\"patterns\"/></defs><g class=\"bglayer\"><rect class=\"bg\" x=\"80\" y=\"100\" width=\"440\" height=\"420\" style=\"fill: rgb(234, 234, 242); fill-opacity: 1; stroke-width: 0;\"/></g><g class=\"layer-below\"><g class=\"imagelayer\"/><g class=\"shapelayer\"/></g><g class=\"cartesianlayer\"><g class=\"subplot xy\"><g class=\"layer-subplot\"><g class=\"shapelayer\"/><g class=\"imagelayer\"/></g><g class=\"minor-gridlayer\"><g class=\"x\"/><g class=\"y\"/></g><g class=\"gridlayer\"><g class=\"x\"><path class=\"xgrid crisp\" transform=\"translate(90,0)\" d=\"M0,100v420\" style=\"stroke: rgb(255, 255, 255); stroke-opacity: 1; stroke-width: 1px;\"/><path class=\"xgrid crisp\" transform=\"translate(195,0)\" d=\"M0,100v420\" style=\"stroke: rgb(255, 255, 255); stroke-opacity: 1; stroke-width: 1px;\"/><path class=\"xgrid crisp\" transform=\"translate(405,0)\" d=\"M0,100v420\" style=\"stroke: rgb(255, 255, 255); stroke-opacity: 1; stroke-width: 1px;\"/><path class=\"xgrid crisp\" transform=\"translate(510,0)\" d=\"M0,100v420\" style=\"stroke: rgb(255, 255, 255); stroke-opacity: 1; stroke-width: 1px;\"/></g><g class=\"y\"><path class=\"ygrid crisp\" transform=\"translate(0,415)\" d=\"M80,0h440\" style=\"stroke: rgb(255, 255, 255); stroke-opacity: 1; stroke-width: 1px;\"/><path class=\"ygrid crisp\" transform=\"translate(0,205)\" d=\"M80,0h440\" style=\"stroke: rgb(255, 255, 255); stroke-opacity: 1; stroke-width: 1px;\"/></g></g><g class=\"zerolinelayer\"><path class=\"xzl zl crisp\" transform=\"translate(300,0)\" d=\"M0,100v420\" style=\"stroke: rgb(255, 255, 255); stroke-opacity: 1; stroke-width: 1px;\"/><path class=\"yzl zl crisp\" transform=\"translate(0,310)\" d=\"M80,0h440\" style=\"stroke: rgb(255, 255, 255); stroke-opacity: 1; stroke-width: 1px;\"/></g><path class=\"xlines-below\"/><path class=\"ylines-below\"/><g class=\"overlines-below\"/><g class=\"xaxislayer-below\"/><g class=\"yaxislayer-below\"/><g class=\"overaxes-below\"/><g class=\"plot\" transform=\"translate(80,100)\" clip-path=\"url(#clip8a212dxyplot)\"><g class=\"scatterlayer mlayer\"><g class=\"trace scatter trace22dd82\" style=\"stroke-miterlimit: 2; opacity: 1;\"><g class=\"fills\"/><g class=\"errorbars\"/><g class=\"lines\"><path class=\"js-line\" d=\"M161.23,90.06L127.2,113.92L104.1,143.58L92.31,170.93L88.14,189.59L87.25,196.21L88.06,189.63L92.35,170.96L104.13,143.58L127.16,114L161.17,90L200.91,77.63L238.57,77.47L267.45,84.9L284.93,92.91L290.48,96.35L284.83,92.94L267.42,84.86L238.5,77.45L200.85,77.63L161.11,90L127.15,113.96L104.19,143.58L92.32,170.99L87.26,196.2L92.36,170.96L104.17,143.61L127.13,113.99L161.12,90L200.89,77.64L238.43,77.52L267.41,84.85L284.87,92.91L290.59,96.24L284.81,92.9L267.44,84.9L238.47,77.55L200.88,77.63L161.14,90L127.11,113.97L104.13,143.6L92.38,170.94L87.25,196.22L92.32,170.93L104.14,143.55L127.15,113.89L161.14,89.99L200.92,77.62L238.47,77.49L267.44,84.85L284.88,92.89L290.58,96.32L284.89,92.92L267.44,84.88L238.5,77.52L200.83,77.63L161.14,90L127.15,113.92L104.2,143.63L92.32,170.92L87.21,196.1L92.33,171L104.15,143.57L127.14,113.95L161.16,90.02L200.85,77.66L238.47,77.57L267.45,84.86L284.89,92.91L290.59,96.29L284.93,92.97L267.42,84.87L238.48,77.53L200.9,77.67L161.17,90.01L127.22,113.89L104.15,143.5L92.31,170.98L87.21,196.12L92.34,170.97L104.12,143.55L127.16,113.96L161.16,89.96L200.95,77.6L238.49,77.53L267.42,84.82L284.86,92.97L290.58,96.28L284.83,92.96L267.39,84.81L238.46,77.52L200.89,77.71L161.18,90.01L127.13,113.89L104.11,143.54L92.33,170.92L87.26,196.23L92.33,171L104.12,143.58L127.21,113.95L161.15,89.96L200.89,77.65L238.47,77.49L267.46,84.8L284.84,92.9L290.56,96.27L284.88,92.95L267.41,84.96L238.48,77.48L200.9,77.59L161.18,90L127.09,113.95L104.15,143.61L92.38,170.98L87.2,196.13L92.29,171.01L104.17,143.57L127.18,113.92L161.16,89.98L200.85,77.59L238.55,77.49L267.41,84.9L284.83,92.95L290.55,96.21L284.87,92.87L267.39,84.88L238.43,77.51L200.93,77.71L161.17,89.99L127.12,113.98L104.16,143.63L92.3,170.89L87.25,196.12L92.28,170.95L104.13,143.56L127.26,113.91L161.18,89.94L200.88,77.67L238.56,77.49L267.44,84.86L284.86,92.95L290.56,96.24L284.84,92.9L267.35,84.86L238.47,77.48L200.9,77.67L161.15,89.96L127.19,113.89L104.17,143.57L92.37,170.9L87.23,196.21L92.36,170.89L104.12,143.58L127.12,113.88L161.19,90L200.92,77.62L238.47,77.54L267.41,84.84L284.97,92.93L290.51,96.28L284.84,92.91L267.4,84.83L238.51,77.53L200.93,77.66L161.19,90.02L127.22,113.97L104.08,143.64L92.37,170.97L87.24,196.23L92.31,170.93L104.13,143.58L127.14,113.92L161.18,89.96L200.98,77.65L238.45,77.49L267.4,84.87L284.82,92.88L290.51,96.24L284.89,92.92L267.48,84.82L238.52,77.51L200.99,77.68L161.1,89.95L127.21,113.93L104.16,143.58L92.28,170.97L87.23,196.19L92.32,170.93L104.08,143.62L127.18,113.91L161.14,90.02L200.91,77.66L238.47,77.47L267.35,84.86L284.89,92.92L290.58,96.24L284.89,92.92L267.41,84.85L238.43,77.46L200.93,77.63L161.14,89.98L127.14,113.95L104.14,143.54L92.28,170.94L87.21,196.22L92.38,170.88L104.06,143.54L127.16,113.9L161.15,89.99L200.96,77.68L238.48,77.48L267.36,84.91L284.83,92.94L290.53,96.24L284.89,92.92L267.47,84.84L238.55,77.49L200.92,77.72L161.12,89.96L127.16,113.9L104.1,143.58L92.35,170.88L87.32,196.21L92.3,170.94L104.12,143.62L127.17,113.91L161.17,89.97L200.93,77.68L238.54,77.55L267.43,84.87L284.86,92.89L290.54,96.29L284.84,92.98L267.4,84.83L238.56,77.56L200.96,77.65L161.11,89.98L127.17,113.9L104.14,143.59L92.36,170.94L88.05,189.63L87.29,196.28L88.14,189.59L92.37,170.92L104.16,143.6L127.12,113.87L161.17,89.94L200.98,77.68L238.54,77.49L267.46,84.86L290.57,96.28L267.42,84.83L238.54,77.6L200.96,77.61L161.14,89.99L127.13,113.93L104.13,143.57L92.31,170.96L88.06,189.69L87.24,196.18L88.01,189.66L92.26,170.99L104.14,143.63L127.17,113.9L161.14,90.02L201.02,77.68L238.52,77.5L267.4,84.81L290.56,96.22L267.34,84.84L238.56,77.5L200.95,77.66L161.12,89.97L127.19,113.9L104.15,143.57L92.29,170.97L88.09,189.67L87.26,196.22L88.04,189.69L92.39,170.95L104.13,143.64L127.21,113.97L161.13,89.96L200.92,77.66L238.49,77.54L267.32,84.86L290.6,96.26L267.39,84.87L238.49,77.5L200.94,77.64L161.13,89.97L127.15,113.95L104.17,143.57L92.32,170.94L88.1,189.62L87.25,196.15L88.08,189.58L92.41,171.01L104.15,143.52L127.16,114L161.14,89.94L200.95,77.66L238.45,77.52L267.48,84.84L290.57,96.24L267.44,84.86L238.43,77.46L200.97,77.61L161.19,90L127.12,113.96L104.16,143.47L92.34,170.97L88.06,189.56L87.27,196.18L88.09,189.62L92.32,170.99L104.19,143.48L127.14,113.91L161.19,89.96L200.96,77.6L238.47,77.47L267.52,84.88L290.59,96.26L267.42,84.89L238.47,77.51L200.96,77.67L161.24,89.95L127.06,113.94L104.2,143.6L92.28,170.93L88.13,189.61L87.22,196.09L88.14,189.61L92.27,170.91L104.21,143.6L127.16,113.94L161.2,89.95L200.89,77.63L238.48,77.46L267.43,84.83L290.56,96.24L267.49,84.9L238.44,77.49L200.95,77.65L161.17,89.91L127.15,114.03L104.17,143.5L92.32,170.93L88.08,189.63L87.3,196.15L88.05,189.58L92.32,170.94L104.13,143.57L127.18,113.9L161.23,89.96L200.93,77.65L238.49,77.53L267.45,84.84L290.59,96.28L267.44,84.86L238.5,77.47L201,77.69\" style=\"vector-effect: none; fill: none; stroke: rgb(76, 114, 176); stroke-opacity: 1; stroke-width: 2px; opacity: 1;\"/></g><g class=\"points\"/><g class=\"text\"/></g></g></g><g class=\"overplot\"/><path class=\"xlines-above crisp\" d=\"M0,0\" style=\"fill: none;\"/><path class=\"ylines-above crisp\" d=\"M0,0\" style=\"fill: none;\"/><g class=\"overlines-above\"/><g class=\"xaxislayer-above\"><g class=\"xtick\"><text text-anchor=\"middle\" x=\"0\" y=\"533\" transform=\"translate(90,0)\" style=\"font-family: 'Open Sans', verdana, arial, sans-serif; font-size: 12px; fill: rgb(36, 36, 36); fill-opacity: 1; white-space: pre; opacity: 1;\">−1.00</text></g><g class=\"xtick\"><text text-anchor=\"middle\" x=\"0\" y=\"533\" style=\"font-family: 'Open Sans', verdana, arial, sans-serif; font-size: 12px; fill: rgb(36, 36, 36); fill-opacity: 1; white-space: pre; opacity: 1;\" transform=\"translate(195,0)\">−0.50</text></g><g class=\"xtick\"><text text-anchor=\"middle\" x=\"0\" y=\"533\" style=\"font-family: 'Open Sans', verdana, arial, sans-serif; font-size: 12px; fill: rgb(36, 36, 36); fill-opacity: 1; white-space: pre; opacity: 1;\" transform=\"translate(300,0)\">0.00</text></g><g class=\"xtick\"><text text-anchor=\"middle\" x=\"0\" y=\"533\" style=\"font-family: 'Open Sans', verdana, arial, sans-serif; font-size: 12px; fill: rgb(36, 36, 36); fill-opacity: 1; white-space: pre; opacity: 1;\" transform=\"translate(405,0)\">0.50</text></g><g class=\"xtick\"><text text-anchor=\"middle\" x=\"0\" y=\"533\" style=\"font-family: 'Open Sans', verdana, arial, sans-serif; font-size: 12px; fill: rgb(36, 36, 36); fill-opacity: 1; white-space: pre; opacity: 1;\" transform=\"translate(510,0)\">1.00</text></g></g><g class=\"yaxislayer-above\"><g class=\"ytick\"><text text-anchor=\"end\" x=\"79\" y=\"4.199999999999999\" transform=\"translate(0,520)\" style=\"font-family: 'Open Sans', verdana, arial, sans-serif; font-size: 12px; fill: rgb(36, 36, 36); fill-opacity: 1; white-space: pre; opacity: 1;\">−1.00</text></g><g class=\"ytick\"><text text-anchor=\"end\" x=\"79\" y=\"4.199999999999999\" style=\"font-family: 'Open Sans', verdana, arial, sans-serif; font-size: 12px; fill: rgb(36, 36, 36); fill-opacity: 1; white-space: pre; opacity: 1;\" transform=\"translate(0,415)\">−0.50</text></g><g class=\"ytick\"><text text-anchor=\"end\" x=\"79\" y=\"4.199999999999999\" style=\"font-family: 'Open Sans', verdana, arial, sans-serif; font-size: 12px; fill: rgb(36, 36, 36); fill-opacity: 1; white-space: pre; opacity: 1;\" transform=\"translate(0,310)\">0.00</text></g><g class=\"ytick\"><text text-anchor=\"end\" x=\"79\" y=\"4.199999999999999\" style=\"font-family: 'Open Sans', verdana, arial, sans-serif; font-size: 12px; fill: rgb(36, 36, 36); fill-opacity: 1; white-space: pre; opacity: 1;\" transform=\"translate(0,205)\">0.50</text></g><g class=\"ytick\"><text text-anchor=\"end\" x=\"79\" y=\"4.199999999999999\" style=\"font-family: 'Open Sans', verdana, arial, sans-serif; font-size: 12px; fill: rgb(36, 36, 36); fill-opacity: 1; white-space: pre; opacity: 1;\" transform=\"translate(0,100)\">1.00</text></g></g><g class=\"overaxes-above\"/></g></g><g class=\"polarlayer\"/><g class=\"smithlayer\"/><g class=\"ternarylayer\"/><g class=\"geolayer\"/><g class=\"funnelarealayer\"/><g class=\"pielayer\"/><g class=\"iciclelayer\"/><g class=\"treemaplayer\"/><g class=\"sunburstlayer\"/><g class=\"glimages\"/><defs id=\"topdefs-8a212d\"><g class=\"clips\"/></defs><g class=\"layer-above\"><g class=\"imagelayer\"/><g class=\"shapelayer\"/></g><g class=\"infolayer\"><g class=\"g-gtitle\"><text class=\"gtitle\" x=\"300\" y=\"50\" text-anchor=\"middle\" dy=\"0em\" style=\"font-family: 'Open Sans', verdana, arial, sans-serif; font-size: 17px; fill: rgb(36, 36, 36); opacity: 1; font-weight: normal; white-space: pre;\">I/Q Constellation Plot</text></g><g class=\"g-xtitle\"><text class=\"xtitle\" x=\"300\" y=\"560.3\" text-anchor=\"middle\" style=\"font-family: 'Open Sans', verdana, arial, sans-serif; font-size: 14px; fill: rgb(36, 36, 36); opacity: 1; font-weight: normal; white-space: pre;\">In-phase (V)</text></g><g class=\"g-ytitle\"><text class=\"ytitle\" transform=\"rotate(-90,17.621875000000003,310)\" x=\"17.621875000000003\" y=\"310\" text-anchor=\"middle\" style=\"font-family: 'Open Sans', verdana, arial, sans-serif; font-size: 14px; fill: rgb(36, 36, 36); opacity: 1; font-weight: normal; white-space: pre;\">Quadrature (V)</text></g></g></svg>"
      ],
      "text/plain": [
       "<IPython.core.display.SVG object>"
      ]
     },
     "metadata": {},
     "output_type": "display_data"
    }
   ],
   "source": [
    "fig = go.Figure()\n",
    "\n",
    "fig.add_trace(go.Scatter(\n",
    "    x=np.real(baseband[0, 0, :]),\n",
    "    y=np.imag(baseband[0, 0, :]),\n",
    "))\n",
    "\n",
    "fig.update_layout(\n",
    "    template=\"seaborn\",\n",
    "    title='I/Q Constellation Plot',\n",
    "    xaxis=dict(range=[-1, 1], tickformat='.2f', title='In-phase (V)'),\n",
    "    yaxis=dict(range=[-1, 1],\n",
    "               tickformat='.2f',\n",
    "               title='Quadrature (V)',\n",
    "               scaleanchor=\"x\",\n",
    "               scaleratio=1),\n",
    "    height=600,\n",
    "    width=600,\n",
    ")\n",
    "\n",
    "# fig.show()\n",
    "display(SVG(fig.to_image(format='svg', scale=1)))\n"
   ]
  },
  {
   "cell_type": "markdown",
   "metadata": {},
   "source": [
    "## Phase demodulation\n",
    "\n",
    "Demodulate the phase of the baseband signal"
   ]
  },
  {
   "cell_type": "code",
   "execution_count": 7,
   "metadata": {},
   "outputs": [],
   "source": [
    "demod = np.angle(baseband[0, 0, :])\n"
   ]
  },
  {
   "cell_type": "markdown",
   "metadata": {},
   "source": [
    "Plot"
   ]
  },
  {
   "cell_type": "code",
   "execution_count": 8,
   "metadata": {},
   "outputs": [
    {
     "data": {
      "image/svg+xml": [
       "<svg xmlns=\"http://www.w3.org/2000/svg\" xmlns:xlink=\"http://www.w3.org/1999/xlink\" class=\"main-svg\" width=\"700\" height=\"500\" style=\"\" viewBox=\"0 0 700 500\"><rect x=\"0\" y=\"0\" width=\"700\" height=\"500\" style=\"fill: rgb(255, 255, 255); fill-opacity: 1;\"/><defs id=\"defs-65edeb\"><g class=\"clips\"><clipPath id=\"clip65edebxyplot\" class=\"plotclip\"><rect width=\"540\" height=\"320\"/></clipPath><clipPath class=\"axesclip\" id=\"clip65edebx\"><rect x=\"80\" y=\"0\" width=\"540\" height=\"500\"/></clipPath><clipPath class=\"axesclip\" id=\"clip65edeby\"><rect x=\"0\" y=\"100\" width=\"700\" height=\"320\"/></clipPath><clipPath class=\"axesclip\" id=\"clip65edebxy\"><rect x=\"80\" y=\"100\" width=\"540\" height=\"320\"/></clipPath></g><g class=\"gradients\"/><g class=\"patterns\"/></defs><g class=\"bglayer\"><rect class=\"bg\" x=\"80\" y=\"100\" width=\"540\" height=\"320\" style=\"fill: rgb(234, 234, 242); fill-opacity: 1; stroke-width: 0;\"/></g><g class=\"layer-below\"><g class=\"imagelayer\"/><g class=\"shapelayer\"/></g><g class=\"cartesianlayer\"><g class=\"subplot xy\"><g class=\"layer-subplot\"><g class=\"shapelayer\"/><g class=\"imagelayer\"/></g><g class=\"minor-gridlayer\"><g class=\"x\"/><g class=\"y\"/></g><g class=\"gridlayer\"><g class=\"x\"><path class=\"xgrid crisp\" transform=\"translate(215.34,0)\" d=\"M0,100v320\" style=\"stroke: rgb(255, 255, 255); stroke-opacity: 1; stroke-width: 1px;\"/><path class=\"xgrid crisp\" transform=\"translate(350.68,0)\" d=\"M0,100v320\" style=\"stroke: rgb(255, 255, 255); stroke-opacity: 1; stroke-width: 1px;\"/><path class=\"xgrid crisp\" transform=\"translate(486.02,0)\" d=\"M0,100v320\" style=\"stroke: rgb(255, 255, 255); stroke-opacity: 1; stroke-width: 1px;\"/></g><g class=\"y\"><path class=\"ygrid crisp\" transform=\"translate(0,406.16)\" d=\"M80,0h540\" style=\"stroke: rgb(255, 255, 255); stroke-opacity: 1; stroke-width: 1px;\"/><path class=\"ygrid crisp\" transform=\"translate(0,334.99)\" d=\"M80,0h540\" style=\"stroke: rgb(255, 255, 255); stroke-opacity: 1; stroke-width: 1px;\"/><path class=\"ygrid crisp\" transform=\"translate(0,263.83000000000004)\" d=\"M80,0h540\" style=\"stroke: rgb(255, 255, 255); stroke-opacity: 1; stroke-width: 1px;\"/><path class=\"ygrid crisp\" transform=\"translate(0,192.66)\" d=\"M80,0h540\" style=\"stroke: rgb(255, 255, 255); stroke-opacity: 1; stroke-width: 1px;\"/><path class=\"ygrid crisp\" transform=\"translate(0,121.49)\" d=\"M80,0h540\" style=\"stroke: rgb(255, 255, 255); stroke-opacity: 1; stroke-width: 1px;\"/></g></g><g class=\"zerolinelayer\"><path class=\"xzl zl crisp\" transform=\"translate(80,0)\" d=\"M0,100v320\" style=\"stroke: rgb(255, 255, 255); stroke-opacity: 1; stroke-width: 1px;\"/></g><path class=\"xlines-below\"/><path class=\"ylines-below\"/><g class=\"overlines-below\"/><g class=\"xaxislayer-below\"/><g class=\"yaxislayer-below\"/><g class=\"overaxes-below\"/><g class=\"plot\" transform=\"translate(80,100)\" clip-path=\"url(#clip65edebxyplot)\"><g class=\"scatterlayer mlayer\"><g class=\"trace scatter tracece21c0\" style=\"stroke-miterlimit: 2; opacity: 1;\"><g class=\"fills\"/><g class=\"errorbars\"/><g class=\"lines\"><path class=\"js-line\" d=\"M0,160.06L4.06,43.6L5.41,23.19L6.77,16.06L8.12,23.14L10.83,75.42L12.18,115.51L17.59,276.51L18.95,296.98L20.3,303.93L21.65,296.91L23.01,276.48L24.36,244.66L31.13,43.54L32.48,23.12L33.83,16.08L35.19,23.13L36.54,43.58L37.89,75.42L44.66,276.46L46.02,296.93L47.37,303.97L48.72,296.87L50.08,276.51L51.43,244.64L58.2,43.61L59.55,23.13L60.9,16.05L62.26,23.16L63.61,43.6L64.96,75.45L71.73,276.49L73.08,296.93L74.44,304L75.79,296.95L78.5,244.66L79.85,204.45L85.26,43.61L86.62,23.13L87.97,16.18L89.32,23.12L90.68,43.54L92.03,75.44L98.8,276.5L100.15,296.94L101.5,303.99L102.86,297.02L105.56,244.65L106.92,204.51L112.33,43.55L113.68,23.11L115.04,16.16L116.39,23.14L119.1,75.44L120.45,115.54L125.86,276.46L127.22,296.96L128.57,303.98L129.92,296.91L131.28,276.43L132.63,244.62L139.4,43.61L140.75,23.16L142.11,16.05L143.46,23.15L144.81,43.53L146.17,75.42L152.93,276.49L154.29,296.89L155.64,303.96L156.99,296.96L158.35,276.5L159.7,244.64L166.47,43.57L167.82,23.17L169.17,16.14L170.53,23.09L171.88,43.51L173.23,75.45L180,276.48L181.35,296.92L182.71,303.92L184.06,296.91L186.77,244.6L188.12,204.54L193.53,43.63L194.89,23.12L196.24,16.16L197.59,23.15L198.95,43.57L200.3,75.44L207.07,276.49L208.42,296.94L209.77,303.94L211.13,296.89L213.83,244.63L215.19,204.52L220.6,43.65L221.95,23.11L223.31,16.07L224.66,23.2L226.02,43.65L227.37,75.41L234.14,276.46L235.49,297.04L236.84,303.92L238.2,296.9L240.9,244.68L242.26,204.55L247.67,43.58L249.02,23.14L250.38,16.05L251.73,23.11L254.44,75.42L255.79,115.55L261.2,276.46L262.56,296.87L263.91,303.89L265.26,296.95L266.62,276.52L267.97,244.68L274.74,43.55L276.09,23.13L277.44,16.09L278.8,23.14L281.5,75.36L282.86,115.59L288.27,276.41L289.62,296.95L290.98,303.96L292.33,296.95L295.04,244.59L296.39,204.55L301.8,43.58L303.16,23.16L304.51,16.05L305.86,23.18L307.22,43.67L308.57,75.43L315.34,276.43L316.69,296.91L318.05,303.92L319.4,296.95L322.11,244.72L323.46,204.52L328.87,43.66L330.23,23.12L331.58,16.08L332.93,23.12L334.29,43.58L335.64,75.38L342.41,276.49L343.76,296.91L345.11,303.95L346.47,296.94L349.17,244.73L350.53,204.58L355.94,43.61L357.29,23.13L358.65,16L360,23.19L362.71,75.42L364.06,115.57L369.47,276.52L370.83,296.9L372.18,303.97L373.53,296.98L374.89,276.47L376.24,244.72L383.01,43.57L384.36,23.08L385.71,16.1L387.07,23.09L388.42,43.52L389.77,75.38L396.54,276.44L397.89,296.84L399.25,303.93L400.6,296.88L403.31,244.73L404.66,204.57L410.08,43.55L411.43,23.1L412.78,16.06L414.14,23.07L416.84,75.36L418.2,115.57L423.61,276.37L424.96,296.89L426.32,303.98L427.67,296.94L430.38,244.66L431.73,204.56L437.14,43.59L438.5,23.16L439.85,16.13L441.2,23.2L442.56,43.55L443.91,75.49L450.68,276.53L452.03,296.97L453.38,303.95L454.74,296.88L456.09,276.49L457.44,244.58L464.21,43.56L465.56,23.21L466.92,16.1L468.27,23.15L469.62,43.54L470.98,75.54L477.74,276.58L479.1,296.92L480.45,303.98L481.8,296.96L483.16,276.49L484.51,244.63L491.28,43.59L492.63,23.17L493.98,16.19L495.34,23.17L498.05,75.45L499.4,115.55L504.81,276.48L506.17,296.88L507.52,303.94L508.87,296.97L510.23,276.55L511.58,244.6L518.35,43.6L519.7,23.14L521.05,16.14L522.41,23.19L523.76,43.59L525.11,75.43L531.88,276.49L533.23,296.97L534.59,303.99L535.94,296.99L538.65,244.66L540,204.61\" style=\"vector-effect: none; fill: none; stroke: rgb(76, 114, 176); stroke-opacity: 1; stroke-width: 2px; opacity: 1;\"/></g><g class=\"points\"/><g class=\"text\"/></g></g></g><g class=\"overplot\"/><path class=\"xlines-above crisp\" d=\"M0,0\" style=\"fill: none;\"/><path class=\"ylines-above crisp\" d=\"M0,0\" style=\"fill: none;\"/><g class=\"overlines-above\"/><g class=\"xaxislayer-above\"><g class=\"xtick\"><text text-anchor=\"middle\" x=\"0\" y=\"433\" transform=\"translate(80,0)\" style=\"font-family: 'Open Sans', verdana, arial, sans-serif; font-size: 12px; fill: rgb(36, 36, 36); fill-opacity: 1; white-space: pre; opacity: 1;\">0.00</text></g><g class=\"xtick\"><text text-anchor=\"middle\" x=\"0\" y=\"433\" style=\"font-family: 'Open Sans', verdana, arial, sans-serif; font-size: 12px; fill: rgb(36, 36, 36); fill-opacity: 1; white-space: pre; opacity: 1;\" transform=\"translate(215.34,0)\">5.00</text></g><g class=\"xtick\"><text text-anchor=\"middle\" x=\"0\" y=\"433\" style=\"font-family: 'Open Sans', verdana, arial, sans-serif; font-size: 12px; fill: rgb(36, 36, 36); fill-opacity: 1; white-space: pre; opacity: 1;\" transform=\"translate(350.68,0)\">10.00</text></g><g class=\"xtick\"><text text-anchor=\"middle\" x=\"0\" y=\"433\" style=\"font-family: 'Open Sans', verdana, arial, sans-serif; font-size: 12px; fill: rgb(36, 36, 36); fill-opacity: 1; white-space: pre; opacity: 1;\" transform=\"translate(486.02,0)\">15.00</text></g></g><g class=\"yaxislayer-above\"><g class=\"ytick\"><text text-anchor=\"end\" x=\"79\" y=\"4.199999999999999\" transform=\"translate(0,406.16)\" style=\"font-family: 'Open Sans', verdana, arial, sans-serif; font-size: 12px; fill: rgb(36, 36, 36); fill-opacity: 1; white-space: pre; opacity: 1;\">1.00</text></g><g class=\"ytick\"><text text-anchor=\"end\" x=\"79\" y=\"4.199999999999999\" style=\"font-family: 'Open Sans', verdana, arial, sans-serif; font-size: 12px; fill: rgb(36, 36, 36); fill-opacity: 1; white-space: pre; opacity: 1;\" transform=\"translate(0,334.99)\">1.50</text></g><g class=\"ytick\"><text text-anchor=\"end\" x=\"79\" y=\"4.199999999999999\" style=\"font-family: 'Open Sans', verdana, arial, sans-serif; font-size: 12px; fill: rgb(36, 36, 36); fill-opacity: 1; white-space: pre; opacity: 1;\" transform=\"translate(0,263.83000000000004)\">2.00</text></g><g class=\"ytick\"><text text-anchor=\"end\" x=\"79\" y=\"4.199999999999999\" style=\"font-family: 'Open Sans', verdana, arial, sans-serif; font-size: 12px; fill: rgb(36, 36, 36); fill-opacity: 1; white-space: pre; opacity: 1;\" transform=\"translate(0,192.66)\">2.50</text></g><g class=\"ytick\"><text text-anchor=\"end\" x=\"79\" y=\"4.199999999999999\" style=\"font-family: 'Open Sans', verdana, arial, sans-serif; font-size: 12px; fill: rgb(36, 36, 36); fill-opacity: 1; white-space: pre; opacity: 1;\" transform=\"translate(0,121.49)\">3.00</text></g></g><g class=\"overaxes-above\"/></g></g><g class=\"polarlayer\"/><g class=\"smithlayer\"/><g class=\"ternarylayer\"/><g class=\"geolayer\"/><g class=\"funnelarealayer\"/><g class=\"pielayer\"/><g class=\"iciclelayer\"/><g class=\"treemaplayer\"/><g class=\"sunburstlayer\"/><g class=\"glimages\"/><defs id=\"topdefs-65edeb\"><g class=\"clips\"/></defs><g class=\"layer-above\"><g class=\"imagelayer\"/><g class=\"shapelayer\"/></g><g class=\"infolayer\"><g class=\"g-gtitle\"><text class=\"gtitle\" x=\"350\" y=\"50\" text-anchor=\"middle\" dy=\"0em\" style=\"font-family: 'Open Sans', verdana, arial, sans-serif; font-size: 17px; fill: rgb(36, 36, 36); opacity: 1; font-weight: normal; white-space: pre;\">Phase demodulated</text></g><g class=\"g-xtitle\"><text class=\"xtitle\" x=\"350\" y=\"460.3\" text-anchor=\"middle\" style=\"font-family: 'Open Sans', verdana, arial, sans-serif; font-size: 14px; fill: rgb(36, 36, 36); opacity: 1; font-weight: normal; white-space: pre;\">Time (s)</text></g><g class=\"g-ytitle\"><text class=\"ytitle\" transform=\"rotate(-90,27.434375000000003,260)\" x=\"27.434375000000003\" y=\"260\" text-anchor=\"middle\" style=\"font-family: 'Open Sans', verdana, arial, sans-serif; font-size: 14px; fill: rgb(36, 36, 36); opacity: 1; font-weight: normal; white-space: pre;\">Phase (rad)</text></g></g></svg>"
      ],
      "text/plain": [
       "<IPython.core.display.SVG object>"
      ]
     },
     "metadata": {},
     "output_type": "display_data"
    }
   ],
   "source": [
    "fig = go.Figure()\n",
    "fig.add_trace(go.Scatter(\n",
    "    x=timestamp[0, 0, :],\n",
    "    y=demod,\n",
    "))\n",
    "\n",
    "fig.update_layout(\n",
    "    template=\"seaborn\",\n",
    "    title='Phase demodulated',\n",
    "    xaxis=dict(tickformat='.2f', title='Time (s)'),\n",
    "    yaxis=dict(tickformat='.2f', title='Phase (rad)'),\n",
    ")\n",
    "\n",
    "# fig.show()\n",
    "display(SVG(fig.to_image(format='svg', scale=1)))\n"
   ]
  },
  {
   "cell_type": "code",
   "execution_count": null,
   "metadata": {},
   "outputs": [],
   "source": []
  }
 ],
 "metadata": {
  "kernel_info": {
   "name": "python3"
  },
  "kernelspec": {
   "display_name": "Python 3 (ipykernel)",
   "language": "python",
   "name": "python3"
  },
  "language_info": {
   "codemirror_mode": {
    "name": "ipython",
    "version": 3
   },
   "file_extension": ".py",
   "mimetype": "text/x-python",
   "name": "python",
   "nbconvert_exporter": "python",
   "pygments_lexer": "ipython3",
   "version": "3.10.11"
  },
  "nteract": {
   "version": "0.12.3"
  },
  "toc": {
   "base_numbering": 1,
   "nav_menu": {},
   "number_sections": true,
   "sideBar": true,
   "skip_h1_title": false,
   "title_cell": "Table of Contents",
   "title_sidebar": "Contents",
   "toc_cell": false,
   "toc_position": {},
   "toc_section_display": true,
   "toc_window_display": false
  },
  "toc-showcode": false,
  "varInspector": {
   "cols": {
    "lenName": 16,
    "lenType": 16,
    "lenVar": 40
   },
   "kernels_config": {
    "python": {
     "delete_cmd_postfix": "",
     "delete_cmd_prefix": "del ",
     "library": "var_list.py",
     "varRefreshCmd": "print(var_dic_list())"
    },
    "r": {
     "delete_cmd_postfix": ") ",
     "delete_cmd_prefix": "rm(",
     "library": "var_list.r",
     "varRefreshCmd": "cat(var_dic_list()) "
    }
   },
   "types_to_exclude": [
    "module",
    "function",
    "builtin_function_or_method",
    "instance",
    "_Feature"
   ],
   "window_display": false
  },
  "vscode": {
   "interpreter": {
    "hash": "93f700c1059b32d83d5a3c18a32630ee13b0a3dbf4faa4d0f71952c4a11b4154"
   }
  }
 },
 "nbformat": 4,
 "nbformat_minor": 4
}
