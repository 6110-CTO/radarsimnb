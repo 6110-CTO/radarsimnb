{
 "cells": [
  {
   "cell_type": "code",
   "execution_count": 1,
   "metadata": {},
   "outputs": [],
   "source": [
    "import numpy as np\n",
    "import pandas as pd\n",
    "\n",
    "import plotly.graph_objs as go"
   ]
  },
  {
   "cell_type": "code",
   "execution_count": 2,
   "metadata": {},
   "outputs": [],
   "source": [
    "raypool = pd.read_csv('debug/raypool_snapshot_0.csv')"
   ]
  },
  {
   "cell_type": "code",
   "execution_count": 7,
   "metadata": {},
   "outputs": [
    {
     "data": {
      "text/plain": [
       "9522"
      ]
     },
     "execution_count": 7,
     "metadata": {},
     "output_type": "execute_result"
    }
   ],
   "source": [
    "len(raypool)"
   ]
  },
  {
   "cell_type": "code",
   "execution_count": 24,
   "metadata": {},
   "outputs": [],
   "source": [
    "newpool = raypool[raypool['PO size']>9]"
   ]
  },
  {
   "cell_type": "code",
   "execution_count": 25,
   "metadata": {},
   "outputs": [
    {
     "data": {
      "text/plain": [
       "87"
      ]
     },
     "execution_count": 25,
     "metadata": {},
     "output_type": "execute_result"
    }
   ],
   "source": [
    "len(newpool)"
   ]
  },
  {
   "cell_type": "code",
   "execution_count": 6,
   "metadata": {},
   "outputs": [
    {
     "data": {
      "application/vnd.plotly.v1+json": {
       "config": {
        "plotlyServerURL": "https://plot.ly"
       },
       "data": [
        {
         "type": "scatter3d",
         "x": [
          0,
          23.2826,
          24.8,
          20.1,
          24.8,
          20.1,
          22.6735,
          24.8,
          20.1,
          24.8,
          20.1,
          24.6102,
          24.8,
          20.1,
          22.8478,
          24.8,
          20.1,
          24.8,
          23.0531,
          20.1,
          24.8
         ],
         "y": [
          0,
          1.12277,
          1.19595,
          1.4226,
          1.64925,
          1.8759,
          2,
          1.89745,
          1.6708,
          1.44415,
          1.2175,
          1,
          1.00915,
          1.2358,
          1.36831,
          1.46245,
          1.68911,
          1.91576,
          2,
          1.85759,
          1.63094
         ],
         "z": [
          0,
          1,
          0.934827,
          0.732959,
          0.531092,
          0.329224,
          0.218692,
          0.127357,
          -0.074511,
          -0.276379,
          -0.478246,
          -0.671962,
          -0.680114,
          -0.881981,
          -1,
          -0.916151,
          -0.714284,
          -0.512416,
          -0.437384,
          -0.310549,
          -0.108681
         ]
        },
        {
         "type": "scatter3d",
         "x": [
          0,
          24.8,
          20.1,
          24.8,
          20.1,
          22.6735,
          24.8,
          22.2222,
          20.1,
          24.8,
          20.1,
          24.6102,
          24.8,
          20.1,
          24.8,
          20.1,
          24.8,
          23.0531,
          20.1,
          24.8,
          20.1
         ],
         "y": [
          0,
          1.19595,
          1.4226,
          1.64925,
          1.8759,
          2,
          1.89745,
          1.77314,
          1.6708,
          1.44415,
          1.2175,
          1,
          1.00915,
          1.2358,
          1.46245,
          1.68911,
          1.91576,
          2,
          1.85759,
          1.63094,
          1.40429
         ],
         "z": [
          0,
          0.537054,
          0.638835,
          0.740615,
          0.842396,
          0.898125,
          0.944176,
          1,
          0.954043,
          0.852263,
          0.750483,
          0.652812,
          0.648702,
          0.546922,
          0.445141,
          0.343361,
          0.24158,
          0.203749,
          0.1398,
          0.0380194,
          -0.0637611
         ]
        },
        {
         "type": "scatter3d",
         "x": [
          0,
          24.8,
          20.1,
          24.8,
          20.1,
          22.6735,
          24.8,
          20.1,
          24.8,
          20.1,
          24.6102,
          24.8,
          20.1,
          24.8,
          20.1,
          24.8,
          23.0531,
          20.1,
          24.8,
          20.1,
          24.8
         ],
         "y": [
          0,
          1.19595,
          1.4226,
          1.64925,
          1.8759,
          2,
          1.89745,
          1.6708,
          1.44415,
          1.2175,
          1,
          1.00915,
          1.2358,
          1.46245,
          1.68911,
          1.91576,
          2,
          1.85759,
          1.63094,
          1.40429,
          1.17764
         ],
         "z": [
          0,
          0.23552,
          0.280155,
          0.32479,
          0.369425,
          0.393865,
          0.41406,
          0.458695,
          0.50333,
          0.547965,
          0.590797,
          0.5926,
          0.637235,
          0.68187,
          0.726505,
          0.77114,
          0.78773,
          0.815775,
          0.860409,
          0.905044,
          0.949679
         ]
        },
        {
         "type": "scatter3d",
         "x": [
          0,
          24.8,
          20.1,
          24.8,
          20.1,
          22.6735,
          24.8,
          20.1,
          24.8,
          20.1,
          24.6102,
          24.8,
          20.1,
          24.8,
          20.1,
          24.8,
          23.0531,
          20.1,
          24.8,
          20.1,
          24.8
         ],
         "y": [
          0,
          1.19595,
          1.4226,
          1.64925,
          1.8759,
          2,
          1.89745,
          1.6708,
          1.44415,
          1.2175,
          1,
          1.00915,
          1.2358,
          1.46245,
          1.68911,
          1.91576,
          2,
          1.85759,
          1.63094,
          1.40429,
          1.17764
         ],
         "z": [
          0,
          0.0471027,
          0.0560295,
          0.0649562,
          0.0738829,
          0.0787707,
          0.0828097,
          0.0917364,
          0.100663,
          0.10959,
          0.118156,
          0.118517,
          0.127443,
          0.13637,
          0.145297,
          0.154223,
          0.157541,
          0.16315,
          0.172077,
          0.181004,
          0.18993
         ]
        },
        {
         "type": "scatter3d",
         "x": [
          0,
          24.8,
          20.1,
          24.8,
          20.1,
          22.6735,
          24.8,
          20.1,
          24.8,
          20.1,
          24.6102,
          24.8,
          20.1,
          24.8,
          20.1,
          24.8,
          23.0531,
          20.1,
          24.8,
          20.1,
          24.8
         ],
         "y": [
          0,
          1.19595,
          1.4226,
          1.64925,
          1.8759,
          2,
          1.89745,
          1.6708,
          1.44415,
          1.2175,
          1,
          1.00915,
          1.2358,
          1.46245,
          1.68911,
          1.91576,
          2,
          1.85759,
          1.63094,
          1.40429,
          1.17764
         ],
         "z": [
          0,
          -0.14131,
          -0.16809,
          -0.19487,
          -0.221651,
          -0.236314,
          -0.248431,
          -0.275212,
          -0.301992,
          -0.328773,
          -0.354472,
          -0.355553,
          -0.382334,
          -0.409114,
          -0.435894,
          -0.462675,
          -0.472629,
          -0.489455,
          -0.516236,
          -0.543016,
          -0.569797
         ]
        },
        {
         "type": "scatter3d",
         "x": [
          0,
          24.8,
          20.1,
          24.8,
          20.1,
          22.6735,
          24.8,
          20.1,
          24.8,
          20.1,
          24.6102,
          24.8,
          20.1,
          24.8,
          22.1409,
          20.1,
          24.8,
          23.0531,
          20.1,
          24.8,
          20.1
         ],
         "y": [
          0,
          1.19595,
          1.4226,
          1.64925,
          1.8759,
          2,
          1.89745,
          1.6708,
          1.44415,
          1.2175,
          1,
          1.00915,
          1.2358,
          1.46245,
          1.59068,
          1.68911,
          1.91576,
          2,
          1.85759,
          1.63094,
          1.40429
         ],
         "z": [
          0,
          -0.329738,
          -0.392229,
          -0.45472,
          -0.51721,
          -0.551427,
          -0.579701,
          -0.642192,
          -0.704682,
          -0.767173,
          -0.82714,
          -0.829664,
          -0.892154,
          -0.954645,
          -0.99,
          -0.962864,
          -0.900373,
          -0.877146,
          -0.837883,
          -0.775392,
          -0.712901
         ]
        },
        {
         "type": "scatter3d",
         "x": [
          0,
          24.8,
          20.1,
          24.8,
          20.1,
          22.6735,
          24.8,
          20.5425,
          20,
          20.1,
          20,
          20.1,
          20,
          20.1,
          20,
          20.1,
          20,
          20.1,
          20,
          20.1,
          20
         ],
         "y": [
          0,
          1.19595,
          1.4226,
          1.64925,
          1.8759,
          2,
          1.89745,
          1.69214,
          1.66598,
          1.66116,
          1.65633,
          1.65151,
          1.64669,
          1.64187,
          1.63704,
          1.63222,
          1.6274,
          1.62258,
          1.61775,
          1.61293,
          1.60811
         ],
         "z": [
          0,
          -0.518205,
          -0.616413,
          -0.714621,
          -0.812829,
          -0.866603,
          -0.911037,
          -1,
          -0.988665,
          -0.986575,
          -0.984486,
          -0.982396,
          -0.980307,
          -0.978217,
          -0.976128,
          -0.974038,
          -0.971949,
          -0.969859,
          -0.96777,
          -0.96568,
          -0.963591
         ]
        },
        {
         "type": "scatter3d",
         "x": [
          0,
          24.8,
          20.1,
          24.784,
          25,
          24.8,
          24.9,
          24.8,
          24.9,
          24.8,
          24.9,
          24.8,
          24.9,
          24.8,
          24.9,
          24.8,
          24.9,
          24.8,
          24.9,
          24.8,
          24.9
         ],
         "y": [
          0,
          1.1205,
          1.33286,
          1.54449,
          1.55425,
          1.56328,
          1.5678,
          1.57232,
          1.57684,
          1.58136,
          1.58587,
          1.59039,
          1.59491,
          1.59943,
          1.60395,
          1.60847,
          1.61298,
          1.6175,
          1.62202,
          1.62654,
          1.63106
         ],
         "z": [
          0,
          -0.725485,
          -0.862976,
          -1,
          -0.993682,
          -0.987832,
          -0.984906,
          -0.981981,
          -0.979056,
          -0.97613,
          -0.973205,
          -0.97028,
          -0.967354,
          -0.964429,
          -0.961504,
          -0.958578,
          -0.955653,
          -0.952728,
          -0.949802,
          -0.946877,
          -0.943952
         ]
        },
        {
         "type": "scatter3d",
         "x": [
          0,
          24.8,
          21.5877,
          20.1,
          24.8,
          20.1,
          22.6735,
          24.8,
          20.1,
          24.8,
          20.1,
          24.6102,
          24.8,
          20.1,
          24.8,
          20.1,
          24.8,
          23.0531,
          21.6803,
          20.1,
          24.8
         ],
         "y": [
          0,
          1.19595,
          1.35085,
          1.4226,
          1.64925,
          1.8759,
          2,
          1.89745,
          1.6708,
          1.44415,
          1.2175,
          1,
          1.00915,
          1.2358,
          1.46245,
          1.68911,
          1.91576,
          2,
          1.9338,
          1.85759,
          1.63094
         ],
         "z": [
          0,
          -0.876474,
          -0.99,
          -0.93742,
          -0.771315,
          -0.605209,
          -0.514258,
          -0.439103,
          -0.272997,
          -0.106891,
          0.0592149,
          0.218613,
          0.225321,
          0.391427,
          0.557533,
          0.723639,
          0.889744,
          0.951484,
          1,
          0.94415,
          0.778044
         ]
        },
        {
         "type": "scatter3d",
         "x": [
          0,
          21.1734,
          24.8,
          20.1,
          24.8,
          20.1,
          22.6735,
          24.8,
          20.1,
          24.8,
          20.1,
          24.6102,
          24.8,
          23.4659,
          20.1,
          24.8,
          20.1,
          24.8,
          23.0531,
          20.1,
          24.8
         ],
         "y": [
          0,
          1.02106,
          1.19595,
          1.4226,
          1.64925,
          1.8759,
          2,
          1.89745,
          1.6708,
          1.44415,
          1.2175,
          1,
          1.00915,
          1.07349,
          1.2358,
          1.46245,
          1.68911,
          1.91576,
          2,
          1.85759,
          1.63094
         ],
         "z": [
          0,
          -0.99,
          -0.820432,
          -0.600675,
          -0.380918,
          -0.161162,
          -0.0408343,
          0.0585952,
          0.278352,
          0.498109,
          0.717866,
          0.928749,
          0.937622,
          1,
          0.842621,
          0.622864,
          0.403107,
          0.18335,
          0.101669,
          -0.0364066,
          -0.256163
         ]
        }
       ],
       "layout": {
        "template": {
         "data": {
          "bar": [
           {
            "error_x": {
             "color": "#2a3f5f"
            },
            "error_y": {
             "color": "#2a3f5f"
            },
            "marker": {
             "line": {
              "color": "#E5ECF6",
              "width": 0.5
             },
             "pattern": {
              "fillmode": "overlay",
              "size": 10,
              "solidity": 0.2
             }
            },
            "type": "bar"
           }
          ],
          "barpolar": [
           {
            "marker": {
             "line": {
              "color": "#E5ECF6",
              "width": 0.5
             },
             "pattern": {
              "fillmode": "overlay",
              "size": 10,
              "solidity": 0.2
             }
            },
            "type": "barpolar"
           }
          ],
          "carpet": [
           {
            "aaxis": {
             "endlinecolor": "#2a3f5f",
             "gridcolor": "white",
             "linecolor": "white",
             "minorgridcolor": "white",
             "startlinecolor": "#2a3f5f"
            },
            "baxis": {
             "endlinecolor": "#2a3f5f",
             "gridcolor": "white",
             "linecolor": "white",
             "minorgridcolor": "white",
             "startlinecolor": "#2a3f5f"
            },
            "type": "carpet"
           }
          ],
          "choropleth": [
           {
            "colorbar": {
             "outlinewidth": 0,
             "ticks": ""
            },
            "type": "choropleth"
           }
          ],
          "contour": [
           {
            "colorbar": {
             "outlinewidth": 0,
             "ticks": ""
            },
            "colorscale": [
             [
              0,
              "#0d0887"
             ],
             [
              0.1111111111111111,
              "#46039f"
             ],
             [
              0.2222222222222222,
              "#7201a8"
             ],
             [
              0.3333333333333333,
              "#9c179e"
             ],
             [
              0.4444444444444444,
              "#bd3786"
             ],
             [
              0.5555555555555556,
              "#d8576b"
             ],
             [
              0.6666666666666666,
              "#ed7953"
             ],
             [
              0.7777777777777778,
              "#fb9f3a"
             ],
             [
              0.8888888888888888,
              "#fdca26"
             ],
             [
              1,
              "#f0f921"
             ]
            ],
            "type": "contour"
           }
          ],
          "contourcarpet": [
           {
            "colorbar": {
             "outlinewidth": 0,
             "ticks": ""
            },
            "type": "contourcarpet"
           }
          ],
          "heatmap": [
           {
            "colorbar": {
             "outlinewidth": 0,
             "ticks": ""
            },
            "colorscale": [
             [
              0,
              "#0d0887"
             ],
             [
              0.1111111111111111,
              "#46039f"
             ],
             [
              0.2222222222222222,
              "#7201a8"
             ],
             [
              0.3333333333333333,
              "#9c179e"
             ],
             [
              0.4444444444444444,
              "#bd3786"
             ],
             [
              0.5555555555555556,
              "#d8576b"
             ],
             [
              0.6666666666666666,
              "#ed7953"
             ],
             [
              0.7777777777777778,
              "#fb9f3a"
             ],
             [
              0.8888888888888888,
              "#fdca26"
             ],
             [
              1,
              "#f0f921"
             ]
            ],
            "type": "heatmap"
           }
          ],
          "heatmapgl": [
           {
            "colorbar": {
             "outlinewidth": 0,
             "ticks": ""
            },
            "colorscale": [
             [
              0,
              "#0d0887"
             ],
             [
              0.1111111111111111,
              "#46039f"
             ],
             [
              0.2222222222222222,
              "#7201a8"
             ],
             [
              0.3333333333333333,
              "#9c179e"
             ],
             [
              0.4444444444444444,
              "#bd3786"
             ],
             [
              0.5555555555555556,
              "#d8576b"
             ],
             [
              0.6666666666666666,
              "#ed7953"
             ],
             [
              0.7777777777777778,
              "#fb9f3a"
             ],
             [
              0.8888888888888888,
              "#fdca26"
             ],
             [
              1,
              "#f0f921"
             ]
            ],
            "type": "heatmapgl"
           }
          ],
          "histogram": [
           {
            "marker": {
             "pattern": {
              "fillmode": "overlay",
              "size": 10,
              "solidity": 0.2
             }
            },
            "type": "histogram"
           }
          ],
          "histogram2d": [
           {
            "colorbar": {
             "outlinewidth": 0,
             "ticks": ""
            },
            "colorscale": [
             [
              0,
              "#0d0887"
             ],
             [
              0.1111111111111111,
              "#46039f"
             ],
             [
              0.2222222222222222,
              "#7201a8"
             ],
             [
              0.3333333333333333,
              "#9c179e"
             ],
             [
              0.4444444444444444,
              "#bd3786"
             ],
             [
              0.5555555555555556,
              "#d8576b"
             ],
             [
              0.6666666666666666,
              "#ed7953"
             ],
             [
              0.7777777777777778,
              "#fb9f3a"
             ],
             [
              0.8888888888888888,
              "#fdca26"
             ],
             [
              1,
              "#f0f921"
             ]
            ],
            "type": "histogram2d"
           }
          ],
          "histogram2dcontour": [
           {
            "colorbar": {
             "outlinewidth": 0,
             "ticks": ""
            },
            "colorscale": [
             [
              0,
              "#0d0887"
             ],
             [
              0.1111111111111111,
              "#46039f"
             ],
             [
              0.2222222222222222,
              "#7201a8"
             ],
             [
              0.3333333333333333,
              "#9c179e"
             ],
             [
              0.4444444444444444,
              "#bd3786"
             ],
             [
              0.5555555555555556,
              "#d8576b"
             ],
             [
              0.6666666666666666,
              "#ed7953"
             ],
             [
              0.7777777777777778,
              "#fb9f3a"
             ],
             [
              0.8888888888888888,
              "#fdca26"
             ],
             [
              1,
              "#f0f921"
             ]
            ],
            "type": "histogram2dcontour"
           }
          ],
          "mesh3d": [
           {
            "colorbar": {
             "outlinewidth": 0,
             "ticks": ""
            },
            "type": "mesh3d"
           }
          ],
          "parcoords": [
           {
            "line": {
             "colorbar": {
              "outlinewidth": 0,
              "ticks": ""
             }
            },
            "type": "parcoords"
           }
          ],
          "pie": [
           {
            "automargin": true,
            "type": "pie"
           }
          ],
          "scatter": [
           {
            "marker": {
             "colorbar": {
              "outlinewidth": 0,
              "ticks": ""
             }
            },
            "type": "scatter"
           }
          ],
          "scatter3d": [
           {
            "line": {
             "colorbar": {
              "outlinewidth": 0,
              "ticks": ""
             }
            },
            "marker": {
             "colorbar": {
              "outlinewidth": 0,
              "ticks": ""
             }
            },
            "type": "scatter3d"
           }
          ],
          "scattercarpet": [
           {
            "marker": {
             "colorbar": {
              "outlinewidth": 0,
              "ticks": ""
             }
            },
            "type": "scattercarpet"
           }
          ],
          "scattergeo": [
           {
            "marker": {
             "colorbar": {
              "outlinewidth": 0,
              "ticks": ""
             }
            },
            "type": "scattergeo"
           }
          ],
          "scattergl": [
           {
            "marker": {
             "colorbar": {
              "outlinewidth": 0,
              "ticks": ""
             }
            },
            "type": "scattergl"
           }
          ],
          "scattermapbox": [
           {
            "marker": {
             "colorbar": {
              "outlinewidth": 0,
              "ticks": ""
             }
            },
            "type": "scattermapbox"
           }
          ],
          "scatterpolar": [
           {
            "marker": {
             "colorbar": {
              "outlinewidth": 0,
              "ticks": ""
             }
            },
            "type": "scatterpolar"
           }
          ],
          "scatterpolargl": [
           {
            "marker": {
             "colorbar": {
              "outlinewidth": 0,
              "ticks": ""
             }
            },
            "type": "scatterpolargl"
           }
          ],
          "scatterternary": [
           {
            "marker": {
             "colorbar": {
              "outlinewidth": 0,
              "ticks": ""
             }
            },
            "type": "scatterternary"
           }
          ],
          "surface": [
           {
            "colorbar": {
             "outlinewidth": 0,
             "ticks": ""
            },
            "colorscale": [
             [
              0,
              "#0d0887"
             ],
             [
              0.1111111111111111,
              "#46039f"
             ],
             [
              0.2222222222222222,
              "#7201a8"
             ],
             [
              0.3333333333333333,
              "#9c179e"
             ],
             [
              0.4444444444444444,
              "#bd3786"
             ],
             [
              0.5555555555555556,
              "#d8576b"
             ],
             [
              0.6666666666666666,
              "#ed7953"
             ],
             [
              0.7777777777777778,
              "#fb9f3a"
             ],
             [
              0.8888888888888888,
              "#fdca26"
             ],
             [
              1,
              "#f0f921"
             ]
            ],
            "type": "surface"
           }
          ],
          "table": [
           {
            "cells": {
             "fill": {
              "color": "#EBF0F8"
             },
             "line": {
              "color": "white"
             }
            },
            "header": {
             "fill": {
              "color": "#C8D4E3"
             },
             "line": {
              "color": "white"
             }
            },
            "type": "table"
           }
          ]
         },
         "layout": {
          "annotationdefaults": {
           "arrowcolor": "#2a3f5f",
           "arrowhead": 0,
           "arrowwidth": 1
          },
          "autotypenumbers": "strict",
          "coloraxis": {
           "colorbar": {
            "outlinewidth": 0,
            "ticks": ""
           }
          },
          "colorscale": {
           "diverging": [
            [
             0,
             "#8e0152"
            ],
            [
             0.1,
             "#c51b7d"
            ],
            [
             0.2,
             "#de77ae"
            ],
            [
             0.3,
             "#f1b6da"
            ],
            [
             0.4,
             "#fde0ef"
            ],
            [
             0.5,
             "#f7f7f7"
            ],
            [
             0.6,
             "#e6f5d0"
            ],
            [
             0.7,
             "#b8e186"
            ],
            [
             0.8,
             "#7fbc41"
            ],
            [
             0.9,
             "#4d9221"
            ],
            [
             1,
             "#276419"
            ]
           ],
           "sequential": [
            [
             0,
             "#0d0887"
            ],
            [
             0.1111111111111111,
             "#46039f"
            ],
            [
             0.2222222222222222,
             "#7201a8"
            ],
            [
             0.3333333333333333,
             "#9c179e"
            ],
            [
             0.4444444444444444,
             "#bd3786"
            ],
            [
             0.5555555555555556,
             "#d8576b"
            ],
            [
             0.6666666666666666,
             "#ed7953"
            ],
            [
             0.7777777777777778,
             "#fb9f3a"
            ],
            [
             0.8888888888888888,
             "#fdca26"
            ],
            [
             1,
             "#f0f921"
            ]
           ],
           "sequentialminus": [
            [
             0,
             "#0d0887"
            ],
            [
             0.1111111111111111,
             "#46039f"
            ],
            [
             0.2222222222222222,
             "#7201a8"
            ],
            [
             0.3333333333333333,
             "#9c179e"
            ],
            [
             0.4444444444444444,
             "#bd3786"
            ],
            [
             0.5555555555555556,
             "#d8576b"
            ],
            [
             0.6666666666666666,
             "#ed7953"
            ],
            [
             0.7777777777777778,
             "#fb9f3a"
            ],
            [
             0.8888888888888888,
             "#fdca26"
            ],
            [
             1,
             "#f0f921"
            ]
           ]
          },
          "colorway": [
           "#636efa",
           "#EF553B",
           "#00cc96",
           "#ab63fa",
           "#FFA15A",
           "#19d3f3",
           "#FF6692",
           "#B6E880",
           "#FF97FF",
           "#FECB52"
          ],
          "font": {
           "color": "#2a3f5f"
          },
          "geo": {
           "bgcolor": "white",
           "lakecolor": "white",
           "landcolor": "#E5ECF6",
           "showlakes": true,
           "showland": true,
           "subunitcolor": "white"
          },
          "hoverlabel": {
           "align": "left"
          },
          "hovermode": "closest",
          "mapbox": {
           "style": "light"
          },
          "paper_bgcolor": "white",
          "plot_bgcolor": "#E5ECF6",
          "polar": {
           "angularaxis": {
            "gridcolor": "white",
            "linecolor": "white",
            "ticks": ""
           },
           "bgcolor": "#E5ECF6",
           "radialaxis": {
            "gridcolor": "white",
            "linecolor": "white",
            "ticks": ""
           }
          },
          "scene": {
           "xaxis": {
            "backgroundcolor": "#E5ECF6",
            "gridcolor": "white",
            "gridwidth": 2,
            "linecolor": "white",
            "showbackground": true,
            "ticks": "",
            "zerolinecolor": "white"
           },
           "yaxis": {
            "backgroundcolor": "#E5ECF6",
            "gridcolor": "white",
            "gridwidth": 2,
            "linecolor": "white",
            "showbackground": true,
            "ticks": "",
            "zerolinecolor": "white"
           },
           "zaxis": {
            "backgroundcolor": "#E5ECF6",
            "gridcolor": "white",
            "gridwidth": 2,
            "linecolor": "white",
            "showbackground": true,
            "ticks": "",
            "zerolinecolor": "white"
           }
          },
          "shapedefaults": {
           "line": {
            "color": "#2a3f5f"
           }
          },
          "ternary": {
           "aaxis": {
            "gridcolor": "white",
            "linecolor": "white",
            "ticks": ""
           },
           "baxis": {
            "gridcolor": "white",
            "linecolor": "white",
            "ticks": ""
           },
           "bgcolor": "#E5ECF6",
           "caxis": {
            "gridcolor": "white",
            "linecolor": "white",
            "ticks": ""
           }
          },
          "title": {
           "x": 0.05
          },
          "xaxis": {
           "automargin": true,
           "gridcolor": "white",
           "linecolor": "white",
           "ticks": "",
           "title": {
            "standoff": 15
           },
           "zerolinecolor": "white",
           "zerolinewidth": 2
          },
          "yaxis": {
           "automargin": true,
           "gridcolor": "white",
           "linecolor": "white",
           "ticks": "",
           "title": {
            "standoff": 15
           },
           "zerolinecolor": "white",
           "zerolinewidth": 2
          }
         }
        }
       }
      }
     },
     "metadata": {},
     "output_type": "display_data"
    }
   ],
   "source": [
    "# loc_mat\n",
    "fig = go.Figure()\n",
    "\n",
    "cnt=0\n",
    "step=10\n",
    "for index, row in newpool.iterrows():\n",
    "    # print(index)\n",
    "    # print(row['Location'])\n",
    "    cnt+=1\n",
    "    if cnt%step==0:\n",
    "        loc_mat = np.zeros((row['Reflection count']+1, 3))\n",
    "        for idx in range(0, row['Reflection count']+1):\n",
    "            loc_mat[idx, :]=np.fromstring(row['Location'].split(';')[idx], sep=' ')\n",
    "        \n",
    "        fig.add_trace(go.Scatter3d(\n",
    "            x=loc_mat[:,0],\n",
    "            y=loc_mat[:,1],\n",
    "            z=loc_mat[:,2],\n",
    "        ))\n",
    "\n",
    "fig.show()"
   ]
  },
  {
   "cell_type": "code",
   "execution_count": 78,
   "metadata": {},
   "outputs": [
    {
     "data": {
      "text/plain": [
       "10"
      ]
     },
     "execution_count": 78,
     "metadata": {},
     "output_type": "execute_result"
    }
   ],
   "source": [
    "np.max(raypool['Reflection count'])"
   ]
  },
  {
   "cell_type": "code",
   "execution_count": 82,
   "metadata": {},
   "outputs": [
    {
     "name": "stdout",
     "output_type": "stream",
     "text": [
      "2592    0 24.8266 29.5317 34.2367 38.9418 43.6468 47.9...\n",
      "2597    0 24.8288 29.5342 34.2397 38.9451 40.5519 40.9...\n",
      "2615    0 24.8274 29.5326 34.2378 38.943 43.6482 47.51...\n",
      "2616    0 24.8278 29.5331 34.2384 38.9436 43.6489 46.2...\n",
      "2620    0 24.8296 29.5352 34.2408 38.9464 40.5519 40.9...\n",
      "                              ...                        \n",
      "7064    0 21.5716 24.8569 29.5676 34.2784 38.9892 40.2...\n",
      "7065    0 21.2211 24.8577 29.5687 34.2796 38.9906 40.2...\n",
      "7066    0 21.0928 24.8586 29.5697 34.2808 38.9919 40.3...\n",
      "7067    0 20.5532 24.8595 29.5708 34.2821 38.9934 40.3...\n",
      "7068    0 20.2348 24.8604 29.5719 34.2833 38.9948 40.3...\n",
      "Name: Range, Length: 193, dtype: object\n"
     ]
    }
   ],
   "source": [
    "print(newpool['Range'])"
   ]
  }
 ],
 "metadata": {
  "interpreter": {
   "hash": "049259d8f9b11052118f638702b5ad793ce853ba9db086a654763315ddd527c9"
  },
  "kernelspec": {
   "display_name": "Python 3.9.7 ('dev')",
   "language": "python",
   "name": "python3"
  },
  "language_info": {
   "codemirror_mode": {
    "name": "ipython",
    "version": 3
   },
   "file_extension": ".py",
   "mimetype": "text/x-python",
   "name": "python",
   "nbconvert_exporter": "python",
   "pygments_lexer": "ipython3",
   "version": "3.10.0"
  },
  "orig_nbformat": 4
 },
 "nbformat": 4,
 "nbformat_minor": 2
}
